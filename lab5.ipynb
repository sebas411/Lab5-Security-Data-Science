{
 "cells": [
  {
   "cell_type": "code",
   "execution_count": 1,
   "metadata": {
    "id": "2P7e3vAuBMXP"
   },
   "outputs": [],
   "source": [
    "import pandas as pd\n",
    "from sklearn.decomposition import PCA\n",
    "from sklearn.preprocessing import StandardScaler\n",
    "from sklearn.model_selection import train_test_split\n",
    "from sklearn.naive_bayes import GaussianNB\n",
    "from sklearn.metrics import confusion_matrix, classification_report, ConfusionMatrixDisplay\n",
    "from scapy.all import *\n",
    "import binascii\n",
    "import numpy as np\n"
   ]
  },
  {
   "cell_type": "markdown",
   "metadata": {
    "id": "KbDQz2CDBSC2"
   },
   "source": [
    "# Laboratorio 5"
   ]
  },
  {
   "cell_type": "markdown",
   "metadata": {
    "id": "cw0ML3i0Bc-f"
   },
   "source": [
    "## Parte 1\n",
    "### 1. Capture 10 paquetes con la herramienta scapy, imprima el tipo de datos, la longitud y el contenido del pcap"
   ]
  },
  {
   "cell_type": "code",
   "execution_count": 2,
   "metadata": {
    "id": "wOtdx3xMF2zT"
   },
   "outputs": [
    {
     "name": "stdout",
     "output_type": "stream",
     "text": [
      "Length = 10\n",
      "Ether / ARP who has 192.168.2.38 says 192.168.2.39 / Padding\n",
      "Ether / ARP who has 192.168.2.38 says 192.168.2.42\n",
      "Ether / IP / UDP 192.168.2.206:50972 > 192.168.2.255:15600 / Raw\n",
      "Ether / ARP who has 192.168.2.38 says 192.168.2.39 / Padding\n",
      "Ether / ARP who has 192.168.2.38 says 192.168.2.42\n",
      "Ether / IP / TCP 192.168.2.91:51676 > 192.168.2.231:8009 PA / Raw\n",
      "Ether / IP / TCP 192.168.2.231:8009 > 192.168.2.91:51676 PA / Raw\n",
      "Ether / IP / TCP 192.168.2.91:51676 > 192.168.2.231:8009 A\n",
      "Ether / IP / UDP 192.168.2.158:49154 > 255.255.255.255:6667 / Raw\n",
      "Ether / ARP who has 192.168.2.38 says 192.168.2.42\n"
     ]
    }
   ],
   "source": [
    "ipsniff = sniff(count=10)\n",
    "print(\"Length =\", len(ipsniff))\n",
    "ipsniff.summary()"
   ]
  },
  {
   "cell_type": "markdown",
   "metadata": {},
   "source": [
    "### 2. Añada al pcap de 10 paquetes el archivo analisis_paquetes.pcap"
   ]
  },
  {
   "cell_type": "code",
   "execution_count": 3,
   "metadata": {},
   "outputs": [
    {
     "name": "stdout",
     "output_type": "stream",
     "text": [
      "Length = 62\n"
     ]
    },
    {
     "data": {
      "text/plain": [
       "<analisis_paquetes.pcap: TCP:0 UDP:62 ICMP:0 Other:0>"
      ]
     },
     "execution_count": 3,
     "metadata": {},
     "output_type": "execute_result"
    }
   ],
   "source": [
    "packets_pcap = rdpcap(\"analisis_paquetes.pcap\")\n",
    "print(\"Length =\", len(packets_pcap))\n",
    "packets_pcap"
   ]
  },
  {
   "cell_type": "code",
   "execution_count": 4,
   "metadata": {},
   "outputs": [
    {
     "name": "stdout",
     "output_type": "stream",
     "text": [
      "Length = 72\n"
     ]
    },
    {
     "data": {
      "text/plain": [
       "<Sniffed+analisis_paquetes.pcap: TCP:3 UDP:64 ICMP:0 Other:5>"
      ]
     },
     "execution_count": 4,
     "metadata": {},
     "output_type": "execute_result"
    }
   ],
   "source": [
    "packets = ipsniff + packets_pcap\n",
    "print(\"Length =\", len(packets))\n",
    "packets"
   ]
  },
  {
   "cell_type": "markdown",
   "metadata": {},
   "source": [
    "### 3. Convierta el pcap en un DataFrame"
   ]
  },
  {
   "cell_type": "code",
   "execution_count": 5,
   "metadata": {},
   "outputs": [
    {
     "name": "stdout",
     "output_type": "stream",
     "text": [
      "  version ihl tos  len     id flags frag  ttl proto chksum  ... dataofs   \n",
      "0       4   5   0   63  38791    DF    0   64    17   7177  ...    None  \\\n",
      "1       4   5   0  162  54722    DF    0   64     6  56832  ...       8   \n",
      "2       4   5   0  162  27658    DF    0   64     6  18361  ...       8   \n",
      "3       4   5   0   52  54723    DF    0   64     6  56941  ...       8   \n",
      "4       4   5   0  216  17058          0  255    17  46380  ...    None   \n",
      "\n",
      "  reserved flags window chksum urgptr options payload   \n",
      "0     None  None   None  11318   None    None      35  \\\n",
      "1        0    PA    501  34599      0       3     110   \n",
      "2        0    PA    529  60439      0       3     110   \n",
      "3        0     A    501  34489      0       3       0   \n",
      "4     None  None   None  28251   None    None     188   \n",
      "\n",
      "                                         payload_raw   \n",
      "0          b'SEARCH BSDP/0.1\\nDEVICE=0\\nSERVICE=1\\n'  \\\n",
      "1  b'\\x17\\x03\\x03\\x00i\\xa1\\x86\\xe7r\\xf3q\\x19\\xc9\\...   \n",
      "2  b'\\x17\\x03\\x03\\x00ir{\\xc2\\xd3#.\\xfbU\\x08\\x1d\\x...   \n",
      "3                                                b''   \n",
      "4  b'\\x00\\x00U\\xaa\\x00\\x00\\x00\\x00\\x00\\x00\\x00\\x1...   \n",
      "\n",
      "                                         payload_hex  \n",
      "0  b'53454152434820425344502f302e310a444556494345...  \n",
      "1  b'1703030069a186e772f37119c9b60df2d394a69467b5...  \n",
      "2  b'1703030069727bc2d3232efb55081da8611a6cec8b9d...  \n",
      "3                                                b''  \n",
      "4  b'000055aa0000000000000013000000ac0000000097b9...  \n",
      "\n",
      "[5 rows x 28 columns]\n"
     ]
    }
   ],
   "source": [
    "#Codigo tomado de la seccion de archivos Análisis_de_paquetes.ipynb\n",
    "\n",
    "# Obtenemos los campos de IP/TCP/UDP que seran las columnas de nuestro DF\n",
    "ip_fields = [field.name for field in IP().fields_desc]\n",
    "tcp_fields = [field.name for field in TCP().fields_desc]\n",
    "udp_fields = [field.name for field in UDP().fields_desc]\n",
    "\n",
    "#Concatenamos todos los campos\n",
    "dataframe_fields = ip_fields + ['time'] + tcp_fields + ['payload','payload_raw','payload_hex']\n",
    "\n",
    "# Creamos un DF en blanco con los campos como columnas\n",
    "df = pd.DataFrame(columns=dataframe_fields)\n",
    "for packet in packets[IP]:\n",
    "    # Obtenemos los valores de los campos de cada fila\n",
    "    field_values = []\n",
    "    # A;adimos todos los valores de los campos de IP al df\n",
    "    for field in ip_fields:\n",
    "        if field == 'options':\n",
    "            # Obtenemos el numero de opciones del IP Header\n",
    "            field_values.append(len(packet[IP].fields[field]))\n",
    "        else:\n",
    "            field_values.append(packet[IP].fields[field])\n",
    "    \n",
    "    field_values.append(packet.time)\n",
    "    \n",
    "    layer_type = type(packet[IP].payload)\n",
    "    for field in tcp_fields:\n",
    "        try:\n",
    "            if field == 'options':\n",
    "                field_values.append(len(packet[layer_type].fields[field]))\n",
    "            else:\n",
    "                field_values.append(packet[layer_type].fields[field])\n",
    "        except:\n",
    "            field_values.append(None)\n",
    "    \n",
    "    # Agregamos el payload\n",
    "    field_values.append(len(packet[layer_type].payload))\n",
    "    field_values.append(packet[layer_type].payload.original)\n",
    "    field_values.append(binascii.hexlify(packet[layer_type].payload.original))\n",
    "    # Agregamos la fila al df\n",
    "    df_append = pd.DataFrame([field_values], columns=dataframe_fields)\n",
    "    df = pd.concat([df, df_append], axis=0)\n",
    "\n",
    "# Reset Index\n",
    "df = df.reset_index()\n",
    "# Drop old index column\n",
    "df = df.drop(columns=\"index\")\n",
    "\n",
    "print(df.head(5))"
   ]
  },
  {
   "cell_type": "code",
   "execution_count": 6,
   "metadata": {},
   "outputs": [
    {
     "data": {
      "text/plain": [
       "Index(['version', 'ihl', 'tos', 'len', 'id', 'flags', 'frag', 'ttl', 'proto',\n",
       "       'chksum', 'src', 'dst', 'options', 'time', 'sport', 'dport', 'seq',\n",
       "       'ack', 'dataofs', 'reserved', 'flags', 'window', 'chksum', 'urgptr',\n",
       "       'options', 'payload', 'payload_raw', 'payload_hex'],\n",
       "      dtype='object')"
      ]
     },
     "execution_count": 6,
     "metadata": {},
     "output_type": "execute_result"
    }
   ],
   "source": [
    "df.columns"
   ]
  },
  {
   "cell_type": "markdown",
   "metadata": {},
   "source": [
    "### 4. Muestre los valores de las columnas: Src Address, Dst Address, Src Port y Dst Port"
   ]
  },
  {
   "cell_type": "code",
   "execution_count": 7,
   "metadata": {},
   "outputs": [
    {
     "data": {
      "text/html": [
       "<div>\n",
       "<style scoped>\n",
       "    .dataframe tbody tr th:only-of-type {\n",
       "        vertical-align: middle;\n",
       "    }\n",
       "\n",
       "    .dataframe tbody tr th {\n",
       "        vertical-align: top;\n",
       "    }\n",
       "\n",
       "    .dataframe thead th {\n",
       "        text-align: right;\n",
       "    }\n",
       "</style>\n",
       "<table border=\"1\" class=\"dataframe\">\n",
       "  <thead>\n",
       "    <tr style=\"text-align: right;\">\n",
       "      <th></th>\n",
       "      <th>src</th>\n",
       "      <th>dst</th>\n",
       "      <th>sport</th>\n",
       "      <th>dport</th>\n",
       "    </tr>\n",
       "  </thead>\n",
       "  <tbody>\n",
       "    <tr>\n",
       "      <th>0</th>\n",
       "      <td>192.168.2.206</td>\n",
       "      <td>192.168.2.255</td>\n",
       "      <td>50972</td>\n",
       "      <td>15600</td>\n",
       "    </tr>\n",
       "    <tr>\n",
       "      <th>1</th>\n",
       "      <td>192.168.2.91</td>\n",
       "      <td>192.168.2.231</td>\n",
       "      <td>51676</td>\n",
       "      <td>8009</td>\n",
       "    </tr>\n",
       "    <tr>\n",
       "      <th>2</th>\n",
       "      <td>192.168.2.231</td>\n",
       "      <td>192.168.2.91</td>\n",
       "      <td>8009</td>\n",
       "      <td>51676</td>\n",
       "    </tr>\n",
       "    <tr>\n",
       "      <th>3</th>\n",
       "      <td>192.168.2.91</td>\n",
       "      <td>192.168.2.231</td>\n",
       "      <td>51676</td>\n",
       "      <td>8009</td>\n",
       "    </tr>\n",
       "    <tr>\n",
       "      <th>4</th>\n",
       "      <td>192.168.2.158</td>\n",
       "      <td>255.255.255.255</td>\n",
       "      <td>49154</td>\n",
       "      <td>6667</td>\n",
       "    </tr>\n",
       "    <tr>\n",
       "      <th>...</th>\n",
       "      <td>...</td>\n",
       "      <td>...</td>\n",
       "      <td>...</td>\n",
       "      <td>...</td>\n",
       "    </tr>\n",
       "    <tr>\n",
       "      <th>62</th>\n",
       "      <td>84.54.22.33</td>\n",
       "      <td>10.1.10.53</td>\n",
       "      <td>53</td>\n",
       "      <td>53</td>\n",
       "    </tr>\n",
       "    <tr>\n",
       "      <th>63</th>\n",
       "      <td>10.1.10.53</td>\n",
       "      <td>84.54.22.33</td>\n",
       "      <td>53</td>\n",
       "      <td>53</td>\n",
       "    </tr>\n",
       "    <tr>\n",
       "      <th>64</th>\n",
       "      <td>84.54.22.33</td>\n",
       "      <td>10.1.10.53</td>\n",
       "      <td>53</td>\n",
       "      <td>53</td>\n",
       "    </tr>\n",
       "    <tr>\n",
       "      <th>65</th>\n",
       "      <td>10.1.10.53</td>\n",
       "      <td>84.54.22.33</td>\n",
       "      <td>53</td>\n",
       "      <td>53</td>\n",
       "    </tr>\n",
       "    <tr>\n",
       "      <th>66</th>\n",
       "      <td>84.54.22.33</td>\n",
       "      <td>10.1.10.53</td>\n",
       "      <td>53</td>\n",
       "      <td>53</td>\n",
       "    </tr>\n",
       "  </tbody>\n",
       "</table>\n",
       "<p>67 rows × 4 columns</p>\n",
       "</div>"
      ],
      "text/plain": [
       "              src              dst  sport  dport\n",
       "0   192.168.2.206    192.168.2.255  50972  15600\n",
       "1    192.168.2.91    192.168.2.231  51676   8009\n",
       "2   192.168.2.231     192.168.2.91   8009  51676\n",
       "3    192.168.2.91    192.168.2.231  51676   8009\n",
       "4   192.168.2.158  255.255.255.255  49154   6667\n",
       "..            ...              ...    ...    ...\n",
       "62    84.54.22.33       10.1.10.53     53     53\n",
       "63     10.1.10.53      84.54.22.33     53     53\n",
       "64    84.54.22.33       10.1.10.53     53     53\n",
       "65     10.1.10.53      84.54.22.33     53     53\n",
       "66    84.54.22.33       10.1.10.53     53     53\n",
       "\n",
       "[67 rows x 4 columns]"
      ]
     },
     "execution_count": 7,
     "metadata": {},
     "output_type": "execute_result"
    }
   ],
   "source": [
    "columns = [\"src\", \"dst\", \"sport\", \"dport\"]\n",
    "df[columns]"
   ]
  },
  {
   "cell_type": "markdown",
   "metadata": {},
   "source": [
    "### 5. Estadísticas\n",
    "#### a. Muestre cuál es la IP origen más frecuente"
   ]
  },
  {
   "cell_type": "code",
   "execution_count": 8,
   "metadata": {},
   "outputs": [
    {
     "data": {
      "text/plain": [
       "'10.1.10.53'"
      ]
     },
     "execution_count": 8,
     "metadata": {},
     "output_type": "execute_result"
    }
   ],
   "source": [
    "df['src'].describe()['top']"
   ]
  },
  {
   "cell_type": "markdown",
   "metadata": {},
   "source": [
    "#### b. Muestre cuál es la IP destino más frecuente"
   ]
  },
  {
   "cell_type": "code",
   "execution_count": 9,
   "metadata": {},
   "outputs": [
    {
     "data": {
      "text/plain": [
       "'10.1.10.53'"
      ]
     },
     "execution_count": 9,
     "metadata": {},
     "output_type": "execute_result"
    }
   ],
   "source": [
    "df['dst'].describe()['top']"
   ]
  },
  {
   "cell_type": "markdown",
   "metadata": {},
   "source": [
    "#### c. ¿A qué IPs se comunica la IP del inciso a?"
   ]
  },
  {
   "cell_type": "code",
   "execution_count": 10,
   "metadata": {},
   "outputs": [
    {
     "data": {
      "text/plain": [
       "['84.54.22.33', '75.75.75.75']"
      ]
     },
     "execution_count": 10,
     "metadata": {},
     "output_type": "execute_result"
    }
   ],
   "source": [
    "list(df[df['src'] == \"10.1.10.53\"]['dst'].unique())"
   ]
  },
  {
   "cell_type": "markdown",
   "metadata": {},
   "source": [
    "#### d. ¿A qué puertos destino se comunica la IP del inciso a?"
   ]
  },
  {
   "cell_type": "code",
   "execution_count": 11,
   "metadata": {},
   "outputs": [
    {
     "data": {
      "text/plain": [
       "[53]"
      ]
     },
     "execution_count": 11,
     "metadata": {},
     "output_type": "execute_result"
    }
   ],
   "source": [
    "list(df[df['src'] == \"10.1.10.53\"]['dport'].unique())"
   ]
  },
  {
   "cell_type": "markdown",
   "metadata": {},
   "source": [
    "#### e. ¿A qué puertos origen se comunica la IP del inciso b?"
   ]
  },
  {
   "cell_type": "code",
   "execution_count": 12,
   "metadata": {},
   "outputs": [
    {
     "data": {
      "text/plain": [
       "[53]"
      ]
     },
     "execution_count": 12,
     "metadata": {},
     "output_type": "execute_result"
    }
   ],
   "source": [
    "list(df[df['dst'] == \"10.1.10.53\"]['sport'].unique())"
   ]
  },
  {
   "cell_type": "markdown",
   "metadata": {},
   "source": [
    "#### f. Indique el propósito de los puertos que más aparece en los incisos d y e"
   ]
  },
  {
   "cell_type": "markdown",
   "metadata": {},
   "source": [
    "El puerto 53 en UDP se utiliza para transmitir peticiones de DNS"
   ]
  },
  {
   "cell_type": "markdown",
   "metadata": {},
   "source": [
    "### 6. Gráficas\n",
    "#### a. Muestre una gráfica 2D, en el eje Y las IPs origen, y en el eje X la suma de los payloads enviados de dichas direcciones."
   ]
  },
  {
   "cell_type": "code",
   "execution_count": 13,
   "metadata": {},
   "outputs": [
    {
     "data": {
      "text/plain": [
       "<Axes: xlabel='Suma payloads', ylabel='IP origen'>"
      ]
     },
     "execution_count": 13,
     "metadata": {},
     "output_type": "execute_result"
    },
    {
     "data": {
      "image/png": "[encoded data removed]",
      "text/plain": [
       "<Figure size 640x480 with 1 Axes>"
      ]
     },
     "metadata": {},
     "output_type": "display_data"
    }
   ],
   "source": [
    "df.groupby('src')[\"payload\"].sum().plot.barh(ylabel=\"IP origen\", xlabel=\"Suma payloads\")"
   ]
  },
  {
   "cell_type": "markdown",
   "metadata": {},
   "source": [
    "#### b. Muestre una gráfica 2D, en el eje Y las IPs destino, y en el eje X la suma de los payloads recibidos en dichas direcciones."
   ]
  },
  {
   "cell_type": "code",
   "execution_count": 14,
   "metadata": {},
   "outputs": [
    {
     "data": {
      "text/plain": [
       "<Axes: xlabel='Suma payloads', ylabel='IP destino'>"
      ]
     },
     "execution_count": 14,
     "metadata": {},
     "output_type": "execute_result"
    },
    {
     "data": {
      "image/png": "[encoded data removed]",
      "text/plain": [
       "<Figure size 640x480 with 1 Axes>"
      ]
     },
     "metadata": {},
     "output_type": "display_data"
    }
   ],
   "source": [
    "df.groupby('dst')[\"payload\"].sum().plot.barh(ylabel=\"IP destino\", xlabel=\"Suma payloads\")"
   ]
  },
  {
   "cell_type": "markdown",
   "metadata": {},
   "source": [
    "#### c. Muestre una gráfica 2D, en el eje Y los puertos origen, y en el eje X la suma de los payloads enviados de dichos puertos."
   ]
  },
  {
   "cell_type": "code",
   "execution_count": 15,
   "metadata": {},
   "outputs": [
    {
     "data": {
      "text/plain": [
       "<Axes: xlabel='Suma payloads', ylabel='Puerto origen'>"
      ]
     },
     "execution_count": 15,
     "metadata": {},
     "output_type": "execute_result"
    },
    {
     "data": {
      "image/png": "[encoded data removed]",
      "text/plain": [
       "<Figure size 640x480 with 1 Axes>"
      ]
     },
     "metadata": {},
     "output_type": "display_data"
    }
   ],
   "source": [
    "df.groupby('sport')[\"payload\"].sum().plot.barh(ylabel=\"Puerto origen\", xlabel=\"Suma payloads\")"
   ]
  },
  {
   "cell_type": "markdown",
   "metadata": {},
   "source": [
    "#### d. Muestre una gráfica 2D, en el eje Y los puertos destino, y en el eje X la suma de los payloads recibidos en dichos puertos."
   ]
  },
  {
   "cell_type": "code",
   "execution_count": 16,
   "metadata": {},
   "outputs": [
    {
     "data": {
      "text/plain": [
       "<Axes: xlabel='Suma payloads', ylabel='Puerto destino'>"
      ]
     },
     "execution_count": 16,
     "metadata": {},
     "output_type": "execute_result"
    },
    {
     "data": {
      "image/png": "[encoded data removed]",
      "text/plain": [
       "<Figure size 640x480 with 1 Axes>"
      ]
     },
     "metadata": {},
     "output_type": "display_data"
    }
   ],
   "source": [
    "df.groupby('dport')[\"payload\"].sum().plot.barh(ylabel=\"Puerto destino\", xlabel=\"Suma payloads\")"
   ]
  },
  {
   "cell_type": "markdown",
   "metadata": {},
   "source": [
    "### 7. Investigación de payload\n",
    "#### a. Cree un nuevo DF que incluya únicamente las conexiones con la dirección IP origen más frecuente."
   ]
  },
  {
   "cell_type": "code",
   "execution_count": 17,
   "metadata": {},
   "outputs": [
    {
     "data": {
      "text/html": [
       "<div>\n",
       "<style scoped>\n",
       "    .dataframe tbody tr th:only-of-type {\n",
       "        vertical-align: middle;\n",
       "    }\n",
       "\n",
       "    .dataframe tbody tr th {\n",
       "        vertical-align: top;\n",
       "    }\n",
       "\n",
       "    .dataframe thead th {\n",
       "        text-align: right;\n",
       "    }\n",
       "</style>\n",
       "<table border=\"1\" class=\"dataframe\">\n",
       "  <thead>\n",
       "    <tr style=\"text-align: right;\">\n",
       "      <th></th>\n",
       "      <th>version</th>\n",
       "      <th>ihl</th>\n",
       "      <th>tos</th>\n",
       "      <th>len</th>\n",
       "      <th>id</th>\n",
       "      <th>flags</th>\n",
       "      <th>frag</th>\n",
       "      <th>ttl</th>\n",
       "      <th>proto</th>\n",
       "      <th>chksum</th>\n",
       "      <th>...</th>\n",
       "      <th>dataofs</th>\n",
       "      <th>reserved</th>\n",
       "      <th>flags</th>\n",
       "      <th>window</th>\n",
       "      <th>chksum</th>\n",
       "      <th>urgptr</th>\n",
       "      <th>options</th>\n",
       "      <th>payload</th>\n",
       "      <th>payload_raw</th>\n",
       "      <th>payload_hex</th>\n",
       "    </tr>\n",
       "  </thead>\n",
       "  <tbody>\n",
       "    <tr>\n",
       "      <th>41</th>\n",
       "      <td>4</td>\n",
       "      <td>5</td>\n",
       "      <td>0</td>\n",
       "      <td>1039</td>\n",
       "      <td>1</td>\n",
       "      <td></td>\n",
       "      <td>0</td>\n",
       "      <td>64</td>\n",
       "      <td>17</td>\n",
       "      <td>21144</td>\n",
       "      <td>...</td>\n",
       "      <td>None</td>\n",
       "      <td>None</td>\n",
       "      <td>None</td>\n",
       "      <td>None</td>\n",
       "      <td>39038</td>\n",
       "      <td>None</td>\n",
       "      <td>None</td>\n",
       "      <td>1011</td>\n",
       "      <td>b'\\x00\\x0c\\x01\\x00\\x00\\x01\\x00\\x00\\x00\\x00\\x00...</td>\n",
       "      <td>b'000c0100000100000000000006676f6f676c6503636f...</td>\n",
       "    </tr>\n",
       "    <tr>\n",
       "      <th>9</th>\n",
       "      <td>4</td>\n",
       "      <td>5</td>\n",
       "      <td>0</td>\n",
       "      <td>1012</td>\n",
       "      <td>1</td>\n",
       "      <td></td>\n",
       "      <td>0</td>\n",
       "      <td>64</td>\n",
       "      <td>17</td>\n",
       "      <td>21171</td>\n",
       "      <td>...</td>\n",
       "      <td>None</td>\n",
       "      <td>None</td>\n",
       "      <td>None</td>\n",
       "      <td>None</td>\n",
       "      <td>63846</td>\n",
       "      <td>None</td>\n",
       "      <td>None</td>\n",
       "      <td>984</td>\n",
       "      <td>b'\\x00\\x0c\\x01\\x00\\x00\\x01\\x00\\x00\\x00\\x00\\x00...</td>\n",
       "      <td>b'000c0100000100000000000006676f6f676c6503636f...</td>\n",
       "    </tr>\n",
       "    <tr>\n",
       "      <th>61</th>\n",
       "      <td>4</td>\n",
       "      <td>5</td>\n",
       "      <td>0</td>\n",
       "      <td>1027</td>\n",
       "      <td>1</td>\n",
       "      <td></td>\n",
       "      <td>0</td>\n",
       "      <td>64</td>\n",
       "      <td>17</td>\n",
       "      <td>21156</td>\n",
       "      <td>...</td>\n",
       "      <td>None</td>\n",
       "      <td>None</td>\n",
       "      <td>None</td>\n",
       "      <td>None</td>\n",
       "      <td>12197</td>\n",
       "      <td>None</td>\n",
       "      <td>None</td>\n",
       "      <td>999</td>\n",
       "      <td>b'\\x00\\x0c\\x01\\x00\\x00\\x01\\x00\\x00\\x00\\x00\\x00...</td>\n",
       "      <td>b'000c0100000100000000000006676f6f676c6503636f...</td>\n",
       "    </tr>\n",
       "    <tr>\n",
       "      <th>25</th>\n",
       "      <td>4</td>\n",
       "      <td>5</td>\n",
       "      <td>0</td>\n",
       "      <td>1051</td>\n",
       "      <td>1</td>\n",
       "      <td></td>\n",
       "      <td>0</td>\n",
       "      <td>64</td>\n",
       "      <td>17</td>\n",
       "      <td>21132</td>\n",
       "      <td>...</td>\n",
       "      <td>None</td>\n",
       "      <td>None</td>\n",
       "      <td>None</td>\n",
       "      <td>None</td>\n",
       "      <td>51210</td>\n",
       "      <td>None</td>\n",
       "      <td>None</td>\n",
       "      <td>1023</td>\n",
       "      <td>b'\\x00\\x0c\\x01\\x00\\x00\\x01\\x00\\x00\\x00\\x00\\x00...</td>\n",
       "      <td>b'000c0100000100000000000006676f6f676c6503636f...</td>\n",
       "    </tr>\n",
       "    <tr>\n",
       "      <th>15</th>\n",
       "      <td>4</td>\n",
       "      <td>5</td>\n",
       "      <td>0</td>\n",
       "      <td>1045</td>\n",
       "      <td>1</td>\n",
       "      <td></td>\n",
       "      <td>0</td>\n",
       "      <td>64</td>\n",
       "      <td>17</td>\n",
       "      <td>21138</td>\n",
       "      <td>...</td>\n",
       "      <td>None</td>\n",
       "      <td>None</td>\n",
       "      <td>None</td>\n",
       "      <td>None</td>\n",
       "      <td>5707</td>\n",
       "      <td>None</td>\n",
       "      <td>None</td>\n",
       "      <td>1017</td>\n",
       "      <td>b'\\x00\\x0c\\x01\\x00\\x00\\x01\\x00\\x00\\x00\\x00\\x00...</td>\n",
       "      <td>b'000c0100000100000000000006676f6f676c6503636f...</td>\n",
       "    </tr>\n",
       "  </tbody>\n",
       "</table>\n",
       "<p>5 rows × 28 columns</p>\n",
       "</div>"
      ],
      "text/plain": [
       "   version ihl tos   len id flags frag ttl proto chksum  ... dataofs reserved   \n",
       "41       4   5   0  1039  1          0  64    17  21144  ...    None     None  \\\n",
       "9        4   5   0  1012  1          0  64    17  21171  ...    None     None   \n",
       "61       4   5   0  1027  1          0  64    17  21156  ...    None     None   \n",
       "25       4   5   0  1051  1          0  64    17  21132  ...    None     None   \n",
       "15       4   5   0  1045  1          0  64    17  21138  ...    None     None   \n",
       "\n",
       "   flags window chksum urgptr options payload   \n",
       "41  None   None  39038   None    None    1011  \\\n",
       "9   None   None  63846   None    None     984   \n",
       "61  None   None  12197   None    None     999   \n",
       "25  None   None  51210   None    None    1023   \n",
       "15  None   None   5707   None    None    1017   \n",
       "\n",
       "                                          payload_raw   \n",
       "41  b'\\x00\\x0c\\x01\\x00\\x00\\x01\\x00\\x00\\x00\\x00\\x00...  \\\n",
       "9   b'\\x00\\x0c\\x01\\x00\\x00\\x01\\x00\\x00\\x00\\x00\\x00...   \n",
       "61  b'\\x00\\x0c\\x01\\x00\\x00\\x01\\x00\\x00\\x00\\x00\\x00...   \n",
       "25  b'\\x00\\x0c\\x01\\x00\\x00\\x01\\x00\\x00\\x00\\x00\\x00...   \n",
       "15  b'\\x00\\x0c\\x01\\x00\\x00\\x01\\x00\\x00\\x00\\x00\\x00...   \n",
       "\n",
       "                                          payload_hex  \n",
       "41  b'000c0100000100000000000006676f6f676c6503636f...  \n",
       "9   b'000c0100000100000000000006676f6f676c6503636f...  \n",
       "61  b'000c0100000100000000000006676f6f676c6503636f...  \n",
       "25  b'000c0100000100000000000006676f6f676c6503636f...  \n",
       "15  b'000c0100000100000000000006676f6f676c6503636f...  \n",
       "\n",
       "[5 rows x 28 columns]"
      ]
     },
     "execution_count": 17,
     "metadata": {},
     "output_type": "execute_result"
    }
   ],
   "source": [
    "df_a = df[df['src'] == \"10.1.10.53\"]\n",
    "df_a.sample(5)"
   ]
  },
  {
   "cell_type": "markdown",
   "metadata": {},
   "source": [
    "#### b. Obtenga un nuevo DF con las columnas Src Address, Dst Address y agrúpelas por payload"
   ]
  },
  {
   "cell_type": "code",
   "execution_count": 18,
   "metadata": {},
   "outputs": [
    {
     "data": {
      "text/html": [
       "<div>\n",
       "<style scoped>\n",
       "    .dataframe tbody tr th:only-of-type {\n",
       "        vertical-align: middle;\n",
       "    }\n",
       "\n",
       "    .dataframe tbody tr th {\n",
       "        vertical-align: top;\n",
       "    }\n",
       "\n",
       "    .dataframe thead th {\n",
       "        text-align: right;\n",
       "    }\n",
       "</style>\n",
       "<table border=\"1\" class=\"dataframe\">\n",
       "  <thead>\n",
       "    <tr style=\"text-align: right;\">\n",
       "      <th></th>\n",
       "      <th></th>\n",
       "      <th>payload</th>\n",
       "    </tr>\n",
       "    <tr>\n",
       "      <th>src</th>\n",
       "      <th>dst</th>\n",
       "      <th></th>\n",
       "    </tr>\n",
       "  </thead>\n",
       "  <tbody>\n",
       "    <tr>\n",
       "      <th rowspan=\"2\" valign=\"top\">10.1.10.53</th>\n",
       "      <th>75.75.75.75</th>\n",
       "      <td>74</td>\n",
       "    </tr>\n",
       "    <tr>\n",
       "      <th>84.54.22.33</th>\n",
       "      <td>27979</td>\n",
       "    </tr>\n",
       "  </tbody>\n",
       "</table>\n",
       "</div>"
      ],
      "text/plain": [
       "                       payload\n",
       "src        dst                \n",
       "10.1.10.53 75.75.75.75      74\n",
       "           84.54.22.33   27979"
      ]
     },
     "execution_count": 18,
     "metadata": {},
     "output_type": "execute_result"
    }
   ],
   "source": [
    "columns = ['src', 'dst']\n",
    "df_b = df_a.groupby(columns)[['payload']].sum()\n",
    "df_b"
   ]
  },
  {
   "cell_type": "markdown",
   "metadata": {},
   "source": [
    "#### c. Obtenga la IP que más ha intercambiado bytes con la IP más frecuente. Esta IP es sospechosa por la cantidad de bytes intercambiados, entre todas las direcciones."
   ]
  },
  {
   "cell_type": "code",
   "execution_count": 19,
   "metadata": {},
   "outputs": [
    {
     "data": {
      "text/html": [
       "<div>\n",
       "<style scoped>\n",
       "    .dataframe tbody tr th:only-of-type {\n",
       "        vertical-align: middle;\n",
       "    }\n",
       "\n",
       "    .dataframe tbody tr th {\n",
       "        vertical-align: top;\n",
       "    }\n",
       "\n",
       "    .dataframe thead th {\n",
       "        text-align: right;\n",
       "    }\n",
       "</style>\n",
       "<table border=\"1\" class=\"dataframe\">\n",
       "  <thead>\n",
       "    <tr style=\"text-align: right;\">\n",
       "      <th></th>\n",
       "      <th></th>\n",
       "      <th>payload</th>\n",
       "    </tr>\n",
       "    <tr>\n",
       "      <th>src</th>\n",
       "      <th>dst</th>\n",
       "      <th></th>\n",
       "    </tr>\n",
       "  </thead>\n",
       "  <tbody>\n",
       "    <tr>\n",
       "      <th>10.1.10.53</th>\n",
       "      <th>84.54.22.33</th>\n",
       "      <td>27979</td>\n",
       "    </tr>\n",
       "  </tbody>\n",
       "</table>\n",
       "</div>"
      ],
      "text/plain": [
       "                       payload\n",
       "src        dst                \n",
       "10.1.10.53 84.54.22.33   27979"
      ]
     },
     "execution_count": 19,
     "metadata": {},
     "output_type": "execute_result"
    }
   ],
   "source": [
    "df_b[df_b[\"payload\"] == df_b[\"payload\"].max()] # la ip que mas ha intercambiado con la 10.1.10.53 es la 84.54.22.33"
   ]
  },
  {
   "cell_type": "markdown",
   "metadata": {},
   "source": [
    "#### d. Cree un nuevo DF con la conversación entre la IP más frecuente y la IP sospechosa."
   ]
  },
  {
   "cell_type": "code",
   "execution_count": 20,
   "metadata": {},
   "outputs": [
    {
     "data": {
      "text/html": [
       "<div>\n",
       "<style scoped>\n",
       "    .dataframe tbody tr th:only-of-type {\n",
       "        vertical-align: middle;\n",
       "    }\n",
       "\n",
       "    .dataframe tbody tr th {\n",
       "        vertical-align: top;\n",
       "    }\n",
       "\n",
       "    .dataframe thead th {\n",
       "        text-align: right;\n",
       "    }\n",
       "</style>\n",
       "<table border=\"1\" class=\"dataframe\">\n",
       "  <thead>\n",
       "    <tr style=\"text-align: right;\">\n",
       "      <th></th>\n",
       "      <th>src</th>\n",
       "      <th>dst</th>\n",
       "      <th>sport</th>\n",
       "      <th>dport</th>\n",
       "    </tr>\n",
       "  </thead>\n",
       "  <tbody>\n",
       "    <tr>\n",
       "      <th>5</th>\n",
       "      <td>10.1.10.53</td>\n",
       "      <td>84.54.22.33</td>\n",
       "      <td>53</td>\n",
       "      <td>53</td>\n",
       "    </tr>\n",
       "    <tr>\n",
       "      <th>6</th>\n",
       "      <td>84.54.22.33</td>\n",
       "      <td>10.1.10.53</td>\n",
       "      <td>53</td>\n",
       "      <td>53</td>\n",
       "    </tr>\n",
       "    <tr>\n",
       "      <th>7</th>\n",
       "      <td>10.1.10.53</td>\n",
       "      <td>84.54.22.33</td>\n",
       "      <td>53</td>\n",
       "      <td>53</td>\n",
       "    </tr>\n",
       "    <tr>\n",
       "      <th>8</th>\n",
       "      <td>84.54.22.33</td>\n",
       "      <td>10.1.10.53</td>\n",
       "      <td>53</td>\n",
       "      <td>53</td>\n",
       "    </tr>\n",
       "    <tr>\n",
       "      <th>9</th>\n",
       "      <td>10.1.10.53</td>\n",
       "      <td>84.54.22.33</td>\n",
       "      <td>53</td>\n",
       "      <td>53</td>\n",
       "    </tr>\n",
       "    <tr>\n",
       "      <th>10</th>\n",
       "      <td>84.54.22.33</td>\n",
       "      <td>10.1.10.53</td>\n",
       "      <td>53</td>\n",
       "      <td>53</td>\n",
       "    </tr>\n",
       "    <tr>\n",
       "      <th>11</th>\n",
       "      <td>10.1.10.53</td>\n",
       "      <td>84.54.22.33</td>\n",
       "      <td>53</td>\n",
       "      <td>53</td>\n",
       "    </tr>\n",
       "    <tr>\n",
       "      <th>12</th>\n",
       "      <td>84.54.22.33</td>\n",
       "      <td>10.1.10.53</td>\n",
       "      <td>53</td>\n",
       "      <td>53</td>\n",
       "    </tr>\n",
       "    <tr>\n",
       "      <th>13</th>\n",
       "      <td>10.1.10.53</td>\n",
       "      <td>84.54.22.33</td>\n",
       "      <td>53</td>\n",
       "      <td>53</td>\n",
       "    </tr>\n",
       "    <tr>\n",
       "      <th>14</th>\n",
       "      <td>84.54.22.33</td>\n",
       "      <td>10.1.10.53</td>\n",
       "      <td>53</td>\n",
       "      <td>53</td>\n",
       "    </tr>\n",
       "    <tr>\n",
       "      <th>15</th>\n",
       "      <td>10.1.10.53</td>\n",
       "      <td>84.54.22.33</td>\n",
       "      <td>53</td>\n",
       "      <td>53</td>\n",
       "    </tr>\n",
       "    <tr>\n",
       "      <th>16</th>\n",
       "      <td>84.54.22.33</td>\n",
       "      <td>10.1.10.53</td>\n",
       "      <td>53</td>\n",
       "      <td>53</td>\n",
       "    </tr>\n",
       "    <tr>\n",
       "      <th>17</th>\n",
       "      <td>10.1.10.53</td>\n",
       "      <td>84.54.22.33</td>\n",
       "      <td>53</td>\n",
       "      <td>53</td>\n",
       "    </tr>\n",
       "    <tr>\n",
       "      <th>18</th>\n",
       "      <td>84.54.22.33</td>\n",
       "      <td>10.1.10.53</td>\n",
       "      <td>53</td>\n",
       "      <td>53</td>\n",
       "    </tr>\n",
       "    <tr>\n",
       "      <th>19</th>\n",
       "      <td>10.1.10.53</td>\n",
       "      <td>84.54.22.33</td>\n",
       "      <td>53</td>\n",
       "      <td>53</td>\n",
       "    </tr>\n",
       "    <tr>\n",
       "      <th>20</th>\n",
       "      <td>84.54.22.33</td>\n",
       "      <td>10.1.10.53</td>\n",
       "      <td>53</td>\n",
       "      <td>53</td>\n",
       "    </tr>\n",
       "    <tr>\n",
       "      <th>21</th>\n",
       "      <td>10.1.10.53</td>\n",
       "      <td>84.54.22.33</td>\n",
       "      <td>53</td>\n",
       "      <td>53</td>\n",
       "    </tr>\n",
       "    <tr>\n",
       "      <th>22</th>\n",
       "      <td>84.54.22.33</td>\n",
       "      <td>10.1.10.53</td>\n",
       "      <td>53</td>\n",
       "      <td>53</td>\n",
       "    </tr>\n",
       "    <tr>\n",
       "      <th>23</th>\n",
       "      <td>10.1.10.53</td>\n",
       "      <td>84.54.22.33</td>\n",
       "      <td>53</td>\n",
       "      <td>53</td>\n",
       "    </tr>\n",
       "    <tr>\n",
       "      <th>24</th>\n",
       "      <td>84.54.22.33</td>\n",
       "      <td>10.1.10.53</td>\n",
       "      <td>53</td>\n",
       "      <td>53</td>\n",
       "    </tr>\n",
       "    <tr>\n",
       "      <th>25</th>\n",
       "      <td>10.1.10.53</td>\n",
       "      <td>84.54.22.33</td>\n",
       "      <td>53</td>\n",
       "      <td>53</td>\n",
       "    </tr>\n",
       "    <tr>\n",
       "      <th>26</th>\n",
       "      <td>84.54.22.33</td>\n",
       "      <td>10.1.10.53</td>\n",
       "      <td>53</td>\n",
       "      <td>53</td>\n",
       "    </tr>\n",
       "    <tr>\n",
       "      <th>31</th>\n",
       "      <td>10.1.10.53</td>\n",
       "      <td>84.54.22.33</td>\n",
       "      <td>53</td>\n",
       "      <td>53</td>\n",
       "    </tr>\n",
       "    <tr>\n",
       "      <th>32</th>\n",
       "      <td>84.54.22.33</td>\n",
       "      <td>10.1.10.53</td>\n",
       "      <td>53</td>\n",
       "      <td>53</td>\n",
       "    </tr>\n",
       "    <tr>\n",
       "      <th>33</th>\n",
       "      <td>10.1.10.53</td>\n",
       "      <td>84.54.22.33</td>\n",
       "      <td>53</td>\n",
       "      <td>53</td>\n",
       "    </tr>\n",
       "    <tr>\n",
       "      <th>34</th>\n",
       "      <td>84.54.22.33</td>\n",
       "      <td>10.1.10.53</td>\n",
       "      <td>53</td>\n",
       "      <td>53</td>\n",
       "    </tr>\n",
       "    <tr>\n",
       "      <th>35</th>\n",
       "      <td>10.1.10.53</td>\n",
       "      <td>84.54.22.33</td>\n",
       "      <td>53</td>\n",
       "      <td>53</td>\n",
       "    </tr>\n",
       "    <tr>\n",
       "      <th>36</th>\n",
       "      <td>84.54.22.33</td>\n",
       "      <td>10.1.10.53</td>\n",
       "      <td>53</td>\n",
       "      <td>53</td>\n",
       "    </tr>\n",
       "    <tr>\n",
       "      <th>37</th>\n",
       "      <td>10.1.10.53</td>\n",
       "      <td>84.54.22.33</td>\n",
       "      <td>53</td>\n",
       "      <td>53</td>\n",
       "    </tr>\n",
       "    <tr>\n",
       "      <th>38</th>\n",
       "      <td>84.54.22.33</td>\n",
       "      <td>10.1.10.53</td>\n",
       "      <td>53</td>\n",
       "      <td>53</td>\n",
       "    </tr>\n",
       "    <tr>\n",
       "      <th>39</th>\n",
       "      <td>10.1.10.53</td>\n",
       "      <td>84.54.22.33</td>\n",
       "      <td>53</td>\n",
       "      <td>53</td>\n",
       "    </tr>\n",
       "    <tr>\n",
       "      <th>40</th>\n",
       "      <td>84.54.22.33</td>\n",
       "      <td>10.1.10.53</td>\n",
       "      <td>53</td>\n",
       "      <td>53</td>\n",
       "    </tr>\n",
       "    <tr>\n",
       "      <th>41</th>\n",
       "      <td>10.1.10.53</td>\n",
       "      <td>84.54.22.33</td>\n",
       "      <td>53</td>\n",
       "      <td>53</td>\n",
       "    </tr>\n",
       "    <tr>\n",
       "      <th>42</th>\n",
       "      <td>84.54.22.33</td>\n",
       "      <td>10.1.10.53</td>\n",
       "      <td>53</td>\n",
       "      <td>53</td>\n",
       "    </tr>\n",
       "    <tr>\n",
       "      <th>43</th>\n",
       "      <td>10.1.10.53</td>\n",
       "      <td>84.54.22.33</td>\n",
       "      <td>53</td>\n",
       "      <td>53</td>\n",
       "    </tr>\n",
       "    <tr>\n",
       "      <th>44</th>\n",
       "      <td>84.54.22.33</td>\n",
       "      <td>10.1.10.53</td>\n",
       "      <td>53</td>\n",
       "      <td>53</td>\n",
       "    </tr>\n",
       "    <tr>\n",
       "      <th>45</th>\n",
       "      <td>10.1.10.53</td>\n",
       "      <td>84.54.22.33</td>\n",
       "      <td>53</td>\n",
       "      <td>53</td>\n",
       "    </tr>\n",
       "    <tr>\n",
       "      <th>46</th>\n",
       "      <td>84.54.22.33</td>\n",
       "      <td>10.1.10.53</td>\n",
       "      <td>53</td>\n",
       "      <td>53</td>\n",
       "    </tr>\n",
       "    <tr>\n",
       "      <th>47</th>\n",
       "      <td>10.1.10.53</td>\n",
       "      <td>84.54.22.33</td>\n",
       "      <td>53</td>\n",
       "      <td>53</td>\n",
       "    </tr>\n",
       "    <tr>\n",
       "      <th>48</th>\n",
       "      <td>84.54.22.33</td>\n",
       "      <td>10.1.10.53</td>\n",
       "      <td>53</td>\n",
       "      <td>53</td>\n",
       "    </tr>\n",
       "    <tr>\n",
       "      <th>49</th>\n",
       "      <td>10.1.10.53</td>\n",
       "      <td>84.54.22.33</td>\n",
       "      <td>53</td>\n",
       "      <td>53</td>\n",
       "    </tr>\n",
       "    <tr>\n",
       "      <th>50</th>\n",
       "      <td>84.54.22.33</td>\n",
       "      <td>10.1.10.53</td>\n",
       "      <td>53</td>\n",
       "      <td>53</td>\n",
       "    </tr>\n",
       "    <tr>\n",
       "      <th>51</th>\n",
       "      <td>10.1.10.53</td>\n",
       "      <td>84.54.22.33</td>\n",
       "      <td>53</td>\n",
       "      <td>53</td>\n",
       "    </tr>\n",
       "    <tr>\n",
       "      <th>52</th>\n",
       "      <td>84.54.22.33</td>\n",
       "      <td>10.1.10.53</td>\n",
       "      <td>53</td>\n",
       "      <td>53</td>\n",
       "    </tr>\n",
       "    <tr>\n",
       "      <th>53</th>\n",
       "      <td>10.1.10.53</td>\n",
       "      <td>84.54.22.33</td>\n",
       "      <td>53</td>\n",
       "      <td>53</td>\n",
       "    </tr>\n",
       "    <tr>\n",
       "      <th>54</th>\n",
       "      <td>84.54.22.33</td>\n",
       "      <td>10.1.10.53</td>\n",
       "      <td>53</td>\n",
       "      <td>53</td>\n",
       "    </tr>\n",
       "    <tr>\n",
       "      <th>55</th>\n",
       "      <td>10.1.10.53</td>\n",
       "      <td>84.54.22.33</td>\n",
       "      <td>53</td>\n",
       "      <td>53</td>\n",
       "    </tr>\n",
       "    <tr>\n",
       "      <th>56</th>\n",
       "      <td>84.54.22.33</td>\n",
       "      <td>10.1.10.53</td>\n",
       "      <td>53</td>\n",
       "      <td>53</td>\n",
       "    </tr>\n",
       "    <tr>\n",
       "      <th>57</th>\n",
       "      <td>10.1.10.53</td>\n",
       "      <td>84.54.22.33</td>\n",
       "      <td>53</td>\n",
       "      <td>53</td>\n",
       "    </tr>\n",
       "    <tr>\n",
       "      <th>58</th>\n",
       "      <td>84.54.22.33</td>\n",
       "      <td>10.1.10.53</td>\n",
       "      <td>53</td>\n",
       "      <td>53</td>\n",
       "    </tr>\n",
       "    <tr>\n",
       "      <th>59</th>\n",
       "      <td>10.1.10.53</td>\n",
       "      <td>84.54.22.33</td>\n",
       "      <td>53</td>\n",
       "      <td>53</td>\n",
       "    </tr>\n",
       "    <tr>\n",
       "      <th>60</th>\n",
       "      <td>84.54.22.33</td>\n",
       "      <td>10.1.10.53</td>\n",
       "      <td>53</td>\n",
       "      <td>53</td>\n",
       "    </tr>\n",
       "    <tr>\n",
       "      <th>61</th>\n",
       "      <td>10.1.10.53</td>\n",
       "      <td>84.54.22.33</td>\n",
       "      <td>53</td>\n",
       "      <td>53</td>\n",
       "    </tr>\n",
       "    <tr>\n",
       "      <th>62</th>\n",
       "      <td>84.54.22.33</td>\n",
       "      <td>10.1.10.53</td>\n",
       "      <td>53</td>\n",
       "      <td>53</td>\n",
       "    </tr>\n",
       "    <tr>\n",
       "      <th>63</th>\n",
       "      <td>10.1.10.53</td>\n",
       "      <td>84.54.22.33</td>\n",
       "      <td>53</td>\n",
       "      <td>53</td>\n",
       "    </tr>\n",
       "    <tr>\n",
       "      <th>64</th>\n",
       "      <td>84.54.22.33</td>\n",
       "      <td>10.1.10.53</td>\n",
       "      <td>53</td>\n",
       "      <td>53</td>\n",
       "    </tr>\n",
       "    <tr>\n",
       "      <th>65</th>\n",
       "      <td>10.1.10.53</td>\n",
       "      <td>84.54.22.33</td>\n",
       "      <td>53</td>\n",
       "      <td>53</td>\n",
       "    </tr>\n",
       "    <tr>\n",
       "      <th>66</th>\n",
       "      <td>84.54.22.33</td>\n",
       "      <td>10.1.10.53</td>\n",
       "      <td>53</td>\n",
       "      <td>53</td>\n",
       "    </tr>\n",
       "  </tbody>\n",
       "</table>\n",
       "</div>"
      ],
      "text/plain": [
       "            src          dst sport dport\n",
       "5    10.1.10.53  84.54.22.33    53    53\n",
       "6   84.54.22.33   10.1.10.53    53    53\n",
       "7    10.1.10.53  84.54.22.33    53    53\n",
       "8   84.54.22.33   10.1.10.53    53    53\n",
       "9    10.1.10.53  84.54.22.33    53    53\n",
       "10  84.54.22.33   10.1.10.53    53    53\n",
       "11   10.1.10.53  84.54.22.33    53    53\n",
       "12  84.54.22.33   10.1.10.53    53    53\n",
       "13   10.1.10.53  84.54.22.33    53    53\n",
       "14  84.54.22.33   10.1.10.53    53    53\n",
       "15   10.1.10.53  84.54.22.33    53    53\n",
       "16  84.54.22.33   10.1.10.53    53    53\n",
       "17   10.1.10.53  84.54.22.33    53    53\n",
       "18  84.54.22.33   10.1.10.53    53    53\n",
       "19   10.1.10.53  84.54.22.33    53    53\n",
       "20  84.54.22.33   10.1.10.53    53    53\n",
       "21   10.1.10.53  84.54.22.33    53    53\n",
       "22  84.54.22.33   10.1.10.53    53    53\n",
       "23   10.1.10.53  84.54.22.33    53    53\n",
       "24  84.54.22.33   10.1.10.53    53    53\n",
       "25   10.1.10.53  84.54.22.33    53    53\n",
       "26  84.54.22.33   10.1.10.53    53    53\n",
       "31   10.1.10.53  84.54.22.33    53    53\n",
       "32  84.54.22.33   10.1.10.53    53    53\n",
       "33   10.1.10.53  84.54.22.33    53    53\n",
       "34  84.54.22.33   10.1.10.53    53    53\n",
       "35   10.1.10.53  84.54.22.33    53    53\n",
       "36  84.54.22.33   10.1.10.53    53    53\n",
       "37   10.1.10.53  84.54.22.33    53    53\n",
       "38  84.54.22.33   10.1.10.53    53    53\n",
       "39   10.1.10.53  84.54.22.33    53    53\n",
       "40  84.54.22.33   10.1.10.53    53    53\n",
       "41   10.1.10.53  84.54.22.33    53    53\n",
       "42  84.54.22.33   10.1.10.53    53    53\n",
       "43   10.1.10.53  84.54.22.33    53    53\n",
       "44  84.54.22.33   10.1.10.53    53    53\n",
       "45   10.1.10.53  84.54.22.33    53    53\n",
       "46  84.54.22.33   10.1.10.53    53    53\n",
       "47   10.1.10.53  84.54.22.33    53    53\n",
       "48  84.54.22.33   10.1.10.53    53    53\n",
       "49   10.1.10.53  84.54.22.33    53    53\n",
       "50  84.54.22.33   10.1.10.53    53    53\n",
       "51   10.1.10.53  84.54.22.33    53    53\n",
       "52  84.54.22.33   10.1.10.53    53    53\n",
       "53   10.1.10.53  84.54.22.33    53    53\n",
       "54  84.54.22.33   10.1.10.53    53    53\n",
       "55   10.1.10.53  84.54.22.33    53    53\n",
       "56  84.54.22.33   10.1.10.53    53    53\n",
       "57   10.1.10.53  84.54.22.33    53    53\n",
       "58  84.54.22.33   10.1.10.53    53    53\n",
       "59   10.1.10.53  84.54.22.33    53    53\n",
       "60  84.54.22.33   10.1.10.53    53    53\n",
       "61   10.1.10.53  84.54.22.33    53    53\n",
       "62  84.54.22.33   10.1.10.53    53    53\n",
       "63   10.1.10.53  84.54.22.33    53    53\n",
       "64  84.54.22.33   10.1.10.53    53    53\n",
       "65   10.1.10.53  84.54.22.33    53    53\n",
       "66  84.54.22.33   10.1.10.53    53    53"
      ]
     },
     "execution_count": 20,
     "metadata": {},
     "output_type": "execute_result"
    }
   ],
   "source": [
    "ips = [\"10.1.10.53\", \"84.54.22.33\"]\n",
    "df_d =df[df['src'].isin(ips) & df['dst'].isin(ips)]\n",
    "df_d[['src', 'dst', 'sport', 'dport']]"
   ]
  },
  {
   "cell_type": "markdown",
   "metadata": {},
   "source": [
    "#### e. Obtenga los payloads del DF del inciso 6(d?), y añada cada uno en un array."
   ]
  },
  {
   "cell_type": "code",
   "execution_count": 21,
   "metadata": {},
   "outputs": [
    {
     "name": "stdout",
     "output_type": "stream",
     "text": [
      "58\n"
     ]
    }
   ],
   "source": [
    "payloads = [pay for pay in df_d['payload_raw']]\n",
    "print(len(payloads))"
   ]
  },
  {
   "cell_type": "markdown",
   "metadata": {},
   "source": [
    "#### f. Muestre el contenido del array."
   ]
  },
  {
   "cell_type": "code",
   "execution_count": 22,
   "metadata": {},
   "outputs": [
    {
     "data": {
      "text/plain": [
       "[b'\\x00\\x0c\\x01\\x00\\x00\\x01\\x00\\x00\\x00\\x00\\x00\\x00\\x06google\\x03com\\x00\\x00\\x1c\\x00\\x01\\xef\\xbf\\xbdPNG\\r\\n\\x1a\\n\\x00\\x00\\x00\\rIHDR\\x00\\x00\\x01b\\x00\\x00\\x00\\xef\\xbf\\xbd\\x08\\x06\\x00\\x00\\x00(\\xef\\xbf\\xbdTR\\x00\\x00:\\xef\\xbf\\xbdIDATx\\xef\\xbf\\xbd\\xef\\xbf\\xbd\\t|T\\xef\\xbf\\xbd\\xef\\xbf\\xbd\\xef\\xbf\\xbd\\xef\\xbf\\xbd\\xef\\xbf\\xbd;K\\x12\\x08;\\x08\\xef\\xbf\\xbd\\nE\\xef\\xbf\\xbd\\xef\\xbf\\xbd$\\x19\\xef\\xbf\\xbd\\xef\\xbf\\xbdZi\\xdf\\xaa-\\xef\\xbf\\xbd;N2\\xef\\xbf\\xbd\\xef\\xbf\\xbdV\\xef\\xbf\\xbdV\\xef\\xbf\\xbda\\xef\\xbf\\xbdZ\\x11!\\xef\\xbf\\xbd\\xef\\xbf\\xbd\\x01\\xdc\\xbbik[\\xef\\xbf\\xbd.ok\\xef\\xbf\\xbde\\xef\\xbf\\xbd\\x01\\\\\\xef\\xbf\\xbd\\xef\\xbf\\xbd]\\xef\\xbf\\xbd-\\xef\\xbf\\xbd\\xef\\xbf\\xbd\\xef\\xbf\\xbdd\\xef\\xbf\\xbd\\x08\\xef\\xbf\\xbd\\x08\\xef\\xbf\\xbd\\xef\\xbf\\xbdg\\xef\\xbf\\xbd\\xef\\xbf\\xbd\\xef\\xbf\\xbd<\\xef\\xbf\\xbd\\xef\\xbf\\xbdL\\x12\\xef\\xbf\\xbd$3wf\\xef\\xbf\\xbd\\xef\\xbf\\xbd\\x02<_\\r\\xef\\xbf\\xbdY\\xef\\xbf\\xbdr\\xef\\xbf\\xbd\\xef\\xbf\\xbdy\\xef\\xbf\\xbd\\xef\\xbf\\xbd\\xef\\xbf\\xbd\\x1c\\r\\x18\\xef\\xbf\\xbd8c\\xef\\xbf\\xbdew\\r\\x1e\\xef\\xbf\\xbd\\xef\\xbf\\xbd\\xef\\xbf\\xbd\\xef\\xbf\\xbd\\x13\\xef\\xbf\\xbdiaK\\xef\\xbf\\xbd\\xef\\xbf\\xbd\\xef\\xbf\\xbd\\xef\\xbf\\xbdu}\\xc5\\xb2w\\xef\\xbf\\xbdd\\xef\\xbf\\xbd\\xef\\xbf\\xbd\\x15\\xef\\xbf\\xbd\"`\\x06:\\x13\\xef\\xbf\\xbd\\x0b\\xef\\xbf\\xbd\\x0c\\x16\\xef\\xbf\\xbd\\x12\\xef\\xbf\\xbd&\\xef\\xbf\\xbd9\\xc6\\x90\\xef\\xbf\\xbd\\x00\\xef\\xbf\\xbd\\xef\\xbf\\xbd\\xef\\xbf\\xbd\\x08\\x111\\xd2\\x8cQHP*\\xef\\xbf\\xbd@\\x04O4\\xef\\xbf\\xbd\\xef\\xbf\\xbd\\xef\\xbf\\xbd7<y\\xef\\xbf\\xbd\\x0e.9\\xef\\xbf\\xbd\\xef\\xbf\\xbd\\xef\\xbf\\xbda2@a\\xef\\xbf\\xbd\\xef\\xbf\\xbd&\"\\xef\\xbf\\xbd\\x13\\x11\\xef\\xbf\\xbdc\\xef\\xbf\\xbdkO\\xef\\xbf\\xbds@\\xef\\xbf\\xbd9\\xef\\xbf\\xbdi\\xef\\xbf\\xbd4X\\xef\\xbf\\xbdx\\xef\\xbf\\xbdK\\xef\\xbf\\xbda!f\\xef\\xbf\\xbd\\xef\\xbf\\xbd0w\\xef\\xbf\\xbd\\xef\\xbf\\xbd3dx\\x1d\"\\xef\\xbf\\xbd\\xef\\xbf\\xbd\\xef\\xbf\\xbdC(\\xef\\xbf\\xbd}\\xef\\xbf\\xbd0|q\\xef\\xbf\\xbd*\\xef\\xbf\\xbd\\xef\\xbf\\xbd\\x0b\\xef\\xbf\\xbda!f\\xef\\xbf\\xbd4\\xef\\xbf\\xbd\\xef\\xbf\\xbd.\\xef\\xbf\\xbdsKg\\x10\\x11]=9N\\xd4\\x82\\x06\\xef\\xbf\\xbd\\xef\\xbf\\xbdu\\xef\\xbf\\xbd\\xef\\xbf\\xbd\\xef\\xbf\\xbdK_\\xef\\xbf\\xbde\\x06*\\xef\\xbf\\xbd\\xef\\xbf\\xbd\\xef\\xbf\\xbd\\x19Px\\xef\\xbf\\xbd\\xef\\xbf\\xbd%\\xef\\xbf\\xbd\\xef\\xbf\\xbd\\x03\\xef\\xbf\\xbd3\\xef\\xbf\\xbd\\xef\\xbf\\xbd\\x1e\"E?\\x0f\\xef\\xbf\\xbd\\xef\\xbf\\xbd\\xef\\xbf\\xbd+H\\xef\\xbf\\xbd]Q\\xef\\xbf\\xbdk\\xef\\xbf\\xbd\\xef\\xbf\\xbd\\xef\\xbf\\xbd\\xef\\xbf\\xbd8\\xef\\xbf\\xbd\"\\xef\\xbf\\xbd\\x1d\\x114v\\xef\\xbf\\xbd2\\x10\\xef\\xbf\\xbd\\xef\\xbf\\xbd\\xef\\xbf\\xbd\\xe5\\x92\\xaf\\xcc\\xb8|\\xef\\xbf\\xbdx.\\\\\\xef\\xbf\\xbd-b\\xef\\xbf\\xbdI\\xef\\xbf\\xbdB\\xef\\xbf\\xbd\\xef\\xbf\\xbd\\xef\\xbf\\xbd@\\xef\\xbf\\xbdL\\xef\\xbf\\xbd\\xef\\xbf\\xbdCJ]XWQ\\xef\\xbf\\xbd\\xef\\xbf\\xbd\\xef\\xbf\\xbd\\xef\\xbf\\xbduQ\\xef\\xbf\\xbdkQ\\x13\\x7f\\xef\\xbf\\xbdN\\xef\\xbf\\xbd1\\x00\\xef\\xbf\\xbd\\xef\\xbf\\xbd\\xef\\xbf\\xbd2\\x17\\xef\\xbf\\xbd03\\x10\\xef\\xbf\\xbd\\\\\\x04\\xef\\xbf\\xbd@!\\xef\\xbf\\xbdH\\xef\\xbf\\xbdBJqG\\'+\\xef\\xbf\\xbdR\\xef\\xbf\\xbdU\\\\[\\xef\\xbf\\xbd\\xef\\xbf\\xbd\\xef\\xbf\\xbd\\xef\\xbf\\xbdGXC;\\xef\\xbf\\xbd\\xef\\xbf\\xbd\\xd4\\x8e\\xef\\xbf\\xbdq\\xef\\xbf\\xbd!\\x04\\xef\\xbf\\xbdr\\xef\\xbf\\xbds=\\xef\\xbf\\xbd\\x02r\\xd4\\xb4\\x0b\\xef\\xbf\\xbd\\xef\\xbf\\xbd\\xef\\xbf\\xbd_S\\xef\\xbf\\xbd%\\xef\\xbf\\xbdph\\xef\\xbf\\xbda\\x12Y\\x05\\x02\\xef\\xbf\\xbd\\xef\\xbf\\xbd\\xef\\xbf\\xbd\\xef\\xbf\\xbdc\\xef\\xbf\\xbd\\xef\\xbf\\xbd\\xef\\xbf\\xbdP\\xef\\xbf\\xbd9\\xef\\xbf\\xbd',\n",
       " b'\\x00\\x0c\\x81\\x80\\x00\\x01\\x00\\x01\\x00\\x00\\x00\\x00\\x06google\\x03com\\x00\\x00\\x1c\\x00\\x01\\xc0\\x0c\\x00\\x1c\\x00\\x01\\x00\\x00\\x01+\\x00\\x10&\\x07\\xf8\\xb0@\\x05\\x08\\x07\\x00\\x00\\x00\\x00\\x00\\x00 \\x0e',\n",
       " b'\\x00\\x0c\\x01\\x00\\x00\\x01\\x00\\x00\\x00\\x00\\x00\\x00\\x06google\\x03com\\x00\\x00\\x1c\\x00\\x01:\\xef\\xbf\\xbdle:\\xc7\\xa9\\xef\\xbf\\xbd\\xef\\xbf\\xbd\\xef\\xbf\\xbd\\x0c\\xef\\xbf\\xbd\\xef\\xbf\\xbd\\xef\\xbf\\xbd:|\\x11\\xef\\xbf\\xbdX\\xef\\xbf\\xbd\\xef\\xbf\\xbdq.e\\xef\\xbf\\xbd\\xef\\xbf\\xbd\\xef\\xbf\\xbda\\x120\\xef\\xbf\\xbdJ}4\\n9$vz\\xef\\xbf\\xbdR\\xef\\xbf\\xbduO/\\xef\\xbf\\xbd\\xef\\xbf\\xbd;\\xc7\\xab]\\xef\\xbf\\xbd\\xef\\xbf\\xbdM\"\\xef\\xbf\\xbdrT\\xd3\\xa3H1i\\xef\\xbf\\xbd\\xef\\xbf\\xbd\\xcb\\xa5\\xcd\\xb0\\x103L<k\\xef\\xbf\\xbd\\x01_\\x07R\\x1d,\\xef\\xbf\\xbd\\xef\\xbf\\xbdF\\xef\\xbf\\xbd\\xef\\xbf\\xbd\\xe4\\x98\\xa10]\\x1e\\xef\\xbf\\xbd\\xef\\xbf\\xbd\\xef\\xbf\\xbd\\x1eSY\\xef\\xbf\\xbd\\xef\\xbf\\xbd\\x0b\\x0fqi3,\\xef\\xbf\\xbd\\x0c\\x13\\x07D\\xef\\xbf\\xbd\\xef\\xbf\\xbd\\xef\\xbf\\xbd\\x0b\\xef\\xbf\\xbd\\xef\\xbf\\xbd\\x19c{O\\xef\\xbf\\xbd\\xef\\xbf\\xbdn\\xef\\xbf\\xbdQK\\xef\\xbf\\xbd\\n\\xef\\xbf\\xbdZ\\xef\\xbf\\xbd\\x00p)\\xef\\xbf\\xbd63\\xef\\xbf\\xbd\\xef\\xbf\\xbd\\\\\\x13\\'-\\xef\\xbf\\xbd\\xef\\xbf\\xbdU\\x0cy\\x12\\xef\\xbf\\xbdc\\x115\\xef\\xbf\\xbdV\\xef\\xbf\\xbd\\x00\\xef\\xbf\\xbd\\xea\\xaf\\xab!\\xef\\xbf\\xbd)\\x1d\\xef\\xbf\\xbd\\xef\\xbf\\xbd\\x10}\\xef\\xbf\\xbd\\xef\\xbf\\xbd\\xef\\xbf\\xbd*\\x05\\x15R\\xef\\xbf\\xbd\\xef\\xbf\\xbdG\\xef\\xbf\\xbdX\\xef\\xbf\\xbd\\xef\\xbf\\xbd\\xef\\xbf\\xbdY\\xef\\xbf\\xbdS.\\xef\\xbf\\xbdkpv\\xef\\xbf\\xbd\\xef\\xbf\\xbd\\x08H\\x1e8\\xef\\xbf\\xbd\\x10z\\xef\\xbf\\xbd\\xef\\xbf\\xbd\\x7f\\xef\\xbf\\xbdm\\xef\\xbf\\xbda!>\\t\\xef\\xbf\\xbd/\\xef\\xbf\\xbd/\\xef\\xbf\\xbd\\x02\\xef\\xbf\\xbdF\\x14\\x02\\xef\\xbf\\xbd@\\x00B\\xef\\xbf\\xbd\\xef\\xbf\\xbd^\\xef\\xbf\\xbd\\xef\\xbf\\xbd\\xef\\xbf\\xbdy\\xef\\xbf\\xbd\\xef\\xbf\\xbd\\x10\\x1d.\\xef\\xbf\\xbd\\xef\\xbf\\xbd\\xef\\xbf\\xbd1\\x1d\\x06\\xd8\\x95\\x11K\\x1b\\xef\\xbf\\xbd\\xef\\xbf\\xbd\\xef\\xbf\\xbd\\xef\\xbf\\xbdb\\xef\\xbf\\xbd\\xef\\xbf\\xbd\\xef\\xbf\\xbd;\\xef\\xbf\\xbd\\xef\\xbf\\xbd\\x08\\xef\\xbf\\xbd\\xef\\xbf\\xbd=N\\xef\\xbf\\xbd\\xef\\xbf\\xbd 7\\'\\'k\\x1f\\x02\\xef\\xbf\\xbd\\xef\\xbf\\xbdu\\x0c\\x19\\xef\\xbf\\xbd\\x02\\xef\\xbf\\xbdO\\xef\\xbf\\xbd\\xef\\xbf\\xbd\\xef\\xbf\\xbda\\xef\\xbf\\xbd\\\\\\x16d\\x16b\\xef\\xbf\\xbd$a\\xef\\xbf\\xbd\\x15\\xef\\xbf\\xbdFd\\xef\\xbf\\xbd\\xef\\xbf\\xbd\\xef\\xbf\\xbd\\x16\\xef\\xbf\\xbd3Z\\xef\\xbf\\xbd\\xef\\xbf\\xbd\\x1e\\x13(!\\xc4\\xb9\\xef\\xbf\\xbd\\xef\\xbf\\xbd\\xef\\xbf\\xbdWj\\x03\\xef\\xbf\\xbd_S=^\\xef\\xbf\\xbdW?\\xef\\xbf\\xbd%\\xef\\xbf\\xbd\\xef\\xbf\\xbd\\x00\\xef\\xbf\\xbdR\\xef\\xbf\\xbd\\xef\\xbf\\xbdK \\x10\\xef\\xbf\\xbd\\xef\\xbf\\xbd{mV8\\x14B<\\xef\\xbf\\xbd\\xef\\xbf\\xbd\\xef\\xbf\\xbd,x=#\\x16\\xef\\xbf\\xbdi\\xef\\xbf\\xbd%dL\\xef\\xbf\\xbd\\xef\\xbf\\xbd\\xef\\xbf\\xbd\\xef\\xbf\\xbd\\x08\\xef\\xbf\\xbd\\xef\\xbf\\xbd=k\\xef\\xbf\\xbd\\xef\\xbf\\xbd]\\xef\\xbf\\xbd\\xef\\xbf\\xbd\\xef\\xbf\\xbd\\xc6\\x96\\xef\\xbf\\xbd\\xef\\xbf\\xbd\\rO\\xef\\xbf\\xbd\\xef\\xbf\\xbdI\\xef\\xbf\\xbd\\xef\\xbf\\xbd\\xef\\xbf\\xbd\\x1d2\\xef\\xbf\\xbd5h\\x1d\\xef\\xbf\\xbd\\xda\\xae%\\xea\\x80\\x8c\\xef\\xbf\\xbd\\x1d\\xef\\xbf\\xbd\\xef\\xbf\\xbd\\xef\\xbf\\xbd)\\xef\\xbf\\xbd_\\x0fV\\x18\\xef\\xbf\\xbdr+=9\\xef\\xbf\\xbd\\x18\\xef\\xbf\\xbdID\\xef\\xbf\\xbd\\xef\\xbf\\xbd\\xef\\xbf\\xbd:\\x02L\\xef\\xbf\\xbdc\\xef\\xbf\\xbd\\xef\\xbf\\xbd\\x0e\\xef\\xbf\\xbd\\xef\\xbf\\xbdR\\xef\\xbf\\xbd7\\x1dc\\xef\\xbf\\xbd-\\xef\\xbf\\xbd]D\\xef\\xbf\\xbd]\\x08qw\\xef\\xbf\\xbd\\xef\\xbf\\xbd\\xef\\xbf\\xbdp\\xef\\xbf\\xbdd}\\xef\\xbf\\xbdM(##\\xef\\xbf\\xbd\\xda\\xbf{\\xcb\\xa2L\\xef\\xbf\\xbds\\xef\\xbf\\xbd\\'\\xef\\xbf\\xbd2\\x01\\x1c\\x15^K\\xef\\xbf\\xbd;{r\\xef\\xbf\\xbdQ2w\\xef\\xbf\\xbd\\x10p;\\n\\xef\\xbf\\xbd^\\xef\\xbf\\xbd\\xef\\xbf\\xbd\\xef\\xbf\\xbd~z\\xef\\xbf\\xbd\\xef\\xbf\\xbdPv.\\xef\\xbf\\xbd\\xef\\xbf\\xbd\\xef\\xbf\\xbd\\x00\\x05~\\xef\\xbf\\xbd\\xef\\xbf\\xbd',\n",
       " b'\\x00\\x0c\\x81\\x80\\x00\\x01\\x00\\x01\\x00\\x00\\x00\\x00\\x06google\\x03com\\x00\\x00\\x1c\\x00\\x01\\xc0\\x0c\\x00\\x1c\\x00\\x01\\x00\\x00\\x01)\\x00\\x10&\\x07\\xf8\\xb0@\\x05\\x08\\x07\\x00\\x00\\x00\\x00\\x00\\x00 \\x0e',\n",
       " b'\\x00\\x0c\\x01\\x00\\x00\\x01\\x00\\x00\\x00\\x00\\x00\\x00\\x06google\\x03com\\x00\\x00\\x1c\\x00\\x01\\xef\\xbf\\xbd\\xef\\xbf\\xbd^n\\xef\\xbf\\xbd\\'\\'\\xef\\xbf\\xbd\\xef\\xbf\\xbd\\xef\\xbf\\xbd$\\xef\\xbf\\xbd\\xef\\xbf\\xbd\\xef\\xbf\\xbd\\xef\\xbf\\xbd\\xef\\xbf\\xbdR\\xef\\xbf\\xbd\\xef\\xbf\\xbd\\xef\\xbf\\xbd\\x17\\xef\\xbf\\xbd>Epou\\xef\\xbf\\xbd\\xef\\xbf\\xbd$\\xef\\xbf\\xbd\\xef\\xbf\\xbdM\\xef\\xbf\\xbd\\xef\\xbf\\xbd\\x1c\\xef\\xbf\\xbd\\xef\\xbf\\xbd\\x0e\\xef\\xbf\\xbdtB\\r\\xef\\xbf\\xbd\\xd4\\xbag\\xef\\xbf\\xbdm\\xef\\xbf\\xbd\\xef\\xbf\\xbd>8w\\xe8\\x84\\xaa\\xef\\xbf\\xbd\\xef\\xbf\\xbd5\\xef\\xbf\\xbd\\xef\\xbf\\xbd\\xef\\xbf\\xbd<\\xef\\xbf\\xbd>\\xef\\xbf\\xbd\\x19\\xef\\xbf\\xbd\\xef\\xbf\\xbdl\\x0e<p\\xef\\xbf\\xbd\\xef\\xbf\\xbd\\xc7\\x98\\xef\\xbf\\xbd\\xef\\xbf\\xbd\\xef\\xbf\\xbdw8\\xef\\xbf\\xbd\\xef\\xbf\\xbd@\\xd4\\xae\\xef\\xbf\\xbd`Y\\xef\\xbf\\xbd\\xef\\xbf\\xbd\\x15\\xef\\xbf\\xbdoR\\xef\\xbf\\xbdH\\xef\\xbf\\xbd\\xef\\xbf\\xbdhD\\xef\\xbf\\xbd(\\xef\\xbf\\xbd;\\xef\\xbf\\xbd8*~o\\x14`Y\\xef\\xbf\\xbdm\\xef\\xbf\\xbd\\x15\\xef\\xbf\\xbd?\\xef\\xbf\\xbd\\x16\\xcb\\xa1\\t\\xef\\xbf\\xbd\\x04DJ\\xef\\xbf\\xbd1PD\\xef\\xbf\\xbd\\x143O\\xef\\xbf\\xbd\\x16UU\\x18\\xef\\xbf\\xbdw\\xef\\xbf\\xbdx.\\x05C\\xef\\xbf\\xbd\\xef\\xbf\\xbdH\\xef\\xbf\\xbdt\\xef\\xbf\\xbd\\xef\\xbf\\xbd\\x1a7=\\xef\\xbf\\xbd\\xe8\\xa1\\x88\\x11\\xef\\xbf\\xbd\\x1b\\xef\\xbf\\xbd_\\x1f06e\\xef\\xbf\\xbd0\\x1d\\xef\\xbf\\xbd_P4\\x13r\\xef\\xbf\\xbd9,6\\xef\\xbf\\xbd\\x18\\rc\\xef\\xbf\\xbd\\x06\\xef\\xbf\\xbdE\\xef\\xbf\\xbd<\\xef\\xbf\\xbdS\\xc2\\xa1\\xef\\xbf\\xbd\\xef\\xbf\\xbd\\x08\\xc3\\x8f\\x1eNY$\\x04\\xef\\xbf\\xbd\\x08\\x00X\\xef\\xbf\\xbd94\\xef\\xbf\\xbd\\xef\\xbf\\xbdp\\xd6\\xb0\\xef\\xbf\\xbd\\xef\\xbf\\xbd\\xef\\xbf\\xbd\\xef\\xbf\\xbd\\x15\\x17+\\xc2\\xa6\\xef\\xbf\\xbd\\xef\\xbf\\xbd\\xef\\xbf\\xbd0\\xef\\xbf\\xbdS\\x0cU\\xef\\xbf\\xbdj\\xef\\xbf\\xbd{A\\x7f\\xef\\xbf\\xbd\\x08\"z\\xef\\xbf\\xbdC\\xef\\xbf\\xbd\\x02P\\xef\\xbf\\xbd{\\x17\\xef\\xbf\\xbd\\xef\\xbf\\xbde\\xef\\xbf\\xbd\\x161s\\xef\\xbf\\xbd\\xef\\xbf\\xbd\\x02\\xef\\xbf\\xbd\\xef\\xbf\\xbd\\xef\\xbf\\xbd\\xef\\xbf\\xbd\\xef\\xbf\\xbd\\xef\\xbf\\xbd`\\xef\\xbf\\xbd\\xef\\xbf\\xbd\\xef\\xbf\\xbd\\x07\\xc2\\xb5M\\xef\\xbf\\xbdp\\xef\\xbf\\xbd\\xef\\xbf\\xbda\\xef\\xbf\\xbdS\\xef\\xbf\\xbd\\xef\\xbf\\xbd;\\xef\\xbf\\xbd \\x04\\x10\\xda\\xb0i\\xef\\xbf\\xbd\\x07\\x03!i|S\\xc8\\xbc(\\xef\\xbf\\xbd\\xef\\xbf\\xbd\\xef\\xbf\\xbd\\xef\\xbf\\xbd\\x1e\\xef\\xbf\\xbd\\xef\\xbf\\xbdh\\x02\\x18y>\\x00Tp\\xef\\xbf\\xbde!fN(%\\xef\\xbf\\xbd\\xef\\xbf\\xbd\\x1d\\x7f\\xef\\xbf\\xbdtw\\xef\\xbf\\xbd\\xef\\xbf\\xbd\\xef\\xbf\\xbdr\\xce\\x98\\xef\\xbf\\xbd\\xef\\xbf\\xbdG\\xef\\xbf\\xbd\\xef\\xbf\\xbd\\xef\\xbf\\xbdI\\xef\\xbf\\xbd\\xef\\xbf\\xbd5\\xef\\xbf\\xbd\\xef\\xbf\\xbd%\\xef\\xbf\\xbd\\xef\\xbf\\xbd\\xef\\xbf\\xbd\\xef\\xbf\\xbdN\\x008g\\xef\\xbf\\xbd\\x19`M\\xd6\\xb7\\xef\\xbf\\xbd&|+\\xef\\xbf\\xbd\\xef\\xbf\\xbd\"\\xef\\xbf\\xbd\\xef\\xbf\\xbd\\xef\\xbf\\xbd\\xef\\xbf\\xbd\\xef\\xbf\\xbd\\xef\\xbf\\xbd9\\xef\\xbf\\xbdr\\x03\\xd1\\xb1\\t\\'(\\xef\\xbf\\xbd\\xef\\xbf\\xbdq\\xef\\xbf\\xbd\\x103\\'\\xef\\xbf\\xbd\\x0e\\x13\\xef\\xbf\\xbd@y,\\xef\\xbf\\xbd\\xef\\xbf\\xbd{R\\xef\\xbf\\xbd\\x06\\xef\\xbf\\xbd\\x00\\xef\\xbf\\xbd\\x01D\\xef\\xbf\\xbd\\xef\\xbf\\xbd\\xef\\xbf\\xbd1J\\t\\xef\\xbf\\xbd\\xef\\xbf\\xbd\\x1f\\xef\\xbf\\xbd;4|\\xef\\xbf\\xbd\\xef\\xbf\\xbd\\xef\\xbf\\xbd\\x0f~\\xef\\xbf\\xbd\\x03N\\xd9\\xba\\xef\\xbf\\xbdh\\xef\\xbf\\xbd\\xef\\xbf\\xbd\\xeb\\x90\\xae\\\\\\xef\\xbf\\xbd\\x16\\xef\\xbf\\xbdp\\xef\\xbf\\xbd\\xef\\xbf\\xbd\\xef\\xbf\\xbd;\\xef\\xbf\\xbdI\\xef\\xbf\\xbd]\\xef\\xbf\\xbd\\x00\\xe8\\x80\\xb8S\\xef\\xbf\\xbd\\xef\\xbf\\xbdx\\xef\\xbf\\xbdj;?\"\\x0e\\x19~\\n\\xef\\xbf\\xbd\\xc5\\xb3\\xef\\xbf\\xbd\\x18\\x16b\\xe6\\x84\\xa7PL\\xef\\xbf\\xbd\\xef\\xbf\\xbd@\\xef\\xbf\\xbd\\x1a\\xef\\xbf\\xbd\\x1dA\\xef\\xbf\\xbd\\xef\\xbf\\xbdB\\xef\\xbf\\xbd\\xef\\xbf\\xbd6\\xef\\xbf\\xbd\\x12\\xef\\xbf\\xbd\\x1fph\\xef\\xbf\\xbd\\xef\\xbf\\xbd\\x16\\xef\\xbf\\xbd\\xef\\xbf\\xbd\\xef\\xbf\\xbd\\xef\\xbf\\xbds\\xef\\xbf\\xbdPAv\\xef\\xbf\\xbd\\xef\\xbf\\xbdO\\xef\\xbf\\xbd',\n",
       " b'\\x00\\x0c\\x81\\x80\\x00\\x01\\x00\\x01\\x00\\x00\\x00\\x00\\x06google\\x03com\\x00\\x00\\x1c\\x00\\x01\\xc0\\x0c\\x00\\x1c\\x00\\x01\\x00\\x00\\x01(\\x00\\x10&\\x07\\xf8\\xb0@\\x05\\x08\\x07\\x00\\x00\\x00\\x00\\x00\\x00 \\x0e',\n",
       " b'\\x00\\x0c\\x01\\x00\\x00\\x01\\x00\\x00\\x00\\x00\\x00\\x00\\x06google\\x03com\\x00\\x00\\x1c\\x00\\x01\\xe4\\x8e\\x91Bj_\\xef\\xbf\\xbda\\r\\xef\\xbf\\xbd\\xef\\xbf\\xbd\\xef\\xbf\\xbd\\x04\\xef\\xbf\\xbd\\xef\\xbf\\xbd\\x10DJ\\xef\\xbf\\xbd\\xef\\xbf\\xbd\\x14\\xef\\xbf\\xbd\\x12\\xef\\xbf\\xbd\\xef\\xbf\\xbdB\\xef\\xbf\\xbd\\x05\\x1dB\\r&\\xef\\xbf\\xbd@\\xef\\xbf\\xbd\\xd6\\x9e\\t\\xef\\xbf\\xbdD\\xef\\xbf\\xbdo\\x01\\xef\\xbf\\xbdgc\\xef\\xbf\\xbdr\\xef\\xbf\\xbd\\xef\\xbf\\xbd1\\xef\\xbf\\xbd\\x12 \\xef\\xbf\\xbd\\nA\\x04\\x1a\\xef\\xbf\\xbda\\xef\\xbf\\xbd4F\\xef\\xbf\\xbdG\\xef\\xbf\\xbd\\xef\\xbf\\xbd\\xef\\xbf\\xbd\\xef\\xbf\\xbd\\xef\\xbf\\xbd\\x103\\xef\\xbf\\xbd\\xef\\xbf\\xbd\\xef\\xbf\\xbdK\\xef\\xbf\\xbd\\xef\\xbf\\xbd\\xef\\xbf\\xbd&\\x1c]\\xef\\xbf\\xbd\\x10\\xef\\xbf\\xbd\\xef\\xbf\\xbd\\x0c7\\x03D]\\xef\\xbf\\xbd.\\xef\\xbf\\xbd\\xef\\xbf\\xbd\\x0c\\xef\\xbf\\xbd\\x01tx(\\xef\\xbf\\xbd`\\xef\\xbf\\xbd\\xef\\xbf\\xbd\\xef\\xbf\\xbd\\xef\\xbf\\xbdY]\\xef\\xbf\\xbd\\xef\\xbf\\xbd\\xef\\xbf\\xbd-k\\xef\\xbf\\xbdq-\\x02u\\x10\\xef\\xbf\\xbd`@Ow\\xef\\xbf\\xbd\\xef\\xbf\\xbd\\x1f\\x0b\\xef\\xbf\\xbd->W:\\x1d\\xef\\xbf\\xbd\\xef\\xbf\\xbd\\xe8\\xaa\\x98y\\xef\\xbf\\xbd\\xef\\xbf\\xbd\\xef\\xbf\\xbd\\xef\\xbf\\xbdV\\xef\\xbf\\xbd\\xef\\xbf\\xbdq\\xef\\xbf\\xbdf\\t\\xef\\xbf\\xbd\\xef\\xbf\\xbd\\xef\\xbf\\xbd>\\xef\\xbf\\xbd\\xef\\xbf\\xbd\\x0e|\\xef\\xbf\\xbd[\\x03\\xc3\\xa1\\t\\xef\\xbf\\xbd_h>\\xef\\xbf\\xbd\\xef\\xbf\\xbd@\\xef\\xbf\\xbd*\\n\\xef\\xbf\\xbdW\\xef\\xbf\\xbduZ\\xef\\xbf\\xbd\\xef\\xbf\\xbd\\xef\\xbf\\xbd\\xef\\xbf\\xbd\\xc9\\xbc\\xef\\xbf\\xbd\\xef\\xbf\\xbd\\xd5\\xb8\\xef\\xbf\\xbd?\\xef\\xbf\\xbdz\\xef\\xbf\\xbd\\xef\\xbf\\xbd\\xef\\xbf\\xbd\\x08\\xef\\xbf\\xbd!\\xef\\xbf\\xbd5)hz\\xef\\xbf\\xbd\\xef\\xbf\\xbdN-\\xef\\xbf\\xbdg\\xef\\xbf\\xbd@\\xef\\xbf\\xbd\\xef\\xbf\\xbd6\\xef\\xbf\\xbd-;j\\xef\\xbf\\xbd50l\\x113\\xef\\xbf\\xbd\\xc2\\xa6\\xef\\xbf\\xbd\\x1fm\\xef\\xbf\\xbd\\xef\\xbf\\xbd\\xef\\xbf\\xbd\\xef\\xbf\\xbd\\x10\\xef\\xbf\\xbd.\\xef\\xbf\\xbdR\\xef\\xbf\\xbdt\\xef\\xbf\\xbd|\\xef\\xbf\\xbd_\\xef\\xbf\\xbd\\xef\\xbf\\xbd\\x08v\\xef\\xbf\\xbdX\\xef\\xbf\\xbd\\x04D\\x13:\\xef\\xbf\\xbd\\x18\\xef\\xbf\\xbdj\\xef\\xbf\\xbd\\xcf\\xb4\\xef\\xbf\\xbd\\xef\\xbf\\xbd\\xef\\xbf\\xbd\\x14x\\x10\\x10r\\xef\\xbf\\xbdZ&B\\xef\\xbf\\xbd^\\xef\\xbf\\xbd+\\xef\\xbf\\xbd\\xef\\xbf\\xbd)$1\\x1e\\xef\\xbf\\xbd\\x18\\x15\\xef\\xbf\\xbd\\xef\\xbf\\xbd\\xef\\xbf\\xbdP\\xef\\xbf\\xbde\\xef\\xbf\\xbd\\x7f9\\x10\\xef\\xbf\\xbd\"3,\\xef\\xbf\\xbd\\xef\\xbf\\xbdI\\xef\\xbf\\xbd\\xef\\xbf\\xbd\\x10\\xef\\xbf\\xbd8\\xef\\xbf\\xbdE\\xef\\xbf\\xbd#\\x1c\\xdb\\xa4\\x13(:Sn\\x1c\"\\xef\\xbf\\xbd\\xef\\xbf\\xbdQ\\xef\\xbf\\xbd\\xef\\xbf\\xbdf>B\\xef\\xbf\\xbd#\\xef\\xbf\\xbd\\xef\\xbf\\xbd\\xef\\xbf\\xbd\\xef\\xbf\\xbd\\xef\\xbf\\xbdW\\xef\\xbf\\xbd\\x08\\x13\\xef\\xbf\\xbdjQ\\xef\\xbf\\xbd\\xef\\xbf\\xbd[\\x01\\xc3\\xa1\\t\\xef\\xbf\\xbd_yo\\xef\\xbf\\xbd\\xef\\xbf\\xbd9\\xef\\xbf\\xbd\\xef\\xbf\\xbd\\xef\\xbf\\xbdm\"lD\\xef\\xbf\\xbd)\\xef\\xbf\\xbd.\\xef\\xbf\\xbd\\x0f\\x18\\xef\\xbf\\xbd\\xef\\xbf\\xbd\\x150,\\xef\\xbf\\xbdL\\xef\\xbf\\xbdS\\xef\\xbf\\xbd\\xef\\xbf\\xbd\\xef\\xbf\\xbd\\xcd\\xa6Is\\xef\\xbf\\xbd\\xef\\xbf\\xbd<9D\\xef\\xbf\\xbd\\xef\\xbf\\xbd!\\x08\\x15V\\xef\\xbf\\xbd,\\x7f\\xef\\xbf\\xbdk\\xef\\xbf\\xbd\\xef\\xbf\\xbd\\x14\\x1c\\xef\\xbf\\xbd`zL\\xef\\xbf\\xbd\\x12a\\xef\\xbf\\xbd,\\xef\\x92\\xafH!oA\\xef\\xbf\\xbdS\\x01hP\\'\\xef\\xbf\\xbd~L\\xef\\xbf\\xbdB\\xef\\xbf\\xbd\\x01\\xef\\xbf\\xbd\\xef\\xbf\\xbd\\xef\\xbf\\xbd\\xef\\xbf\\xbd\\xef\\xbf\\xbd\\xef\\xbf\\xbd\\xef\\xbf\\xbdk\\xef\\xbf\\xbd#\\xef\\xbf\\xbd\\x19V\\xef\\xbf\\xbdX]\\xef\\xbf\\xbd\\xef\\xbf\\xbd\\x12\\xef\\xbf\\xbd8\\xef\\xbf\\xbdB\\xef\\xbf\\xbd\\x0c`A^\\x16\\x11\\xef\\xbf\\xbdy\\x1b<\\xef\\xbf\\xbd\\xef\\xbf\\xbdw\\x10a\\xef\\xbf\\xbd@\\xef\\xbf\\xbd\\x07\\x05\\xef\\xbf\\xbdT\\xef\\xbf\\xbd\\n\\xef\\xbf\\xbdZ\\xef\\xbf\\xbdM\\xef\\xbf\\xbd/\\xef\\xbf\\xbd\\xef\\xbf\\xbd\\x04\\xef\\xbf\\xbd0\\x0c\\x0b1\\xef\\xbf\\xbd0\\x0c\\x0b1\\xef\\xbf\\xbd0\\x0c\\xd3\\x8fp',\n",
       " b\"\\x00\\x0c\\x81\\x80\\x00\\x01\\x00\\x01\\x00\\x00\\x00\\x00\\x06google\\x03com\\x00\\x00\\x1c\\x00\\x01\\xc0\\x0c\\x00\\x1c\\x00\\x01\\x00\\x00\\x01'\\x00\\x10&\\x07\\xf8\\xb0@\\x05\\x08\\x07\\x00\\x00\\x00\\x00\\x00\\x00 \\x0e\",\n",
       " b'\\x00\\x0c\\x01\\x00\\x00\\x01\\x00\\x00\\x00\\x00\\x00\\x00\\x06google\\x03com\\x00\\x00\\x1c\\x00\\x01\\xef\\xbf\\xbd\\xef\\xbf\\xbd\\xef\\xbf\\xbd\\xcb\\xb4\\xef\\xbf\\xbd\\x16\\xef\\xbf\\xbd\\xef\\xbf\\xbdrj\\xef\\xbf\\xbdGBWO\\xef\\xbf\\xbd\\xef\\xbf\\xbd\\x18\\xdd\\xa2i\\xef\\xbf\\xbd\\xef\\xbf\\xbd0\\xef\\xbf\\xbd\\x18\\x01\\xef\\xbf\\xbd\\xef\\xbf\\xbd\\xef\\xbf\\xbd\\xef\\xbf\\xbd\\xef\\xbf\\xbd\\x13e\"3\\x1cY\\r\\rP\\xef\\xbf\\xbd\\xef\\xbf\\xbd\\xef\\xbf\\xbd^nQ\\x0c\\x0b1\\xef\\xbf\\xbd\\x16\\x13/\\\\8$\\'\\xcb\\xbd\\xef\\xbf\\xbd\\xef\\xbf\\xbd\\xef\\xbf\\xbd!\\xef\\xbf\\xbd<~\\xef\\xbf\\xbdK\"\\xef\\xbf\\xbdd\\x00\\xef\\xbf\\xbd\\xef\\xbf\\xbd\\x19\\xef\\xbf\\xbd\\xef\\xbf\\xbd\\xef\\xbf\\xbd\\xef\\xbf\\xbdb\\xef\\xbf\\xbd\\xef\\xbf\\xbd\\xef\\xbf\\xbd\\xef\\xbf\\xbd\\t\\x1b\\xef\\xbf\\xbd6\\xef\\xbf\\xbdp\\xef\\xbf\\xbdb\\x12\\xef\\xbf\\xbd\\xef\\xbf\\xbd\\t\\xef\\xbf\\xbd\\x0bC\\xef\\xbf\\xbd\\xef\\xbf\\xbd\\x17EE\\xef\\xbf\\xbd\\xc9\\x80Q\\xef\\xbf\\xbd \\xef\\xbf\\xbd\\rOrA0,\\xef\\xbf\\xbdLZ(\\x12[\\xef\\xbf\\xbd\\x142\\xef\\xbf\\xbdv.\\x02\\xef\\xbf\\xbd\\xef\\xbf\\xbd\\xef\\xbf\\xbdI\\xef\\xbf\\xbd\\xef\\xbf\\xbd\\xef\\xbf\\xbd+\"z\\xef\\xbf\\xbdK\"\\x03\\xef\\xbf\\xbd\\xef\\xbf\\xbd\\xef\\xbf\\xbd\\xef\\xbf\\xbd\\xef\\xbf\\xbd\\x15\\xef\\xbf\\xbd\\xef\\xbf\\xbdqI0vp\\xef\\xbf\\xbd\\xef\\xbf\\xbd\\xef\\xbf\\xbd\\xef\\xbf\\xbdP\\x07\\xef\\xbf\\xbd\\xc6\\xa4\\x19\\xef\\xbf\\xbd\\xef\\xbf\\xbd3\\xef\\xbf\\xbd\\xef\\xbf\\xbd\\xef\\xbf\\xbd\\x06\\x01\\xef\\xbf\\xbd\\xef\\xbf\\xbd\\xef\\xbf\\xbd;\\xef\\xbf\\xbd\\xe8\\x96\\xb0\\x11\\x11\\xef\\xbf\\xbd\\xef\\xbf\\xbd\\xef\\xbf\\xbd$\\xef\\xbf\\xbd_\\xef\\xbf\\xbd\\x12nS\\xef\\xbf\\xbd\\xef\\xbf\\xbd\\xef\\xbf\\xbd(\\xef\\xbf\\xbd\\x0b4\\xef\\xbf\\xbd\\xef\\xbf\\xbd\\\\\\x13X\\xef\\xbf\\xbd17\\'\\xef\\xbf\\xbd\\xef\\xbf\\xbd\\xef\\xbf\\xbd\\xef\\xbf\\xbd6\\xef\\xbf\\xbd\\xef\\xbf\\xbdr\\xef\\xbf\\xbd.\\x00\\xd8\\x95\\xef\\xbf\\xbdC\\xef\\xbf\\xbdg\\xef\\xbf\\xbd~\\\\\\xef\\xbf\\xbd\\x06\"\\xef\\xbf\\xbd\\xef\\xbf\\xbdu\\x7f.\\xef\\xbf\\xbd\\xcc\\xb5\\xef\\xbf\\xbd\\xef\\xbf\\xbd%\\x1c\\xef\\xbf\\xbd`\\x18\\xef\\xbf\\xbda!f\\x18\\xef\\xbf\\xbd9\\xef\\xbf\\xbd\\xef\\xbf\\xbd\\xef\\xbf\\xbd\\x04\\xef\\xbf\\xbdY\\xef\\xbf\\xbd^\\xef\\xbf\\xbd\\x07y2\\xef\\xbf\\xbd\\xef\\xbf\\xbd\\xef\\xbf\\xbd\\xef\\xbf\\xbd\\xef\\xbf\\xbd\\xcf\\x80\\xef\\xbf\\xbd\\x00\"\\xcf\\xab;c_\\xef\\xbf\\xbd\\xda\\xbc\\xef\\xbf\\xbd\\xd6\\xae}\\xef\\xbf\\xbd\\x04\\x00\\xef\\xbf\\xbd\\nfX\\xef\\xbf\\xbd\\xef\\xbf\\xbd\\x01Ka\\xef\\xbf\\xbd~\\x13J\\xef\\xbf\\xbd\\x0e\\x00\\x14\\x08\\xe1\\x90\\xb1k8\\xef\\xbf\\xbd\\xef\\xbf\\xbd\\x03\\xef\\xbf\\xbdu|\\xef\\xbf\\xbd+F\\xef\\xbf\\xbd\\xef\\xbf\\xbdlM\\xef\\xbf\\xbd\\xc5\\xbeFSN\\x03\\xef\\xbf\\xbdYe\\xef\\xbf\\xbdD\\xef\\xbf\\xbd,\\xef\\xbf\\xbd\\xef\\xbf\\xbd\\xef\\xbf\\xbd\\xef\\xbf\\xbd\\'\\xef\\xbf\\xbd\\xef\\xbf\\xbd\\xef\\xbf\\xbd5\\xef\\xbf\\xbdd\\x12\\x0eM0\\xef\\xbf\\xbd\\x10\\xef\\xbf\\xbd\\xef\\xbf\\xbd\\x0b\\xef\\xbf\\xbd\\xef\\xbf\\xbd\\x05\\x02\\x0f\\x02JRfTxc\\x7f\\xef\\xbf\\xbdY\\xef\\xbf\\xbd\\x03\\xef\\xbf\\xbd\\x04\\xef\\xbf\\xbd\\x00Q\\xef\\xbf\\xbdk\\'\\x05\\xef\\xbf\\xbd\\xef\\xbf\\xbd\\xef\\xbf\\xbd\\x08^\\xef\\xbf\\xbdv\\xef\\xbf\\xbd\\xef\\xbf\\xbd\\xef\\xbf\\xbd|\\xef\\xbf\\xbdk\\xef\\xbf\\xbda!f\\x06\\xef\\xbf\\xbd\\x08\\xef\\xbf\\xbd\\xef\\xbf\\xbdW\\xef\\xbf\\xbd\\xc4\\xafC\\xef\\xbf\\xbd\\xef\\xbf\\xbdu)\\xef\\xbf\\xbd\\x1f\\xef\\xbf\\xbd\\x00\\xef\\xbf\\xbd\\xef\\xbf\\xbdo\\x7f\\x04\\xef\\xbf\\xbd)_3\"\\x12)r9\\x1c\\xef\\xbf\\xbd\\x15\\xef\\xbf\\xbd\\xef\\xbf\\xbd\\xef\\xbf\\xbd\\xc7\\xb5\\xcf\\xb0\\x103\\xef\\xbf\\xbd\\xef\\xbf\\xbd\\xef\\xbf\\xbd\\xef\\xbf\\xbd\\xef\\xbf\\xbd~\\xef\\xbf\\xbdxn\\xef\\xbf\\xbd\\x0cQM\\xef\\xbf\\xbd<o\\xef\\xbf\\xbd\\xef\\xbf\\xbd\\xef\\xbf\\xbd\\x10)\\'\\xef\\xbf\\xbd\\xef\\xbf\\xbd#\\xef\\xbf\\xbdZ\\xef\\xbf\\xbdx\\xef\\xbf\\xbd\\xef\\xbf\\xbd+\\xef\\xbf\\xbd\\x19\\xcb\\xad\\xef\\xbf\\xbd\\xef\\xbf\\xbd\\x04\\x1c#f\\xef\\xbf\\xbdE^\\xef\\xbf\\xbd\\xd7\\x89R,\\xef\\xbf\\xbd\\xef\\xbf\\xbd\\xef\\xbf\\xbd\"Z\\x07\\xef\\xbf\\xbd\\xef\\xbf\\xbd\\xef\\xbf\\xbd\\xef\\xbf\\xbd\\x1d\\x162\\x10\\xef\\xbf\\xbdW\\xef\\xbf\\xbd\\x10G',\n",
       " b'\\x00\\x0c\\x81\\x80\\x00\\x01\\x00\\x01\\x00\\x00\\x00\\x00\\x06google\\x03com\\x00\\x00\\x1c\\x00\\x01\\xc0\\x0c\\x00\\x1c\\x00\\x01\\x00\\x00\\x01&\\x00\\x10&\\x07\\xf8\\xb0@\\x05\\x08\\x07\\x00\\x00\\x00\\x00\\x00\\x00 \\x0e',\n",
       " b'\\x00\\x0c\\x01\\x00\\x00\\x01\\x00\\x00\\x00\\x00\\x00\\x00\\x06google\\x03com\\x00\\x00\\x1c\\x00\\x01w\\xef\\xbf\\xbd \\xef\\xbf\\xbd\\x02R\\xef\\xbf\\xbd\\x19\\x00\\xef\\xbf\\xbd^\\x7f\\xef\\xbf\\xbd\\xc3\\xb4\\xef\\xbf\\xbd\\x16\\xef\\xbf\\xbd\\x01 \\x1c\\xef\\xbf\\xbd\\xef\\xbf\\xbd\\xef\\xbf\\xbd\\x14\\xef\\xbf\\xbd7PA\\xef\\xbf\\xbd\\xef\\xbf\\xbdu\\xef\\xbf\\xbd\\x00\\x01\\xef\\xbf\\xbdA\\xef\\xbf\\xbd\\x1b\\x100\\'&\\xef\\xbf\\xbdA\\xef\\xbf\\xbdN\\xef\\xbf\\xbd_\\x00\\xef\\xbf\\xbdln\\r\\x0c\\x0b1\\xef\\xbf\\xbd/8\\xef\\xbf\\xbd\\xef\\xbf\\xbd\\x1dG\\xef\\xbf\\xbd\\xef\\xbf\\xbd\\xef\\xbf\\xbd\\xef\\xbf\\xbd\\x1b_\\xef\\xbf\\xbd\\xef\\xbf\\xbd\\xef\\xbf\\xbd)\\xef\\xbf\\xbd\\xef\\xbf\\xbd\\xef\\xbf\\xbd\\xef\\xbf\\xbdA9\\xef\\xbf\\xbd\\xef\\xbf\\xbd\\xef\\xbf\\xbd\\xef\\xbf\\xbd\\x04\\xef\\xbf\\xbd4\\xef\\xbf\\xbdc\\x00\\xef\\xbf\\xbd\\xef\\xbf\\xbd\\xef\\xbf\\xbd\\xef\\xbf\\xbd\\xef\\xbf\\xbd\\xef\\xbf\\xbd\\xd0\\xbe\\x15+\\xef\\xbf\\xbd\\x04\\xef\\xbf\\xbd\\\\\\xef\\xbf\\xbd7~\\x17\\xef\\xbf\\xbd\\x7f\\x04\\xef\\xbf\\xbd\\xef\\xbf\\xbdV\\xef\\xbf\\xbd\\xef\\xbf\\xbdk@lM\\x0b\\x1a\\xef\\xbf\\xbd\\xef\\xbf\\xbd\\xef\\xbf\\xbd\\xef\\xbf\\xbd\\xcd\\x9e4w\\xd1\\xa8M\\xef\\xbf\\xbd\\xdf\\xb7\\xef\\xbf\\xbd[\\x04\\xc3\\xa1\\t\\xef\\xbf\\xbd\\xef\\xbf\\xbd]zI_\"\\xef\\xbf\\xbd\\x0e\\xd3\\xb9\\xef\\xbf\\xbdM\\xef\\xbf\\xbd-\\xef\\xbf\\xbd>\\xef\\xbf\\xbd\\xef\\xbf\\xbd\\x07\\xef\\xbf\\xbd\\x13\\xd1\\x81\\xef\\xbf\\xbd\\xc7\\x90\\xef\\xbf\\xbdL\\xef\\xbf\\xbd\\xef\\xbf\\xbd\\xef\\xbf\\xbd\\xef\\xbf\\xbds\\x07\\xef\\xbf\\xbd@\\x01wu\\xef\\xbf\\xbd\\xda\\x89\\xef\\xbf\\xbd\\x12~<\\x10\\xef\\xbf\\xbd\\x08\\xef\\xbf\\xbdO\\x1d\\x06\\x1e\\xef\\xbf\\xbd +\\xef\\xbf\\xbd\\xef\\xbf\\xbd\\x161\\xef\\xbf\\xbdB\\xef\\xbf\\xbd\\xef\\xbf\\xbd\\xef\\xbf\\xbd\\x12\\xef\\xbf\\xbd\\xef\\xbf\\xbd;?\\xef\\xbf\\xbd[\\xef\\xbf\\xbd\\xef\\xbf\\xbd\\xef\\xbf\\xbd\\xef\\xbf\\xbdb\\x11\\\\\\xef\\xbf\\xbd\\xef\\xbf\\xbd\\x05R\\xef\\xbf\\xbd\\xef\\xbf\\xbd\\xef\\xbf\\xbd\\xef\\xbf\\xbd/\\xef\\xbf\\xbd\\xef\\xbf\\xbd\\x17\\xef\\xbf\\xbd\\xef\\xbf\\xbd5\\xef\\xbf\\xbdc\\xef\\xbf\\xbd/Ph\\xef\\xbf\\xbd\\xef\\xbf\\xbd\\x04Ev\\xef\\xbf\\xbdQ&TB\\xef\\xbf\\xbd-\\x13\\xef\\xbf\\xbd\\xef\\xbf\\xbd\\xef\\xbf\\xbd\\xef\\xbf\\xbd\\xef\\xbf\\xbd\\xef\\xbf\\xbd\\xef\\xbf\\xbd\\x103\\xef\\xbf\\xbd\\r5\\x15\\xef\\xbf\\xbds\\xef\\xbf\\xbd)\\xef\\xbf\\xbd\\x10\\xe2\\x9c\\x99W\\xef\\xbf\\xbd\\x13\\xef\\xbf\\xbd\\xef\\xbf\\xbd:\"\\xef\\xbf\\xbd\\x13(>\\xef\\xbf\\xbda\\xef\\xbf\\xbd0C5\\xc9\\x92\\xef\\xbf\\xbd\\x13B\\xef\\xbf\\xbdyxB8\\xef\\xbf\\xbdf\\x19\\x16b\\xef\\xbf\\xbdx\\xef\\xbf\\xbd,\\xef\\xbf\\xbdz\\xef\\xbf\\xbd\\xef\\xbf\\xbdQ\\xef\\xbf\\xbd\\xef\\xbf\\xbd\\xef\\xbf\\xbd\\xef\\xbf\\xbd\\xef\\xbf\\xbdf\\xef\\xbf\\xbd\\xef\\xbf\\xbd\\xef\\xbf\\xbdd\\xef\\xbf\\xbd\\xef\\xbf\\xbdY\\xef\\xbf\\xbd.\\xef\\xbf\\xbd\\x109_\\xef\\xbf\\xbd\\n4\\xef\\xbf\\xbdW\\xef\\xbf\\xbdz\\x18\\x16b\\xe6\\xa4\\xa0\\xef\\xbf\\xbd\\xc2\\xb8\\xef\\xbf\\xbd\\xef\\xbf\\xbd\\xef\\xbf\\xbdn\\xef\\xbf\\xbd\\xef\\xbf\\xbd:\\x1d\\xef\\xbf\\xbd\\xef\\xbf\\xbd\\xef\\xbf\\xbd\\xef\\xbf\\xbdW,\\x1a\\xd1\\x9b\\xef\\xbf\\xbd\\x1c\\xdf\\x91\\xef\\xbf\\xbdm\\xef\\xbf\\xbd\\xef\\xbf\\xbd/6\\xef\\xbf\\xbd\\xef\\xbf\\xbd\\xef\\xbf\\xbd\\xde\\xacz\\xef\\xbf\\xbd\\xef\\xbf\\xbd\\xef\\xbf\\xbd\\xef\\xbf\\xbd\\x0c\\x0b1s\\xef\\xbf\\xbdX\\xef\\xbf\\xbd&\\xef\\xbf\\xbd\\xef\\xbf\\xbdbc\\xef\\xbf\\xbd\\xef\\xbf\\xbd*\\xef\\xbf\\xbd\\xef\\xbf\\xbdl\\xef\\xbf\\xbds\\xef\\xbf\\xbd\\xef\\xbf\\xbdW\\xef\\xbf\\xbd\\xef\\xbf\\xbd\\xef\\xbf\\xbd8i~Q\\xef\\xbf\\xbdu\\xef\\xbf\\xbd\\xef\\xbf\\xbd\\x03v\\\\x\\xef\\xbf\\xbd\\xef\\xbf\\xbd\\xef\\xbf\\xbdW\\xef\\xbf\\xbd\\xef\\xbf\\xbd\\xef\\xbf\\xbdr\\xef\\xbf\\xbd0\\xef\\xbf\\xbd\\tO_c\\xef\\xbf\\xbd\\xef\\xbf\\xbdZ\\xef\\xbf\\xbd\\xef\\xbf\\xbd7\\xef\\xbf\\xbd}K\\xef\\xbf\\xbd\\xef\\xbf\\xbdP\\xef\\xbf\\xbd\\x1fb\\xef\\xbf\\xbd\\x18\\xef\\xbf\\xbd\\xef\\xbf\\xbd\\xef\\xbf\\xbd\\xef\\xbf\\xbd\\xef\\xbf\\xbdg~\\xef\\xbf\\xbdy\\xef\\xbf\\xbd\\n}\\xef\\xbf\\xbdV\\xef\\xbf\\xbdW\\x03\\xef\\xbf\\xbd@\\xef\\xbf\\xbd7\\xef\\xbf\\xbd\\xef\\xbf\\xbdz\\xef\\xbf\\xbd\\xef\\xbf\\xbd\\xef\\xbf\\xbd3\\xef\\xbf\\xbdn\\xef\\xbf\\xbd\\x10r:)\\xef\\xbf\\xbd!\\x1c\\xef\\xbf\\xbd\\xef\\xbf\\xbd\\xef\\xbf\\xbd\\xef\\xbf\\xbd\\x07\\xef\\xbf\\xbd\\\\\\xef\\xbf\\xbd\\x11\\xef\\xbf\\xbd\\xef\\xbf\\xbd\\xef\\xbf\\xbd9)\\xef\\xbf\\xbd\\xef\\xbf\\xbd/{`',\n",
       " b'\\x00\\x0c\\x81\\x80\\x00\\x01\\x00\\x01\\x00\\x00\\x00\\x00\\x06google\\x03com\\x00\\x00\\x1c\\x00\\x01\\xc0\\x0c\\x00\\x1c\\x00\\x01\\x00\\x00\\x01%\\x00\\x10&\\x07\\xf8\\xb0@\\x05\\x08\\x07\\x00\\x00\\x00\\x00\\x00\\x00 \\x0e',\n",
       " b'\\x00\\x0c\\x01\\x00\\x00\\x01\\x00\\x00\\x00\\x00\\x00\\x00\\x06google\\x03com\\x00\\x00\\x1c\\x00\\x01VQ\\xef\\xbf\\xbd\\xef\\xbf\\xbd\\xef\\xbf\\xbd\\xef\\xbf\\xbd\\xef\\xbf\\xbd\\xef\\xbf\\xbd\\xef\\xbf\\xbdG-U\\xef\\xbf\\xbd|\\xef\\xbf\\xbdp\\xef\\xbf\\xbd\\xef\\xbf\\xbd`^\\x0b\\xef\\xbf\\xbd\\xef\\xbf\\xbd\\xef\\xbf\\xbd)\\xef\\xbf\\xbd\\x1aA\\xef\\xbf\\xbd\":\\xef\\xbf\\xbd\\xef\\xbf\\xbd\\xef\\xbf\\xbd\\x01\\xef\\xbf\\xbd\\xef\\xbf\\xbd\\xef\\xbf\\xbdI\"\\xef\\xbf\\xbd\\xef\\xbf\\xbd/\\x06\\x01C\\x05\\xef\\xbf\\xbdp\\x12p\\xef\\xbf\\xbd\\x00\\xef\\xbf\\xbd\\x05\\x00\\xef\\xbf\\xbd\\xd0\\x81N\\xef\\xbf\\xbd\\x080QgKx\\xd7\\x81\\xef\\xbf\\xbdp\\xef\\xbf\\xbd\\x07\\xef\\xbf\\xbd\\xef\\xbf\\xbd{\\xef\\xbf\\xbdk\\xef\\xbf\\xbda!fN^\\xcb\\xb8\\xef\\xbf\\xbd\\xef\\xbf\\xbdG3\\xef\\xbf\\xbd%;\\x1c\\xef\\xbf\\xbd|\"6\\tP\\xef\\xbf\\xbd`\\xef\\xbf\\xbd-\\xef\\xbf\\xbd\\xef\\xbf\\xbd-\\x11f\\x03\\xef\\xbf\\xbdM2\\xef\\xbf\\xbd\\x11l\\xef\\xbf\\xbd6\\xd6\\xa5!;\\xef\\xbf\\xbd\\xef\\xbf\\xbdZ\\xef\\xbf\\xbd\\xef\\xbf\\xbd\\xef\\xbf\\xbd{\\xef\\xbf\\xbd\\xef\\xbf\\xbdv\\xef\\xbf\\xbdfG@\\xef\\xbf\\xbd\\xef\\xbf\\xbd\\xef\\xbf\\xbd\\xef\\xbf\\xbd\\xef\\xbf\\xbd\\xef\\xbf\\xbd/\\xef\\xbf\\xbdP\\x06\"-\\xef\\xbf\\xbd\\x1a\\xef\\xbf\\xbd\\xef\\xbf\\xbd1\\x1c#f\\xef\\xbf\\xbd)?jC\\xef\\xbf\\xbd\\xef\\xbf\\xbd;.\\xef\\xbf\\xbdH\\xef\\xbf\\xbd\\xef\\xbf\\xbd\\xef\\xbf\\xbd\\xef\\xbf\\xbd?\\xef\\xbf\\xbd\\xef\\xbf\\xbd\\xef\\xbf\\xbd\\xef\\xbf\\xbd)\\xef\\xbf\\xbd\\xef\\xbf\\xbdI\\xe1\\xac\\x89u/\\xef\\xbf\\xbd:%\\xef\\xbf\\xbd\\xef\\xbf\\xbd\\xef\\xbf\\xbd,uMp\\xef\\xbf\\xbd1\\x1c\\x02\\xe9\\x8b\\xb0\\x19\\n\\xef\\xbf\\xbdD\\xef\\xbf\\xbd\\x10\\xef\\xbf\\xbd\\x06\\xd3\\xa2\\xef\\xbf\\xbd\\xef\\xbf\\xbd50,\\xef\\xbf\\xbdL\\xef\\xbf\\xbdph_\\xef\\xbf\\xbdo\\xda\\xa7\\xef\\xbf\\xbdE\\xef\\xbf\\xbd\\xef\\xbf\\xbd,\\xef\\xbf\\xbd\\xef\\xbf\\xbd\\x1ek\\xef\\xbf\\xbd_\\xef\\xbf\\xbd\\xef\\xbf\\xbdU\\xef\\xbf\\xbd_z\\xef\\xbf\\xbdiZ\\xef\\xbf\\xbd\\x10\\xef\\xbf\\xbd\\xef\\xbf\\xbd]\\xef\\xbf\\xbd\\xef\\xbf\\xbd\\xef\\xbf\\xbdt\\xef\\xbf\\xbd\\x00\\xef\\xbf\\xbd\\xef\\xbf\\xbd\\xef\\xbf\\xbdC\\xef\\xbf\\xbd\\xef\\xbf\\xbd\\xef\\xbf\\xbdVW\\xef\\xbf\\xbd\\xef\\xbf\\xbd\\xef\\xbf\\xbd\\xef\\xbf\\xbdq\\xea\\x9f\\xbe\\xef\\xbf\\xbd\\xef\\xbf\\xbdRfM\\xef\\xbf\\xbd=+\\xef\\xbf\\xbd\\xef\\xbf\\xbdV\\xef\\xbf\\xbd\\xef\\xbf\\xbd\\xef\\xbf\\xbdEn\\r\\x0c\\x0b1\\xef\\xbf\\xbd/l~\\xe1\\x81\\x83\\xef\\xbf\\xbd\\x1d\\xef\\xbf\\xbd\\x0c\\xef\\xbf\\xbd\\xef\\xbf\\xbd\\xd9\\x8d\\xcd\\xa1Q5\\xef\\xbf\\xbd\\xef\\xbf\\xbdO\\xef\\xbf\\xbd\\xef\\xbf\\xbd\\xef\\xbf\\xbd5\\xef\\xbf\\xbd\\xef\\xbf\\xbd\\xef\\xbf\\xbd\\x07\\xef\\xbf\\xbd\\xef\\xbf\\xbd\\xef\\xbf\\xbd\\xef\\xbf\\xbd!8\\xef\\xbf\\xbdTt\\xef\\xbf\\xbd\"z\\xef\\xbf\\xbd\\x08\\x1a\\xef\\xbf\\xbd\\x17^PD\\xef\\xbf\\xbd\\xef\\xbf\\xbd\\x08\\xef\\xbf\\xbd\\xef\\xbf\\xbdRE\\xef\\xbf\\xbd\\xef\\xbf\\xbd\\xef\\xbf\\xbd\\x0e\\xef\\xbf\\xbd\\xef\\xbf\\xbd3j\\xef\\xbf\\xbd4v\\xef\\xbf\\xbd\\xef\\xbf\\xbd\\x1a\\xef\\xbf\\xbd\\xef\\xbf\\xbd\\xef\\xbf\\xbd\\x05\\xef\\xbf\\xbd\\xef\\xbf\\xbd\\xef\\xbf\\xbd\\x0b\\xef\\xbf\\xbd\\xef\\xbf\\xbd Xa\\xef\\xbf\\xbd\\xef\\xbf\\xbd\\xef\\xbf\\xbdd\\x02\\xef\\xbf\\xbd\\x113\\xef\\xbf\\xbdg\\xef\\xbf\\xbda\\xef\\xbf\\xbd\\x01\\xef\\xbf\\xbd\\xef\\xbf\\xbd\\xef\\xbf\\xbda\\xef\\xbf\\xbdV\\x1b\\xef\\xbf\\xbd\\x00\\xef\\xbf\\xbd\\xef\\xbf\\xbd\\x1f\\x18s\\xd1\\x9d9c\\xef\\xbf\\xbd\\xef\\xbf\\xbdG\\x0b-y{\\xef\\xbf\\xbd\\x0e\\xef\\xbf\\xbd\\xef\\xbf\\xbd\\xef\\xbf\\xbd\\x7fp[o\\xef\\xbf\\xbd\\xef\\xbf\\xbd\\xef\\xbf\\xbd\\n\\xde\\xa1\\xef\\xbf\\xbda!fN2v\\xef\\xbf\\xbd\\xef\\xbf\\xbd\\xef\\xbf\\xbd]\\x00\\x1fpI0\\x1c\\xef\\xbf\\xbd`\\x18\\xef\\xbf\\xbdaX\\xef\\xbf\\xbd\\x19\\xef\\xbf\\xbdaX\\xef\\xbf\\xbd\\x19\\xef\\xbf\\xbda\\x18\\x16b\\xef\\xbf\\xbda\\x18\\x16b\\xef\\xbf\\xbda\\x18\\xef\\xbf\\xbd\\xef\\xbf\\xbd\\xef\\xbf\\xbda\\x18\\xef\\xbf\\xbd\\xef\\xbf\\xbd\\xef\\xbf\\xbda\\x18\\xef\\xbf\\xbda!f\\x18\\xef\\xbf\\xbda!f\\x18\\xef\\xbf\\xbdaX\\xef\\xbf\\xbd\\x19\\xef\\xbf\\xbdaX\\xef\\xbf\\xbd\\x19\\xef\\xbf\\xbda\\x18\\x16b\\xef\\xbf\\xbda\\x18\\x16b\\xef\\xbf\\xbda',\n",
       " b'\\x00\\x0c\\x81\\x80\\x00\\x01\\x00\\x01\\x00\\x00\\x00\\x00\\x06google\\x03com\\x00\\x00\\x1c\\x00\\x01\\xc0\\x0c\\x00\\x1c\\x00\\x01\\x00\\x00\\x01$\\x00\\x10&\\x07\\xf8\\xb0@\\x05\\x08\\x07\\x00\\x00\\x00\\x00\\x00\\x00 \\x0e',\n",
       " b'\\x00\\x0c\\x01\\x00\\x00\\x01\\x00\\x00\\x00\\x00\\x00\\x00\\x06google\\x03com\\x00\\x00\\x1c\\x00\\x01\\x18\\xef\\xbf\\xbdGp\\xef\\xbf\\xbd\\xef\\xbf\\xbd\\x13\\xef\\xbf\\xbd\\x19W\\xef\\xbf\\xbd\\xef\\xbf\\xbdq8\\xef\\xbf\\xbdr@\\xef\\xbf\\xbdJ\\xef\\xbf\\xbd\\xef\\xbf\\xbdS=\\xef\\xbf\\xbd$\\xef\\xbf\\xbdQ\\xef\\xbf\\xbd\\xef\\xbf\\xbd3\\xef\\xbf\\xbd\\xef\\xbf\\xbd3\\xef\\xbf\\xbd~\\x1b D\\x02z\\xef\\xbf\\xbd\\xc5\\x82\\x0b\\xef\\xbf\\xbd\\x03\\xc6\\x91L\\x1du\\xef\\xbf\\xbdU\\xef\\xbf\\xbdD\\xef\\xbf\\xbdJ\\xef\\xbf\\xbd8\\xef\\xbf\\xbd?\\xef\\xbf\\xbd\\t\\xef\\xbf\\xbd>ihl\\xef\\xbf\\xbd\\xef\\xbf\\xbd\\xef\\xbf\\xbdg\\x1eLi\\xef\\xbf\\xbd~\\x02\\\\^\\xef\\xbf\\xbd+\\xef\\xbf\\xbd#\\xef\\xbf\\xbd\\xdb\\x87,\\xef\\xbf\\xbd\\x1e\\xef\\xbf\\xbd\\xef\\xbf\\xbdA\\xef\\xbf\\xbd{\\xef\\xbf\\xbd\\xef\\xbf\\xbd\\xef\\xbf\\xbd\\xef\\xbf\\xbd0\\xef\\xbf\\xbd\\xef\\xbf\\xbd\\xef\\xbf\\xbd\\n!\\xd0\\x97\\xef\\xbf\\xbd\\xef\\xbf\\xbdy\\xef\\xbf\\xbd2Ws\\xef\\xbf\\xbdn\\xef\\xbf\\xbd\\x1c\\xef\\xbf\\xbd\\x13\\x08\\xef\\xbf\\xbd\\xef\\xbf\\xbd~\\xef\\xbf\\xbd\\xef\\xbf\\xbd\\xef\\xbf\\xbdY\\x1a\\x1e\\xef\\xbf\\xbd<\\xef\\xbf\\xbd\\x05\\xef\\xbf\\xbdF\\xef\\xbf\\xbd\\xef\\xbf\\xbd\\xef\\xbf\\xbd\\xef\\xbf\\xbd4w\\xef\\xbf\\xbd\\xef\\xbf\\xbd\\xef\\xbf\\xbd\\xef\\x93\\xb2\\xef\\xbf\\xbd\\xef\\xbf\\xbd\\xef\\xbf\\xbd\\x08\\xef\\xbf\\xbd\\r\\x1a<\\xef\\xbf\\xbdcH\\xef\\xbf\\xbd\\xef\\xbf\\xbdp&\\x02\\xef\\xbf\\xbd\\xef\\xbf\\xbd\\xd0\\x8d\\xef\\xbf\\xbd\\xef\\xbf\\xbd\\x0b\\xef\\xbf\\xbd\\xc5\\xa5\\x13k*\\xca\\x97s\\x0f\\xef\\xbf\\xbd\\xef\\xbf\\xbd\\x043\\x00@\\xef\\xbf\\xbd9\\xef\\xbf\\xbd:\\xef\\xbf\\xbdl\\xef\\xbf\\xbd8H\\xef\\xbf\\xbd\\x10\\xef\\xbf\\xbdi\\xef\\xbf\\xbd\\xef\\xbf\\xbd>6 \\x11Q\\xef\\xbf\\xbd\\xef\\xbf\\xbd\\x0253#\\r\\\\\\x0e\\x1f\\x1c\\xef\\xbf\\xbd1\\xef\\xbf\\xbd\\xf1\\x9e\\xa2\\xb7\\xef\\xbf\\xbdj\\xef\\xbf\\xbdc\\xef\\xbf\\xbd:.^\\xcd\\xad\\xef\\xbf\\xbd-bf\\xef\\xbf\\xbd(1\\xef\\xbf\\xbd\\xef\\xbf\\xbd\\x15+\\x1c>\\x10o\\xef\\xbf\\xbd\\xcd\\xb5\\xef\\xbf\\xbd\\x07\\x0ez|\\xef\\xbf\\xbdAD\\x1c\\xd2\\x9f\\xef\\xbf\\xbdD\\xef\\xbf\\xbd@*\\xef\\xbf\\xbd\\xef\\xbf\\xbd\\xd3\\xbc\\xef\\xbf\\xbd\\x7f\\x17>\\xef\\xbf\\xbd\\xef\\xbf\\xbd\\xef\\xbf\\xbd\\xef\\xbf\\xbd\\x03d\\x03y\\x07\\xef\\xbf\\xbdF\\xef\\xbf\\xbdJY\\xef\\xbf\\xbdxe\\xef\\xbf\\xbdu\\xef\\xbf\\xbd\\xef\\xbf\\xbd<b\\xef\\xbf\\xbd\\xde\\x8c\\xef\\xbf\\xbd\\xef\\xbf\\xbd4\\x03\\x1e\\xc8\\x8d\\xef\\xbf\\xbd\\xef\\xbf\\xbd\\xef\\xbf\\xbd\\x19\\xef\\xbf\\xbd\\xef\\xbf\\xbd\\xef\\xbf\\xbd\\xef\\xbf\\xbdEp}\\xef\\xbf\\xbd\\xef\\xbf\\xbd\\x1a)|~\\x168_D\\xef\\xbf\\xbdQ\\xef\\xbf\\xbd`8\\x1e\\xef\\xbf\\xbdE\\n\\xef\\xbf\\xbdq\\xef\\xbf\\xbd\\x18r#L\\xef\\xbf\\xbd\\xef\\xbf\\xbd\\xef\\xbf\\xbd\\xef\\xbf\\xbd\\x05B-\\xef\\xbf\\xbd\\xef\\xbf\\xbd\\xef\\xbf\\xbd\\tE\\xef\\xbf\\xbdR\\x0b\\xef\\xbf\\xbd\\xef\\xbf\\xbd?Kvm\\xef\\xbf\\xbd\\xef\\xbf\\xbd0\\xef\\xbf\\xbd\\xef\\xbf\\xbd\\xef\\xbf\\xbd2\\xef\\xbf\\xbd3\\x1e_\\xef\\xbf\\xbdAD\\xef\\xbf\\xbd=fy\\xef\\xbf\\xbd+U;\\xef\\xbf\\xbdpdG\\xd7\\xba]\\xef\\xbf\\xbd_\\x01\\x04\\xef\\xbf\\xbd\\xef\\xbf\\xbdy\\x1f\\xef\\xbf\\xbdjD\\xef\\xbf\\xbd\\xef\\xbf\\xbd\\xef\\xbf\\xbd\\xef\\xbf\\xbd\\x13\\x0e\\xef\\xbf\\xbd\\xef\\xbf\\xbdjW.[= +s\\xef\\xbf\\xbd\\xef\\xbf\\xbd\\xc5\\xaf\\xef\\xbf\\xbd\\xef\\xbf\\xbd\\xef\\xbf\\xbdg>nE\\xef\\xbf\\xbd\\xef\\xbf\\xbdb\\x06\\xef\\xbf\\xbd\\xef\\xbf\\xbd\\xef\\xbf\\xbd\\xef\\xbf\\xbd(\\xef\\xbf\\xbd\\x1e\\xef\\xbf\\xbd\\x1613 #\\x15H\\xef\\xbf\\xbd\\xef\\xbf\\xbd\\xef\\xbf\\xbd<\\xde\\xae;\\xef\\xbf\\xbd\\x03\\xef\\xbf\\xbd<c\\xef\\xbf\\xbd\\x08\"\\xef\\xbf\\xbdz-<@\\xef\\xbf\\xbd\\xef\\xbf\\xbd\\xef\\xbf\\xbd\\x15ah\\xdd\\x8c5\\xef\\xbf\\xbde\\xdc\\xb8O`\\xef\\xbf\\xbda\\x1d3`D\\xef\\xbf\\xbd\\xef\\xbf\\xbd\\ny\\xef\\xbf\\xbdhS/\\xef\\xbf\\xbd\\xef\\xbf\\xbd*\\xef\\xbf\\xbd\\xef\\xbf\\xbd\\x19.h\\xef\\xbf\\xbd-b\\xef\\xbf\\xbd\\x17\\xef\\xbf\\xbd\\xef\\xbf\\xbd\\x13%\\xef\\xbf\\xbdT\\x1f',\n",
       " b'\\x00\\x0c\\x81\\x80\\x00\\x01\\x00\\x01\\x00\\x00\\x00\\x00\\x06google\\x03com\\x00\\x00\\x1c\\x00\\x01\\xc0\\x0c\\x00\\x1c\\x00\\x01\\x00\\x00\\x01#\\x00\\x10&\\x07\\xf8\\xb0@\\x05\\x08\\x07\\x00\\x00\\x00\\x00\\x00\\x00 \\x0e',\n",
       " b'\\x00\\x0c\\x01\\x00\\x00\\x01\\x00\\x00\\x00\\x00\\x00\\x00\\x06google\\x03com\\x00\\x00\\x1c\\x00\\x01\\xef\\xbf\\xbd\\xef\\xbf\\xbd\\x1e\\x00\\xce\\x9ar\\xef\\xbf\\xbd>\\xce\\x99m\\xef\\xbf\\xbd\\xef\\xbf\\xbd\\xef\\xbf\\xbd\\xef\\xbf\\xbd\\r\\x00\\xef\\xbf\\xbdn\\xef\\xbf\\xbd\\x0c\\xef\\xbf\\xbd!E\\xef\\xbf\\xbd\\xef\\xbf\\xbd$\\xef\\xbf\\xbd[&\\xef\\xbf\\xbd%3\\x0c\\x0b1\\xef\\xbf\\xbd\\tl\\xef\\xbf\\xbdd\\xef\\xbf\\xbd\\xef\\xbf\\xbd\\x1e\\xef\\xbf\\xbdw\\xef\\xbf\\xbd\\xef\\xbf\\xbd\\x19c;\\x00\\xef\\xbf\\xbdl\\xef\\xbf\\xbda\\xef\\xbf\\xbd\\xef\\xbf\\xbd\\n\\xef\\xbf\\xbd \\xef\\xbf\\xbdY\\x1d\\x014s\\xef\\xbf\\xbd\\xef\\xbf\\xbd8ph\\xef\\xbf\\xbd\\xef\\xbf\\xbd\\xef\\xbf\\xbdNV\\xef\\xbf\\xbdd.\\xef\\xbf\\xbd\\x13r\\xef\\xbf\\xbd\\x1d\\xef\\xbf\\xbd\\xef\\xbf\\xbd7\\xef\\xbf\\xbd\\xef\\xbf\\xbd\\xef\\xbf\\xbdLX\\xef\\xbf\\xbd\\xef\\xbf\\xbd\\x01\\xef\\xbf\\xbd\\x02x%\\xef\\xbf\\xbdw)\\xef\\xbf\\xbd\\xef\\xbf\\xbdIs\\xef\\xbf\\xbd\\\\.\\xef\\xbf\\xbd\\x13\\xef\\xbf\\xbd\\xef\\xbf\\xbd+\\x16MF\\xef\\xbf\\xbd\\x0e\\xde\\xab\\xef\\xbf\\xbd\\xef\\xbf\\xbdK\\\\2,\\xef\\xbf\\xbd\\xef\\xbf\\xbd\\x00\\xef\\xbf\\xbd\\xef\\xbf\\xbd{\\xef\\xbf\\xbd\\xef\\xbf\\xbd\\xef\\xbf\\xbd*\\x0b\\x06\\x0f\\xef\\xbf\\xbd\\x7fq\\xc9\\x9c8H\\xef\\xbf\\xbd\\xef\\xbf\\xbd\\xef\\xbf\\xbd\\x14\\xef\\xbf\\xbd\\x18\\xef\\xbf\\xbd\\x00T\\xef\\xbf\\xbd\\xef\\xbf\\xbd\\xef\\xbf\\xbd\\xef\\xbf\\xbd\\xef\\xbf\\xbda!f\\x06\\x08{\\xef\\xbf\\xbd<v\\xef\\xbf\\xbd\\x14\\xef\\xbf\\xbd\\xd0\\xa1R\\x11=\\xef\\xbf\\xbdE\\xef\\xbf\\xbd\\x12.\\xef\\xbf\\xbd\\xef\\xbf\\xbd\\xc2\\xa2\\xef\\xbf\\xbd\\xdf\\xa0\\xef\\xbf\\xbd3\\x10(f\\xef\\xbf\\xbd\\xef\\xbf\\xbd\\xef\\xbf\\xbda\\xef\\xbf\\xbd\\xef\\xbf\\xbda.\\xef\\xbf\\xbd\\x13\\x07^\\xef\\xbf\\xbdq\\x020\\xef\\xbf\\xbd\\xef\\xbf\\xbd\\x1dp\\xef\\xbf\\xbd\\xef\\xbf\\xbdP\\xe7\\xa5\\xbcD\\xef\\xbf\\xbd\\xef\\xbf\\xbdG\\xd6\\x9e\\xef\\xbf\\xbd\\xef\\xbf\\xbd\\x13x\\xef\\xbf\\xbdg\\x0c\\x1cgL\\xef\\xbf\\xbdD\\x1f9h\\x10\\xef\\xbf\\xbdB\\xef\\xbf\\xbd\\x0b:w\\xd9\\xbd\\xef\\xbf\\xbd\\xd5\\xb0\\xef\\xbf\\xbdk\\xef\\xbf\\xbd\\x03\\\\J,\\xef\\xbf\\xbd\\xef\\xbf\\xbd\\x00#\\xdf\\xa7?$\\x01\\xee\\x88\\xb7\\x0c\\xef\\xbf\\xbd\"\\xef\\xbf\\xbd\\xef\\xbf\\xbd\\x16z.\\x1c\\xef\\xbf\\xbd{\\xef\\xbf\\xbd\\xef\\xbf\\xbd\\x066\\xef\\xbf\\xbd,k\\xef\\xbf\\xbd\\xef\\xbf\\xbd\\xef\\xbf\\xbdF!d\\tD\\xef\\xbf\\xbd<S\\xef\\xbf\\xbd\\xef\\xbf\\xbd4\\xef\\xbf\\xbduKM\\xef\\xbf\\xbd\\xef\\xbf\\xbd\\xc7\\xb9\\xef\\xbf\\xbdX\\xef\\xbf\\xbd\\xef\\xbf\\xbd\\x01\\xef\\xbf\\xbd\\xef\\xbf\\xbd\\xef\\xbf\\xbdt5Jqe\\xc2\\xaa\\xef\\xbf\\xbd\\xef\\xbf\\xbd\\x1e\\xef\\xbf\\xbd\\x10\\xef\\xbf\\xbd\\xef\\xbf\\xbd\\r\\x14E)z\\xef\\xbf\\xbd\\xef\\xbf\\xbd\\xc2\\xb8\\xef\\xbf\\xbd\\x0b\\xef\\xbf\\xbd\\xef\\xbf\\xbdCr\\x11\\xef\\xbf\\xbd8\\xef\\xbf\\xbdX\\xef\\xbf\\xbd\\xef\\xbf\\xbd\\xef\\xbf\\xbd\\xef\\xbf\\xbds&D\\x0cdN\\x10s\\x02i3\\x11)\\xef\\xbf\\xbd\\xef\\xbf\\xbd\\xef\\xbf\\xbd\\x15\\xef\\xbf\\xbd]\\\\\\x1al\\x113\\xef\\xbf\\xbd\\t\\xef\\xbf\\xbd\\xef\\xbf\\xbdJ\\n\\xef\\xbf\\xbd\\x03\\x1fE\\x14\\xef\\xbf\\xbdq\\x05\\x1f\\xef\\xbf\\xbdXD\\xcf\\x86\\xef\\xbf\\xbd\\xef\\xbf\\xbd\\xef\\xbf\\xbd\\xef\\xbf\\xbd?\\xef\\xbf\\xbd\\xef\\xbf\\xbd}.\\r\\x16b\\xef\\xbf\\xbd8d\\xef\\xbf\\xbdU%\\xef\\xbf\\xbd9\\x1d\\xef\\xbf\\xbd!\\x14pv\\xef\\xbf\\xbd\\x0c\\x19\\xef\\xbf\\xbd\\xef\\xbf\\xbd\\xef\\xbf\\xbd\\x07\\xef\\xbf\\xbd7\\xef\\xbf\\xbd\\x1aC\\xef\\xbf\\xbd+\\xef\\xbf\\xbdj\\xef\\xbf\\xbd~]\\xef\\xbf\\xbd\\xef\\xbf\\xbd:.\\x13\\xef\\xbf\\xbda\\x18\\xef\\xbf\\xbd\\xef\\xbf\\xbdex\\x1e1\\xef\\xbf\\xbd0\\x0c\\x0b1\\xef\\xbf\\xbd0\\x0c\\x0b1\\xef\\xbf\\xbd0\\x0c\\xef\\xbf\\xbdB\\xef\\xbf\\xbd0\\x0c\\xef\\xbf\\xbdB\\xef\\xbf\\xbd0\\x0c\\xc3\\xb0\\x103\\x0c\\xc3\\xb0\\x103\\x0c\\xef\\xbf\\xbd0,\\xef\\xbf\\xbd\\x0c\\xef\\xbf\\xbd0,\\xef\\xbf\\xbd\\x0c\\xef\\xbf\\xbd0\\x0c\\x0b1\\xef\\xbf\\xbd0\\x0c\\x0b1\\xef\\xbf\\xbd0\\x0c\\xef\\xbf\\xbd',\n",
       " b'\\x00\\x0c\\x81\\x80\\x00\\x01\\x00\\x01\\x00\\x00\\x00\\x00\\x06google\\x03com\\x00\\x00\\x1c\\x00\\x01\\xc0\\x0c\\x00\\x1c\\x00\\x01\\x00\\x00\\x01\"\\x00\\x10&\\x07\\xf8\\xb0@\\x05\\x08\\x07\\x00\\x00\\x00\\x00\\x00\\x00 \\x0e',\n",
       " b'\\x00\\x0c\\x01\\x00\\x00\\x01\\x00\\x00\\x00\\x00\\x00\\x00\\x06google\\x03com\\x00\\x00\\x1c\\x00\\x01B\\xef\\xbf\\xbd0\\x0c\\xef\\xbf\\xbdB\\xef\\xbf\\xbd0\\x0c\\xc3\\xb0\\x103\\x0c\\xc3\\xb0\\x103\\x0c\\xef\\xbf\\xbd0,\\xef\\xbf\\xbd\\x0c\\xef\\xbf\\xbd0,\\xef\\xbf\\xbd\\x0c\\xef\\xbf\\xbd0\\x0c\\x0b1\\xef\\xbf\\xbd0\\x0c\\x0b1\\xef\\xbf\\xbd0\\x0c\\xef\\xbf\\xbdB\\xef\\xbf\\xbd0\\x0c\\xef\\xbf\\xbdB\\xef\\xbf\\xbd0\\x0c\\xc3\\xb0\\x103\\x0c\\xc3\\xb0\\x103\\x0c\\xef\\xbf\\xbd0\\xef\\xbf\\xbd\\xef\\xbf\\xbd\\xef\\xbf\\xbd\\xef\\xbf\\xbdGu1\\xcb\\xa7\\xef\\xbf\\xbd\\x11$\\xef\\xbf\\xbd,\\xef\\xbf\\xbd\\xef\\xbf\\xbd\\x06\\x14#\\x00h\\x10\\x10\\x1c\\x06\\xef\\xbf\\xbd\\x16 h\\x04\\x01\\xef\\xbf\\xbdX&\\xd4\\x83&\\xef\\xbf\\xbd\\xef\\xbf\\xbd\\xc6\\xac\\xef\\xbf\\xbd\\x00\\xef\\xbf\\xbd\\xef\\xbf\\xbdu\\xef\\xbf\\xbd\\x17p\\xef\\xbf\\xbd\\xef\\xbf\\xbd\\xef\\xbf\\xbd\"\\x14x\\x1b\"\\xef\\xbf\\xbdd\\xef\\xbf\\xbd%\\x00\\xef\\xbf\\xbd\\x00\\x07\\xef\\xbf\\xbd@ \\xef\\xbf\\xbd\\x16\"\\xef\\xbf\\xbdfYj}K\\xef\\xbf\\xbd\\xef\\xbf\\xbd\\xef\\xbf\\xbd\\xef\\xbf\\xbd\\xef\\xbf\\xbd<\\xef\\xbf\\xbd\\xef\\xbf\\xbd\\xef\\xbf\\xbdk\\xef\\xbf\\xbd\\xef\\xbf\\xbd3\\xef\\xbf\\xbd\\xef\\xbf\\xbd3S\\xef\\xbf\\xbd\\x1c^D\\xef\\xbf\\xbd\\xef\\xbf\\xbd\\xef\\xbf\\xbd\\xef\\xbf\\xbd\\x08\\xef\\xbf\\xbd\\xef\\xbf\\xbd\\xef\\xbf\\xbd\\x08H! \\xef\\xbf\\xbd\\xef\\xbf\\xbd\\x14\\xef\\xbf\\xbdm\\xef\\xbf\\xbd\\n\\xef\\xbf\\xbd\\x05\\xef\\xbf\\xbd\\xef\\xbf\\xbdqq\\r,\\n\\xef\\xbf\\xbd\\xef\\xbf\\xbd\\x1f!\\xef\\xbf\\xbd\\xef\\xbf\\xbd\\x04}\\xef\\xbf\\xbdy\\xef\\xbf\\xbd\\xef\\xbf\\xbd>\\xef\\xbf\\xbd\\xef\\xbf\\xbd\\x1f=\\xd4\\xb3\\xef\\xbf\\xbdx\\xef\\xbf\\xbd\\xef\\xbf\\xbd7\\xef\\xbf\\xbdo\\x00\\xef\\xbf\\xbd\\xd4\\x9do\\x13\\x00666\\xef\\xbf\\xbd\\xef\\xbf\\xbdd\\x1f\\xef\\xbf\\xbd\\xef\\xbf\\xbd-\\xef\\xbf\\xbd\\xef\\xbf\\xbd\\xef\\xbf\\xbd\\x16D\\xef\\xbf\\xbd]D\\x04\"\\x05DD\\x18\\xef\\xbf\\xbd%\\xef\\xbf\\xbd\\xef\\xbf\\xbd\\xef\\xbf\\xbd\\xef\\xbf\\xbdE\\xef\\xbf\\xbd\\x17\\x00(@\\xef\\xbf\\xbd\\xef\\xbf\\xbd\\xef\\xbf\\xbd\\n\\xef\\xbf\\xbd\\x19P\\xef\\xbf\\xbd\\n(\\xef\\xbf\\xbd\\x7f\\xd5\\xb0i\\xef\\xbf\\xbd\\xef\\xbf\\xbd&\\xce\\x85\\xef\\xbf\\xbd\\xef\\xbf\\xbd7\\xef\\xbf\\xbd\\xef\\xbf\\xbd\\xef\\xbf\\xbdD\\xef\\xbf\\xbd<\\xef\\xbf\\xbd\\xef\\xbf\\xbd9Z\\xef\\xbf\\xbd\\xef\\xbf\\xbd\\xef\\xbf\\xbd\\x11P\\x08P\\xef\\xbf\\xbd\\xef\\xbf\\xbd\\xef\\xbf\\xbd\\xef\\xbf\\xbd]\\xef\\xbf\\xbd\\xef\\xbf\\xbd\\x11K\\xef\\xbf\\xbd\\xef\\xbf\\xbdX 6\\xef\\xbf\\xbd\\x07\\xef\\xbf\\xbd\\x10w\\xef\\xbf\\xbd\\xcc\\x93\\xef\\xbf\\xbd]|\\xef\\xbf\\xbd\\x10\\xef\\xbf\\xbdB!\\xc5\\x82H[&e\\xd9\\xb6y\\x142R?-\\x00\\xef\\xbf\\xbdp\\x08\\xef\\xbf\\xbd[ml\\xef\\xbf\\xbdR\\xef\\xbf\\xbd\\xef\\xbf\\xbdA\\xef\\xbf\\xbd\\xef\\xbf\\xbd\\xef\\xbf\\xbdC\\xef\\xbf\\xbd\\xef\\xbf\\xbd\\xef\\xbf\\xbd\\xd8\\xb4\\xef\\xbf\\xbd\\xef\\xbf\\xbdWW,-\\xef\\xbf\\xbd\\xef\\xbf\\xbdYf\\xef\\xbf\\xbd\\xef\\xbf\\xbd8\\'\\xef\\x8c\\x902\\xef\\xbf\\xbd\\xef\\xbf\\xbd>\\x04\\xef\\xbf\\xbd\\xef\\xbf\\xbd\\xef\\xbf\\xbd\\t\\xef\\xbf\\xbd8\\xef\\xbf\\xbdX\\xef\\xbf\\xbd\\xef\\xbf\\xbdDx\\x10Q\\xef\\xbf\\xbdJGD\\x12\\xef\\xbf\\xbdJ\\xef\\xbf\\xbd$T\\xef\\xbf\\xbd\\xef\\xbf\\xbdU~\\xef\\xbf\\xbd\\xef\\xbf\\xbd,\\xef\\xbf\\xbd=\\xef\\xbf\\xbd\\xef\\xbf\\xbd,\"\\xef\\xbf\\xbdD\\n~P]i\\xef\\xbf\\xbd/\\xef\\xbf\\xbd\\xef\\xbf\\xbd\\x0c\\x08\\xef\\xbf\\xbd\\xef\\xbf\\xbd\\xef\\xbf\\xbd!\\xef\\xbf\\xbd\\xef\\xbf\\xbd\\x02\\xef\\xbf\\xbd\\x01u\\xef\\xbf\\xbd\\xef\\xbf\\xbd\"\\xc6\\x8aR\\xef\\xbf\\xbd\\xc3\\x96\\xef\\xbf\\xbd\\n[\\xef\\xbf\\xbd\\xef\\xbf\\xbd\\xc7\\x8c\\xef\\xbf\\xbd\\x7f0\\xde\\x953\\xef\\xbf\\xbd\\xef\\xbf\\xbdD\\xef\\xbf\\xbd\\x18\\xef\\xbf\\xbd%\\x00\\xef\\xbf\\xbd\\x17\\xef\\xbf\\xbd\\x1b#\\xef\\xbf\\xbd[\\xef\\xbf\\xbd-\\xef\\xbf\\xbd\\xef\\xbf\\xbdn\\xef\\xbf\\xbd\\x181\\x16\\xef\\xbf\\xbd/\\xef\\xbf\\xbdC\\xef\\xbf\\xbd\\xef\\xbf\\xbd\\xef\\xbf\\xbd\\x000\\xef\\xbf\\xbd\\xef\\xbf\\xbd\\x02r\\xd4\\x8a\\xef\\xbf\\xbd\\xef\\xbf\\xbd7\\xef\\xbf\\xbd\\xef\\xbf\\xbd&\\xef\\xbf\\xbd\\xef\\xbf\\xbd\\xef\\xbf\\xbd\\x1eP\"\\xef\\xbf\\xbdd',\n",
       " b'\\x00\\x0c\\x81\\x80\\x00\\x01\\x00\\x01\\x00\\x00\\x00\\x00\\x06google\\x03com\\x00\\x00\\x1c\\x00\\x01\\xc0\\x0c\\x00\\x1c\\x00\\x01\\x00\\x00\\x01!\\x00\\x10&\\x07\\xf8\\xb0@\\x05\\x08\\x07\\x00\\x00\\x00\\x00\\x00\\x00 \\x0e',\n",
       " b'\\x00\\x0c\\x01\\x00\\x00\\x01\\x00\\x00\\x00\\x00\\x00\\x00\\x06google\\x03com\\x00\\x00\\x1c\\x00\\x01\\xef\\xbf\\xbd\\xef\\xbf\\xbd\\xef\\xbf\\xbd<>}\\xef\\xbf\\xbd\\xef\\xbf\\xbd\\xef\\xbf\\xbd%\\xef\\xbf\\xbd\\xef\\xbf\\xbdR\\xef\\xbf\\xbdA\\x08\\xef\\xbf\\xbd\\xef\\xbf\\xbdt\\xef\\xbf\\xbd\\xef\\xbf\\xbd\\xef\\xbf\\xbd\\\\\\x07@c\\xef\\xbf\\xbd-\\xef\\xbf\\xbdG\\xef\\xbf\\xbd9\\xef\\xbf\\xbdu9\\xef\\xbf\\xbd\\xef\\xbf\\xbd\\xef\\xbf\\xbdE%wq\\xef\\xbf\\xbd\\xef\\xbf\\xbd\\x0f\\x0e\\xef\\xbf\\xbd\\xef\\xbf\\xbdo\\xef\\xbf\\xbd\\xef\\xbf\\xbdc\\xef\\xbf\\xbd.\\xef\\xbf\\xbd8\\xef\\xbf\\xbd\\xef\\xbf\\xbd\\xef\\xbf\\xbdg\\xef\\xbf\\xbd\\xef\\xbf\\xbd\\xef\\xbf\\xbd\\n!\\xef\\xbf\\xbd\\xef\\xbf\\xbd.\\xef\\xbf\\xbd|\\xef\\xbf\\xbd\\xef\\xbf\\xbd\\xef\\xbf\\xbd\\x04\\xef\\xbf\\xbdp\\xef\\xbf\\xbd&:\\xef\\xbf\\xbdb=\\x16\\x0f\\x14c\\xef\\xbf\\xbd\\xef\\xbf\\xbdd\\xef\\xbf\\xbd<\\xef\\xbf\\xbd\\xef\\xbf\\xbdW\\xef\\xbf\\xbd\\x08\\x1b\\xe5\\x96\\x8eM\\x1e\\xef\\xbf\\xbd\\xef\\xbf\\xbdR\\xde\\x97\\xef\\xbf\\xbd\\xef\\xbf\\xbd\\\\2\\xe9\\xa0\\x8bB\\xef\\xbf\\xbd\\xef\\xbf\\xbd\\xef\\xbf\\xbd\\xef\\xbf\\xbd\\xef\\xbf\\xbd^\"+#m>r\\x0cR\\x16\\x08)\\x1f(,\\xef\\xbf\\xbd\\xef\\xbf\\xbd\\x1d9\\x07\\xef\\xbf\\xbds\\x1f\\xef\\xbf\\xbd\\r\\xef\\xbf\\xbd\\xef\\xbf\\xbdR\\xef\\xbf\\xbd\\'\\x18~\\xef\\xbf\\xbd\\xef\\xbf\\xbd\\x07\\xef\\xbf\\xbd\\xef\\xbf\\xbd^(:\\xef\\xbf\\xbd\\xd1\\xa5\\xef\\xbf\\xbdQ\\xef\\xbf\\xbd\\x19\\xef\\xbf\\xbdv:\"\\xef\\xbf\\xbd\\xef\\xbf\\xbdg\\xef\\xbf\\xbd\\xef\\xbf\\xbd\\xef\\xbf\\xbdtX\"\\xef\\xbf\\xbdYZG\\xef\\xbf\\xbd\\xef\\xbf\\xbd\\xef\\xbf\\xbd\\xef\\xbf\\xbdp\\xc7\\xa4\\xef\\xbf\\xbd\\x0br\\xef\\xbf\\xbd+\\xef\\xbf\\xbdF\\xef\\xbf\\xbd\\xef\\xbf\\xbdj\\x05\\xe2\\xb9\\xbdg\\xef\\xbf\\xbd\\xef\\xbf\\xbd\\x1cO1\\xef\\xbf\\xbd\\xef\\xbf\\xbd%\\xdd\\x87\\xde\\x8d\\xef\\xbf\\xbd\\xef\\xbf\\xbd\"LI\\xef\\xbf\\xbd\\xef\\xbf\\xbd$\\xef\\xbf\\xbd\\x07\\xef\\xbf\\xbd%\\xef\\xbf\\xbd.b]3!\\xef\\xbf\\xbdE\\xef\\xbf\\xbdk*\\x1d\\x06\\xef\\xbf\\xbd=\\x04\\xef\\xbf\\xbd@@\\xef\\xbf\\xbd\\x14\\xef\\xbf\\xbd\\xef\\xbf\\xbd}\\xef\\xbf\\xbd5\\xef\\xbf\\xbd`\\xef\\xbf\\xbd\\xef\\xbf\\xbd\\xef\\xbf\\xbd\\xef\\xbf\\xbd\\xef\\xbf\\xbd)\\xef\\xbf\\xbd\\xef\\xbf\\xbd\\xc9\\x9cd\\x11\\xef\\xbf\\xbd\\xef\\xbf\\xbd\\x14=\\xd5\\xab\\x162\\xef\\xbf\\xbdc\\xc8\\xb0\\xef\\xbf\\xbd\\x07g\\x15\\xef\\xbf\\xbd\\xef\\xbf\\xbd\\xef\\xbf\\xbdK&\\x11\\xef\\xbf\\xbdb\\xef\\xbf\\xbd\\xef\\xbf\\xbd\\x02\\xef\\xbf\\xbd\\xef\\xbf\\xbd\\xef\\xbf\\xbd\\xef\\xbf\\xbd<@3\\x11\\xef\\xbf\\xbdTD;\\xef\\xbf\\xbd\\xef\\xbf\\xbd%u\\xef\\xbf\\xbdL\\xef\\xbf\\xbd.,.}\\xef\\xbf\\xbdK\\xef\\xbf\\xbd\\xef\\xbf\\xbd\\\\}\\xef\\xbf\\xbd\\xef\\xbf\\xbdm1\\xef\\xbf\\xbd\\xef\\xbf\\xbdEj\\xef\\xbf\\xbd\\xef\\xbf\\xbd\\x15\\xef\\xbf\\xbd]\\xef\\xbf\\xbd\\xef\\xbf\\xbd\\xef\\xbf\\xbd\\xef\\xbf\\xbd\\xef\\xbf\\xbd\\xef\\xbf\\xbd\\xef\\xbf\\xbd\\r\\xcd\\xa1\\xef\\xbf\\xbdL\\xef\\xbf\\xbd:\\xdf\\xb4\\xef\\xbf\\xbdb\\xef\\xbf\\xbd\\xef\\xbf\\xbd;\\xef\\xbf\\xbd\\xef\\xbf\\xbd1\\xef\\xbf\\xbdv\\xef\\xbf\\xbd\\x10\\xef\\xbf\\xbdVR\\xef\\xbf\\xbd\\xef\\xbf\\xbd\"kq\\xef\\xbf\\xbd\\xef\\xbf\\xbd\\xef\\xbf\\xbd\\x03\\xef\\xbf\\xbd\\xc7\\xa77\\x03\\xef\\xbf\\xbd\\xef\\xbf\\xbd\\xef\\xbf\\xbd5\\xef\\xbf\\xbd0)\\xef\\xbf\\xbd\\xef\\xbf\\xbd\\xef\\xbf\\xbd\\xef\\xbf\\xbd\\x1a~\\xef\\xbf\\xbd\\xef\\xbf\\xbd\\x1f\\x0f7\\xc4\\xbe3v\\xef\\xbf\\xbd\\xef\\xbf\\xbd\\xef\\xbf\\xbdC\\xef\\xbf\\xbd\\x1c}j\\xef\\xbf\\xbd&\\xef\\xbf\\xbdB\\xef\\xbf\\xbdy\\xef\\xbf\\xbd/\\x00BA\\x7f\\xef\\xbf\\xbd\\xef\\xbf\\xbd$\\xef\\xbf\\xbd\\xef\\xbf\\xbd\\xef\\xbf\\xbd\\x10XjSI\\xef\\xbf\\xbd\\xef\\xbf\\xbd\\xef\\xbf\\xbd\\xef\\xbf\\xbdS\\xef\\xbf\\xbd\\\\t\\xef\\xbf\\xbd{\\xef\\xbf\\xbdP\\xef\\xbf\\xbdi\\x02\\xef\\xbf\\xbd\\xe7\\x84\\x80\\xef\\xbf\\xbdB\\xef\\xbf\\xbd\\xef\\xbf\\xbd\\xef\\xbf\\xbd\\xef\\xbf\\xbd\\xcf\\xb1\\xef\\xbf\\xbd\\x1eQ\\xef\\xbf\\xbd~\\xef\\xbf\\xbdq\\xef\\xbf\\xbd\\xef\\xbf\\xbd\\xef\\xbf\\xbd\\x03\\x07\\xef\\xbf\\xbdk\\xc6\\xb1\\xef\\xbf\\xbd\\xef\\xbf\\xbdK/\\xef\\xbf\\xbd4\\xef\\xbf\\xbd)R*\\x15\\xef\\xbf\\xbdc\\xef\\xbf\\xbd\\xef\\xbf\\xbd\\xef\\xbf\\xbd\\xef\\xbf\\xbd\\xef\\xbf\\xbd\\xef\\xbf\\xbd\\xef\\xbf\\xbdU\\xef\\xbf\\xbd\\xef\\xbf\\xbd\\xd2\\x87\\x08\\xef\\xbf\\xbd\"\\xef\\xbf\\xbd\\xef\\xbf\\xbd\\x14\\xef\\xbf\\xbd\\x18\\xef\\xbf\\xbd\\xef\\xbf\\xbd\\xef\\xbf\\xbd~\\x16\\xef\\xbf\\xbd\\xef\\xbf\\xbdC3\\xef\\xbf\\xbd',\n",
       " b'\\x00\\x0c\\x81\\x80\\x00\\x01\\x00\\x01\\x00\\x00\\x00\\x00\\x06google\\x03com\\x00\\x00\\x1c\\x00\\x01\\xc0\\x0c\\x00\\x1c\\x00\\x01\\x00\\x00\\x01 \\x00\\x10&\\x07\\xf8\\xb0@\\x05\\x08\\x07\\x00\\x00\\x00\\x00\\x00\\x00 \\x0e',\n",
       " b'\\x00\\x0c\\x01\\x00\\x00\\x01\\x00\\x00\\x00\\x00\\x00\\x00\\x06google\\x03com\\x00\\x00\\x1c\\x00\\x01~\\xef\\xbf\\xbd\\xef\\xbf\\xbd\\xef\\xbf\\xbd \\xef\\xbf\\xbd3\\xef\\xbf\\xbd\\xef\\xbf\\xbd+\\xef\\xbf\\xbd\\x1e\\xef\\xbf\\xbd\\xef\\xbf\\xbd(\\xef\\xbf\\xbd5s\\xef\\xbf\\xbd\\xef\\xbf\\xbd\\xef\\xbf\\xbd\"\\xef\\xbf\\xbdD\\xef\\xbf\\xbdMsbm`\\xef\\xbf\\xbd\\x07\\xef\\xbf\\xbd\\xef\\xbf\\xbdE\\xef\\xbf\\xbdv\\xcc\\x98\\xef\\xbf\\xbd\\xef\\xbf\\xbd\\\\D\\xef\\xbf\\xbd\\x15HE\\xef\\xbf\\xbd\\xef\\xbf\\xbd\\xef\\xbf\\xbdoLM\\xef\\xbf\\xbd\\xef\\xbf\\xbd\\xef\\xbf\\xbd\\xef\\xbf\\xbd\\xef\\xbf\\xbd7\\xef\\xbf\\xbdX\\x0b\\xef\\xbf\\xbdM\\xef\\xbf\\xbd\\xef\\xbf\\xbd\\xef\\xbf\\xbdsC\\xef\\xbf\\xbd\\xef\\xbf\\xbd:H\\xef\\xbf\\xbd\\xef\\xbf\\xbdY\\xef\\xbf\\xbd\\x1a\\xef\\xbf\\xbdW\\x02\\xef\\xbf\\xbd\\xef\\xbf\\xbdb\\xef\\xbf\\xbd(C\\xef\\xbf\\xbd|v\\xef\\xbf\\xbd\\x03\\x1av\\x01l\\xef\\xbf\\xbd\\xd6\\x9f\\xef\\xbf\\xbd\\xef\\xbf\\xbd\\xef\\xbf\\xbd:\\xef\\xbf\\xbd\\x12}dN\\x0e\\x19\\xef\\xbf\\xbdx\\xef\\xbf\\xbd\\xef\\xbf\\xbd\\xef\\xbf\\xbds\\xef\\xbf\\xbd\\xef\\xbf\\xbd1JR4D\\xef\\xbf\\xbd\\xef\\xbf\\xbdN\\xef\\xbf\\xbdp\\xef\\xbf\\xbd\\xef\\xbf\\xbd\\xef\\xbf\\xbd/\\xef\\xbf\\xbd\\x18\\xc7\\x92\\xef\\xbf\\xbd\\xd5\\x9dB\\xef\\xbf\\xbdjeYd7\\xef\\xbf\\xbd\\x11\\xef\\xbf\\xbdIJ\\xef\\xbf\\xbd\\xef\\xbf\\xbd:\\tp;U\\x15\\xef\\xbf\\xbd\\x1f\\x00\\xef\\xbf\\xbd\\xef\\xbf\\xbd\\xef\\xbf\\xbd\\xef\\xbf\\xbd\\x1b\\x01\\xef\\xbf\\xbdv\\xc7\\x8a\\xef\\xbf\\xbd\\xef\\xbf\\xbd3\\xef\\xbf\\xbd\\xef\\xbf\\xbd\\xef\\xbf\\xbdA\\xef\\xbf\\xbdq\\\\\\x03\\xef\\xbf\\xbdG\\xef\\xbf\\xbd\\x15\\xef\\xbf\\xbd&\\xef\\xbf\\xbd@g:\\x0f\\\\Q\\xef\\xbf\\xbdo\\x02\\xef\\xbf\\xbd\\xef\\xbf\\xbd}u\\xef\\xbf\\xbd\\x04]\\x07\\xef\\xbf\\xbdhhBsh_KfaY\\xef\\xbf\\xbd57\\xef\\xbf\\xbd\\xef\\xbf\\xbdlz\\xef\\xbf\\xbd\\xef\\xbf\\xbdC\\xef\\xbf\\xbd\\xef\\xbf\\xbd\\xef\\xbf\\xbd%\\xef\\xbf\\xbd\\x181i\\xef\\xbf\\xbd)\\x1a7\\xef\\xbf\\xbd\\xef\\xbf\\xbd\\xef\\xbf\\xbd\\xef\\xbf\\xbd\\xef\\xbf\\xbd\\xde\\xaa\\n\\xef\\xbf\\xbd-\\xef\\xbf\\xbd\\x0f\\xef\\xbf\\xbd!\\xef\\xbf\\xbd\\xef\\xbf\\xbddn\\xef\\xbf\\xbd@\\xd4\\x86\\xef\\xbf\\xbdt\\xef\\xbf\\xbd\\xef\\xbf\\xbdK\\xef\\xbf\\xbd#\\x1a\\xef\\xbf\\xbd[#m\\xef\\xbf\\xbd\\xd6\\xbb@\\x04\\xef\\xbf\\xbd%T\\xef\\xbf\\xbdH\\xef\\xbf\\xbd;\\xef\\xbf\\xbd\\xef\\xbf\\xbd\\xef\\xbf\\xbd\\x7fO\\x04\\xef\\xbf\\xbdMV\\x1f\\x088\\xef\\xbf\\xbd\\xef\\xbf\\xbd[\\xef\\xbf\\xbdm\\xef\\xbf\\xbd\\xef\\xbf\\xbd^\\x0cK\\xef\\xbf\\xbd\\xef\\xbf\\xbd7\\xef\\xbf\\xbd\\x13a\":b#p\\xef\\xbf\\xbd\\xef\\xbf\\xbd\\xef\\xbf\\xbd\\xdc\\x9c\\xdd\\xaf\\xef\\xbf\\xbd\\x1d\\xef\\xbf\\xbd\\xef\\xbf\\xbd\\xef\\xbf\\xbd\\xef\\xbf\\xbdI\\xef\\xbf\\xbd\\xef\\xbf\\xbd\\xef\\xbf\\xbd\\xce\\xa6t\\x12\\xef\\xbf\\xbd)\\xd1\\x81\\xef\\xbf\\xbd\\xef\\xbf\\xbd\\xc3\\x87ps\\xef\\xbf\\xbd\\x19\\xef\\xbf\\xbd\\x7f\\xef\\xbf\\xbd\\xc9\\xbe\\xef\\xbf\\xbd\\nc\\x10)\\xef\\xbf\\xbdi\\xef\\xbf\\xbd\\nFyN\\xef\\xbf\\xbd\\xef\\xbf\\xbd\\xef\\xbf\\xbd\\x02.\\xef\\xbf\\xbdVf_rs\\xef\\xbf\\xbdC\\xef\\xbf\\xbd\\x1eJb\\xef\\xbf\\xbd\\xef\\xbf\\xbd2\\xef\\xbf\\xbd\\xef\\xbf\\xbdk\\xef\\xbf\\xbd\\xef\\xbf\\xbdw]\\xef\\xbf\\xbd\\xc7\\xad\\xef\\xbf\\xbd0\\xef\\xbf\\xbd\\xef\\xbf\\xbd\\xef\\xbf\\xbd\\xef\\xbf\\xbd/i}H|\\xef\\xbf\\xbdk\\xef\\xbf\\xbd\\x17\\x1dJ!\\xef\\xbf\\xbdW\\xef\\xbf\\xbd\\x16\\xef\\xbf\\xbd\\xef\\xbf\\xbd\\xef\\xbf\\xbd\\xef\\xbf\\xbd\\xcd\\xb8\\xef\\xbf\\xbd\\xef\\xbf\\xbd\\xef\\xbf\\xbdS\\xef\\xbf\\xbd\\xef\\xbf\\xbd\\xef\\xbf\\xbdB\\x0c\\x08\\xef\\xbf\\xbd%\\xef\\xbf\\xbd\\\\Z\\xef\\xbf\\xbdmuE\\xef\\xbf\\xbd\\xef\\xbf\\xbd\\x11\\xef\\xbf\\xbd.^\\x13\\x17Bc!\\xef\\xbf\\xbd\\x10\\xef\\xbf\\xbd\\n\\xef\\xbf\\xbdvE\\xef\\xbf\\xbdL2GHJ\\xc7\\xb3\\\\Zm\\xef\\xbf\\xbd1\\xef\\xbf\\xbd?%u[\\xef\\xbf\\xbd\\xef\\xbf\\xbd\\xef\\xbf\\xbd*\\xef\\xbf\\xbd\\x1fH\\xef\\xbf\\xbd\\xef\\xbf\\xbdU\\x15\\xef\\xbf\\xbd\\xef\\xbf\\xbd\\x10Q\\xef\\xbf\\xbd\\xef\\xbf\\xbde,\\xef\\xbf\\xbd\\xef\\xbf\\xbd^\\xef\\xbf\\xbdh2\\xef\\xbf\\xbdD\\xef\\xbf\\xbd\\xef\\xbf\\xbd-\\xef\\xbf\\xbd6\\xc6\\x99\\xef\\xbf\\xbd\\xef\\xbf\\xbd',\n",
       " b'\\x00\\x0c\\x81\\x80\\x00\\x01\\x00\\x01\\x00\\x00\\x00\\x00\\x06google\\x03com\\x00\\x00\\x1c\\x00\\x01\\xc0\\x0c\\x00\\x1c\\x00\\x01\\x00\\x00\\x01\\x1f\\x00\\x10&\\x07\\xf8\\xb0@\\x05\\x08\\x07\\x00\\x00\\x00\\x00\\x00\\x00 \\x0e',\n",
       " b'\\x00\\x0c\\x01\\x00\\x00\\x01\\x00\\x00\\x00\\x00\\x00\\x00\\x06google\\x03com\\x00\\x00\\x1c\\x00\\x01\\xef\\xbf\\xbd\\xef\\xbf\\xbd\\xef\\xbf\\xbd\\xef\\xbf\\xbdp\\xef\\xbf\\xbdQ!e\\xef\\xbf\\xbd\\x1e\\x12\\xef\\xbf\\xbd%\\\\\\xd8\\xaf^Z\\xdb\\x95 \\xef\\xbf\\xbd=\\x02\"L{\\xef\\xbf\\xbd\\t\\x11\\xef\\xbf\\xbd\\x12\\x11\\x17ti\\xef\\xbf\\xbd\\x0e\\xef\\xbf\\xbdGB|\\xef\\xbf\\xbd\\xef\\xbf\\xbd\\xef\\xbf\\xbd,7\\xef\\xbf\\xbd\\x07\\xef\\xbf\\xbdp6K\\xef\\xbf\\xbd\\xef\\xbf\\xbd\\xef\\xbf\\xbd[\\xef\\xbf\\xbd\\xea\\x8e\\xb8\\x0e\\xef\\xbf\\xbd\\x1a\\xef\\xbf\\xbd\\xef\\xbf\\xbd\\x02\\x1as\\xd1\\x9d9\\xef\\xbf\\xbdr\\xef\\xbf\\xbd@6\\xef\\xbf\\xbd\\xef\\xbf\\xbdLT\\xef\\xbf\\xbdVc\\xef\\xbf\\xbds\\xef\\xbf\\xbd\\xef\\xbf\\xbd\\x1f(\\xef\\xbf\\xbd\\xef\\xbf\\xbd\\xef\\xbf\\xbd\\x0fW\\x16\\xef\\xbf\\xbd`\\xef\\xbf\\xbd@\\xef\\xbf\\xbdMl\\xef\\xbf\\xbdi\\xef\\xbf\\xbd\\xef\\xbf\\xbd,Z\\xef\\xbf\\xbd\\xd9\\xba\\xef\\xbf\\xbd\\xef\\xbf\\xbdo\\xef\\xbf\\xbd\\xef\\xbf\\xbd\\\\\\xef\\xbf\\xbd\\xef\\xbf\\xbd\\xef\\xbf\\xbdCE\\x16dG\\xef\\xbf\\xbd\\x01A\\xef\\xbf\\xbd\\xd4\\x81pcm\\xef\\xbf\\xbd\\xef\\xbf\\xbd\\xef\\xbf\\xbd\\xef\\xbf\\xbda\\xef\\xbf\\xbd\\xef\\xbf\\xbd\\x05.5(\\xef\\xbf\\xbd\\xef\\xbf\\xbd4e\\xef\\xbf\\xbd\\xef\\xbf\\xbd}\\xef\\xbf\\xbd==\\xef\\xbf\\xbdK\\xef\\xbf\\xbdr\\xef\\xbf\\xbd]\\xef\\xbf\\xbd\\xef\\xbf\\xbd\\\\\\xd2\\xbd\\x7f\\xef\\xbf\\xbd\\xef\\xbf\\xbd\\xef\\xbf\\xbd\\xef\\xbf\\xbd5Fs\\xc7\\xa6\\xef\\xbf\\xbd\\xef\\xbf\\xbdA\\xef\\xbf\\xbd\\xef\\xbf\\xbd\\xef\\xbf\\xbd1&\\x15\\xef\\xbf\\xbd\\xef\\xbf\\xbd\\xef\\xbf\\xbdM\\xef\\xbf\\xbd=\\xef\\xbf\\xbdR\\xef\\xbf\\xbd\\xef\\xbf\\xbd\\xef\\xbf\\xbdX\\xef\\xbf\\xbd\\xef\\xbf\\xbd_(r\\xef\\xbf\\xbd\\xef\\xbf\\xbdK\\x01\\xef\\xbf\\xbd8-\\xef\\xbf\\xbd\\xef\\xbf\\xbd\\xef\\xbf\\xbd\\xef\\xbf\\xbd\\x1c\\x18\\xef\\xbf\\xbd\\xef\\xbf\\xbdS\\xef\\xbf\\xbd\\xef\\xbf\\xbd\\xef\\xbf\\xbd\\xef\\xbf\\xbd\\xef\\xbf\\xbd\\x1bstm\\xef\\xbf\\xbd8\\x18\\xef\\xbf\\xbde\\xef\\xbf\\xbd.!52#\\xef\\xbf\\xbd\\xef\\xbf\\xbd\\xef\\xbf\\xbd\\x0f@/\\xcd\\x99\\xef\\xbf\\xbd\\xef\\xbf\\xbda\\xef\\xbf\\xbd\\xef\\xbf\\xbd\\xef\\xbf\\xbdY.\\x07\\xef\\xbf\\xbd\\xef\\xbf\\xbd05i\\x07\\x0e\\xef\\xbf\\xbd\\x07\\x1e;2 BNR|+\\xef\\xbf\\xbdRt\\xef\\xbf\\xbd\\x02\\xef\\xbf\\xbd>\\xef\\xbf\\xbd\\xef\\xbf\\xbd\\xef\\xbf\\xbdmK\\xef\\xbf\\xbd\\xef\\xbf\\xbd]\\xef\\xbf\\xbdt\\x04\\xef\\xbf\\xbd\\xda\\xa8\\xef\\xbf\\xbd\\'4\\xef\\xbf\\xbd\\x7fB\\xef\\xbf\\xbd\\xef\\xbf\\xbd\\x03\\x00F\\xdb\\x84&\\xef\\xbf\\xbd3\\xef\\xbf\\xbd\\xef\\xbf\\xbd\\x0b\\xef\\xbf\\xbd*\\xef\\xbf\\xbd\\xef\\xbf\\xbd\\xef\\xbf\\xbdp\\xef\\xbf\\xbdn\\xef\\xbf\\xbd\\xef\\xbf\\xbd\\xef\\xbf\\xbdK:$\\x16\"D\\xd3\\xa2!\\xef\\xbf\\xbdtK&h\\xef\\xbf\\xbdV\\t\\x003\\x00\\xef\\xbf\\xbd\\tmK\\xef\\xbf\\xbd\\x07E\\x0e9\\xef\\xbf\\xbdE\\xef\\xbf\\xbd\\\\P0_o&\\x05\\x7fi\\xef\\xbf\\xbd\\t\\xdf\\xac_c\\xef\\xbf\\xbd\\xef\\xbf\\xbda\\xef\\xbf\\xbd\\x17\\xef\\xbf\\xbd~Q\\n\\xef\\xbf\\xbdo\\x00\\x1c\\x0f\\x08\\x1a\\xef\\xbf\\xbd\\xef\\xbf\\xbdp4\\x07\\xef\\xbf\\xbd`\\xef\\xbf\\xbd<\\xef\\xbf\\xbd2\\x0bZ\\xef\\xbf\\xbd\\xef\\xbf\\xbd\\xef\\xbf\\xbd\\'\\xef\\xbf\\xbd\\xef\\xbf\\xbd\\xef\\xbf\\xbd\\xef\\xbf\\xbdk\\x1f\\x0f\\xef\\xbf\\xbd_\\xef\\xbf\\xbd3Tc\\xef\\xbf\\xbd\\xef\\xbf\\xbd\\xef\\xbf\\xbdA9\\xef\\xbf\\xbd\\x1f$\\\\\\xce\\xa9,\\xd0\\x84\\xef\\xbf\\xbd\\xef\\xbf\\xbd\\xef\\xbf\\xbd\\xef\\xbf\\xbdK\\xef\\xbf\\xbd,\\xef\\xbf\\xbd\\xdb\\xa4@\\x1d\\xef\\xbf\\xbdr\\xef\\xbf\\xbd@\\xef\\xbf\\xbd\\xc6\\x9e#\\xef\\xbf\\xbd@Db\\xef\\xbf\\xbd\\xef\\xbf\\xbd<\\xef\\xbf\\xbdu\\x0b\\x00\\xef\\xbf\\xbd\\x0f\\xef\\xbf\\xbd\\xef\\xbf\\xbdx\\xef\\xbf\\xbd*\\xef\\xbf\\xbd6\\xef\\xbf\\xbd\\xef\\xbf\\xbd9J\\xef\\xbf\\xbd>\\xef\\xbf\\xbd\\xef\\xbf\\xbdC\\x08i\\x14b\\xef\\xbf\\xbd\\xef\\xbf\\xbd\\xef\\xbf\\xbd\\xef\\xbf\\xbdzd\\x04\\x020\\xef\\xbf\\xbd7!j\\xef\\xbf\\xbd\\x05\\xef\\xbf\\xbd\\xef\\xbf\\xbdO\\xef\\xbf\\xbd\\x01nOv]\\xef\\xbf\\xbdE\\xef\\xbf\\xbd\\xef\\xbf\\xbdA\\xef\\xbf\\xbd\\xef\\xbf\\xbd\"',\n",
       " b'\\x00\\x0c\\x81\\x80\\x00\\x01\\x00\\x01\\x00\\x00\\x00\\x00\\x06google\\x03com\\x00\\x00\\x1c\\x00\\x01\\xc0\\x0c\\x00\\x1c\\x00\\x01\\x00\\x00\\x01\\x1e\\x00\\x10&\\x07\\xf8\\xb0@\\x05\\x08\\x07\\x00\\x00\\x00\\x00\\x00\\x00 \\x0e',\n",
       " b'\\x00\\x0c\\x01\\x00\\x00\\x01\\x00\\x00\\x00\\x00\\x00\\x00\\x06google\\x03com\\x00\\x00\\x1c\\x00\\x01\\xef\\xbf\\xbd@\\x08\\xef\\xbf\\xbd\\x10\"\\x1d\\xef\\xbf\\xbdZ\\xef\\xbf\\xbd\\x19]gL8\\xef\\xbf\\xbd\\x14|g+\\xef\\xbf\\xbd\\xef\\xbf\\xbd\\xd8\\x81\\x04\\xef\\xbf\\xbd>6LJm\\xef\\xbf\\xbd]\\xef\\xbf\\xbd\\xef\\xbf\\xbd\\xef\\xbf\\xbd\\xef\\xbf\\xbd\\xda\\xa8\\xef\\xbf\\xbd,7<\\xef\\xbf\\xbdew\\xef\\xbf\\xbd\\xef\\xbf\\xbd\\xef\\xbf\\xbdDn\\xef\\xbf\\xbd&eQB!\\xef\\xbf\\xbdz\\xef\\xbf\\xbdts\\xef\\xbf\\xbd\\x0c\\xef\\xbf\\xbd#\\xef\\xbf\\xbd\\nBu!\"\\xef\\xbf\\xbd\\x04\\xef\\xbf\\xbd\\xef\\xbf\\xbd\\xef\\xbf\\xbdv8\\xef\\xbf\\xbdh\\xef\\xbf\\xbdEu\\xef\\xbf\\xbd\\xef\\xbf\\xbd\\xef\\xbf\\xbd\\xef\\xbf\\xbd_\\\\\\xef\\xbf\\xbds\\xef\\xbf\\xbdb> \\r\\xef\\xbf\\xbd\\xef\\xbf\\xbd!j\\xef\\xbf\\xbd\\xef\\xbf\\xbd=9\"\\xef\\xbf\\xbd\\xef\\xbf\\xbd\\xef\\xbf\\xbd}*\"\\xef\\xbf\\xbdZ\\xef\\xbf\\xbd\\xef\\xbf\\xbd\\xef\\xbf\\xbd\\xef\\xbf\\xbdw)\\xef\\xbf\\xbd\\xef\\xbf\\xbd$\\x1f\\xef\\xbf\\xbd\\xef\\xbf\\xbd\\x17(\\xef\\xbf\\xbdh\\xef\\xbf\\xbd\\xef\\xbf\\xbd\\xdd\\x93v;\\xef\\xbf\\xbd\\r\\xef\\xbf\\xbd\\xef\\xbf\\xbd\\xef\\xbf\\xbd\\xef\\xbf\\xbd\\xef\\xbf\\xbdE\\xef\\xbf\\xbd\\xef\\xbf\\xbd+R\\xef\\xbf\\xbd\\xef\\xbf\\xbd\\x15\\xef\\xbf\\xbd~\\xef\\xbf\\xbd\\x06^\\xef\\xbf\\xbd\\x04\\xef\\xbf\\xbd\\x19\\xef\\xbf\\xbd\\\\\\n\\x1d\\rB\\xef\\xbf\\xbdy\\x7f\\xef\\xbf\\xbd\\x13\\xef\\xbf\\xbd\\xef\\xbf\\xbd\\x16\\x01D\\xef\\xbf\\xbd6~\\xef\\xbf\\xbd\\xef\\xbf\\xbd\\xef\\xbf\\xbd\\xef\\xbf\\xbd-\\xef\\xbf\\xbd\\xef\\xbf\\xbd&P\\xef\\xbf\\xbdd\\xef\\xbf\\xbd\\t1\\x11\\xef\\xbf\\xbdC\\xef\\xbf\\xbd|;\\xef\\xbf\\xbd\\xef\\xbf\\xbd!\\xef\\xbf\\xbd\\xef\\xbf\\xbdS.\\xef\\xbf\\xbd\\xef\\xbf\\xbd\\xef\\xbf\\xbdt\\xef\\xbf\\xbd\\xef\\xbf\\xbd\\x05\\xef\\xbf\\xbd\\xef\\xbf\\xbd\\xc4\\x9e\\\\\\xdc\\x8c\\xef\\xbf\\xbd\\xef\\xbf\\xbd\\xef\\xbf\\xbdq(\\xef\\xbf\\xbd2\\xef\\xbf\\xbd9\\xef\\xbf\\xbd+RP1\\xef\\xbf\\xbd\\xef\\xbf\\xbdC\\xef\\xbf\\xbd\\x06\\x00ID\\xef\\xbf\\xbdB\\xef\\xbf\\xbd/\\xef\\xbf\\xbd4\\xef\\xbf\\xbd\\xef\\xbf\\xbd/.\\xef\\xbf\\xbdI\\xdb\\xb4\\xef\\xbf\\xbdO\\xef\\xbf\\xbd\\ndaqI>\\xef\\xbf\\xbd\\xef\\xbf\\xbd\\xef\\xbf\\xbd\\xef\\xbf\\xbd\\xef\\xbf\\xbdh\\xef\\xbf\\xbd\\x14\\x01\\x12\\xef\\xbf\\xbd\\xef\\xbf\\xbdH\\xef\\xbf\\xbdr#\\xef\\xbf\\xbd\\\\\\xef\\xbf\\xbd\\xef\\xbf\\xbd~\\xef\\xbf\\xbd|\\xef\\xbf\\xbd\\xef\\xbf\\xbd\\xef\\xbf\\xbd\\x13K\\xef\\xbf\\xbd\\xef\\xbf\\xbd\\n\\xef\\xbf\\xbd\\xef\\xbf\\xbd\\xef\\xbf\\xbd\\xef\\xbf\\xbd\\x07\\xef\\xbf\\xbdx|\\xef\\xbf\\xbdi\\xef\\xbf\\xbd\\xef\\xbf\\xbd\\x04\\x11\\xef\\xbf\\xbdJ\\xef\\xbf\\xbd\\x05W\\xef\\xbf\\xbdz\\xef\\xbf\\xbd\\xef\\xbf\\xbd\\xef\\xbf\\xbd\\xef\\xbf\\xbd\\x10CI)\\xef\\xbf\\xbdNk\\xef\\xbf\\xbd\\xef\\xbf\\xbd~\\xc3\\xa8\\tI8\\xef\\xbf\\xbd\\xef\\xbf\\xbd\\x165\\x1e_\\xef\\xbf\\xbd;\\xef\\xbf\\xbd\\x16~\\xef\\xbf\\xbd>`|\\x18{\\xef\\xbf\\xbd\\xef\\xbf\\xbd\\x07\\xef\\xbf\\xbd\\xef\\xbf\\xbd\\xef\\xbf\\xbd\\xef\\xbf\\xbd\\xef\\xbf\\xbd\"\\x03B\\x17\\xef\\xbf\\xbd\\x0b\\xef\\xbf\\xbd\\xef\\xbf\\xbdiT\\xef\\xbf\\xbdET\\xef\\xbf\\xbdnO\\x1e\\x0b\\xef\\xbf\\xbd\\xef\\xbf\\xbd\\x10qj\\xef\\xbf\\xbd!:\\xef\\xbf\\xbd\\x00\\x11AH\\xef\\xbf\\xbd7\\xef\\xbf\\xbd\\xef\\xbf\\xbd\\xef\\xbf\\xbd/\\xd5\\xad,\\x7f1\\xda\\x8c]\\xef\\xbf\\xbd%Da;\\xef\\xbf\\xbdOY\\xef\\xbf\\xbd\\xef\\xbf\\xbd\\xef\\xbf\\xbd}-E\\x0fi\\x02u\\x1b\\xef\\xbf\\xbd\\xef\\xbf\\xbd\\x19W\\xef\\xbf\\xbd|n\\xef\\xbf\\xbdSK_?\\xef\\xbf\\xbd\\xef\\xbf\\xbd\\xef\\xbf\\xbd\\xef\\xbf\\xbd\\n\\xef\\xbf\\xbdo\\n\\xcd\\x99MN\\x15\\xef\\xbf\\xbdL\\xe7\\xb2\\x8a\\xef\\xbf\\xbd\\xef\\xbf\\xbdSh\\xef\\xbf\\xbd\\xef\\xbf\\xbd\\xef\\xbf\\xbd7\\xef\\xbf\\xbd\\x08\\xef\\xbf\\xbd8z\\xef\\xbf\\xbd\\x18\\xef\\xbf\\xbd}J)\\x7f:[L\\xef\\xbf\\xbd\\xef\\xbf\\xbdU4\\xef\\xbf\\xbdk\\xd5\\x95\\xef\\xbf\\xbd\\xef\\xbf\\xbd\\xef\\xbf\\xbdG\\xef\\xbf\\xbd\\xef\\xbf\\xbd\\xd5\\x87\\xef\\xbf\\xbd\\x04\\xef\\xbf\\xbdXj\\xef\\xbf\\xbd\\r\\xef\\xbf\\xbd\\xef\\xbf\\xbd\\xef\\xbf\\xbdo\\xef\\xbf\\xbdAk\\xef\\xbf\\xbd/\\xef\\xbf\\xbd)\\xef\\xbf\\xbd\\xef\\xbf\\xbd',\n",
       " b'\\x00\\x0c\\x81\\x80\\x00\\x01\\x00\\x01\\x00\\x00\\x00\\x00\\x06google\\x03com\\x00\\x00\\x1c\\x00\\x01\\xc0\\x0c\\x00\\x1c\\x00\\x01\\x00\\x00\\x01\\x1d\\x00\\x10&\\x07\\xf8\\xb0@\\x05\\x08\\x07\\x00\\x00\\x00\\x00\\x00\\x00 \\x0e',\n",
       " b'\\x00\\x0c\\x01\\x00\\x00\\x01\\x00\\x00\\x00\\x00\\x00\\x00\\x06google\\x03com\\x00\\x00\\x1c\\x00\\x01*\\x0b\\xef\\xbf\\xbd\\xcb\\xaa\\xef\\xbf\\xbdf\\xef\\xbf\\xbdu\\xef\\xbf\\xbd\\xef\\xbf\\xbd\\xef\\xbf\\xbd\\xef\\xbf\\xbd>\\xef\\xbf\\xbd\\x07g\\xef\\xbf\\xbd\\xef\\xbf\\xbd\\xef\\xbf\\xbd\\xef\\xbf\\xbd\\xef\\xbf\\xbd\\xef\\xbf\\xbd\\xef\\xbf\\xbd\\xef\\xbf\\xbd\\xef\\xbf\\xbd6\\x1dP`=/@\\\\\\xef\\xbf\\xbd\\xef\\xbf\\xbds\\xef\\xbf\\xbd\\xef\\xbf\\xbd\\xef\\xbf\\xbd\\xef\\xbf\\xbd\\x18\\xef\\xbf\\xbd\"Xi\\x1f\\xd7\\x8aV\\xef\\xbf\\xbd\\xef\\xbf\\xbd\\xef\\xbf\\xbd\\xef\\xbf\\xbd\\xef\\xbf\\xbd\\xef\\xbf\\xbdS\\xef\\xbf\\xbd?\\x03\\x00\\xef\\xbf\\xbd\\xef\\xbf\\xbd\\xef\\xbf\\xbd\\xef\\xbf\\xbd\\x12\\xef\\xbf\\xbd\\x0b\\xef\\xbf\\xbd;\\xef\\xbf\\xbd\\xef\\xbf\\xbd\\xef\\xbf\\xbd\"l\\x7f\\xef\\xbf\\xbd\\xef\\xbf\\xbd,\\xef\\xbf\\xbd4!~\\x07g\\xef\\xbf\\xbd;\\x10\\xef\\xbf\\xbd\\xef\\xbf\\xbdR=\\xef\\xbf\\xbd\\xef\\xbf\\xbdWV#\\xef\\xbf\\xbd\\xef\\xbf\\xbdF\\xef\\xbf\\xbdQ\\xef\\xbf\\xbdF\\x17G\\xef\\xbf\\xbd\\xef\\xbf\\xbd\\xef\\xbf\\xbd\\xef\\xbf\\xbd\\xef\\xbf\\xbd\\xef\\xbf\\xbd\\xef\\xbf\\xbd\\xef\\xbf\\xbd\\xef\\xbf\\xbd\\xd5\\x85>}g\\xef\\xbf\\xbd\\x06?\\xef\\xbf\\xbd\\t\\xef\\xbf\\xbd\\xef\\xbf\\xbd\\x05pN\\xef\\xbf\\xbd&\\xef\\xbf\\xbd\\xef\\xbf\\xbd>i\\xef\\xbf\\xbd\\xef\\xbf\\xbd\\xef\\xbf\\xbd)\\xef\\xbf\\xbd7K\\xef\\xbf\\xbd\\xef\\xbf\\xbdx CRZ\\xea\\x8e\\x84\\xef\\xbf\\xbd\\x1d\\x15\\xef\\xbf\\xbdfi\\xef\\xbf\\xbd\\xef\\xbf\\xbd\\xef\\xbf\\xbdX\\xef\\xbf\\xbdC\\xef\\xbf\\xbd\\xdb\\xb5C\\xef\\xbf\\xbd6\\xef\\xbf\\xbd0\\xef\\xbf\\xbd\\xef\\xbf\\xbd\\xef\\xbf\\xbd<8&\\xef\\xbf\\xbd\\xef\\xbf\\xbdE\\xef\\xbf\\xbd\\x1b\\xef\\xbf\\xbd~F)\\xef\\xbf\\xbd\\x04\\xcc\\x8a\\xef\\xbf\\xbd:.O\\xef\\xbf\\xbd\\xef\\xbf\\xbdF\\r\\xef\\xbf\\xbd_\\xef\\xbf\\xbd\\xef\\xbf\\xbd8d\\xef\\xbf\\xbd\\x16l\\xef\\xbf\\xbd\\xef\\xbf\\xbd\\xef\\xbf\\xbd\\xef\\xbf\\xbd\\x16_\\xef\\xbf\\xbdl\\xef\\xbf\\xbd\\x00b\\xef\\xbf\\xbd\\xef\\xbf\\xbd\\xef\\xbf\\xbd\\xef\\xbf\\xbdZ\\xef\\xbf\\xbd\\x14\\xef\\xbf\\xbd|\\xef\\xbf\\xbd\\xef\\xbf\\xbd\\xef\\xbf\\xbd.\\xef\\xbf\\xbdI\\xca\\x92\\xef\\xbf\\xbdu\\xef\\xbf\\xbd\\xef\\xbf\\xbd\\xd4\\x9e+\\xef\\xbf\\xbd\\xef\\xbf\\xbdi\\xcd\\x9e\\xef\\xbf\\xbd>o\\xef\\xbf\\xbd\\x17\\xef\\xbf\\xbd\\x1a\\xef\\xbf\\xbd\\x11\\x02\\x13\\xef\\xbf\\xbdp\\xef\\xbf\\xbd\\xef\\xbf\\xbd\\x11)\\x10H\\xef\\xbf\\xbd.\\xef\\xbf\\xbd\\xef\\xbf\\xbd\\xef\\xbf\\xbd\\xef\\xbf\\xbd\\xef\\xbf\\xbd\\xef\\xbf\\xbd}\\xef\\xbf\\xbd\\xef\\xbf\\xbd]\\xc2\\xa9\\xef\\xbf\\xbd+3\\xcb\\x82\\xef\\xbf\\xbd\\x16zK\\xef\\xbf\\xbd\\xef\\xbf\\xbd\\xef\\xbf\\xbd\\xef\\xbf\\xbd\\x18\"N\\xef\\xbf\\xbd6o\\xef\\xbf\\xbdY\\xef\\xbf\\xbd&\\xc4\\x9f\\xd0\\xa1\\xef\\xbf\\xbd%[\\xef\\xbf\\xbd\\xef\\xbf\\xbd6\\xef\\xbf\\xbd&b\\xef\\xbf\\xbd\\\\\\xef\\xbf\\xbd\\xef\\xbf\\xbd\\xef\\xbf\\xbd1o\\xef\\xbf\\xbdW{K\\xef\\xbf\\xbd#\\xef\\xbf\\xbd\\xef\\xbf\\xbd\\xd4\\x9c+RY\\x1d\\xef\\xbf\\xbdH\\xef\\xbf\\xbd\\x01(k\\xef\\xbf\\xbd\\x18\\xef\\xbf\\xbd>\\xef\\xbf\\xbdk,,\\xef\\xbf\\xbd\\xef\\xbf\\xbd\\x1b\\xef\\xbf\\xbd\\xef\\xbf\\xbd\\xc3\\xa6\\xef\\xbf\\xbdk\\xef\\xbf\\xbd\\xef\\xbf\\xbd|\\x02qL\\xef\\xbf\\xbd\\xef\\xbf\\xbd=\\xef\\xbf\\xbd\\xef\\xbf\\xbd\\xef\\xbf\\xbd|$\\xef\\xbf\\xbd\\x12\\xef\\xbf\\xbdY\\xef\\xbf\\xbdb\\xef\\xbf\\xbd\\xef\\xbf\\xbdCa\\x0b\\n8\\xef\\xbf\\xbdcY\\xef\\xbf\\xbdY\\x16R\\xef\\xbf\\xbd\\xef\\xbf\\xbdy%\\xef\\xbf\\xbd?\\xef\\xbf\\xbdF `\\x11Y)y\\'\\x11\\x0b+\\x7f^IAr\\xef\\xbf\\xbd\\xef\\xbf\\xbd-\\xc9\\xadf\\x01U\\xef\\xbf\\xbd\\xef\\xbf\\xbd<\\x12\\xef\\xbf\\xbd\\xef\\xbf\\xbd\\xef\\xbf\\xbd$G\\r\\xef\\xbf\\xbd\\xef\\xbf\\xbd\\xef\\xbf\\xbd\\xef\\xbf\\xbd\\xef\\xbf\\xbd\\xd3\\xbaXw@\\xdb\\x91\\xef\\xbf\\xbd\\xef\\xbf\\xbdRL\\xc8\\xa4U\\xef\\xbf\\xbd!\\xef\\xbf\\xbd\\x1b\\xef\\xbf\\xbd\"\\xef\\xbf\\xbd}^X\\xef\\xbf\\xbd\\xef\\xbf\\xbdSzh;\\xef\\xbf\\xbdH\\xef\\xbf\\xbdl\\xef\\xbf\\xbd\\xef\\xbf\\xbd\\xef\\xbf\\xbd/ \\xef\\xbf\\xbd\\xef\\xbf\\xbd0\\xef\\xbf\\xbdo5\\xef\\xbf\\xbd\\xef\\xbf\\xbd`AQ\\xef\\xbf\\xbdw\\xef\\xbf\\xbd\\xef\\xbf\\xbd\\xef\\xbf\\xbd\\xef\\xbf\\xbd\\xef\\xbf\\xbd+\\xef\\xbf\\xbd\\xef\\xbf\\xbd&\\xef\\xbf\\xbdl\\x0c-m\\xef\\xbf\\xbd}\\xc3\\x93\\xef\\xbf\\xbd\\xef\\xbf\\xbd?\\xef\\xbf\\xbd\\xef\\xbf\\xbdX\\xef\\xbf\\xbd\\xef\\xbf\\xbd5',\n",
       " b'\\x00\\x0c\\x81\\x80\\x00\\x01\\x00\\x01\\x00\\x00\\x00\\x00\\x06google\\x03com\\x00\\x00\\x1c\\x00\\x01\\xc0\\x0c\\x00\\x1c\\x00\\x01\\x00\\x00\\x01\\x1c\\x00\\x10&\\x07\\xf8\\xb0@\\x05\\x08\\x07\\x00\\x00\\x00\\x00\\x00\\x00 \\x0e',\n",
       " b'\\x00\\x0c\\x01\\x00\\x00\\x01\\x00\\x00\\x00\\x00\\x00\\x00\\x06google\\x03com\\x00\\x00\\x1c\\x00\\x01yS\\xef\\xbf\\xbd\\t\\xef\\xbf\\xbd\\xef\\xbf\\xbdO\\xef\\xbf\\xbd\\x08!\\xef\\xbf\\xbd\\xef\\xbf\\xbd\\xef\\xbf\\xbd4\\xef\\xbf\\xbd\\xe5\\x8c\\x8c\\xef\\xbf\\xbde\\x07\\n\\xef\\xbf\\xbd\\xef\\xbf\\xbd\\xef\\xbf\\xbd2)\\xc8\\xb3\\xef\\xbf\\xbdK\\xef\\xbf\\xbdS\\n\\xef\\xbf\\xbd`\\xd4\\x8d\\xef\\xbf\\xbdI\\x02\\x16D\\x14BL\\xef\\xbf\\xbd\\xef\\xbf\\xbd\\xef\\xbf\\xbd5\\xef\\xbf\\xbd\"\\xef\\xbf\\xbd\\xef\\xbf\\xbd\\xef\\xbf\\xbd\"VwF\\n3\\xef\\xbf\\xbd\\xd8\\x8bK\\xef\\xbf\\xbd~\\x11\\xef\\xbf\\xbd]{\\xef\\xbf\\xbd\\xef\\xbf\\xbdl\\xef\\xbf\\xbd\\xef\\xbf\\xbdD\\xef\\xbf\\xbd6~\\xef\\xbf\\xbds\\xc8\\x90\\xef\\xbf\\xbd\\x10p\\x18@\\xef\\xbf\\xbd\\x12\\xdf\\x90\\xef\\xbf\\xbd\\xef\\xbf\\xbd\\xef\\xbf\\xbdr\\xef\\xbf\\xbd\\xef\\xbf\\xbd\\xef\\xbf\\xbd\\xef\\xbf\\xbd\\x1f\\xef\\xbf\\xbdr\\xef\\xbf\\xbd`\\xef\\xbf\\xbdOR.GG\\xef\\xbf\\xbd\\xef\\xbf\\xbd\\xef\\xbf\\xbdB\\xef\\xbf\\xbd\\xef\\xbf\\xbd\\x0f\\x1e-\\xef\\xbf\\xbd|,v\\xef\\xbf\\xbd\\x10!M\\xef\\xbf\\xbdw*\\xef\\xbf\\xbd!#\\xef\\xbf\\xbd\\xef\\xbf\\xbd\\xef\\xbf\\xbd0\\xef\\xbf\\xbd \\xef\\xbf\\xbd\\xef\\xbf\\xbdc\\xef\\xbf\\xbdlyG\\x1a>\\xef\\xbf\\xbd\\x08G\\xef\\xbf\\xbdvv\\xc4\\xaf\\x15\\xef\\xbf\\xbd\\xef\\xbf\\xbd{l?4w\\xef\\xbf\\xbd\\xef\\xbf\\xbd!\\xe0\\xb5\\x88g\\xef\\xbf\\xbd\\xef\\xbf\\xbd\\xef\\xbf\\xbd\\x17\\xef\\xbf\\xbd^\\xef\\xbf\\xbd\\xef\\xbf\\xbdR\\xef\\xbf\\xbd_D\\xef\\xbf\\xbd\\xcb\\xbd\\xef\\xbf\\xbd=\\x17\\xef\\xbf\\xbdb\\xef\\xbf\\xbd0\\xef\\xbf\\xbd\\xef\\xbf\\xbd{\\xdd\\xb3\\xef\\xbf\\xbdm\\xef\\xbf\\xbdT\\xef\\xbf\\xbd{\\xef\\xbf\\xbd\\x00@\\xef\\xbf\\xbd\\xef\\xbf\\xbd\\xdf\\x848\\xef\\xbf\\xbd\\xef\\xbf\\xbd=\\xef\\xbf\\xbd_N\\xef\\xbf\\xbd\\x02m\\xef\\xbf\\xbd \\x04\\x1a,\\x04\\xef\\xbf\\xbd]X\\xef\\xbf\\xbd\\xef\\xbf\\xbdUT:/\\x1a0\\xef\\xbf\\xbdI\\xef\\xbf\\xbd\\xc7\\xab\\xef\\xbf\\xbd\\xef\\xbf\\xbd\\xd4\\x9c\\x7fH~\\x1d\\x14&\\xef\\xbf\\xbd\\x1d\\x04\\xef\\xbf\\xbd\\xef\\xbf\\xbd\\xef\\xbf\\xbd,{\\x0b\\x0b?\\x0fs\\xef\\xbf\\xbd\\xef\\xbf\\xbd\\xef\\xbf\\xbd\\xef\\xbf\\xbd\\xef\\xbf\\xbdy%\\xef\\xbf\\xbd\\x02q\\xef\\xbf\\xbd}\\xe7\\x8c\\xb2\\xef\\xbf\\xbd\\x00\\xef\\xbf\\xbdMv]mK\\xef\\xbf\\xbd/\\xee\\x8f\\x8a\\xef\\xbf\\xbd_c\\xef\\xbf\\xbd\\xef\\xbf\\xbd:z\\xef\\xbf\\xbd\\xef\\xbf\\xbdMJ\\x18\\xef\\xbf\\xbd\\xef\\xbf\\xbd9\\xef\\xbf\\xbde\\x02\\xef\\xbf\\xbdM\\xef\\xbf\\xbd,\\x0eF\\xef\\xbf\\xbd\\xef\\xbf\\xbd\\x13\\xef\\xbf\\xbd#[\\xef\\xbf\\xbdX\\xef\\xbf\\xbd{P\\xef\\xbf\\xbd\\xef\\xbf\\xbdy\\xef\\xbf\\xbdU\\xef\\xbf\\xbd\\xef\\xbf\\xbd\\xef\\xbf\\xbdkW\\xef\\xbf\\xbda\\xef\\xbf\\xbdG\\x11\\xef\\xbf\\xbdj_gb^\\xef\\xbf\\xbd\\xef\\xbf\\xbd\\r\\x06\\xef\\xbf\\xbd\\xef\\xbf\\xbd\\xef\\xbf\\xbd\\x11\\xef\\xbf\\xbd\\xef\\xbf\\xbd\\xef\\xbf\\xbd\\x1d\\xef\\xbf\\xbd)\\x14\\xef\\xbf\\xbde\\xef\\xbf\\xbd\\xef\\xbf\\xbd\\xef\\xbf\\xbdJ\\x12\\xef\\xbf\\xbd\\xd9\\x9a\\xef\\xbf\\xbdX\\xef\\xbf\\xbd\\'\\xef\\xbf\\xbd\\xef\\xbf\\xbdH\\x1d\\xca\\xba\\xef\\xbf\\xbd\\x1f9M\\xef\\xbf\\xbdin\\xef\\xbf\\xbd\\xef\\xbf\\xbd\\xef\\xbf\\xbd\"z\\xef\\xbf\\xbd \\xef\\xbf\\xbd\\x1d]\\xef\\xbf\\xbdZ\\x14\\xef\\xbf\\xbdGD\\xef\\xbf\\xbd\\x0e\\x11|hk\\xef\\xbf\\xbd\\xef\\xbf\\xbd\\xef\\xbf\\xbdg\\xef\\xbf\\xbdX>\\xef\\xbf\\xbd\\xef\\xbf\\xbd{\\x12fA\\xef\\xbf\\xbd\\xef\\xbf\\xbd\\x1d~\\x0f\\xef\\xbf\\xbd\\x11\\xef\\xbf\\xbd\\xef\\xbf\\xbd`\\x12\\xef\\xbf\\xbd\\x07D\\xef\\xbf\\xbd\\xef\\xbf\\xbd\\x00G\\xef\\xbf\\xbd\\xef\\xbf\\xbdF\\x08]\\xe2\\x8f\\xbd\\xef\\xbf\\xbd\\xef\\xbf\\xbd\\xef\\xbf\\xbd\\xef\\xbf\\xbd\\x05D\\xef\\xbf\\xbd\\xef\\xbf\\xbd\\\\kE\\xef\\xbf\\xbd\\xef\\xbf\\xbd\\xef\\xbf\\xbd\\xef\\xbf\\xbd\\xef\\xbf\\xbdXR\\x0e?c\\xef\\xbf\\xbd\\xef\\xbf\\xbd\\xef\\xbf\\xbd7!\\xef\\xbf\\xbd\\xef\\xbf\\xbd\\xef\\xbf\\xbd\\x03\\x07\\x1b\\xef\\xbf\\xbdCS\\xef\\xbf\\xbd\\t\\x07\\x1c\\x15d\\xef\\xbf\\xbd\\xef\\xbf\\xbd\\x0e)Vzd\\xef\\xbf\\xbd\\xef\\xbf\\xbd\\xef\\xbf\\xbd\"\\xef\\xbf\\xbd\\xef\\xbf\\xbd\\xdd\\xb5\\xef\\xbf\\xbd\\xef\\xbf\\xbd\\x12\\xef\\xbf\\xbd%\\x1b\\xef\\xbf\\xbdMS]\\xef\\xbf\\xbd\\xef\\xbf\\xbd\\xef\\xbf\\xbd',\n",
       " b'\\x00\\x0c\\x81\\x80\\x00\\x01\\x00\\x01\\x00\\x00\\x00\\x00\\x06google\\x03com\\x00\\x00\\x1c\\x00\\x01\\xc0\\x0c\\x00\\x1c\\x00\\x01\\x00\\x00\\x01\\x1b\\x00\\x10&\\x07\\xf8\\xb0@\\x05\\x08\\x07\\x00\\x00\\x00\\x00\\x00\\x00 \\x0e',\n",
       " b'\\x00\\x0c\\x01\\x00\\x00\\x01\\x00\\x00\\x00\\x00\\x00\\x00\\x06google\\x03com\\x00\\x00\\x1c\\x00\\x01\\x1d9\\xef\\xbf\\xbd\\x15\\xc6\\xb8\\xef\\xbf\\xbd\\nc\\xef\\xbf\\xbd\\xef\\xbf\\xbd{\\x1b\\xef\\xbf\\xbd(\\xef\\xbf\\xbd\\xef\\xbf\\xbd6\\x17\\t\\x05\\xef\\xbf\\xbd\\xef\\xbf\\xbdo\\xef\\xbf\\xbd\"\\x1d\\xef\\xbf\\xbdv\\xef\\xbf\\xbdKD\\xef\\xbf\\xbd\\xef\\xbf\\xbdP\\xcb\\xa4\\xef\\xbf\\xbd\\xef\\xbf\\xbd\\x18\\x1d\\\\Q6E\\x11\\xef\\xbf\\xbd\"\\xef\\xbf\\xbdWCk\\xef\\xbf\\xbd-\\x18\\x17\\xef\\xbf\\xbd\\x1b\\xef\\xbf\\xbd\\xef\\xbf\\xbd\\xef\\xbf\\xbd\\x04 \\xef\\xbf\\xbd]]\\tTq\\xef\\xbf\\xbdx\\xd6\\xbcE\\xef\\xbf\\xbdG\\x01\\xef\\xbf\\xbd\\xef\\xbf\\xbd]\\xef\\xbf\\xbdK\\xef\\xbf\\xbd\\xef\\xbf\\xbd\\xef\\xbf\\xbd\\x02\\xef\\xbf\\xbd\\x04\\xef\\xbf\\xbd\\xef\\xbf\\xbd\\xef\\xbf\\xbd\\xef\\xbf\\xbd\\n\\xef\\xbf\\xbd\\xcc\\xa0\\xef\\xbf\\xbdl\\xef\\xbf\\xbd\\xef\\xbf\\xbd\\xef\\xbf\\xbd[\\xef\\xbf\\xbd\\xef\\xbf\\xbd`q\\x17\\n\\xef\\xbf\\xbd\\xef\\xbf\\xbd\\xef\\xbf\\xbd\\xef\\xbf\\xbdD\\xef\\xbf\\xbdx\\xef\\xbf\\xbd\\xef\\xbf\\xbd\\xef\\xbf\\xbdr\\xef\\xbf\\xbd\\xef\\xbf\\xbdy\\x0bSJ\\xef\\xbf\\xbdSPTr\\x0e\\xef\\xbf\\xbd8\\xef\\xbf\\xbdk}\\xef\\xbf\\xbd\\xef\\xbf\\xbd\\r\\xef\\xbf\\xbd\\x0b2\\xef\\xbf\\xbd^!e\\xef\\xbf\\xbd\\xef\\xbf\\xbd\\xef\\xbf\\xbd\\xef\\xbf\\xbd\\xef\\xbf\\xbd\\xef\\xbf\\xbda\\xd8\\x92\\xef\\xbf\\xbd\\xef\\xbf\\xbd\\xef\\xbf\\xbd\\x1d\\xef\\xbf\\xbdc\\x1a\\xef\\xbf\\xbd\\xef\\xbf\\xbd\\xef\\xbf\\xbd\\x18_\\xef\\xbf\\xbd7\\xce\\xaf\\xef\\xbf\\xbd\\x1b\\xdf\\x8f\\xdc\\x80M\\xef\\xbf\\xbd4\\xcd\\x90\\xef\\xbf\\xbd\\t\\xef\\xbf\\xbd!\\xef\\xbf\\xbd\\xef\\xbf\\xbdo\\xef\\xbf\\xbd\\x1e\\xef\\xbf\\xbd\\x1byA\\x7f\\xef\\xbf\\xbd\\x19\\xef\\xbf\\xbd\\xef\\xbf\\xbd\\xef\\xbf\\xbdl\\x15V\\xef\\xbf\\xbd\\xef\\xbf\\xbdu`\\xef\\xbf\\xbd\\x149\\x079^L\\\\e\\xef\\xbf\\xbd\\xef\\xbf\\xbdD}\\xef\\xbf\\xbd\\xef\\xbf\\xbd>\\xde\\xbd\\xef\\xbf\\xbd`n\\xef\\xbf\\xbdoL\\x0c\\xef\\xbf\\xbd\\xcb\\xa64\\xd7\\xae\\x1f\\xef\\xbf\\xbd\\xef\\xbf\\xbd\\xef\\xbf\\xbd\\x105*\\xef\\xbf\\xbdG\\x0f\\xef\\xbf\\xbd\\xef\\xbf\\xbdE\\xef\\xbf\\xbd\\xef\\xbf\\xbd\\xef\\xbf\\xbdu\\xef\\xbf\\xbd\\xef\\xbf\\xbd\\x13\\xef\\xbf\\xbd]e\\xef\\xbf\\xbd_wm\\xef\\xbf\\xbd\\xef\\xbf\\xbd\\xef\\xbf\\xbd\\xef\\xbf\\xbd\\x0eB\\xef\\xbf\\xbd\\xef\\xbf\\xbd9\\x18>\\xef\\xbf\\xbdn\\xef\\xbf\\xbd7!\\xef\\xbf\\xbd\\xef\\xbf\\xbdP\\xef\\xbf\\xbd\\xef\\xbf\\xbd\\xef\\xbf\\xbd]\\xef\\xbf\\xbd\\xef\\xbf\\xbd\\xc9\\xac\\xef\\xbf\\xbd\\xc4\\x82\\xef\\xbf\\xbdYB\\xef\\xbf\\xbd\\xef\\xbf\\xbd\\x0b}\\xef\\xbf\\xbd\\'gy\\x17\\xef\\xbf\\xbd\\xef\\xbf\\xbd\\xef\\xbf\\xbd1\\xef\\xbf\\xbdzD\\x08\\x06\\'\\x1e\\xef\\xbf\\xbd\\xef\\xbf\\xbd\\xef\\xbf\\xbd\\xef\\xbf\\xbd\\xef\\xbf\\xbd\\xef\\xbf\\xbd\\xef\\xbf\\xbd\\xec\\x84\\x98\\xef\\xbf\\xbd\\x10\\xef\\xbf\\xbd\\xef\\xbf\\xbdC\\xef\\xbf\\xbdpqbo\\xef\\xbf\\xbd\"\\xef\\xbf\\xbduqI\\xcf\\xb8\\xef\\xbf\\xbd\\xef\\xbf\\xbdCQ\\xc8\\xa1v\\xef\\xbf\\xbd;t\\xef\\xbf\\xbdiJ\\xef\\xbf\\xbd\\xef\\xbf\\xbd\\xef\\xbf\\xbd7\\xef\\xbf\\xbd\\xef\\xbf\\xbdV]a,\\xef\\xbf\\xbd\\xef\\xbf\\xbd\\x1d\\xef\\xbf\\xbd\\xef\\xbf\\xbd2\\xcd\\xb9\\xef\\xbf\\xbd\\x15\\xef\\xbf\\xbd\\xef\\xbf\\xbd\\xef\\xbf\\xbd\\x01\\xef\\xbf\\xbd\\x7f\\x1f\\xef\\xbf\\xbd%\\xef\\xbf\\xbd\\xef\\xbf\\xbd\\xef\\xbf\\xbd[\\xef\\xbf\\xbd\\xef\\xbf\\xbd\\xef\\xbf\\xbd\\xef\\xbf\\xbd\\'\\xef\\xbf\\xbd\\x01I\\x11m\\xef\\xbf\\xbd\\xef\\xbf\\xbd\\x1bS:\\xef\\xbf\\xbda\\xef\\xbf\\xbd\\xef\\xbf\\xbdX\\xef\\xbf\\xbd8)\\xef\\xbf\\xbdf3.\\xef\\xbf\\xbd\\xef\\xbf\\xbd{=R\\xef\\xbf\\xbd\\xef\\xbf\\xbd\\x15>d\\xef\\xbf\\xbd\\x19\\xef\\xbf\\xbd\\x1c\\xef\\xbf\\xbd)\\x06\\x07\\xef\\xbf\\xbd\\x1d_p\\xef\\xbf\\xbd\\xef\\xbf\\xbd\\xef\\xbf\\xbd(\\xef\\xbf\\xbd\\x14Q\\xef\\xbf\\xbdpS\\xef\\xbf\\xbd\\xef\\xbf\\xbd\\x1a\\xef\\xbf\\xbdX\\xef\\xbf\\xbd(`Nw7\\xef\\xbf\\xbd\\xef\\xbf\\xbd\\xef\\xbf\\xbdUK\\xef\\xbf\\xbd\"\\xef\\xbf\\xbd\\x1d\\xef\\xbf\\xbd\\xef\\xbf\\xbd\\xda\\xb5\\xef\\xbf\\xbd\\xef\\xbf\\xbd\\xef\\xbf\\xbdV\\xef\\xbf\\xbd?JD+\\xef\\xbf\\xbd\\xef\\xbf\\xbd*\\xef\\xbf\\xbd\\xef\\xbf\\xbd\\x1e\\xef\\xbf\\xbd\\xef\\xbf\\xbd\\xd3\\x85\\xef\\xbf\\xbd9\\xef\\xbf\\xbd\\x12\\xef\\xbf\\xbd\\t\\x05\\xef\\xbf\\xbd\\xef\\xbf\\xbdmo\\xef\\xbf\\xbd\\xef\\xbf\\xbd\\xef\\xbf\\xbd\\xef\\xbf\\xbdl\\xef\\xbf\\xbd\\xef\\xbf\\xbd\\xef\\xbf\\xbd\\xef\\xbf\\xbd}\\xef\\xbf\\xbd\\xef\\xbf\\xbdGK\\xef\\xbf\\xbd',\n",
       " b'\\x00\\x0c\\x81\\x80\\x00\\x01\\x00\\x01\\x00\\x00\\x00\\x00\\x06google\\x03com\\x00\\x00\\x1c\\x00\\x01\\xc0\\x0c\\x00\\x1c\\x00\\x01\\x00\\x00\\x01\\x1a\\x00\\x10&\\x07\\xf8\\xb0@\\x05\\x08\\x07\\x00\\x00\\x00\\x00\\x00\\x00 \\x0e',\n",
       " b\"\\x00\\x0c\\x01\\x00\\x00\\x01\\x00\\x00\\x00\\x00\\x00\\x00\\x06google\\x03com\\x00\\x00\\x1c\\x00\\x01O\\xef\\xbf\\xbd\\xef\\xbf\\xbd\\xef\\xbf\\xbd\\xef\\xbf\\xbd\\xc8\\x80\\xef\\xbf\\xbd\\xef\\xbf\\xbd\\xef\\xbf\\xbd\\xef\\xbf\\xbd\\x0c3\\xef\\xbf\\xbd\\x08>\\xef\\xbf\\xbdq6A\\xef\\xbf\\xbdhX\\xcd\\xaa\\xef\\xbf\\xbd]\\x0c\\xef\\xbf\\xbd\\xef\\xbf\\xbd\\xef\\xbf\\xbd\\xef\\xbf\\xbd@\\xef\\xbf\\xbd$M\\nK\\xef\\xbf\\xbdU\\xef\\xbf\\xbd\\xef\\xbf\\xbdu\\x1e\\xef\\xbf\\xbd\\x1a\\x1a\\xef\\xbf\\xbd\\xef\\xbf\\xbd\\x11\\xef\\xbf\\xbd{\\xef\\xbf\\xbd6\\xef\\xbf\\xbd\\x00\\xef\\xbf\\xbd\\xef\\xbf\\xbd:\\xef\\xbf\\xbd\\xef\\xbf\\xbd\\n}\\xef\\xbf\\xbd[\\xef\\xbf\\xbd\\xef\\xbf\\xbd\\xef\\xbf\\xbd\\xef\\xbf\\xbd\\x05IHx\\x02\\x12\\xef\\xbf\\xbd\\x01B\\x0b\\xef\\xbf\\xbd\\x7fT\\xef\\xbf\\xbd\\\\\\xef\\xbf\\xbdX\\xef\\xbf\\xbdw\\xef\\xbf\\xbd\\xef\\xbf\\xbd\\x0e\\xef\\xbf\\xbd\\xef\\xbf\\xbd\\x1b\\xef\\xbf\\xbdPtM\\xef\\xbf\\xbd3\\xef\\xbf\\xbd=\\xef\\xbf\\xbdiRV\\xc2\\x9eiZ\\xef\\xbf\\xbd\\x05\\xef\\xbf\\xbd\\xef\\xbf\\xbd\\x7f\\xef\\xbf\\xbd\\xef\\xbf\\xbd\\xef\\xbf\\xbd|\\xef\\xbf\\xbd\\xef\\xbf\\xbd\\xef\\xbf\\xbd\\xef\\xbf\\xbdf\\xef\\xbf\\xbd\\xef\\xbf\\xbd\\xef\\xbf\\xbdV\\xef\\xbf\\xbd\\xef\\xbf\\xbd\\xef\\xbf\\xbd~chU`\\xef\\xbf\\xbd_\\xef\\xbf\\xbdx N\\x1a\\xef\\xbf\\xbd\\xef\\xbf\\xbd\\xef\\xbf\\xbd\\xef\\xbf\\xbd\\xef\\xbf\\xbdP\\xef\\xbf\\xbd\\xef\\xbf\\xbdm\\\\\\xd1\\xbdU~\\xef\\xbf\\xbdS\\xef\\xbf\\xbd\\r?x9\\xef\\xbf\\xbd{(\\x13%E'E\\xef\\xbf\\xbd'\\xef\\xbf\\xbdV_*\\xd6\\x90@\\xef\\xbf\\xbd\\xef\\xbf\\xbdk}K\\x0854w\\xef\\xbf\\xbd\\xef\\xbf\\xbd\\xef\\xbf\\xbd;\\x0f\\xef\\xbf\\xbd\\xef\\xbf\\xbd\\xef\\xbf\\xbdC\\xef\\xbf\\xbd\\xef\\xbf\\xbd2X\\xef\\xbf\\xbd\\xef\\xbf\\xbd6\\xef\\xbf\\xbd\\xef\\xbf\\xbd\\xef\\xbf\\xbdox\\xef\\xbf\\xbdR\\x01\\x1b\\xef\\xbf\\xbd\\x0f\\xef\\xbf\\xbd\\xef\\xbf\\xbdb}\\xef\\xbf\\xbd\\xef\\xbf\\xbd\\xcb\\xb3g\\xef\\xbf\\xbdq\\xef\\xbf\\xbdu\\xef\\xbf\\xbd\\xef\\xbf\\xbd\\x12\\xef\\xbf\\xbd.\\xef\\xbf\\xbd\\xef\\xbf\\xbd\\x0f\\xef\\xbf\\xbdk\\xef\\xbf\\xbd\\x1d\\x19\\xef\\xbf\\xbd\\xef\\xbf\\xbd\\xef\\xbf\\xbd%\\xef\\xbf\\xbd\\x16\\xef\\xbf\\xbd\\x19\\xef\\xbf\\xbd\\x1e\\xef\\xbf\\xbd+\\xef\\xbf\\xbd\\xef\\xbf\\xbd\\xef\\xbf\\xbd\\xef\\xbf\\xbd^\\x1d\\xef\\xbf\\xbd\\xef\\xbf\\xbd\\x13\\xef\\xbf\\xbd\\xef\\xbf\\xbd\\x0f\\x13}\\xef\\xbf\\xbd2\\xef\\xbf\\xbd5\\xef\\xbf\\xbd\\xef\\xbf\\xbd@\\xef\\xbf\\xbd\\xef\\xbf\\xbd?\\xef\\xbf\\xbd\\xef\\xbf\\xbd\\xef\\xbf\\xbd_\\xef\\xbf\\xbd8\\xef\\xbf\\xbd\\xef\\xbf\\xbdg\\x1e<\\x1c\\xef\\xbf\\xbd\\x1b\\xef\\xbf\\xbd\\x15\\xef\\xbf\\xbd\\xef\\xbf\\xbdt\\xef\\xbf\\xbd\\xef\\xbf\\xbd\\xef\\xbf\\xbd\\x10\\x08\\xef\\xbf\\xbds<r\\xef\\xbf\\xbd\\x070\\xef\\xbf\\xbd\\x06\\xdb\\x98\\xcb\\x98\\xef\\xbf\\xbd\\xef\\xbf\\xbd\\xcc\\x91\\xef\\xbf\\xbdc2$\\x14\\x03ux}\\xef\\xbf\\xbd\\xef\\xbf\\xbd\\xef\\xbf\\xbdD\\xef\\xbf\\xbd\\x1f\\xef\\xbf\\xbd\\xef\\xbf\\xbdr\\xef\\xbf\\xbdETHu\\xef\\xbf\\xbd\\x0f\\xef\\xbf\\xbd\\x02.\\xef\\xbf\\xbd\\xef\\xbf\\xbd\\xef\\xbf\\xbd[j\\x03\\xef\\xbf\\xbd_\\xef\\xbf\\xbd\\xef\\xbf\\xbd\\xef\\xbf\\xbd\\xef\\xbf\\xbd5Fs(Ls\\xef\\xbf\\xbd\\x15\\xc6\\x98\\xef\\xbf\\xbd\\xef\\xbf\\xbdK\\xef\\xbf\\xbd\\x0f\\xef\\xbf\\xbd+\\xef\\xbf\\xbd\\xef\\xbf\\xbd%\\n\\xef\\xbf\\xbd\\xef\\xbf\\xbd\\xef\\xbf\\xbdy\\xef\\xbf\\xbd\\t\\x1a-\\xef\\xbf\\xbd\\x0f\\xef\\xbf\\xbd\\xef\\xbf\\xbd\\x1a\\xce\\xb2q\\xef\\xbf\\xbd\\xef\\xbf\\xbd\\xef\\xbf\\xbdV\\xdb\\xb1\\xef\\xbf\\xbd\\xef\\xbf\\xbdI\\\\\\xef\\xbf\\xbd\\xef\\xbf\\xbdL}\\xef\\xbf\\xbd\\xef\\xbf\\xbd\\xef\\xbf\\xbd\\r\\xef\\xbf\\xbd\\xef\\xbf\\xbd8\\xd6\\x8d\\xef\\xbf\\xbd\\xef\\xbf\\xbd]\\xef\\xbf\\xbd\\xef\\xbf\\xbd>\\xef\\xbf\\xbda\\\\\\x13\\xef\\xbf\\xbd\\xef\\xbf\\xbd&\\xef\\xbf\\xbd\\xc3\\xac\\xef\\xbf\\xbd\\xef\\xbf\\xbd\\xef\\xbf\\xbd\\xef\\xbf\\xbd\\xef\\xbf\\xbdE\\xe1\\xad\\x89\\xef\\xbf\\xbd\\xef\\xbf\\xbd\\xef\\xbf\\xbd6\\xef\\xbf\\xbd\\x16\\xef\\xbf\\xbd{]B\\xef\\xbf\\xbd\\x1f\\x14xK;\\xef\\xbf\\xbd\\x1a6\\xef\\xbf\\xbd\\xef\\xbf\\xbd\\xef\\xbf\\xbd\\xef\\xbf\\xbd\\xef\\xbf\\xbd\\x15\\x06VU\\xef\\xbf\\xbd\\xef\\xbf\\xbd;\\xef\\xbf\\xbd\\x1f\\xef\\xbf\\xbd#\\x05\\xef\\xbf\\xbd$^=+\\x05\\xef\\xbf\\xbdK\\xdc\\xa6\\xef\\xbf\\xbdv\\xef\\xbf\\xbdN\\xef\\xbf\\xbd?\\x08\\rn\\xef\\xbf\\xbdw!\\xef\\xbf\\xbd\\x19YK\\x0f\\x1d\\xd8\\x97C\\xef\\xbf\\xbd\\xef\\xbf\\xbd^\\xef\\xbf\\xbd\\xef\\xbf\\xbd\\xdf\\xbb\",\n",
       " b'\\x00\\x0c\\x81\\x80\\x00\\x01\\x00\\x01\\x00\\x00\\x00\\x00\\x06google\\x03com\\x00\\x00\\x1c\\x00\\x01\\xc0\\x0c\\x00\\x1c\\x00\\x01\\x00\\x00\\x01\\x19\\x00\\x10&\\x07\\xf8\\xb0@\\x05\\x08\\x07\\x00\\x00\\x00\\x00\\x00\\x00 \\x0e',\n",
       " b'\\x00\\x0c\\x01\\x00\\x00\\x01\\x00\\x00\\x00\\x00\\x00\\x00\\x06google\\x03com\\x00\\x00\\x1c\\x00\\x01\\xef\\xbf\\xbd\\xef\\xbf\\xbdX\\xef\\xbf\\xbd\\xef\\xbf\\xbd\\t\\xef\\xbf\\xbd\\xf3\\xbc\\x89\\xb7\\xef\\xbf\\xbd9ux\\xef\\xbf\\xbd2\\xef\\xbf\\xbdL\\x1b\\xef\\xbf\\xbd\\xef\\xbf\\xbd\\x16\\xd8\\x8e\\xef\\xbf\\xbd\\xef\\xbf\\xbd\\\\\\x01H4\\xef\\xbf\\xbd#\\xef\\xbf\\xbd\\xef\\xbf\\xbd\\xef\\xbf\\xbd\\xef\\xbf\\xbd\\x08\\xef\\xbf\\xbd\\x7f\\xef\\xbf\\xbd~\\xef\\xbf\\xbd\\xdd\\x9an\\xef\\xbf\\xbd\\xef\\xbf\\xbdV^\\xd4\\xb5n[ p\\xef\\xbf\\xbd\\xef\\xbf\\xbd\\xef\\xbf\\xbd]r\\xef\\xbf\\xbdH\\xef\\xbf\\xbdiv\\xe1\\x99\\x9a\\n\\xef\\xbf\\xbd\\x7f\\x12\\x1doVQ\\xef\\xbf\\xbd\\x11\\xef\\xbf\\xbd\\xef\\xbf\\xbd6&TB\\xef\\xbf\\xbd\\xef\\xbf\\xbd.\\xef\\xbf\\xbdl#\\x014\\xef\\xbf\\xbd\\r\\xe6\\xb3\\xbc\\xd3\\xae\\xef\\xbf\\xbd\\xef\\xbf\\xbd\\xef\\xbf\\xbdA\\xef\\xbf\\xbd\\xef\\xbf\\xbd7\\xef\\xbf\\xbdX\\xef\\xbf\\xbd\\xef\\xbf\\xbdw\\xef\\xbf\\xbd\\xef\\xbf\\xbd\\xef\\xbf\\xbdzJ\\xef\\xbf\\xbd\\xef\\xbf\\xbd\\x023\\xef\\xbf\\xbd\\xef\\xbf\\xbdbrO0rM\\xef\\xbf\\xbdD}\\xef\\xbf\\xbd\\xef\\xbf\\xbdI*~\\xde\\x8b\\xef\\xbf\\xbd\\xef\\xbf\\xbd\\x02\\xef\\xbf\\xbd_\\xef\\xbf\\xbd\\xef\\xbf\\xbd\\xef\\xbf\\xbd\\xda\\xb5c-;I\\xef\\xbf\\xbdx\\xef\\xbf\\xbdR\\x13\\x7f/\\xef\\xbf\\xbd\\xef\\xbf\\xbd\\x1b\\xef\\xbf\\xbd\\xef\\xbf\\xbd\\xef\\xbf\\xbd\\xdd\\x9eg\\x15\\xef\\xbf\\xbd.\\xef\\xbf\\xbd\\xef\\xbf\\xbdt\\t\\xef\\xbf\\xbd\\xef\\xbf\\xbdoy|\\xef\\xbf\\xbd\\xef\\xbf\\xbd\\xef\\xbf\\xbd~4\\xef\\xbf\\xbd\\xdb\\x93\\x19\\xef\\xbf\\xbd\\xef\\xbf\\xbd\\xef\\xbf\\xbd\\x01#\\xef\\xbf\\xbd\\xd0\\x9a\\xd6\\xb2%XY\\xef\\xbf\\xbd\\xef\\xbf\\xbd\\xef\\xbf\\xbd\\x1f\\x1c\\xef\\xbf\\xbd>\\x14K\\xef\\xbf\\xbdin\\x17\\xef\\xbf\\xbd\\x18H\\xef\\xbf\\xbd\\xef\\xbf\\xbd\\xef\\xbf\\xbd\\x0bKs\\xef\\xbf\\xbdb\\xef\\xbf\\xbdf\\xef\\xbf\\xbd\\xef\\xbf\\xbd\\xef\\xbf\\xbd\\xef\\xbf\\xbd\\x17\\xef\\xbf\\xbd\\xef\\xbf\\xbd\\xd2\\xa7P\\xef\\xbf\\xbd\\xef\\xbf\\xbd\\xef\\xbf\\xbdT\\xef\\xbf\\xbd\\xef\\xbf\\xbd\\x13\\xef\\xbf\\xbd\\x10\\xef\\xbf\\xbd\\x15\\xef\\xbf\\xbd\\xef\\xbf\\xbdOx>\\xc4\\x88\\x15\\xef\\xbf\\xbd\\xef\\xbf\\xbd\\xef\\xbf\\xbdQh\\xef\\xbf\\xbd\\xef\\xbf\\xbd\\xef\\xbf\\xbd$\\xef\\xbf\\xbd\\x0e\\xef\\xbf\\xbd\"\\xef\\xbf\\xbd\\xef\\xbf\\xbd\\xef\\xbf\\xbd\\x00\\xef\\xbf\\xbd\\xef\\xbf\\xbd\\tVB!\\xef\\xbf\\xbd\\xef\\xbf\\xbd\\xef\\xbf\\xbdh\\x12\\xef\\xbf\\xbd\\xef\\xbf\\xbd\\xef\\xbf\\xbd\\xef\\xbf\\xbd\\xef\\xbf\\xbd\\xef\\xbf\\xbd\\x00J\\xef\\xbf\\xbd\\xef\\xbf\\xbd\\xef\\xbf\\xbdMH\\xef\\xbf\\xbd\\xef\\xbf\\xbd2\\xef\\xbf\\xbd\\xef\\xbf\\xbdy\\xef\\xbf\\xbd\\xef\\xbf\\xbd,!\\xef\\xbf\\xbd\\xef\\xbf\\xbd\\xef\\xbf\\xbd \\xef\\xbf\\xbd\\x02>\\xef\\xbf\\xbd\\xef\\xbf\\xbd]\\xef\\xbf\\xbd\\xef\\xbf\\xbd\\x05\\xef\\xbf\\xbd\\xef\\xbf\\xbd~\\xef\\xbf\\xbd%B\\xef\\xbf\\xbd\\t\\x19\\x1c\\xef\\xbf\\xbdF$\\xef\\xbf\\xbdw+rM\\xef\\xbf\\xbd\\xef\\xbf\\xbd\\x1e\\xef\\xbf\\xbd$v\\xef\\xbf\\xbde\\xef\\xbf\\xbd\\x13\\xef\\xbf\\xbd\\xef\\xbf\\xbd\\xef\\xbf\\xbd\\xef\\xbf\\xbd\\xef\\xbf\\xbd\\x15\\xef\\xbf\\xbde\\xdf\\x97\\xef\\xbf\\xbd~\\xef\\xbf\\xbdY\\xef\\xbf\\xbd&\\xef\\xbf\\xbd\\xef\\xbf\\xbd\\xef\\xbf\\xbdzU\\xef\\xbf\\xbd\\xef\\xbf\\xbd\\xef\\xbf\\xbd\\xef\\xbf\\xbd\\xef\\xbf\\xbdj\\xef\\xbf\\xbdR`Bo\\x0e\\x11OE\\xef\\xbf\\xbd\\xef\\xbf\\xbd\\xef\\xbf\\xbd\\x7fl\\xef\\xbf\\xbd9\\x1c\\xef\\xbf\\xbd\\x081\\xef\\xbf\\xbd/\\xef\\xbf\\xbd-\\xef\\xbf\\xbd\\xef\\xbf\\xbd\\xef\\xbf\\xbd\\xef\\xbf\\xbd\\xef\\xbf\\xbd\\xef\\xbf\\xbdI\\xd3\\xb67`F\\xef\\xbf\\xbd],\\xef\\xbf\\xbd\\xef\\xbf\\xbd\\xef\\xbf\\xbd\\xef\\xbf\\xbd}\\x04\\xef\\xbf\\xbdM]\\xef\\xbf\\xbd!\\xef\\xbf\\xbd\\xd0\\xa7?[\\xef\\xbf\\xbd7.\\xef\\xbf\\xbd\\xef\\xbf\\xbd\\xef\\xbf\\xbd\\xef\\xbf\\xbd\\t\\xef\\xbf\\xbd2\\x00%\\xef\\xbf\\xbd\\x1dC\\xef\\xbf\\xbd\\x17/\\x1d$T([jx\\n\\xef\\xbf\\xbd\\xef\\xbf\\xbd,@\\xef\\xbf\\xbdC\\xef\\xbf\\xbd/&u6\\x15\\xef\\xbf\\xbd\\xef\\xbf\\xbdD\\x06qv\\xef\\xbf\\xbd\\xef\\xbf\\xbdE\\x1a\\xef\\xbf\\xbd\\x11j|\\xef\\xbf\\xbd\\x13\\xef\\xbf\\xbd9s\\xef\\xbf\\xbd\\xef\\xbf\\xbd\\xef\\xbf\\xbd0uH\\xef\\xbf\\xbd(G\\xef\\xbf\\xbd)\\x00\\xef\\xbf\\xbd\\xef\\xbf\\xbd\\x7f\\x05\\xef\\xbf\\xbd\\xef\\xbf\\xbd\\xef\\xbf\\xbdk\\xef\\xbf\\xbd\\xca\\xb2\\xef\\xbf\\xbdEr\\xef\\xbf\\xbd%\\xef\\xbf\\xbd\\x0c\\x01\\xef\\xbf\\xbdl\\x01',\n",
       " b'\\x00\\x0c\\x81\\x80\\x00\\x01\\x00\\x01\\x00\\x00\\x00\\x00\\x06google\\x03com\\x00\\x00\\x1c\\x00\\x01\\xc0\\x0c\\x00\\x1c\\x00\\x01\\x00\\x00\\x01\\x18\\x00\\x10&\\x07\\xf8\\xb0@\\x05\\x08\\x07\\x00\\x00\\x00\\x00\\x00\\x00 \\x0e',\n",
       " b'\\x00\\x0c\\x01\\x00\\x00\\x01\\x00\\x00\\x00\\x00\\x00\\x00\\x06google\\x03com\\x00\\x00\\x1c\\x00\\x01t\\x03\\n9J\\xef\\xbf\\xbd\\xc4\\x89\\xef\\xbf\\xbd\\t\\xef\\xbf\\xbd\\xef\\xbf\\xbdw\\xef\\xbf\\xbd\\xef\\xbf\\xbdE\\xef\\xbf\\xbdb\\xef\\xbf\\xbd-\\xef\\xbf\\xbdN\\xef\\xbf\\xbdf\\xef\\xbf\\xbd]2\\x10\\xef\\xbf\\xbdD\\xef\\xbf\\xbdX\\n\\xef\\xbf\\xbd\\xef\\xbf\\xbd\\xef\\xbf\\xbd\\xef\\xbf\\xbdyA\\xca\\xb2\\xef\\xbf\\xbd\\xef\\xbf\\xbd\\x05\\xef\\xbf\\xbd=P\\xef\\xbf\\xbd\\x11\\x19\\xef\\xbf\\xbd,]\\xef\\xbf\\xbd.\\xef\\xbf\\xbd\\xef\\xbf\\xbd\\xef\\xbf\\xbdF\\xef\\xbf\\xbd(c\\xef\\xbf\\xbd\\xef\\xbf\\xbd\\x10!\\xef\\xbf\\xbd\\xef\\xbf\\xbdc\\x03@\\xef\\xbf\\xbd\\xef\\xbf\\xbd\\xef\\xbf\\xbd\\xef\\xbf\\xbdG\\r\\x02$\\xef\\xbf\\xbd-G\\xef\\xbf\\xbd\\xef\\xbf\\xbd\\xdc\\x9c\\xef\\xbf\\xbd\\x006t\\xef\\xbf\\xbd/\\xef\\xbf\\xbdMB\\xef\\xbf\\xbdg\\xef\\xbf\\xbdf\\xef\\xbf\\xbd\\xef\\xbf\\xbd\\xcc\\x96\\xef\\xbf\\xbd\\xef\\xbf\\xbdr\\xef\\xbf\\xbd~\\xef\\xbf\\xbd\\xef\\xbf\\xbd\\xef\\xbf\\xbdR\\xef\\xbf\\xbd\\xef\\xbf\\xbd\\xef\\xbf\\xbdJU\\xef\\xbf\\xbd(\\x14\\xef\\xbf\\xbd;\\x1e\\x1e\\xef\\xbf\\xbd\\xef\\xbf\\xbd\\xef\\xbf\\xbd\\r\\xef\\xbf\\xbdc\\xef\\xbf\\xbd\\x07\\xef\\xbf\\xbd\\xef\\xbf\\xbd;\\x00p\\xef\\x80\\xb0\\xef\\xbf\\xbd\\xef\\xbf\\xbd\\x12\\xef\\xbf\\xbd\\xef\\xbf\\xbd\\xef\\xbf\\xbdFip\\xef\\xbf\\xbd1\\xef\\xbf\\xbd\\xef\\xbf\\xbd\\xef\\xbf\\xbdM\\xef\\xbf\\xbd5\\xef\\xbf\\xbdr\\xef\\xbf\\xbdF+l\\n[h\\x027\\xef\\xbf\\xbd\\xef\\xbf\\xbd\\xef\\xbf\\xbd\\xc9\\xa9\\xef\\xbf\\xbdZ\\t\\xef\\xbf\\xbd\\xef\\xbf\\xbd\\x1a\\xef\\xbf\\xbd\\xef\\xbf\\xbdE\\n\"\\x1c\\xef\\xbf\\xbdr\\xef\\xbf\\xbd*\\xef\\xbf\\xbd\\xef\\xbf\\xbd\\xef\\xbf\\xbd\\\\\\xef\\xbf\\xbd8\\xef\\xbf\\xbd\\xef\\xbf\\xbd<\\x1e\\xef\\xbf\\xbd\\x17\\xef\\xbf\\xbd6\\xef\\xbf\\xbd\\xef\\xbf\\xbdS\\xef\\xbf\\xbd5J\\x05\\xef\\xbf\\xbdQ\\xef\\xbf\\xbd\\xef\\xbf\\xbd?\\xd5\\xae\\xef\\xbf\\xbd$\\xef\\xbf\\xbd\\xe7\\x9d\\x84\\xef\\xbb\\x85\\xef\\xbf\\xbd\\t%\\xef\\xbf\\xbd\\xef\\xbf\\xbd\\xef\\xbf\\xbd\\xef\\xbf\\xbd#\\xef\\xbf\\xbd\\x1d\\xef\\xbf\\xbd8*\\xef\\xbf\\xbdP\\xef\\xbf\\xbd\\xef\\xbf\\xbd\\xcd\\xaf\\'\\xcb\\xa2V\\x1f0\\xef\\xbf\\xbdR\\xef\\xbf\\xbd\\xef\\xbf\\xbdlb\\xef\\xbf\\xbd8i\\xef\\xbf\\xbd\\x02g\\xef\\xbf\\xbdj\\xef\\xbf\\xbd&p\\xef\\xbf\\xbd~\\xef\\xbf\\xbdX\\xef\\xbf\\xbd0Y2\\xef\\xbf\\xbd\\xef\\xbf\\xbd\\x19T\\xef\\xbf\\xbdd\\xef\\xbf\\xbdi\\x1f\\xef\\xbf\\xbd}\\x07\\xef\\xbf\\xbdv\\xef\\xbf\\xbd]\\xef\\xbf\\xbd\\xef\\xbf\\xbdbl\\xef\\xbf\\xbdW[sR`S\\xef\\xbf\\xbd\\x06V\\xef\\xbf\\xbd.\\xef\\xbf\\xbdC\\xef\\xbf\\xbd\\xef\\xbf\\xbd?\\x17\\xef\\xbf\\xbd`O_m\\\\\\xef\\xbf\\xbd?O\\xef\\xbf\\xbdBo\\xef\\xbf\\xbdp\\xef\\xbf\\xbd\\xef\\xbf\\xbd\\xef\\xbf\\xbd9`B\\x13v\\xef\\xbf\\xbd\\x1c\\xef\\xbf\\xbd\\x1b\\xef\\xbf\\xbd\\xef\\xbf\\xbdN\\xef\\xbf\\xbdW\\xef\\xbf\\xbdMm\\xef\\xbf\\xbd>\\xef\\xbf\\xbdf^]:7N\\x0f\\x11\\xef\\xbf\\xbd\\xef\\xbf\\xbd\\x08\\x0f\\x06\\x0f\\xef\\xbf\\xbd\\xcb\\x82x\\xef\\xbf\\xbd\\x14\\xef\\xbf\\xbd\\xef\\xbf\\xbd.\\xef\\xbf\\xbd\\xef\\xbf\\xbd\\xef\\xbf\\xbd\\xef\\xbf\\xbdx\\xef\\xbf\\xbdJ\\xef\\xbf\\xbd\\x1d\\xef\\xbf\\xbd\\xef\\xbf\\xbd\\xef\\xbf\\xbd\\x1fR\\xd6\\x9b\\x1d\\xef\\xbf\\xbd!\\x1a\\xef\\xbf\\xbd\\xef\\xbf\\xbd\\xef\\xbf\\xbdI\\xef\\xbf\\xbd\\xef\\xbf\\xbdX,E\\xef\\xbf\\xbdU\\xef\\xbf\\xbd\\\\\\xef\\xbf\\xbd\\xef\\xbf\\xbd\\xef\\xbf\\xbd\\xef\\xbf\\xbd\\t\\x1eH\\x1c\\xef\\xbf\\xbdT0h\\xd0\\xb0.KN\\xef\\xbf\\xbd^\\xef\\xbf\\xbdh\\xef\\xbf\\xbd\\x14r|\\xef\\xbf\\xbdc\\xef\\xbf\\xbd\\xd5\\x95\\xef\\xbf\\xbd#6\\'\\xef\\xbf\\xbdI\\xef\\xbf\\xbdBs2Q\\x17y^\\xef\\xbf\\xbdi\\xef\\xbf\\xbdgY\\xef\\xbf\\xbdQ}\\xef\\xbf\\xbdwn\\xef\\xbf\\xbd{\\xef\\xbf\\xbd\\n^\\xef\\xbf\\xbd\\xef\\xbf\\xbd;\\xef\\xbf\\xbd\\x04\\xef\\xbf\\xbde9\\xef\\xbf\\xbd(\\xef\\xbf\\xbd\\r\\xef\\xbf\\xbd\\x1a6t\\xef\\xbf\\xbd\\xef\\xbf\\xbd}\\xef\\xbf\\xbd\\xef\\xbf\\xbdFh\\xef\\xbf\\xbd\\xef\\xbf\\xbd\\xef\\xbf\\xbd\\xef\\xbf\\xbdO\\x0e\\xef\\xbf\\xbd/*9\\xef\\xbf\\xbd\\x0f\\xef\\xbf\\xbd\\xef\\xbf\\xbd+\\xef\\xbf\\xbd\\xef\\xbf\\xbd\\x0b\\xef\\xbf\\xbd\\x0bOO\\xef\\xbf\\xbd\\xef\\xbf\\xbd:\\x1eU\\xef\\xbf\\xbd',\n",
       " b'\\x00\\x0c\\x81\\x80\\x00\\x01\\x00\\x01\\x00\\x00\\x00\\x00\\x06google\\x03com\\x00\\x00\\x1c\\x00\\x01\\xc0\\x0c\\x00\\x1c\\x00\\x01\\x00\\x00\\x01\\x17\\x00\\x10&\\x07\\xf8\\xb0@\\x05\\x08\\x07\\x00\\x00\\x00\\x00\\x00\\x00 \\x0e',\n",
       " b'\\x00\\x0c\\x01\\x00\\x00\\x01\\x00\\x00\\x00\\x00\\x00\\x00\\x06google\\x03com\\x00\\x00\\x1c\\x00\\x01\\xef\\xbf\\xbd\\xef\\xbf\\xbd\\xef\\xbf\\xbd\\xef\\xbf\\xbd\\t\\xef\\xbf\\xbd\\xef\\xbf\\xbd\"\\xef\\xbf\\xbdR\\xef\\xbf\\xbdk\\xef\\xbf\\xbdJt\\x06QJ\\xef\\xbf\\xbd2\\xef\\xbf\\xbd7\\xef\\xbf\\xbd\\xef\\xbf\\xbd\\xef\\xbf\\xbd$h\\xef\\xbf\\xbd\\xef\\xbf\\xbd\\x136&\\xef\\xbf\\xbd\\xef\\xbf\\xbdrsGD\\xef\\xbf\\xbd)IX\\xef\\xbf\\xbd\\xef\\xbf\\xbd\\xcb\\x8a\\xef\\xbf\\xbd\\xef\\xbf\\xbd\\xef\\xbf\\xbd\\x04\\x14n:\\xef\\xbf\\xbd0\\xef\\xbf\\xbd\\xef\\xbf\\xbd\\xef\\xbf\\xbd\\xef\\xbf\\xbdn\\xef\\xbf\\xbd\\xef\\xbf\\xbd\\t\\xef\\xbf\\xbd\\xef\\xbf\\xbdK\\xef\\xbf\\xbd>+$vq\\r\\xef\\xbf\\xbd]\\xce\\x85\\xef\\xbf\\xbdY\\xef\\xbf\\xbde\\xef\\xbf\\xbd>\\xef\\xbf\\xbd\\xef\\xbf\\xbd\\xef\\xbf\\xbd^If(\\x14x\\xef\\xbf\\xbd\\xef\\xbf\\xbd\\x1ew*\\x15\\xef\\xbf\\xbd\\xef\\xbf\\xbdB}\\xef\\xbf\\xbd\\xef\\xbf\\xbd\\x03\\xef\\xbf\\xbd\\xef\\xbf\\xbdv+(K\\xef\\xbf\\xbd\\xef\\xbf\\xbd\\xef\\xbf\\xbd}\\xda\\x98MD\\xef\\xbf\\xbdHGO\\xef\\xbf\\xbd\\xef\\xbf\\xbd\\x1deE\\xef\\xbf\\xbd\\xef\\xbf\\xbd\\x14\\xef\\xbf\\xbd\\xef\\xbf\\xbd\\xef\\xbf\\xbd\\xef\\xbf\\xbd\\xef\\xbf\\xbd\\xdc\\xa5\\xef\\xbf\\xbdz\\x7f\\x05k4\\xef\\xbf\\xbd\\xef\\xbf\\xbd\\xef\\xbf\\xbdq\\xef\\xbf\\xbd\\t\\xef\\xbf\\xbd\\xef\\xbf\\xbd\\xef\\xbf\\xbd\\xef\\xbf\\xbd9P\\xef\\xbf\\xbd\\xef\\xbf\\xbdv\\r\\xef\\xbf\\xbdz\\xef\\xbf\\xbd\\xef\\xbf\\xbd\\xef\\xbf\\xbd\\xef\\xbf\\xbd\\xef\\xbf\\xbd\\xef\\xbf\\xbd\\x06\\x15\\xef\\xbf\\xbd\\xef\\xbf\\xbd\\xef\\xbf\\xbd\\xef\\xbf\\xbd\\xef\\xbf\\xbd\\xef\\xbf\\xbd\\xef\\xbf\\xbdBvf\\xef\\xbf\\xbd\\xef\\xbf\\xbd\\xef\\xbf\\xbd\\x01\\xef\\xbf\\xbd\\xef\\xbf\\xbd\\xef\\xbf\\xbd\\xef\\xbf\\xbdN\\xef\\xbf\\xbd4+^\\xef\\xbf\\xbd\\xef\\xbf\\xbd@<L\\x11\\xd1\\xbba\\xd3\\x9c[UQ\\xef\\xbf\\xbd\\xef\\xbf\\xbd$-\\xe6\\xb0\\x8d\\xef\\xbf\\xbdd\\x1dw*<G\\xd7\\x84\\xef\\xbf\\xbd\\xef\\xbf\\xbdJ\\xef\\xbf\\xbd\\x15\\xef\\xbf\\xbd\\xef\\xbf\\xbd\\xef\\xbf\\xbdV \\xef\\xbf\\xbd\\x03Dtop;d\\xef\\xbf\\xbd\\xef\\xbf\\xbd\\xef\\xbf\\xbdCi-jY\\xef\\xbf\\xbd_\\xef\\xbf\\xbd\\x11\\xef\\xbf\\xbdJ\\xef\\xbf\\xbd5=\\n1t\\xef\\xbf\\xbdew\\xef\\xbf\\xbd\\xef\\xbf\\xbddz\\xef\\xbf\\xbd\\xef\\xbf\\xbd\\xef\\xbf\\xbdV\\x044no\\xef\\xbf\\xbd\\xef\\xbf\\xbdm\\xef\\xbf\\xbd#\\xef\\xbf\\xbdk\\n\\x02\\xef\\xbf\\xbd\\xef\\xbf\\xbd\\xef\\xbf\\xbdN\\xef\\xbf\\xbdqc\\xef\\xbf\\xbd\\xef\\xbf\\xbd445\\xef\\xbf\\xbd\\xef\\xbf\\xbd\\x0f\\xef\\xbf\\xbd\\xef\\xbf\\xbdAI,\\x16\\xdb\\x99PA\\xef\\xbf\\xbd\\xef\\xbf\\xbd=\\xef\\xbf\\xbdl\\xef\\xbf\\xbdNDi/t\\x11\\xef\\xbf\\xbd\\xef\\xbf\\xbd=\\xef\\xbf\\xbde\\xef\\xbf\\xbd\\xef\\xbf\\xbd\\x04+\\xef\\xbf\\xbd?\\x1c\\xef\\xbf\\xbdh\\xef\\xbf\\xbd!\\x11\\xef\\xbf\\xbd\\x10\\xef\\xbf\\xbd\\xdb\\xa9\\xef\\xbf\\xbd\\xef\\xbf\\xbd\\xef\\xbf\\xbd$U\\xef\\xbf\\xbd\\xef\\xbf\\xbd\\x17]8\\xef\\xbf\\xbd\\xef\\xbf\\xbdG\\xef\\xbf\\xbdZN\\'%\\xef\\xbf\\xbd\\x05\\xef\\xbf\\xbd\\xef\\xbf\\xbd,\\xef\\xbf\\xbd0,G\\x03\\xef\\xbf\\xbd\\xef\\xbf\\xbd4,\\xef\\xbf\\xbd\\xef\\xbf\\xbd\\xef\\xbf\\xbd\\xef\\xbf\\xbd: &N\\xef\\xbf\\xbd\\xef\\xbf\\xbdbH\\xef\\xbf\\xbd\\xef\\xbf\\xbd\\xef\\xbf\\xbd\\xef\\xbf\\xbd\\xef\\xbf\\xbdQ\\xef\\xbf\\xbd\\x02?\\x00\\x00;\\xef\\xbf\\xbd\\xef\\xbf\\xbd)TjUp\\xef\\xbf\\xbd\\xef\\xbf\\xbdI}g\\x07jJ4\\xef\\xbf\\xbdK\\xef\\xbf\\xbd\\x0b\\xef\\xbf\\xbd7\\x1d.8\\x05\\xca\\x92\\xef\\xbf\\xbd*T\\n*\\xef\\xbf\\xbd\\xef\\xbf\\xbd\\xef\\xbf\\xbd\\xef\\xbf\\xbd=\\xdd\\xa0Pt\\xd6\\x8c\\xef\\xbf\\xbd\\xed\\x84\\xb0I)\\xef\\xbf\\xbd\\xef\\xbf\\xbd\\xef\\xbf\\xbd\\xef\\xbf\\xbd\\xef\\xbf\\xbd5\\x1f\\xef\\xbf\\xbdp\\xef\\xbf\\xbd\\x12\"z\\r\\x11\\xef\\xbf\\xbd\\xef\\xbf\\xbdH\\xef\\xbf\\xbd\\xef\\xbf\\xbd\\xef\\xbf\\xbd;\\x01\\xef\\xbf\\xbd\\x07\\xd0\\xba\\x02\\xef\\xbf\\xbd{\\x18g\\xef\\xbf\\xbd\\xef\\xbf\\xbdR\\xef\\xbf\\xbd\\xce\\x8d\\xef\\xbf\\xbd>x\\xd8\\xb6}V\\x1a/y|:\\xef\\xbf\\xbdM\\xef\\xbf\\xbdC\\t\\xef\\xbf\\xbd\\x00\\xef\\xbf\\xbd\\xef\\xbf\\xbd\\xef\\xbf\\xbd\\xef\\xbf\\xbd\\xef\\xbf\\xbd\\xc8\\xa0x\\x1b\\xef\\xbf\\xbdL\\xef\\xbf\\xbd\\'',\n",
       " b'\\x00\\x0c\\x81\\x80\\x00\\x01\\x00\\x01\\x00\\x00\\x00\\x00\\x06google\\x03com\\x00\\x00\\x1c\\x00\\x01\\xc0\\x0c\\x00\\x1c\\x00\\x01\\x00\\x00\\x01\\x16\\x00\\x10&\\x07\\xf8\\xb0@\\x05\\x08\\x07\\x00\\x00\\x00\\x00\\x00\\x00 \\x0e',\n",
       " b'\\x00\\x0c\\x01\\x00\\x00\\x01\\x00\\x00\\x00\\x00\\x00\\x00\\x06google\\x03com\\x00\\x00\\x1c\\x00\\x01e5l|\\xef\\xbf\\xbd\\xef\\xbf\\xbd-\\xef\\xbf\\xbd\\xef\\xbf\\xbd2\\xef\\xbf\\xbd\\xef\\xbf\\xbd\\xef\\xbf\\xbd\\xef\\xbf\\xbd\\th\\x14f\\xef\\xbf\\xbdT\\xef\\xbf\\xbd\\xd5\\x81\\xef\\xbf\\xbd\\xef\\xbf\\xbd\\x01\\xef\\xbf\\xbdY\\xef\\xbf\\xbd\\xdf\\x99\\xef\\xbf\\xbd\\xef\\xbf\\xbds\\xef\\xbf\\xbd@\\xef\\xbf\\xbd+S\\x1e\\x06\\x04\\\\\\xef\\xbf\\xbd\\x7f\\xef\\xbf\\xbd>\\xef\\xbf\\xbd\\xef\\xbf\\xbd)\\xef\\xbf\\xbd\\xdd\\x8c\\xef\\xbf\\xbd\\xef\\xbf\\xbdr\\xef\\xbf\\xbd\\xef\\xbf\\xbd;\\xef\\xbf\\xbd\\xef\\xbf\\xbd\\x1c\\x05hU\\xef\\xbf\\xbd\\xef\\xbf\\xbd\\xef\\xbf\\xbd\\xda\\x9f\\xef\\xbf\\xbd\\xef\\xbf\\xbd\\xef\\xbf\\xbdt\\x01J|$\\xef\\xbf\\xbd\\x10\\x0bW\\xef\\xbf\\xbdwQ^}k9\\xef\\xbf\\xbd\\xef\\xbf\\xbd\\x10\\xef\\xbf\\xbd\\x12\\xef\\xbf\\xbd\\xef\\xbf\\xbd \\xef\\xbf\\xbd\\x045\\x05\\x00\\xef\\xbf\\xbd\\xef\\xbf\\xbd\\n\\x0b\\x10l\\x14\\x08\\xef\\xbf\\xbd\\xef\\xbf\\xbd\\xef\\xbf\\xbdu{\\xef\\xbf\\xbd\\xef\\xbf\\xbdn\\x130\\xef\\xbf\\xbd\\xef\\xbf\\xbd\\xcb\\x88K\\x1d\\\\adx\\xef\\xbf\\xbdg\\xef\\xbf\\xbd\\xef\\xbf\\xbdM\\xef\\xbf\\xbd\\x12t\\x12\\xef\\xbf\\xbdu\\xef\\xbf\\xbd\\t\\xef\\xbf\\xbd\\x7fI}\\xef\\xbf\\xbd\\xef\\xbf\\xbd\\xef\\xbf\\xbd$\\xef\\xbf\\xbdk\\xef\\xbf\\xbd\\xef\\xbf\\xbd*\\xef\\xbf\\xbdXl7\\x11\\x1f\\xef\\xbf\\xbd\\xef\\xbf\\xbdC{\\xef\\xbf\\xbd,\\xef\\xbf\\xbd\\x1a\\x16\\xef\\xbf\\xbdm\\xef\\xbf\\xbd\\xef\\xbf\\xbdgF\\x7f\\nV\\x18\\xef\\xbf\\xbd\\xef\\xbf\\xbd\\xef\\xbf\\xbd=(\\xef\\xbf\\xbdGDD\\xef\\xbf\\xbd\\x138FB\\xef\\xbf\\xbd\\xef\\xbf\\xbd\\xef\\xbf\\xbdB,%,\\xef\\xbf\\xbd\\xef\\xbf\\xbd\\x1d\\x0eA\\xef\\xbf\\xbdy\\xef\\xbf\\xbd#\\x16\\xef\\xbf\\xbd\\xef\\xbf\\xbdD\\xef\\xbf\\xbd5 :\\xef\\xbf\\xbdJn\\xef\\xbf\\xbd\\xef\\xbf\\xbd\\\\\\xef\\xbf\\xbd\\xef\\xbf\\xbd\\xef\\xbf\\xbd\\xef\\xbf\\xbdK\\xef\\xbf\\xbd)_x\\xef\\xbf\\xbd\\xef\\xbf\\xbd\\xef\\xbf\\xbd\\xef\\xbf\\xbd2-z\\xef\\xbf\\xbdo\\xef\\xbf\\xbdU\\xef\\xbf\\xbd,;SoS\\xe0\\xbe\\x943\\xef\\xbf\\xbd\\xef\\xbf\\xbd>\\x11\\xef\\xbf\\xbd\\x12\\xef\\xbf\\xbdIs\\x17\\xef\\xbf\\xbd\\x06\\xef\\xbf\\xbd\\x0e_\\xef\\xbf\\xbd\\xef\\xbf\\xbd\\xef\\xbf\\xbd\\x00\\xef\\xbf\\xbd\\xef\\xbf\\xbddV\\xef\\xbf\\xbdp\\xef\\xbf\\xbd\\xcd\\x90\\xef\\xbf\\xbd\\xef\\xbf\\xbd^\\xef\\xbf\\xbd\\xc4\\x97\\x16\\xef\\xbf\\xbd2\\xef\\xbf\\xbd\\x03\\xef\\xbf\\xbd\\xef\\xbf\\xbdu\\xef\\xbf\\xbd\\xef\\xbf\\xbd\\xef\\xbf\\xbd\\xef\\xbf\\xbd\\x0e\\x7f$\\xef\\xbf\\xbdK\\x02\\x178\\xef\\xbf\\xbd\\x03\\xef\\xbf\\xbd{z=4!E\\xef\\xbf\\xbdi;\\xd1\\x84\\xef\\xbf\\xbd0\\xef\\xbf\\xbd\\x1b\\xef\\xbf\\xbd\\xef\\xbf\\xbdJb\\xef\\xbf\\xbdl\\xef\\xbf\\xbdS\\xef\\xbf\\xbdU\\t\\xef\\xbf\\xbd\\x0b\\xef\\xbf\\xbd\\xef\\xbf\\xbd~\\xef\\xbf\\xbdi\\xef\\xbf\\xbd\\xef\\xbf\\xbdi\\xef\\xbf\\xbd\\xef\\xbf\\xbd\\xef\\xbf\\xbd\\xd0\\xaa\\xef\\xbf\\xbd\\x10\\xef\\xbf\\xbdlYr|\\xef\\xbf\\xbd\\xc2\\xba\\xef\\xbf\\xbd\\xef\\xbf\\xbds\\xd7\\x83\\xef\\xbf\\xbd\\\\\\xef\\xbf\\xbdh\\xef\\xbf\\xbd\\x0f\\xef\\xbf\\xbd\\x7f\\xef\\xbf\\xbd\\xef\\xbf\\xbdB\\xd7\\x99 \\xef\\xbf\\xbd\\xef\\xbf\\xbd\\xef\\xbf\\xbd\\xef\\xbf\\xbdD\\xef\\xbf\\xbd\\xef\\xbf\\xbd[\\xef\\xbf\\xbd\\x0e\\xef\\xbf\\xbddR{M\\xef\\xbf\\xbd\\xef\\xbf\\xbdR\\xef\\xbf\\xbd\\xef\\xbf\\xbd\\x13B\\xef\\xbf\\xbd\\xef\\xbf\\xbdy^\\xdd\\x99\\xef\\xbf\\xbd\\xef\\xbf\\xbd\\xef\\xbf\\xbd D19\\xef\\xbf\\xbdE\\xef\\xbf\\xbd\\xef\\xbf\\xbd\\xd4\\x94R\\xef\\xbf\\xbdQ\\x0b\\xef\\xbf\\xbd[`\\xef\\xbf\\xbd\\xef\\xbf\\xbdE\\xef\\xbf\\xbd\\xef\\xbf\\xbd\\xef\\xbf\\xbdG\\xdd\\xb9\\xef\\xbf\\xbdY\\x17\\xdd\\x99\\xef\\xbf\\xbd\\x02oIf&\\xc2\\x81\\xef\\xbf\\xbd\\x1f\\xef\\xbf\\xbdI\\xef\\xbf\\xbd\\xef\\xbf\\xbd\\xef\\xbf\\xbd[c)3\\xef\\xbf\\xbd\\x17\\xef\\xbf\\xbd\\\\\\x13\\x00m\\xef\\xbf\\xbd\\n\\xef\\xbf\\xbd*\\xef\\xbf\\xbd;\\xef\\xbf\\xbd\\xef\\xbf\\xbd\\xef\\xbf\\xbd\\t\\r\\xef\\xbf\\xbdM\\x13\\xef\\xbf\\xbdM\\xc6\\xb7h\\x1b\\x12xMF\\xef\\xbf\\xbd\\xef\\xbf\\xbd\\xef\\xbf\\xbd\\xef\\xbf\\xbdo\\xef\\xbf\\xbdwh0b\\x04\\xef\\xbf\\xbd\\xef\\xbf\\xbd\\xef\\xbf\\xbdl]\\xef\\xbf\\xbd\\x03J\\xef\\xbf\\xbdwl\\xef\\xbf\\xbdQ\\xef\\xbf\\xbd\\xef\\xbf\\xbd',\n",
       " b'\\x00\\x0c\\x81\\x80\\x00\\x01\\x00\\x01\\x00\\x00\\x00\\x00\\x06google\\x03com\\x00\\x00\\x1c\\x00\\x01\\xc0\\x0c\\x00\\x1c\\x00\\x01\\x00\\x00\\x01\\x15\\x00\\x10&\\x07\\xf8\\xb0@\\x05\\x08\\x07\\x00\\x00\\x00\\x00\\x00\\x00 \\x0e',\n",
       " b'\\x00\\x0c\\x01\\x00\\x00\\x01\\x00\\x00\\x00\\x00\\x00\\x00\\x06google\\x03com\\x00\\x00\\x1c\\x00\\x01\\x7f0\\xef\\xbf\\xbd6r\\xef\\xbf\\xbd\\x16\\xef\\xbf\\xbd\\x1eaB\\xef\\xbf\\xbd\\xef\\xbf\\xbd0LOb1\\xef\\xbf\\xbd\\xef\\xbf\\xbd\\xef\\xbf\\xbdE\\xef\\xbf\\xbd\\xef\\xbf\\xbdv\\xef\\xbf\\xbd\\xef\\xbf\\xbd\\x1cN\\xef\\xbf\\xbdzF\\x1d6\\x05\\xef\\xbf\\xbd\\xef\\xbf\\xbd\\x16\\xef\\xbf\\xbd\\xef\\xbf\\xbd+\\xef\\xbf\\xbd\\x07\\x11.,R\\xef\\xbf\\xbdE\\xef\\xbf\\xbd!\\xc9\\x92\\xef\\xbf\\xbd\\x13B\\xef\\xbf\\xbd\\xef\\xbf\\xbd\\xef\\xbf\\xbd\\xef\\xbf\\xbd\\xef\\xbf\\xbd\\x1cjJd\\x1dR\\xef\\xbf\\xbd\\xef\\xbf\\xbd7\\xef\\xbf\\xbd\\x1a\\xef\\xbf\\xbd\\'l:4X\\xef\\xbf\\xbd\\xef\\xbf\\xbdq\\x0e\\x189\\'\\xef\\xbf\\xbd\\xef\\xbf\\xbdO@\\xef\\xbf\\xbd\\xef\\xbf\\xbd\\xd8\\x87%\\xef\\xbf\\xbd\\xef\\xbf\\xbd\\xef\\xbf\\xbd\\xef\\xbf\\xbd\\xef\\xbf\\xbd\\xef\\xbf\\xbd\\xef\\xbf\\xbdjH\\xef\\xbf\\xbd~\\xef\\xbf\\xbd\\xef\\xbf\\xbd)\\n\\xef\\xbf\\xbd\\xef\\xbf\\xbdO\\xef\\xbf\\xbdv/\\xef\\xbf\\xbd\\xef\\xbf\\xbd<\\xef\\xbf\\xbdIf\\x00\\xef\\xbf\\xbdem\\xef\\xbf\\xbd\\xc4\\x86\\xef\\xbf\\xbd\\xef\\xbf\\xbd\\xef\\xbf\\xbd\\xef\\xbf\\xbd\\xef\\xbf\\xbd\\xef\\xbf\\xbd\\x11\\xef\\xbf\\xbd;q\\xef\\xbf\\xbd\\xef\\xbf\\xbd\\xef\\xbf\\xbdR\\x0b\\xef\\xbf\\xbd\\xef\\xbf\\xbdZ~\\xef\\xbf\\xbd\\xef\\xbf\\xbd/\\xef\\xbf\\xbd\\xef\\xbf\\xbd\\xef\\xbf\\xbd\\xef\\xbf\\xbd\\xef\\xbf\\xbd\\xef\\xbf\\xbd\\xef\\xbf\\xbd\\xef\\xbf\\xbdO?\\xef\\xbf\\xbd\\xef\\xbf\\xbd9l\\xef\\xbf\\xbd\\xef\\xbf\\xbdmS\\xef\\xbf\\xbd\\xef\\xbf\\xbd4\\xef\\xbf\\xbd\\xef\\xbf\\xbd\\x04\\x0b\\xef\\xbf\\xbdD\\xef\\xbf\\xbd\\x02\\x0e\\xef\\xbf\\xbdn%mR\\x16<h?v\\xef\\xbf\\xbd\\xef\\xbf\\xbdj\\xef\\xbf\\xbd^\\x17b\\x02\\xef\\xbf\\xbd+\\xef\\xbf\\xbd*\\xef\\xbf\\xbd6\\xef\\xbf\\xbd\\x1d\\xdd\\xb2\\xef\\xbf\\xbd\\xef\\xbf\\xbd\\xef\\xbf\\xbd.\\xef\\xbf\\xbdN\\xef\\xbf\\xbd\\xef\\xbf\\xbd%]\\x1e\\xef\\xbf\\xbdT\\x05\\xef\\xbf\\xbd?\\xef\\xbf\\xbdh\\xef\\xbf\\xbdL\\xef\\xbf\\xbdV/wuG\\x10\\n|\\xef\\xbf\\xbd\\xef\\xbf\\xbdq\\xdd\\xacUK\\xef\\xbf\\xbdl\\xef\\xbf\\xbd1\\'\\xef\\xbf\\xbd\\xc2\\x87\\x15z\\xef\\xbf\\xbd\\xef\\xbf\\xbd\\xd2\\x8d\\r\\xef\\xbf\\xbd\\xef\\xbf\\xbd5SO\\xef\\xbf\\xbdy\\xef\\xbf\\xbd~\\xef\\xbf\\xbd\\xef\\xbf\\xbd\\x07\\xef\\xbf\\xbd\\xef\\xbf\\xbd\\xef\\xbf\\xbd_O\\xef\\xbf\\xbd\\xef\\xbf\\xbd\\xef\\xbf\\xbd7k*\\xef\\xbf\\xbd-6\\x1d\\xef\\xbf\\xbdi;Q*(\\xd6\\x9fH\\xef\\xbf\\xbd\\xef\\xbf\\xbd&\\xef\\xbf\\xbd]\\xef\\xbf\\xbd;c\\xef\\xbf\\xbd=\\xef\\xbf\\xbd\\xef\\xbf\\xbd\\xef\\xbf\\xbdN\\xef\\xbf\\xbd\\xef\\xbf\\xbd,\\xef\\xbf\\xbd\\xcb\\xa0\\xef\\xbf\\xbd\\xef\\xbf\\xbdr/\\xef\\xbf\\xbd\\x12\\x7f\\xdd\\xb5\\x13\"(\\xef\\xbf\\xbd\\x16\\xef\\xbf\\xbd\\xef\\xbf\\xbd\\x11\\xef\\xbf\\xbdT\\xef\\xbf\\xbd\\xef\\xbf\\xbdk#\\xef\\xbf\\xbd\\xef\\xbf\\xbd\\xef\\xbf\\xbd\\xef\\xbf\\xbdY\\xef\\xbf\\xbd[\\xef\\xbf\\xbd\\xef\\xbf\\xbd\\xef\\xbf\\xbd\\xef\\xbf\\xbd\\x02oLZ\\x1f&\\\\\\xef\\xbf\\xbd\\x17m\\xef\\xbf\\xbd%\\xef\\xbf\\xbd2\\xef\\xbf\\xbd\\x7f@\\x08\\xef\\xbf\\xbd\\xef\\xbf\\xbd\\xef\\xbf\\xbd\\xef\\xbf\\xbdLo\\xef\\xbf\\xbd\\xef\\xbf\\xbdB\\xef\\xbf\\xbd\\x1e\\xef\\xbf\\xbd\\xef\\xbf\\xbd\\x06M8\\xef\\xbf\\xbd\\xef\\xbf\\xbdI\\xef\\xbf\\xbd\\xef\\xbf\\xbdp\\xef\\xbf\\xbdU\\xef\\xbf\\xbd\\xef\\xbf\\xbdSD\\x7f\\xef\\xbf\\xbd\\xef\\xbf\\xbd\\xef\\xbf\\xbd2\\xef\\xbf\\xbdzp\\xef\\xbf\\xbd\\x1c\\r\\xef\\xbf\\xbd\\xef\\xbf\\xbd\\xef\\xbf\\xbd#\\xef\\xbf\\xbd\\xef\\xbf\\xbd6w\\xde\\xb1;U\\x0e\\xef\\xbf\\xbd\\x06\\xef\\xbf\\xbdmR~\\xef\\xbf\\xbdHj\\xef\\xbf\\xbdX\\x1fX\\xef\\xbf\\xbd\\xef\\xbf\\xbd\\'\\xef\\xbf\\xbd\\x0b\\xef\\xbf\\xbd_\\xef\\xbf\\xbd\\xef\\xbf\\xbd\\xef\\xbf\\xbd\\xef\\xbf\\xbd\\xef\\xbf\\xbd7;\".\\xef\\xbf\\xbd\\x10\\xef\\xbf\\xbdU\\xef\\xbf\\xbd\\x06\\x0e\\xef\\xbf\\xbdU\\xef\\xbf\\xbd\\xef\\xbf\\xbd\\x04\\xef\\xbf\\xbd\\xef\\xbf\\xbd/\\x12ZfJQ\\xef\\xbf\\xbdO\\x7f*\\xef\\xbf\\xbd\\n\\xd3\\xb5\\xef\\xbf\\xbd\"\\xef\\xbf\\xbdNMj\\xdf\\x9b|\\xef\\xbf\\xbd\\x1d#\\xef\\xbf\\xbdO\\xef\\xbf\\xbdr[\\xef\\xbf\\xbdJ\\xef\\xbf\\xbd\\'\\xef\\xbf\\xbd\\xef\\xbf\\xbdZj\\xef\\xbf\\xbd<g]y\\xef\\xbf\\xbdh\\xef\\xbf\\xbd\\xef\\xbf\\xbd/\\xef\\xbf\\xbd?',\n",
       " b'\\x00\\x0c\\x81\\x80\\x00\\x01\\x00\\x01\\x00\\x00\\x00\\x00\\x06google\\x03com\\x00\\x00\\x1c\\x00\\x01\\xc0\\x0c\\x00\\x1c\\x00\\x01\\x00\\x00\\x01\\x14\\x00\\x10&\\x07\\xf8\\xb0@\\x05\\x08\\x07\\x00\\x00\\x00\\x00\\x00\\x00 \\x0e',\n",
       " b'\\x00\\x0c\\x01\\x00\\x00\\x01\\x00\\x00\\x00\\x00\\x00\\x00\\x06google\\x03com\\x00\\x00\\x1c\\x00\\x01L\\x0c>\\xef\\xbf\\xbd7++\\xef\\xbf\\xbdr}\\xef\\xbf\\xbd\\xef\\xbf\\xbdX\\x7f\\xef\\xbf\\xbd\\xef\\xbf\\xbd\\xef\\xbf\\xbd\\xef\\xbf\\xbd\\x08\\xef\\xbf\\xbd$q\\xef\\xbf\\xbd\\xef\\xbf\\xbd\\x07k\\xef\\xbf\\xbd?i\\xef\\xbf\\xbd\\xef\\xbf\\xbd\\xef\\xbf\\xbdg>9\\xef\\xbf\\xbd\\xef\\xbf\\xbd=\\xef\\xbf\\xbdF\\xef\\xbf\\xbdi\\xef\\xbf\\xbd\\xef\\xbf\\xbd\\xef\\xbf\\xbd\\xef\\xbf\\xbd\\xef\\xbf\\xbd3S\\xef\\xbf\\xbd\\xef\\xbf\\xbd\\xef\\xbf\\xbd\\xef\\xbf\\xbdK>\\xef\\xbf\\xbd;d\\xef\\xbf\\xbd\\x16\\xef\\xbf\\xbd\\xef\\xbf\\xbdL+\\xef\\xbf\\xbd\\xeb\\xba\\xa7\\xef\\xbf\\xbd\\xef\\xbf\\xbd\\xef\\xbf\\xbd\\x0f\\xef\\xbf\\xbd\\xef\\xbf\\xbd\\xef\\xbf\\xbd\\xef\\xbf\\xbd-[\\xef\\xbf\\xbd\\xef\\xbf\\xbd\\xef\\xbf\\xbdJ\\xef\\xbf\\xbd\\xee\\xad\\x8f\\xef\\xbf\\xbd\\x15\\n\\t\\xef\\xbf\\xbd?G@\\xef\\xbf\\xbdV1\\xef\\xbf\\xbd\"\\xef\\xbf\\xbdC\\xef\\xbf\\xbd{Z\\xef\\xbf\\xbd^C[\\xcf\\xa4X7\\x04\\xef\\xbf\\xbdE\\xef\\xbf\\xbd=1z\\xef\\xbf\\xbdz\\xef\\xbf\\xbd\\xef\\xbf\\xbdZ\\xef\\xbf\\xbd\\x0f\\xd4\\xbe%WK!\\xef\\xbf\\xbdd\\xef\\xbf\\xbd2\\\\[vt\\xc9\\xbd|\\xef\\xbf\\xbd\\x1c\\xef\\xbf\\xbd=\\xef\\xbf\\xbd\\xef\\xbf\\xbdt\\xef\\xbf\\xbd\\xef\\xbf\\xbdX\\xef\\xbf\\xbd\\xef\\xbf\\xbdr:\\xef\\xbf\\xbd\\x16\\xef\\xbf\\xbd\\xef\\xbf\\xbd\\xd8\\x963\\x03\\x11\\xef\\xbf\\xbdL\\xef\\xbf\\xbdp\\xef\\xbf\\xbd\\x04\\x1d&\\xef\\xbf\\xbd\\xef\\xbf\\xbd\\x12\\xd8\\x9fx\\xef\\xbf\\xbdZ|v\\xef\\xbf\\xbd\\xef\\xbf\\xbd\\xef\\xbf\\xbd?\\x14\\xef\\xbf\\xbd\\xef\\xbf\\xbd:\\xef\\xbf\\xbd\\xef\\xbf\\xbd\\xef\\xbf\\xbd\\xef\\xbf\\xbd\\xef\\xbf\\xbd\\'I\\xef\\xbf\\xbd\\xef\\xbf\\xbd7\\xef\\xbf\\xbd\\xef\\xbf\\xbd\\xef\\xbf\\xbd\\x12\\xd5\\x84E\\xef\\xbf\\xbd\\xef\\xbf\\xbd\\xef\\xbf\\xbdWD\\xef\\xbf\\xbd\\xef\\xbf\\xbd2\\xef\\xbf\\xbdv~>\"\\xef\\xbf\\xbd\\xde\\x9bu\\xef\\xbf\\xbd\\xef\\xbf\\xbd\\xef\\xbf\\xbd\\xef\\xbf\\xbd\\x04\\x03\\xef\\xbf\\xbd\\xef\\xbf\\xbd\\xef\\xbf\\xbd\\xd3\\xb7\\x11\\xef\\xbf\\xbd\\x1b@\\xef\\xbf\\xbd\\xef\\xbf\\xbd4\\xef\\xbf\\xbd\\xdf\\xb4dV\\xef\\xbf\\xbd\\xef\\xbf\\xbd\\xef\\xbf\\xbd\\x0e\\xef\\xbf\\xbdl\\xef\\xbf\\xbdC\\xef\\xbf\\xbd\\nP\\xef\\xbf\\xbd\\xef\\xbf\\xbd\\xef\\xbf\\xbdx\\xef\\xbf\\xbd\\xef\\xbf\\xbd\\xef\\xbf\\xbd,H\\xef\\xbf\\xbd\\xef\\xbf\\xbd\\x06\\xef\\xbf\\xbd.Qz\\xef\\xbf\\xbd\\xef\\xbf\\xbd[\\x0f\\xef\\xbf\\xbd5zB\\xee\\xb7\\xb1u\\xef\\xbf\\xbd\\xef\\xbf\\xbdx\\xef\\xbf\\xbd\\xef\\xbf\\xbde\\x1e\\xef\\xbf\\xbd~\\xef\\xbf\\xbd\\xef\\xbf\\xbd\\xcc\\x8b\\xef\\xbf\\xbd9E\\x13\\xef\\xbf\\xbdbQ\\xe9\\xa5\\x9a@?\"d\\xef\\xbf\\xbd\\xef\\xbf\\xbd \\'g\\xef\\xbf\\xbd\\x1d\\x00]\\'\\x7fWW\\x1a\\x0f\\xcf\\x9e_\\xef\\xbf\\xbdP\\xef\\xbf\\xbdH08\\xd7\\xb1-\\xef\\xbf\\xbdH\\xef\\xbf\\xbd\\xef\\xbf\\xbd\\xef\\xbf\\xbd\\xd2\\x88\\xef\\xbf\\xbd\\xef\\xbf\\xbdf\\xd6\\xa5K&\\xef\\xbf\\xbdl\\xef\\xbf\\xbd\\xef\\xbf\\xbd\\x10\\xef\\xbf\\xbd\\x1b\\xef\\xbf\\xbdD\\x14a!\\x00\\xef\\xbf\\xbdh/\\xef\\xbf\\xbd$m\\xef\\xbf\\xbd5\\xef\\xbf\\xbd+\\xef\\xbf\\xbd\\xef\\xbf\\xbd\\n#\\xef\\xbf\\xbd)\\xef\\xbf\\xbd\\x08P3H\\xef\\xbf\\xbd\\xef\\xbf\\xbd\\xef\\xbf\\xbd\\xef\\xbf\\xbd\\xef\\xbf\\xbd(\\xef\\xbf\\xbdE7\\xef\\xbf\\xbd\\xef\\xbf\\xbd\\xef\\xbf\\xbd\\x14\\x16V \\x1c1\\xc3\\x93v%q\\xef\\xbf\\xbd?|\\xef\\xbf\\xbd\\xef\\xbf\\xbd\\xef\\xbf\\xbd\\xc3\\x8bJ\\x16K)\\xef\\xbf\\xbd\\xef\\xbf\\xbdw\\xef\\xbf\\xbd,\\xd2\\xb2\\xef\\xbf\\xbd\\x07\\xef\\xbf\\xbd\\xef\\xbf\\xbdz\\xef\\xbf\\xbd\\xef\\xbf\\xbd\\xef\\xbf\\xbd}\\xef\\xbf\\xbdo\\xef\\xbf\\xbd\\x14\\x7fn\\xef\\xbf\\xbd\\xef\\xbf\\xbd+\\x16\\xef\\xbf\\xbdp\\xef\\xbf\\xbd\\xef\\xbf\\xbd\\xef\\xbf\\xbd\\xef\\xbf\\xbd\\x10E\\x11\\xef\\xbf\\xbdA\\xef\\xbf\\xbd&j\\xef\\xbf\\xbd#\\xef\\xbf\\xbd\\xef\\xbf\\xbdh(\"\\xef\\xbf\\xbdeD\\xef\\xbf\\xbd \\xef\\xbf\\xbd\\xef\\xbf\\xbd\"\\xef\\xbf\\xbd[\\xef\\xbf\\xbd\\xef\\xbf\\xbd\\nX\\xef\\xbf\\xbd-\\xef\\xbf\\xbd\\xef\\xbf\\xbd\\xc3\\x90\\xef\\xbf\\xbd5\\x18\\xef\\xbf\\xbd&\\x11\\xef\\xbf\\xbd\\xef\\xbf\\xbd?\\xe8\\x99\\xaf/\"\\xef\\xbf\\xbd\\xd5\\xa6\\xef\\xbf\\xbd~f5\\xef\\xbf\\xbd=\\xef\\xbf\\xbd\\x0b\\x14ij\\xef\\xbf\\xbd&\\xef\\xbf\\xbd\\x1d(\\xef\\xbf\\xbdJLe',\n",
       " b'\\x00\\x0c\\x81\\x80\\x00\\x01\\x00\\x01\\x00\\x00\\x00\\x00\\x06google\\x03com\\x00\\x00\\x1c\\x00\\x01\\xc0\\x0c\\x00\\x1c\\x00\\x01\\x00\\x00\\x01\\x13\\x00\\x10&\\x07\\xf8\\xb0@\\x05\\x08\\x07\\x00\\x00\\x00\\x00\\x00\\x00 \\x0e',\n",
       " b'\\x00\\x0c\\x01\\x00\\x00\\x01\\x00\\x00\\x00\\x00\\x00\\x00\\x06google\\x03com\\x00\\x00\\x1c\\x00\\x01P$\\x08\\x05+\\xef\\xbf\\xbd\\x0b2\\x13\\xef\\xbf\\xbdM<?\\xef\\xbf\\xbd\\xef\\xbf\\xbd\\xef\\xbf\\xbdt\\xef\\xbf\\xbdDq\\xef\\xbf\\xbd\\xef\\xbf\\xbd\\xef\\xbf\\xbdsE\\xef\\xbf\\xbd\\xef\\xbf\\xbd\\xef\\xbf\\xbd\\xef\\xbf\\xbd\\x0e\\xef\\xbf\\xbd\\x05E\\xef\\xbf\\xbd\\xef\\xbf\\xbd\\xef\\xbf\\xbd\\xef\\xbf\\xbd\\xef\\xbf\\xbd\\x10Et\\xcf\\xb9x\\xef\\xbf\\xbdp\\x06\\x0fwE\\xea\\xb3\\xb4\\xef\\xbf\\xbdqP\\\\\\xef\\xbf\\xbdXHq~\\xef\\xbf\\xbd\\xef\\xbf\\xbd]\\n\\xd4\\xaa\\x04\\xef\\xbf\\xbd\\xef\\xbf\\xbd*\\xef\\xbf\\xbd\\xef\\xbf\\xbd*\\xef\\xbf\\xbd\\xef\\xbf\\xbd\\xef\\xbf\\xbd\\xe8\\xa6\\xb134\\xef\\xbf\\xbd\\xef\\xbf\\xbd1\\xef\\xbf\\xbd\\xef\\xbf\\xbd\\xef\\xbf\\xbd\\xef\\xbf\\xbd\\xef\\xbf\\xbdrie\\\\+\\x7f\\xef\\xbf\\xbd\\xef\\xbf\\xbd\\xef\\xbf\\xbd\\xef\\xbf\\xbd!\\xef\\xbf\\xbd\\x06c\\x14\\xef\\xbf\\xbd`6\\xef\\xbf\\xbd=\\xef\\xbf\\xbd\\xef\\xbf\\xbd\\x11<\\xef\\xbf\\xbd\\x08W\\xef\\xbf\\xbd\\x14\\xef\\xbf\\xbd\\xef\\xbf\\xbd\\xef\\xbf\\xbdH\\xef\\xbf\\xbd\\xef\\xbf\\xbd\\xef\\xbf\\xbd\\xef\\xbf\\xbdx)U\\x037\\xef\\xbf\\xbd*\\xef\\xbf\\xbd\\xef\\xbf\\xbdq\\xef\\xbf\\xbd\\xef\\xbf\\xbdK)\\xef\\xbf\\xbdN\\xef\\xbf\\xbd\\x18\\xef\\xbf\\xbd>\\xef\\xbf\\xbdu\\xef\\xbf\\xbd\\xef\\xbf\\xbdVI\\xef\\xbf\\xbd\\xef\\xbf\\xbd\\x08H\\xef\\xbf\\xbd\\xef\\xbf\\xbdPDMU~#\\xef\\xbf\\xbd\\xef\\xbf\\xbd3\\xef\\xbf\\xbd\\xef\\xbf\\xbd\\xef\\xbf\\xbd\\xef\\xbf\\xbd(\\xc5\\x95v\\xef\\xbf\\xbd\\xef\\xbf\\xbd\\x10\\x12\\x15Y{\\x15\\xef\\xbf\\xbdO\\xef\\xbf\\xbd\\x12u\\xef\\xbf\\xbd\\xef\\xbf\\xbd \\x1a\\xef\\xbf\\xbd\":\\xef\\xbf\\xbd\\xef\\xbf\\xbd\\x08\\xef\\xbf\\xbd<\\xef\\xbf\\xbdb\\x1a!)\\xef\\xbf\\xbd6XQ\\x1e7CX~q\\xe9\\xbd\\x9aH\\x1c\\xef\\xbf\\xbdo\\xef\\xbf\\xbd\\xef\\xbf\\xbd\\x08\\x15\\xef\\xbf\\xbd\\xef\\xbf\\xbd\\n\\xef\\xbf\\xbd\\xe7\\xa0\\xa0\\x1a\\xef\\xbf\\xbd\\xef\\xbf\\xbdB\\xef\\xbf\\xbdS\\x01\\xef\\xbf\\xbdUR\\xef\\xbf\\xbd\\xce\\x8b-\\xef\\xbf\\xbdx3<\\xef\\xbf\\xbd\\\\v\\xef\\xbf\\xbd`\\xef\\xbf\\xbd;\\xef\\xbf\\xbdP\"\\\\+\\x10.A!\\xef\\xbf\\xbd\\x01%yFrt\\xef\\xbf\\xbdS\\xef\\xbf\\xbdV\\xef\\xbf\\xbd\\xef\\xbf\\xbd\\xd6\\xbd\\xef\\xbf\\xbd\\xef\\xbf\\xbdj\\xef\\xbf\\xbd\\xef\\xbf\\xbd\\x14C\\t\\xef\\xbf\\xbd\\xef\\xbf\\xbd!#\\xef\\xbf\\xbd &\\xef\\xbf\\xbd=\\x12\\xef\\xbf\\xbd\\xef\\xbf\\xbd\\xef\\xbf\\xbd%\\x05\\xd6\\xaf\\xef\\xbf\\xbd\\xef\\xbf\\xbdO$\\xef\\xbf\\xbdPD#\\x04\\xef\\xbf\\xbd\\xef\\xbf\\xbd\\xef\\xbf\\xbd\\xef\\xbf\\xbd\\xef\\xbf\\xbd\\xef\\xbf\\xbd\\xef\\xbf\\xbd\\x0cz\\x11+\\xef\\xbf\\xbd1thl} \\xef\\xbf\\xbdy\\xef\\xbf\\xbd\\xef\\xbf\\xbd^\\xef\\xbf\\xbdfM\\xef\\xbf\\xbd_\\xef\\xbf\\xbds\\xef\\xbf\\xbdf(\\xef\\xbf\\xbd\\xc5\\x9aU\\xef\\xbf\\xbd\\xef\\xbf\\xbd\\xef\\xbf\\xbd-\\x0f\\xef\\xbf\\xbd\\xef\\xbf\\xbd\\xef\\xbf\\xbdfM\\xc8\\x94\\xef\\xbf\\xbd\\x17\\xef\\xbf\\xbd\\xef\\xbf\\xbd\\xef\\xbf\\xbdG\\xef\\xbf\\xbdH\\x01\\xef\\xbf\\xbdJ\\xef\\xbf\\xbd\\xef\\xbf\\xbdS\\xef\\xbf\\xbd\\xd8\\xbf\\xef\\xbf\\xbd\\xef\\xbf\\xbd\\xef\\xbf\\xbd|E\\xef\\xbf\\xbd\\xef\\xbf\\xbd\\xef\\xbf\\xbd\\xef\\xbf\\xbd\\xef\\xbf\\xbd\\xef\\xbf\\xbdv\\xef\\xbf\\xbd\\xef\\xbf\\xbd\\x08\\xef\\xbf\\xbdUd\\xef\\xbf\\xbd\\x08\\x08\\xef\\xbf\\xbd+\\xef\\xbf\\xbdf\\x14t\\xef\\xbf\\xbdD\\xef\\xbf\\xbd+\\xef\\xbf\\xbdb\\xef\\xbf\\xbd1q\\xef\\xbf\\xbd\\xef\\xbf\\xbd\\xef\\xbf\\xbd=MC;?\\xef\\xbf\\xbd\\xef\\xbf\\xbdq\\xef\\xbf\\xbd\\xef\\xbf\\xbd\\xef\\xbf\\xbdl\\xc7\\x87I\\xef\\xbf\\xbd\\xef\\xbf\\xbdR\\xef\\xbf\\xbd\\x06$\\xef\\xbf\\xbd%\\x10\\xdd\\x840_\\x08qC\\xef\\xbf\\xbdY,\\xef\\xbf\\xbd\\xef\\xbf\\xbd\\xef\\xbf\\xbd\\xd6\\xb9\\xef\\xbf\\xbd\\x02K_\\xef\\xbf\\xbd\\xef\\xbf\\xbd\\xef\\xbf\\xbd\\xef\\xbf\\xbd\\xef\\xbf\\xbdP\\xef\\xbf\\xbdO\\xef\\xbf\\xbd\\xef\\xbf\\xbd\\x07\\xef\\xbf\\xbdp\\xef\\xbf\\xbdHC\\xee\\xb1\\x98\\xef\\xbf\\xbd.\\xef\\xbf\\xbd^\\x11\\x1a\\xef\\xbf\\xbdv:o\\x14\\x02\\x1e\\xef\\xbf\\xbdw\\x1a\"\\n\\xef\\xbf\\xbd-k\\xef\\xbf\\xbd\\x08\\xef\\xbf\\xbd]a\\'4\\xef\\xbf\\xbd\\x07\\xef\\xbf\\xbdP\\xef\\xbf\\xbdU:\\xf3\\x9a\\xbb\\x87\\xef\\xbf\\xbd',\n",
       " b'\\x00\\x0c\\x81\\x80\\x00\\x01\\x00\\x01\\x00\\x00\\x00\\x00\\x06google\\x03com\\x00\\x00\\x1c\\x00\\x01\\xc0\\x0c\\x00\\x1c\\x00\\x01\\x00\\x00\\x01\\x12\\x00\\x10&\\x07\\xf8\\xb0@\\x05\\x08\\x07\\x00\\x00\\x00\\x00\\x00\\x00 \\x0e',\n",
       " b'\\x00\\x0c\\x01\\x00\\x00\\x01\\x00\\x00\\x00\\x00\\x00\\x00\\x06google\\x03com\\x00\\x00\\x1c\\x00\\x01r\\xcc\\x90 ~\\x16\\xef\\xbf\\xbd\\x00\\xef\\xbf\\xbd\\xef\\xbf\\xbd\\x7f\\xef\\xbf\\xbd\\x02\\xef\\xbf\\xbdv\\xef\\xbf\\xbd\\x0ex+f\\xef\\xbf\\xbd\\xef\\xbf\\xbd\\xef\\xbf\\xbd\\xef\\xbf\\xbd\\xef\\xbf\\xbd\\xcf\\x95\\x08^\\x144WH\\xef\\xbf\\xbdY\\xef\\xbf\\xbdv\\xef\\xbf\\xbd\\xef\\xbf\\xbdzc\\x04\\xef\\xbf\\xbd\\x16\\xef\\xbf\\xbd?+K\\x05\\xef\\xbf\\xbdR\\xef\\xbf\\xbdo\\x15\\xef\\xbf\\xbd\\xeb\\x96\\x91]\\x1a\\xca\\x9eB\\xef\\xbf\\xbd\\xef\\xbf\\xbd\\xd5\\xb8od\\xef\\xbf\\xbd\\xef\\xbf\\xbd?;\\xef\\xbf\\xbd4\\xef\\xbf\\xbd[\\\\\\xef\\xbf\\xbd\\x14\\xef\\xbf\\xbdT\\x1awl\\xef\\xbf\\xbd\\'j\\x0c\\x04\\x14\\x0e\\xef\\xbf\\xbd0\\xef\\xbf\\xbd\\xef\\xbf\\xbd\\xdd\\xa3\\xef\\xbf\\xbd\\xef\\xbf\\xbd\\x05\\xef\\xbf\\xbd\\xc4\\x8c\\x18*(\\xef\\xbf\\xbd\\xef\\xbf\\xbdCV\\xce\\x8eg\\xef\\xbf\\xbd\\xef\\xbf\\xbd\\xef\\xbf\\xbd\\x07\\xef\\xbf\\xbd.\\xef\\xbf\\xbdEs\\xef\\xbf\\xbd_Ezbo\\xef\\xbf\\xbd\\xef\\xbf\\xbdo\\xef\\xbf\\xbd\\xc9\\xa4\\xef\\xbf\\xbd\\xef\\xbf\\xbd\\x07\\xef\\xbf\\xbd\\xef\\xbf\\xbd\\xef\\xbf\\xbdrg\\xef\\xbf\\xbd%\\xef\\xbf\\xbd\\xef\\xbf\\xbd\\xef\\xbf\\xbd|;\\xef\\xbf\\xbd\\xef\\xbf\\xbd\\xef\\xbf\\xbd\\xef\\xbf\\xbd\\xef\\xbf\\xbd\\xef\\xbf\\xbd\\ncA:\\xef\\xbf\\xbdi\\xef\\xbf\\xbd\\xef\\xbf\\xbd\\xef\\xbf\\xbd\\x19\\xef\\xbf\\xbdkm\\xef\\xbf\\xbd6\\xef\\xbf\\xbd\\xef\\xbf\\xbdnq\\xef\\xbf\\xbd\\xef\\xbf\\xbdB\\xef\\xbf\\xbd;z/?0\\xef\\xbf\\xbd\\xef\\xbf\\xbd\\xef\\xbf\\xbd%5\\x15\\xef\\xbf\\xbd\\xef\\xbf\\xbd\\xef\\xbf\\xbd+\\x07{!N\\xef\\xbf\\xbdO\\xef\\xbf\\xbd\\x13\\xef\\xbf\\xbdp\\xef\\xbf\\xbd\\xef\\xbf\\xbdY\\xef\\xbf\\xbd\\xef\\xbf\\xbd\\xef\\xbf\\xbd.\\xef\\xbf\\xbd\\xef\\xbf\\xbd3|\\xef\\xbf\\xbd\\xef\\xbf\\xbd.!^\\xef\\xbf\\xbd\\xef\\xbf\\xbd\\xef\\xbf\\xbd\\x1f\\xef\\xbf\\xbd\\xef\\xbf\\xbd\\xef\\xbf\\xbdb\\xef\\xbf\\xbd\\xef\\xbf\\xbd\\x1d\\xef\\xbf\\xbd\\x1b]\\x16\\xef\\xbf\\xbdy\\xef\\xbf\\xbd\\xef\\xbf\\xbd\\xdb\\x81\\xef\\xbf\\xbd\\x14\\xef\\xbf\\xbd\\xef\\xbf\\xbd\\x08\\xef\\xbf\\xbd\\r\\xef\\xbf\\xbd\\xef\\xbf\\xbd\\x16\\xef\\xbf\\xbd\\xef\\xbf\\xbd.\\xef\\xbf\\xbd\\xe2\\x90\\xb2F\\x08\\xef\\xbf\\xbdJe\\xd0\\x8b\\xef\\xbf\\xbd?\\x15\\xef\\xbf\\xbd\\x1c\\xef\\xbf\\xbd\\xee\\x88\\xb3\\x17\\xef\\xbf\\xbd\\xef\\xbf\\xbd\\xef\\xbf\\xbd\\xef\\xbf\\xbd\\x02\\xcb\\xba\\xef\\xbf\\xbdBg^\\xef\\xbf\\xbdOt8a%DS\\xef\\xbf\\xbdJw\\xef\\xbf\\xbdJI\\xef\\xbf\\xbdg\\xef\\xbf\\xbdg\"\\x7f74\\xef\\xbf\\xbdi\\x1b\\xef\\xbf\\xbd1\\xef\\xbf\\xbd\\xef\\xbf\\xbd\\x0c\\xcf\\xb9\\xef\\xbf\\xbd^Rf\\xef\\xbf\\xbd\\x07\\xef\\xbf\\xbd\\x08J\\xef\\xbf\\xbd\\xef\\xbf\\xbdy\\xef\\xbf\\xbd0(\\xef\\xbf\\xbd\\xd4\\xb7R\\x11\\xef\\xbf\\xbdh\\xc8\\xa0b\\xef\\xbf\\xbd\\xef\\xbf\\xbdD\\xef\\xbf\\xbd?y\\xef\\xbf\\xbdwvO\\xef\\xbf\\xbd\\x17\\xef\\xbf\\xbd@\\xef\\xbf\\xbd\\xef\\xbf\\xbd\\xef\\xbf\\xbd\\xef\\xbf\\xbd\\xef\\xbf\\xbd%:N\\xef\\xbf\\xbd\\x7f\\xef\\xbf\\xbdd\"\\xda\\x97\\xef\\xbf\\xbd{%\\x05#\\xef\\xbf\\xbd\\xef\\xbf\\xbd9\\xef\\xbf\\xbd\\xef\\xbf\\xbd\\xef\\xbf\\xbd\\x11_\\xc4\\x887\\xef\\xbf\\xbd\\x07\"L\\x04\\xef\\xbf\\xbda\\xd3\\x9c\\xef\\xbf\\xbd\\xef\\xbf\\xbd\\x08C4?\\xef\\xbf\\xbd\\xd2\\xb5!\\xef\\xbf\\xbd.\\xca\\xb0\\x06})\\xdd\\xaf(\\xef\\xbf\\xbd\\xef\\xbf\\xbd\\xef\\xbf\\xbdq\\xef\\xbf\\xbd\\xef\\xbf\\xbd\\xef\\xbf\\xbd\\xef\\xbf\\xbd\\x12\\xef\\xbf\\xbd*\\xef\\xbf\\xbd\\xef\\xbf\\xbd4\\xef\\xbf\\xbd*\\xef\\xbf\\xbd\\xef\\xbf\\xbd\\x00KYw\\xef\\xbf\\xbd+\\xef\\xbf\\xbd\\xef\\xbf\\xbd7\\x04\\xef\\xbf\\xbd$}R\\xef\\xbf\\xbdD\"\\x1c\\xef\\xbf\\xbd\\xef\\xbf\\xbd\\xef\\xbf\\xbd\\xef\\xbf\\xbd\\xef\\xbf\\xbd,K\\xef\\xbf\\xbd%\\xd1\\xac\\xef\\xbf\\xbdT\\xef\\xbf\\xbd\\\\{\\xef\\xbf\\xbd7\\xef\\xbf\\xbd\\xef\\xbf\\xbd\\xef\\xbf\\xbd\\x13\\xef\\xbf\\xbdB\\xef\\xbf\\xbd\\xef\\xbf\\xbd\\xef\\xbf\\xbd\\xef\\xbf\\xbd@\\xef\\xbf\\xbd\\xef\\xbf\\xbd:\\xef\\xbf\\xbd\\xef\\xbf\\xbd\\xef\\xbf\\xbd\\x11\\xef\\xbf\\xbd+u\\xef\\xbf\\xbdC\\xef\\xbf\\xbdm\\xef\\xbf\\xbd\\x0c\\xef\\xbf\\xbd\\x11\\xef\\xbf\\xbdl\\x049*\\xef\\xbf\\xbd}\\xef\\xbf\\xbdS1\\x1a\\xef\\xbf\\xbdFw\\xef\\xbf\\xbdU\\xef\\xbf\\xbdJ\\xef\\xbf\\xbd<\\xef\\xbf\\xbduNH\\xef\\xbf\\xbd\\xef\\xbf\\xbd:',\n",
       " b'\\x00\\x0c\\x81\\x80\\x00\\x01\\x00\\x01\\x00\\x00\\x00\\x00\\x06google\\x03com\\x00\\x00\\x1c\\x00\\x01\\xc0\\x0c\\x00\\x1c\\x00\\x01\\x00\\x00\\x01\\x11\\x00\\x10&\\x07\\xf8\\xb0@\\x05\\x08\\x07\\x00\\x00\\x00\\x00\\x00\\x00 \\x0e',\n",
       " b'\\x00\\x0c\\x01\\x00\\x00\\x01\\x00\\x00\\x00\\x00\\x00\\x00\\x06google\\x03com\\x00\\x00\\x1c\\x00\\x01\\xef\\xbf\\xbdK\\xef\\xbf\\xbde\\xef\\xbf\\xbd4\\xef\\xbf\\xbdP$M\\x11q\\xef\\xbf\\xbd\\xef\\xbf\\xbde\\xef\\xbf\\xbd\\xef\\xbf\\xbd\\x08\\xef\\xbf\\xbdV\\xef\\xbf\\xbdq\\xef\\xbf\\xbd\\xef\\xbf\\xbd\\xef\\xbf\\xbd\\n\\xef\\xbf\\xbd7\\xef\\xbf\\xbd|/\\xef\\xbf\\xbd7\\xef\\xbf\\xbd\\xef\\xbf\\xbdR\\x0fe\\xef\\xbf\\xbd\\x1a\\xc2\\xa6\\xef\\xbf\\xbdH\\xef\\xbf\\xbd\\xef\\xbf\\xbd\\xca\\xaf\\xef\\xbf\\xbd\\x15\\xef\\xbf\\xbd\\x1b#\\x14Q\\xef\\xbf\\xbdw\\xef\\xbf\\xbdP\\x00\\xef\\xbf\\xbd\\xef\\xbf\\xbdIu\\xc8\\x85[\\x1f06%\\xef\\xbf\\xbd#+\\x03\\xef\\xbf\\xbdlY\\xef\\xbf\\xbd\\xef\\xbf\\xbd\\'\\xef\\xbf\\xbd/\\xcb\\xa9\\xef\\xbf\\xbd\\xef\\xbf\\xbd\\xef\\xbf\\xbdMu\\xef\\xbf\\xbd\\xef\\xbf\\xbd\\x0b\\xef\\xbf\\xbd\\x19\\xef\\xbf\\xbd\\x0c\\x11\\xef\\xbf\\xbd\\xef\\xbf\\xbd\\x08\\xef\\xbf\\xbd\\xef\\xbf\\xbd\\xef\\xbf\\xbdPS\\xef\\xbf\\xbdS~BG\\xef\\xbf\\xbdoI%\\xef\\xbf\\xbd\\x08\\n\\r\\xc2\\xa1\\xef\\xbf\\xbd+3Q~5\\x15\\xef\\xbf\\xbd\\x1e6\\xef\\xbf\\xbd\\xef\\xbf\\xbdk\\xce\\x9c\\x08\\xef\\xbf\\xbd\\xef\\xbf\\xbdaE\\xef\\xbf\\xbd\\xef\\xbf\\xbd\\xef\\xbf\\xbd(\\x7f\\x08\\x06\\x00\\xef\\xbf\\xbdR\\xef\\xbf\\xbd\\xef\\xbf\\xbdKA\\xef\\xbf\\xbd\\xef\\xbf\\xbd\\x102.S\\xef\\xbf\\xbd\\xef\\xbf\\xbdz8\\x005\\xef\\xbf\\xbdZ\\xef\\xbf\\xbd\\xef\\xbf\\xbdwV-{/\\xef\\xbf\\xbdq\\xef\\xbf\\xbd^\\xef\\xbf\\xbd\\xef\\xbf\\xbd{\\xef\\xbf\\xbd\\xef\\xbf\\xbdH2v\\x12\\xef\\xbf\\xbd\\x01\\xef\\xbf\\xbd\\xef\\xbf\\xbd+\\x1a\\xef\\xbf\\xbd\\r\\x1c\\xef\\xbf\\xbd?M\\nz\\xef\\xbf\\xbdIR\\xef\\xbf\\xbdh\\xef\\xbf\\xbd\\x16\\xc9\\xad\\xef\\xbf\\xbdz\\xef\\xbf\\xbdu\\xef\\xbf\\xbdtP=l\\xef\\xbf\\xbd\\xef\\xbf\\xbdj\\x05\\xef\\xbf\\xbd\\xef\\xbf\\xbd\\xef\\xbf\\xbd\\x15\\xc6\\x99\\xef\\xbf\\xbdZ\\xef\\xbf\\xbd]\\xc4\\xb8\\xef\\xbf\\xbd\\xef\\xbf\\xbd.\\xef\\xbf\\xbd\\xef\\xbf\\xbd\\xef\\xbf\\xbdD\\x10\\xef\\xbf\\xbd\\xef\\xbf\\xbd5P8l\\xef\\xbf\\xbd\\xef\\xbf\\xbd\\xef\\xbf\\xbdT\\x1a\\xef\\xbf\\xbdO\\xef\\xbf\\xbd2\\xef\\xbf\\xbd\\x1b\\xef\\xbf\\xbd\\xef\\xbf\\xbd,\\xef\\xbf\\xbd\\xef\\xbf\\xbd\\xef\\xbf\\xbd\\xef\\xbf\\xbd\\xef\\xbf\\xbd\\xef\\xbf\\xbdu\\xef\\xbf\\xbdD8`\\xef\\xbf\\xbd=2.\\xef\\xbf\\xbd\\xef\\xbf\\xbd+3|8\\xef\\xbf\\xbd\\xef\\xbf\\xbdV\\xef\\xbf\\xbd\\xef\\xbf\\xbd\\xef\\xbf\\xbdR\\xef\\xbf\\xbd\\xef\\xbf\\xbd\\xef\\xbf\\xbd\\xef\\xbf\\xbd\\xef\\xbf\\xbd\\xef\\xbf\\xbd\\xef\\xbf\\xbd\\xef\\xbf\\xbd\\xef\\xbf\\xbd\\xef\\xbf\\xbd2\"J\\xef\\xbf\\xbd\\xef\\xbf\\xbdo\\x05\\xef\\xbf\\xbde\\xef\\xbf\\xbdTt\\xef\\xbf\\xbd\\xef\\xbf\\xbdn\\xef\\xbf\\xbdEk\\xce\\x8f\\rA\\xef\\xbf\\xbd1\\xef\\xbf\\xbdn\\xef\\xbf\\xbd\\xef\\xbf\\xbd\\xef\\xbf\\xbd\\xef\\xbf\\xbd\\xef\\xbf\\xbd~\\xef\\xbf\\xbda\\xef\\xbf\\xbdv\\xef\\xbf\\xbd\\xef\\xbf\\xbd\\x03\\xef\\xbf\\xbd\\xef\\xbf\\xbd\\xef\\xbf\\xbd{b7v\\xef\\xbf\\xbd)\\xef\\xbf\\xbd\\x01\\xe3\\x95\\xa0\\xef\\xbf\\xbd8\\xef\\xbf\\xbd\\xef\\xbf\\xbd\\xef\\xbf\\xbd\\xd9\\x9d\\xef\\xbf\\xbd\\xef\\xbf\\xbd:x\\xef\\xbf\\xbdD\\xef\\xbf\\xbd\\xef\\xbf\\xbd\\xef\\xbf\\xbd\\x7f\\xef\\xbf\\xbd\\xef\\xbf\\xbdF\\x7f\\n\\x06\\xef\\xbf\\xbd\\xef\\xbf\\xbdTj\\xef\\xbf\\xbd\\xcc\\xaf\\xef\\xbf\\xbdT\\xef\\xbf\\xbd\\xef\\xbf\\xbd\\xef\\xbf\\xbd\\xef\\xbf\\xbd0\\xe2\\x95\\x96\\xef\\xbf\\xbd!\\xef\\xbf\\xbdCD-\\xef\\xbf\\xbd~\\xef\\xbf\\xbd\\xef\\xbf\\xbd\\xef\\xbf\\xbdl\\xd1\\x84\\xef\\xbf\\xbd\\xef\\xbf\\xbdF\\xc2\\xba\\x0f\\xef\\xbf\\xbd\\xef\\xbf\\xbdw\\x13\\xef\\xbf\\xbdq\\xef\\xbf\\xbd1\\xef\\xbf\\xbd\\x1a\\xd1\\xa2\\xef\\xbf\\xbd\\xef\\xbf\\xbd&\\xc4\\xad\\x11\\x04\\xef\\xbf\\xbdb~}\\xef\\xbf\\xbd\\xef\\xbf\\xbd\\xef\\xbf\\xbd\\x14\\xef\\xbf\\xbd\\xef\\xbf\\xbd\\xef\\xbf\\xbd\\xef\\xbf\\xbdk\\x05\\xef\\xbf\\xbd\\xef\\xbf\\xbdyB\\xef\\xbf\\xbd\\x17@|\\x1e\\xef\\xbf\\xbd\\xef\\xbf\\xbd\"\\xef\\xbf\\xbd3\\x05\\xef\\xbf\\xbdl?\\x11\\xef\\xbf\\xbd\\xef\\xbf\\xbd\\nV\\x06+\\xef\\xbf\\xbd\\xef\\xbf\\xbdL\\xef\\xbf\\xbd\\xef\\xbf\\xbd\\xef\\xbf\\xbd\\xef\\xbf\\xbd%Wi(\\x17E\\xef\\xbf\\xbdiw-\\xef\\xbf\\xbd\\xef\\xbf\\xbd[\\xef\\xbf\\xbd<e\\x11\\xef\\xbf\\xbd\\xef\\xbf\\xbd\\xef\\xbf\\xbd\"\\xef\\xbf\\xbd\\x0bf\\xc7\\xa4\\xef\\xbf\\xbd\\x0b\\\\9\\xef\\xbf\\xbdCo\\xef\\xbf\\xbdB.\\x04\\xef\\xbf\\xbd\\t\\xef\\xbf\\xbd',\n",
       " b'\\x00\\x0c\\x81\\x80\\x00\\x01\\x00\\x01\\x00\\x00\\x00\\x00\\x06google\\x03com\\x00\\x00\\x1c\\x00\\x01\\xc0\\x0c\\x00\\x1c\\x00\\x01\\x00\\x00\\x01\\x10\\x00\\x10&\\x07\\xf8\\xb0@\\x05\\x08\\x07\\x00\\x00\\x00\\x00\\x00\\x00 \\x0e',\n",
       " b'\\x00\\x0c\\x01\\x00\\x00\\x01\\x00\\x00\\x00\\x00\\x00\\x00\\x06google\\x03com\\x00\\x00\\x1c\\x00\\x01\\xef\\xbf\\xbdXH\\x04j\\x17\\x00\\xef\\xbf\\xbdU55\\x1b56\\xef\\xbf\\xbd\\x03\\n}\\xef\\xbf\\xbd\\xef\\xbf\\xbd\\n\\xc4\\xb9=\\x14\\xde\\x83\\x00\\xef\\xbf\\xbd\\x1f\\x08^!\\x12o\\xef\\xbf\\xbd\\xef\\xbf\\xbdZ*\\xef\\xbf\\xbd\\xef\\xbf\\xbd\\xef\\xbf\\xbd\\xef\\xbf\\xbd]\\xef\\xbf\\xbd\\xef\\xbf\\xbd\\xef\\xbf\\xbd&z\\x17\\x0e\\x19\"\\xef\\xbf\\xbd%\\xef\\xbf\\xbdp\\x03\"\\xef\\xbf\\xbd\\xef\\xbf\\xbd\\xef\\xbf\\xbd\\xef\\xbf\\xbd\\xef\\xbf\\xbdG\\xef\\xbf\\xbd\\xef\\xbf\\xbd\\x05TYc\\xef\\xbf\\xbd\\xef\\xbf\\xbd+\\x08\\x04z\\xef\\xbf\\xbd\\xef\\xbf\\xbd[\\xef\\xbf\\xbdO\\x7fU \\xef\\xbf\\xbdN\\x05\\x0c\\xef\\xbf\\xbd\\xef\\xbf\\xbd\\xef\\xbf\\xbd\\xef\\xbf\\xbd+\\xef\\xbf\\xbd\\xef\\xbf\\xbd{\\xef\\xbf\\xbd\\xef\\xbf\\xbd\\x0b|\\xef\\xbf\\xbd5\\x08p+\"\\xef\\xbf\\xbd\\xef\\xbf\\xbd$\\xef\\xbf\\xbd1[\\x1f\\xef\\xbf\\xbd\\xef\\xbf\\xbd\\xef\\xbf\\xbdD\\xd6\\x8a\\xef\\xbf\\xbd\\xef\\xbf\\xbd\\xef\\xbf\\xbd\\xef\\xbf\\xbd\\x7f&\\xef\\xbf\\xbd.F\\xef\\xbf\\xbdBl\\xef\\xbf\\xbd\\xef\\xbf\\xbd\\x00\\xef\\xbf\\xbd\\x02R\\xcb\\xaa*z\\xef\\xbf\\xbd\\xef\\xbf\\xbd\\xef\\xbf\\xbd\\xef\\xbf\\xbdH\\xef\\xbf\\xbd,\\t4\\x10\\xef\\xbf\\xbds\\xef\\xbf\\xbd88\\xef\\xbf\\xbd\\xef\\xbf\\xbd\\xef\\xbf\\xbd\\x10\\xef\\xbf\\xbdJR\\xef\\xbf\\xbd\\xef\\xbf\\xbd\\xef\\xbf\\xbd\\xef\\xbf\\xbd\\xef\\xbf\\xbdq\\xef\\xbf\\xbd\\xef\\xbf\\xbd.\\xef\\xbf\\xbd\\xef\\xbf\\xbd\\xef\\xbf\\xbd\\x1ck\\x10\\xef\\xbf\\xbde\\x00$\\xef\\xbf\\xbdm\\xef\\xbf\\xbd\\x0e|2iSL\\xef\\xbf\\xbdD\\xef\\xbf\\xbd|}\\x13\\x02~\\xef\\xbf\\xbd{\\xef\\xbf\\xbd0}>2\\xef\\xbf\\xbdv\\xd1\\x93y%\\xef\\xbf\\xbdw8\\xef\\xbf\\xbdK=\\x10\\xef\\xbf\\xbdC\\xef\\xbf\\xbd\\x15eC\\xef\\xbf\\xbd\\xef\\xbf\\xbdK\\xef\\xbf\\xbd\\xef\\xbf\\xbd4M<\\xef\\xbf\\xbdmO\\xef\\xbf\\xbd\\xef\\xbf\\xbdPJq\\xef\\xbf\\xbd<\\xef\\xbf\\xbd~\\xef\\xbf\\xbd\\x0b\\xef\\xbf\\xbd\\x1ch\\xdd\\x9fl$\\x01e!A3\\tz\\xef\\xbf\\xbd\\x00j[\\xef\\xbf\\xbd\\xef\\xbf\\xbdolx*\\xef\\xbf\\xbdu\\xef\\xbf\\xbd\\xef\\xbf\\xbd\\xef\\xbf\\xbd+\\x0b\\xef\\xbf\\xbd&\\xef\\xbf\\xbdG(/F\\xef\\xbf\\xbd\\xef\\xbf\\xbd@p\\x00\\x11\\xef\\xbf\\xbd+E5\\xef\\xbf\\xbdlx\\xef\\xbf\\xbd\\xef\\xbf\\xbd\\xc9\\x873\\xef\\xbf\\xbdu\\xef\\xbf\\xbd\\xef\\xbf\\xbdK\\xef\\xbf\\xbdl3\\x1b.\\x16\\x02.&\\x05\\xef\\xbf\\xbd\\x10\\xef\\xbf\\xbd\\x05\\xef\\xbf\\xbd\\x0e\\xef\\xbf\\xbd\\xef\\xbf\\xbd\\xef\\xbf\\xbd6\\xef\\xbf\\xbd\\xef\\xbf\\xbd\\xef\\xbf\\xbd\\xef\\xbf\\xbd`}2f\\\\z\\xef\\xbf\\xbd\\x18\\xef\\xbf\\xbd\\xef\\xbf\\xbd\\x18\\xd5\\x8d\\xef\\xbf\\xbdJ\\xef\\xbf\\xbd2e\\xef\\xbf\\xbd\\xef\\xbf\\xbd\\xef\\xbf\\xbd\\xef\\xbf\\xbd\\xef\\xbf\\xbd[\\xef\\xbf\\xbd1E+\\xef\\xbf\\xbdL\\xef\\xbf\\xbd\\xef\\xbf\\xbdn\\xef\\xbf\\xbd\\xef\\xbf\\xbd\\x12\\xef\\xbf\\xbd(\\x00\\xef\\xbf\\xbd9 \\xef\\xbf\\xbdO~7\\x10\\xef\\xbf\\xbd\\xef\\xbf\\xbd\\xef\\xbf\\xbd+\\xef\\xbf\\xbd\\xef\\xbf\\xbdL\\xef\\xbf\\xbd\\xef\\xbf\\xbd\\x10\\xdd\\x86I@b\\xef\\xbf\\xbdW\\n\\xef\\xbf\\xbd\\xef\\xbf\\xbdwmX\\xef\\xbf\\xbdi\\nV\\xef\\xbf\\xbd\\xef\\xbf\\xbd\\xef\\xbf\\xbd%g\\xef\\xbf\\xbd\\xef\\xbf\\xbd\\xef\\xbf\\xbd\\x08\\x01\\xef\\xbf\\xbd\\xef\\xbf\\xbd6 \\x11\\xef\\xbf\\xbd.\\x05\\xef\\xbf\\xbd^)\\xef\\xbf\\xbdv\\xef\\xbf\\xbd\\x07B\\xef\\xbf\\xbd+\\xef\\xbf\\xbdpd\\xef\\xbf\\xbdh>}x\\xef\\xbf\\xbdy!J\\xef\\xbf\\xbd\\x0c \\xef\\xbf\\xbd\\x05\\xef\\xbf\\xbd\\x06E\\xef\\xbf\\xbdm\\xef\\xbf\\xbd\\xc2\\xaf\\xef\\xbf\\xbd\\x05\\xef\\xbf\\xbd\\xef\\xbf\\xbd\\xef\\xbf\\xbdF9\\xef\\xbf\\xbd\\xef\\xbf\\xbd+\\xef\\xbf\\xbd\\xef\\xbf\\xbd\\x12#\\xef\\xbf\\xbd\\xd0\\x94h\\xef\\xbf\\xbd.R\\x1b\\x10\\xef\\xbf\\xbdu\\xef\\xbf\\xbd\\x05Cv\\xef\\xbf\\xbd\\xef\\xbf\\xbd=k\\xef\\xbf\\xbd\\xef\\xbf\\xbd\\xef\\xbf\\xbd\\x06\\x01~\\x06\\xef\\xbf\\xbd^\\xef\\xbf\\xbd\\xef\\xbf\\xbd\\x1b\\xef\\xbf\\xbd\\xef\\xbf\\xbd<Mh\\xef\\xbf\\xbd',\n",
       " b'\\x00\\x0c\\x81\\x80\\x00\\x01\\x00\\x01\\x00\\x00\\x00\\x00\\x06google\\x03com\\x00\\x00\\x1c\\x00\\x01\\xc0\\x0c\\x00\\x1c\\x00\\x01\\x00\\x00\\x01\\x0f\\x00\\x10&\\x07\\xf8\\xb0@\\x05\\x08\\x07\\x00\\x00\\x00\\x00\\x00\\x00 \\x0e',\n",
       " b'\\x00\\x0c\\x01\\x00\\x00\\x01\\x00\\x00\\x00\\x00\\x00\\x00\\x06google\\x03com\\x00\\x00\\x1c\\x00\\x01w\\xef\\xbf\\xbd\\x04\\x10\\xef\\xbf\\xbd[y\\xef\\xbf\\xbd\\xef\\xbf\\xbd4\\xef\\xbf\\xbd\\xef\\xbf\\xbd\\xef\\xbf\\xbd\\x07\\xef\\xbf\\xbd\\xed\\x8c\\xbd\\xef\\xbf\\xbd\\xef\\xbf\\xbd\\xef\\xbf\\xbdQ9c\\xef\\xbf\\xbd\\xef\\xbf\\xbd\\xef\\xbf\\xbd\\xef\\xbf\\xbd\\xef\\xbf\\xbd\\x15\\xef\\xbf\\xbd\\xef\\xbf\\xbd\\xef\\xbf\\xbd\\xef\\xbf\\xbd}\\x0c\\x17\\xef\\xbf\\xbd\\xef\\xbf\\xbd\\xef\\xbf\\xbd\\xef\\xbf\\xbd\\xef\\xbf\\xbd\\x02u\\xef\\xbf\\xbde\\x1ac\\xef\\xbf\\xbd\\xef\\xbf\\xbd\\xef\\xbf\\xbddB\\x1c\\xef\\xbf\\xbd\\xef\\xbf\\xbd\\r\\xef\\xbf\\xbdR:q\\x10\\\\\\x04\\x0c\\xef\\xbf\\xbd0,\\xef\\xbf\\xbd\\x0c\\xef\\xbf\\xbd0,\\xef\\xbf\\xbd\\x0c\\xef\\xbf\\xbd0\\x0c\\x0b1\\xef\\xbf\\xbd0\\x0c\\x0b1\\xef\\xbf\\xbd0\\x0c\\xef\\xbf\\xbdB\\xef\\xbf\\xbd0\\x0c\\xef\\xbf\\xbdB\\xef\\xbf\\xbd0\\x0c\\xc3\\xb0\\x103\\x0c\\xc3\\xb0\\x103\\x0c\\xef\\xbf\\xbd0}\\xef\\xbf\\xbd\\xef\\xbf\\xbdE\\xef\\xbf\\xbd0\\xef\\xbf\\xbd\\x19\\x08\\xda\\x8cy\\xef\\xbf\\xbdT\\xef\\xbf\\xbdh\\xde\\xb16\\xef\\xbf\\xbd>\\xef\\xbf\\xbd\\xef\\xbf\\xbd\\xef\\xbf\\xbd\\xef\\xbf\\xbdL\\x7fU)\\xef\\xbf\\xbd0\\x03\\x03\\xef\\xbf\\xbdW\\xef\\xbf\\xbd\\xef\\xbf\\xbd\\xef\\xbf\\xbd\\xef\\xbf\\xbdn\\xef\\xbf\\xbdX\\x00H\\xef\\xbf\\xbd&\\xcb\\x91\\x1bM\\xef\\xbf\\xbd\\xef\\xbf\\xbdT\\x08\\x006\\x10\\xef\\xbf\\xbd[\\xef\\xbf\\xbdhU\\x0b\\xef\\xbf\\xbd[\\xef\\xbf\\xbd\\x01c\\x1f\\x17&\\x0b1\\xef\\xbf\\xbd0\\xef\\xbf\\xbd\\xef\\xbf\\xbd\\xef\\xbf\\xbd\\xef\\xbf\\xbd\\x0f\\xef\\xbf\\xbd\\x10\\xef\\xbf\\xbd@)\\xef\\xbf\\xbd\\xef\\xbf\\xbd7\\x12\\xef\\xbf\\xbdh6E\\x14\\x12h\\xef\\xbf\\xbdG\\xce\\xbeJ\\xef\\xbf\\xbd\\xef\\xbf\\xbdd\\x06\\xef\\xbf\\xbd\\x113\\xef\\xbf\\xbd@\\xef\\xbf\\xbd\\xef\\xbf\\xbd\\xef\\xbf\\xbdv=\\xef\\xbf\\xbdM\\xd5\\xb6G\\xef\\xbf\\xbd\\x05k\\xef\\xbf\\xbd$Y\\xef\\xbf\\xbd\\x19\\xef\\xbf\\xbd\\xef\\xbf\\xbd\\x0e\\x03\\xef\\xbf\\xbd\\xef\\xbf\\xbd\\xef\\xbf\\xbd\\xef\\xbf\\xbdB\\xef\\xbf\\xbd0L?\\xef\\xbf\\xbd\\xd8\\x94\\xef\\xbf\\xbd\\xef\\xbf\\xbd=\\xef\\xbf\\xbd\\x16Fw\\xef\\xbf\\xbdY;\\xef\\xbf\\xbd\\xef\\xbf\\xbd\\xef\\xbf\\xbd<\\xef\\xbf\\xbd\\xef\\xbf\\xbd\\xef\\xbf\\xbd\\x01\\x00\\x00\\xef\\xbf\\xbd\\xef\\xbf\\xbd\\xef\\xbf\\xbd\\xef\\xbf\\xbd;\\xef\\xbf\\xbd\\xef\\xbf\\xbd}\\xef\\xbf\\xbd4\\x00\\x00\\x00\\x00IEND\\xef\\xbf\\xbdB`\\xef\\xbf\\xbd',\n",
       " b'\\x00\\x0c\\x81\\x80\\x00\\x01\\x00\\x01\\x00\\x00\\x00\\x00\\x06google\\x03com\\x00\\x00\\x1c\\x00\\x01\\xc0\\x0c\\x00\\x1c\\x00\\x01\\x00\\x00\\x01\\x0e\\x00\\x10&\\x07\\xf8\\xb0@\\x05\\x08\\x07\\x00\\x00\\x00\\x00\\x00\\x00 \\x0e']"
      ]
     },
     "execution_count": 22,
     "metadata": {},
     "output_type": "execute_result"
    }
   ],
   "source": [
    "payloads"
   ]
  },
  {
   "cell_type": "markdown",
   "metadata": {},
   "source": [
    "#### g. Examine los primeros bytes del contenido, ¿encuentra algún dato que no haga sentido que se envie a través del puerto explicado en el inciso 5.f?"
   ]
  },
  {
   "cell_type": "code",
   "execution_count": 23,
   "metadata": {},
   "outputs": [
    {
     "name": "stdout",
     "output_type": "stream",
     "text": [
      "b'\\x00\\x0c\\x01\\x00\\x00\\x01\\x00\\x00\\x00\\x00\\x00\\x00\\x06google\\x03com\\x00\\x00\\x1c\\x00\\x01\\xef\\xbf\\xbdPNG\\r\\n\\x1a\\n\\x00\\x00\\x00\\rIHDR\\x00\\x00\\x01b\\x00\\x00\\x00\\xef\\xbf\\xbd\\x08\\x06\\x00\\x00\\x00(\\xef\\xbf\\xbdTR\\x00\\x00:\\xef\\xbf\\xbdIDATx\\xef\\xbf\\xbd\\xef\\xbf\\xbd\\t|T\\xef\\xbf\\xbd\\xef\\xbf\\xbd\\xef\\xbf\\xbd\\xef\\xbf\\xbd\\xef'\n",
      "b'\\x00\\x0c\\x81\\x80\\x00\\x01\\x00\\x01\\x00\\x00\\x00\\x00\\x06google\\x03com\\x00\\x00\\x1c\\x00\\x01\\xc0\\x0c\\x00\\x1c\\x00\\x01\\x00\\x00\\x01+\\x00\\x10&\\x07\\xf8\\xb0@\\x05\\x08\\x07\\x00\\x00\\x00\\x00\\x00\\x00 \\x0e'\n",
      "b'\\x00\\x0c\\x01\\x00\\x00\\x01\\x00\\x00\\x00\\x00\\x00\\x00\\x06google\\x03com\\x00\\x00\\x1c\\x00\\x01:\\xef\\xbf\\xbdle:\\xc7\\xa9\\xef\\xbf\\xbd\\xef\\xbf\\xbd\\xef\\xbf\\xbd\\x0c\\xef\\xbf\\xbd\\xef\\xbf\\xbd\\xef\\xbf\\xbd:|\\x11\\xef\\xbf\\xbdX\\xef\\xbf\\xbd\\xef\\xbf\\xbdq.e\\xef\\xbf\\xbd\\xef\\xbf\\xbd\\xef\\xbf\\xbda\\x120\\xef\\xbf\\xbdJ}4\\n9$vz\\xef\\xbf\\xbdR\\xef'\n",
      "b'\\x00\\x0c\\x81\\x80\\x00\\x01\\x00\\x01\\x00\\x00\\x00\\x00\\x06google\\x03com\\x00\\x00\\x1c\\x00\\x01\\xc0\\x0c\\x00\\x1c\\x00\\x01\\x00\\x00\\x01)\\x00\\x10&\\x07\\xf8\\xb0@\\x05\\x08\\x07\\x00\\x00\\x00\\x00\\x00\\x00 \\x0e'\n",
      "b\"\\x00\\x0c\\x01\\x00\\x00\\x01\\x00\\x00\\x00\\x00\\x00\\x00\\x06google\\x03com\\x00\\x00\\x1c\\x00\\x01\\xef\\xbf\\xbd\\xef\\xbf\\xbd^n\\xef\\xbf\\xbd''\\xef\\xbf\\xbd\\xef\\xbf\\xbd\\xef\\xbf\\xbd$\\xef\\xbf\\xbd\\xef\\xbf\\xbd\\xef\\xbf\\xbd\\xef\\xbf\\xbd\\xef\\xbf\\xbdR\\xef\\xbf\\xbd\\xef\\xbf\\xbd\\xef\\xbf\\xbd\\x17\\xef\\xbf\\xbd>Epou\\xef\\xbf\\xbd\\xef\\xbf\\xbd$\\xef\\xbf\\xbd\\xef\\xbf\\xbdM\\xef\"\n",
      "b'\\x00\\x0c\\x81\\x80\\x00\\x01\\x00\\x01\\x00\\x00\\x00\\x00\\x06google\\x03com\\x00\\x00\\x1c\\x00\\x01\\xc0\\x0c\\x00\\x1c\\x00\\x01\\x00\\x00\\x01(\\x00\\x10&\\x07\\xf8\\xb0@\\x05\\x08\\x07\\x00\\x00\\x00\\x00\\x00\\x00 \\x0e'\n",
      "b'\\x00\\x0c\\x01\\x00\\x00\\x01\\x00\\x00\\x00\\x00\\x00\\x00\\x06google\\x03com\\x00\\x00\\x1c\\x00\\x01\\xe4\\x8e\\x91Bj_\\xef\\xbf\\xbda\\r\\xef\\xbf\\xbd\\xef\\xbf\\xbd\\xef\\xbf\\xbd\\x04\\xef\\xbf\\xbd\\xef\\xbf\\xbd\\x10DJ\\xef\\xbf\\xbd\\xef\\xbf\\xbd\\x14\\xef\\xbf\\xbd\\x12\\xef\\xbf\\xbd\\xef\\xbf\\xbdB\\xef\\xbf\\xbd\\x05\\x1dB\\r&\\xef\\xbf\\xbd@\\xef\\xbf\\xbd\\xd6\\x9e\\t\\xef\\xbf\\xbdD\\xef\\xbf'\n",
      "b\"\\x00\\x0c\\x81\\x80\\x00\\x01\\x00\\x01\\x00\\x00\\x00\\x00\\x06google\\x03com\\x00\\x00\\x1c\\x00\\x01\\xc0\\x0c\\x00\\x1c\\x00\\x01\\x00\\x00\\x01'\\x00\\x10&\\x07\\xf8\\xb0@\\x05\\x08\\x07\\x00\\x00\\x00\\x00\\x00\\x00 \\x0e\"\n",
      "b'\\x00\\x0c\\x01\\x00\\x00\\x01\\x00\\x00\\x00\\x00\\x00\\x00\\x06google\\x03com\\x00\\x00\\x1c\\x00\\x01\\xef\\xbf\\xbd\\xef\\xbf\\xbd\\xef\\xbf\\xbd\\xcb\\xb4\\xef\\xbf\\xbd\\x16\\xef\\xbf\\xbd\\xef\\xbf\\xbdrj\\xef\\xbf\\xbdGBWO\\xef\\xbf\\xbd\\xef\\xbf\\xbd\\x18\\xdd\\xa2i\\xef\\xbf\\xbd\\xef\\xbf\\xbd0\\xef\\xbf\\xbd\\x18\\x01\\xef\\xbf\\xbd\\xef\\xbf\\xbd\\xef\\xbf\\xbd\\xef\\xbf\\xbd\\xef\\xbf\\xbd\\x13e\"3\\x1c'\n",
      "b'\\x00\\x0c\\x81\\x80\\x00\\x01\\x00\\x01\\x00\\x00\\x00\\x00\\x06google\\x03com\\x00\\x00\\x1c\\x00\\x01\\xc0\\x0c\\x00\\x1c\\x00\\x01\\x00\\x00\\x01&\\x00\\x10&\\x07\\xf8\\xb0@\\x05\\x08\\x07\\x00\\x00\\x00\\x00\\x00\\x00 \\x0e'\n",
      "b'\\x00\\x0c\\x01\\x00\\x00\\x01\\x00\\x00\\x00\\x00\\x00\\x00\\x06google\\x03com\\x00\\x00\\x1c\\x00\\x01w\\xef\\xbf\\xbd \\xef\\xbf\\xbd\\x02R\\xef\\xbf\\xbd\\x19\\x00\\xef\\xbf\\xbd^\\x7f\\xef\\xbf\\xbd\\xc3\\xb4\\xef\\xbf\\xbd\\x16\\xef\\xbf\\xbd\\x01 \\x1c\\xef\\xbf\\xbd\\xef\\xbf\\xbd\\xef\\xbf\\xbd\\x14\\xef\\xbf\\xbd7PA\\xef\\xbf\\xbd\\xef\\xbf\\xbdu\\xef\\xbf\\xbd\\x00\\x01\\xef\\xbf\\xbdA\\xef\\xbf\\xbd\\x1b\\x10'\n",
      "b'\\x00\\x0c\\x81\\x80\\x00\\x01\\x00\\x01\\x00\\x00\\x00\\x00\\x06google\\x03com\\x00\\x00\\x1c\\x00\\x01\\xc0\\x0c\\x00\\x1c\\x00\\x01\\x00\\x00\\x01%\\x00\\x10&\\x07\\xf8\\xb0@\\x05\\x08\\x07\\x00\\x00\\x00\\x00\\x00\\x00 \\x0e'\n",
      "b'\\x00\\x0c\\x01\\x00\\x00\\x01\\x00\\x00\\x00\\x00\\x00\\x00\\x06google\\x03com\\x00\\x00\\x1c\\x00\\x01VQ\\xef\\xbf\\xbd\\xef\\xbf\\xbd\\xef\\xbf\\xbd\\xef\\xbf\\xbd\\xef\\xbf\\xbd\\xef\\xbf\\xbd\\xef\\xbf\\xbdG-U\\xef\\xbf\\xbd|\\xef\\xbf\\xbdp\\xef\\xbf\\xbd\\xef\\xbf\\xbd`^\\x0b\\xef\\xbf\\xbd\\xef\\xbf\\xbd\\xef\\xbf\\xbd)\\xef\\xbf\\xbd\\x1aA\\xef\\xbf\\xbd\":\\xef\\xbf\\xbd\\xef\\xbf\\xbd\\xef\\xbf\\xbd'\n",
      "b'\\x00\\x0c\\x81\\x80\\x00\\x01\\x00\\x01\\x00\\x00\\x00\\x00\\x06google\\x03com\\x00\\x00\\x1c\\x00\\x01\\xc0\\x0c\\x00\\x1c\\x00\\x01\\x00\\x00\\x01$\\x00\\x10&\\x07\\xf8\\xb0@\\x05\\x08\\x07\\x00\\x00\\x00\\x00\\x00\\x00 \\x0e'\n",
      "b'\\x00\\x0c\\x01\\x00\\x00\\x01\\x00\\x00\\x00\\x00\\x00\\x00\\x06google\\x03com\\x00\\x00\\x1c\\x00\\x01\\x18\\xef\\xbf\\xbdGp\\xef\\xbf\\xbd\\xef\\xbf\\xbd\\x13\\xef\\xbf\\xbd\\x19W\\xef\\xbf\\xbd\\xef\\xbf\\xbdq8\\xef\\xbf\\xbdr@\\xef\\xbf\\xbdJ\\xef\\xbf\\xbd\\xef\\xbf\\xbdS=\\xef\\xbf\\xbd$\\xef\\xbf\\xbdQ\\xef\\xbf\\xbd\\xef\\xbf\\xbd3\\xef\\xbf\\xbd\\xef\\xbf\\xbd3\\xef\\xbf\\xbd~\\x1b D'\n",
      "b'\\x00\\x0c\\x81\\x80\\x00\\x01\\x00\\x01\\x00\\x00\\x00\\x00\\x06google\\x03com\\x00\\x00\\x1c\\x00\\x01\\xc0\\x0c\\x00\\x1c\\x00\\x01\\x00\\x00\\x01#\\x00\\x10&\\x07\\xf8\\xb0@\\x05\\x08\\x07\\x00\\x00\\x00\\x00\\x00\\x00 \\x0e'\n",
      "b'\\x00\\x0c\\x01\\x00\\x00\\x01\\x00\\x00\\x00\\x00\\x00\\x00\\x06google\\x03com\\x00\\x00\\x1c\\x00\\x01\\xef\\xbf\\xbd\\xef\\xbf\\xbd\\x1e\\x00\\xce\\x9ar\\xef\\xbf\\xbd>\\xce\\x99m\\xef\\xbf\\xbd\\xef\\xbf\\xbd\\xef\\xbf\\xbd\\xef\\xbf\\xbd\\r\\x00\\xef\\xbf\\xbdn\\xef\\xbf\\xbd\\x0c\\xef\\xbf\\xbd!E\\xef\\xbf\\xbd\\xef\\xbf\\xbd$\\xef\\xbf\\xbd[&\\xef\\xbf\\xbd%3\\x0c\\x0b1\\xef\\xbf\\xbd\\tl\\xef\\xbf'\n",
      "b'\\x00\\x0c\\x81\\x80\\x00\\x01\\x00\\x01\\x00\\x00\\x00\\x00\\x06google\\x03com\\x00\\x00\\x1c\\x00\\x01\\xc0\\x0c\\x00\\x1c\\x00\\x01\\x00\\x00\\x01\"\\x00\\x10&\\x07\\xf8\\xb0@\\x05\\x08\\x07\\x00\\x00\\x00\\x00\\x00\\x00 \\x0e'\n",
      "b'\\x00\\x0c\\x01\\x00\\x00\\x01\\x00\\x00\\x00\\x00\\x00\\x00\\x06google\\x03com\\x00\\x00\\x1c\\x00\\x01B\\xef\\xbf\\xbd0\\x0c\\xef\\xbf\\xbdB\\xef\\xbf\\xbd0\\x0c\\xc3\\xb0\\x103\\x0c\\xc3\\xb0\\x103\\x0c\\xef\\xbf\\xbd0,\\xef\\xbf\\xbd\\x0c\\xef\\xbf\\xbd0,\\xef\\xbf\\xbd\\x0c\\xef\\xbf\\xbd0\\x0c\\x0b1\\xef\\xbf\\xbd0\\x0c\\x0b1\\xef\\xbf\\xbd0\\x0c\\xef\\xbf\\xbdB\\xef\\xbf\\xbd0\\x0c\\xef'\n",
      "b'\\x00\\x0c\\x81\\x80\\x00\\x01\\x00\\x01\\x00\\x00\\x00\\x00\\x06google\\x03com\\x00\\x00\\x1c\\x00\\x01\\xc0\\x0c\\x00\\x1c\\x00\\x01\\x00\\x00\\x01!\\x00\\x10&\\x07\\xf8\\xb0@\\x05\\x08\\x07\\x00\\x00\\x00\\x00\\x00\\x00 \\x0e'\n",
      "b'\\x00\\x0c\\x01\\x00\\x00\\x01\\x00\\x00\\x00\\x00\\x00\\x00\\x06google\\x03com\\x00\\x00\\x1c\\x00\\x01\\xef\\xbf\\xbd\\xef\\xbf\\xbd\\xef\\xbf\\xbd<>}\\xef\\xbf\\xbd\\xef\\xbf\\xbd\\xef\\xbf\\xbd%\\xef\\xbf\\xbd\\xef\\xbf\\xbdR\\xef\\xbf\\xbdA\\x08\\xef\\xbf\\xbd\\xef\\xbf\\xbdt\\xef\\xbf\\xbd\\xef\\xbf\\xbd\\xef\\xbf\\xbd\\\\\\x07@c\\xef\\xbf\\xbd-\\xef\\xbf\\xbdG\\xef\\xbf\\xbd9\\xef\\xbf\\xbdu9\\xef'\n",
      "b'\\x00\\x0c\\x81\\x80\\x00\\x01\\x00\\x01\\x00\\x00\\x00\\x00\\x06google\\x03com\\x00\\x00\\x1c\\x00\\x01\\xc0\\x0c\\x00\\x1c\\x00\\x01\\x00\\x00\\x01 \\x00\\x10&\\x07\\xf8\\xb0@\\x05\\x08\\x07\\x00\\x00\\x00\\x00\\x00\\x00 \\x0e'\n",
      "b'\\x00\\x0c\\x01\\x00\\x00\\x01\\x00\\x00\\x00\\x00\\x00\\x00\\x06google\\x03com\\x00\\x00\\x1c\\x00\\x01~\\xef\\xbf\\xbd\\xef\\xbf\\xbd\\xef\\xbf\\xbd \\xef\\xbf\\xbd3\\xef\\xbf\\xbd\\xef\\xbf\\xbd+\\xef\\xbf\\xbd\\x1e\\xef\\xbf\\xbd\\xef\\xbf\\xbd(\\xef\\xbf\\xbd5s\\xef\\xbf\\xbd\\xef\\xbf\\xbd\\xef\\xbf\\xbd\"\\xef\\xbf\\xbdD\\xef\\xbf\\xbdMsbm`\\xef\\xbf\\xbd\\x07\\xef\\xbf\\xbd\\xef\\xbf\\xbdE\\xef'\n",
      "b'\\x00\\x0c\\x81\\x80\\x00\\x01\\x00\\x01\\x00\\x00\\x00\\x00\\x06google\\x03com\\x00\\x00\\x1c\\x00\\x01\\xc0\\x0c\\x00\\x1c\\x00\\x01\\x00\\x00\\x01\\x1f\\x00\\x10&\\x07\\xf8\\xb0@\\x05\\x08\\x07\\x00\\x00\\x00\\x00\\x00\\x00 \\x0e'\n",
      "b'\\x00\\x0c\\x01\\x00\\x00\\x01\\x00\\x00\\x00\\x00\\x00\\x00\\x06google\\x03com\\x00\\x00\\x1c\\x00\\x01\\xef\\xbf\\xbd\\xef\\xbf\\xbd\\xef\\xbf\\xbd\\xef\\xbf\\xbdp\\xef\\xbf\\xbdQ!e\\xef\\xbf\\xbd\\x1e\\x12\\xef\\xbf\\xbd%\\\\\\xd8\\xaf^Z\\xdb\\x95 \\xef\\xbf\\xbd=\\x02\"L{\\xef\\xbf\\xbd\\t\\x11\\xef\\xbf\\xbd\\x12\\x11\\x17ti\\xef\\xbf\\xbd\\x0e\\xef\\xbf\\xbdGB|\\xef\\xbf\\xbd\\xef\\xbf'\n",
      "b'\\x00\\x0c\\x81\\x80\\x00\\x01\\x00\\x01\\x00\\x00\\x00\\x00\\x06google\\x03com\\x00\\x00\\x1c\\x00\\x01\\xc0\\x0c\\x00\\x1c\\x00\\x01\\x00\\x00\\x01\\x1e\\x00\\x10&\\x07\\xf8\\xb0@\\x05\\x08\\x07\\x00\\x00\\x00\\x00\\x00\\x00 \\x0e'\n",
      "b'\\x00\\x0c\\x01\\x00\\x00\\x01\\x00\\x00\\x00\\x00\\x00\\x00\\x06google\\x03com\\x00\\x00\\x1c\\x00\\x01\\xef\\xbf\\xbd@\\x08\\xef\\xbf\\xbd\\x10\"\\x1d\\xef\\xbf\\xbdZ\\xef\\xbf\\xbd\\x19]gL8\\xef\\xbf\\xbd\\x14|g+\\xef\\xbf\\xbd\\xef\\xbf\\xbd\\xd8\\x81\\x04\\xef\\xbf\\xbd>6LJm\\xef\\xbf\\xbd]\\xef\\xbf\\xbd\\xef\\xbf\\xbd\\xef\\xbf\\xbd\\xef\\xbf\\xbd\\xda\\xa8\\xef\\xbf\\xbd,7<\\xef'\n",
      "b'\\x00\\x0c\\x81\\x80\\x00\\x01\\x00\\x01\\x00\\x00\\x00\\x00\\x06google\\x03com\\x00\\x00\\x1c\\x00\\x01\\xc0\\x0c\\x00\\x1c\\x00\\x01\\x00\\x00\\x01\\x1d\\x00\\x10&\\x07\\xf8\\xb0@\\x05\\x08\\x07\\x00\\x00\\x00\\x00\\x00\\x00 \\x0e'\n",
      "b'\\x00\\x0c\\x01\\x00\\x00\\x01\\x00\\x00\\x00\\x00\\x00\\x00\\x06google\\x03com\\x00\\x00\\x1c\\x00\\x01*\\x0b\\xef\\xbf\\xbd\\xcb\\xaa\\xef\\xbf\\xbdf\\xef\\xbf\\xbdu\\xef\\xbf\\xbd\\xef\\xbf\\xbd\\xef\\xbf\\xbd\\xef\\xbf\\xbd>\\xef\\xbf\\xbd\\x07g\\xef\\xbf\\xbd\\xef\\xbf\\xbd\\xef\\xbf\\xbd\\xef\\xbf\\xbd\\xef\\xbf\\xbd\\xef\\xbf\\xbd\\xef\\xbf\\xbd\\xef\\xbf\\xbd\\xef\\xbf\\xbd6\\x1dP`=/@\\\\\\xef\\xbf\\xbd\\xef'\n",
      "b'\\x00\\x0c\\x81\\x80\\x00\\x01\\x00\\x01\\x00\\x00\\x00\\x00\\x06google\\x03com\\x00\\x00\\x1c\\x00\\x01\\xc0\\x0c\\x00\\x1c\\x00\\x01\\x00\\x00\\x01\\x1c\\x00\\x10&\\x07\\xf8\\xb0@\\x05\\x08\\x07\\x00\\x00\\x00\\x00\\x00\\x00 \\x0e'\n",
      "b'\\x00\\x0c\\x01\\x00\\x00\\x01\\x00\\x00\\x00\\x00\\x00\\x00\\x06google\\x03com\\x00\\x00\\x1c\\x00\\x01yS\\xef\\xbf\\xbd\\t\\xef\\xbf\\xbd\\xef\\xbf\\xbdO\\xef\\xbf\\xbd\\x08!\\xef\\xbf\\xbd\\xef\\xbf\\xbd\\xef\\xbf\\xbd4\\xef\\xbf\\xbd\\xe5\\x8c\\x8c\\xef\\xbf\\xbde\\x07\\n\\xef\\xbf\\xbd\\xef\\xbf\\xbd\\xef\\xbf\\xbd2)\\xc8\\xb3\\xef\\xbf\\xbdK\\xef\\xbf\\xbdS\\n\\xef\\xbf\\xbd`\\xd4\\x8d\\xef\\xbf\\xbdI'\n",
      "b'\\x00\\x0c\\x81\\x80\\x00\\x01\\x00\\x01\\x00\\x00\\x00\\x00\\x06google\\x03com\\x00\\x00\\x1c\\x00\\x01\\xc0\\x0c\\x00\\x1c\\x00\\x01\\x00\\x00\\x01\\x1b\\x00\\x10&\\x07\\xf8\\xb0@\\x05\\x08\\x07\\x00\\x00\\x00\\x00\\x00\\x00 \\x0e'\n",
      "b'\\x00\\x0c\\x01\\x00\\x00\\x01\\x00\\x00\\x00\\x00\\x00\\x00\\x06google\\x03com\\x00\\x00\\x1c\\x00\\x01\\x1d9\\xef\\xbf\\xbd\\x15\\xc6\\xb8\\xef\\xbf\\xbd\\nc\\xef\\xbf\\xbd\\xef\\xbf\\xbd{\\x1b\\xef\\xbf\\xbd(\\xef\\xbf\\xbd\\xef\\xbf\\xbd6\\x17\\t\\x05\\xef\\xbf\\xbd\\xef\\xbf\\xbdo\\xef\\xbf\\xbd\"\\x1d\\xef\\xbf\\xbdv\\xef\\xbf\\xbdKD\\xef\\xbf\\xbd\\xef\\xbf\\xbdP\\xcb\\xa4\\xef\\xbf\\xbd\\xef\\xbf\\xbd\\x18'\n",
      "b'\\x00\\x0c\\x81\\x80\\x00\\x01\\x00\\x01\\x00\\x00\\x00\\x00\\x06google\\x03com\\x00\\x00\\x1c\\x00\\x01\\xc0\\x0c\\x00\\x1c\\x00\\x01\\x00\\x00\\x01\\x1a\\x00\\x10&\\x07\\xf8\\xb0@\\x05\\x08\\x07\\x00\\x00\\x00\\x00\\x00\\x00 \\x0e'\n",
      "b'\\x00\\x0c\\x01\\x00\\x00\\x01\\x00\\x00\\x00\\x00\\x00\\x00\\x06google\\x03com\\x00\\x00\\x1c\\x00\\x01O\\xef\\xbf\\xbd\\xef\\xbf\\xbd\\xef\\xbf\\xbd\\xef\\xbf\\xbd\\xc8\\x80\\xef\\xbf\\xbd\\xef\\xbf\\xbd\\xef\\xbf\\xbd\\xef\\xbf\\xbd\\x0c3\\xef\\xbf\\xbd\\x08>\\xef\\xbf\\xbdq6A\\xef\\xbf\\xbdhX\\xcd\\xaa\\xef\\xbf\\xbd]\\x0c\\xef\\xbf\\xbd\\xef\\xbf\\xbd\\xef\\xbf\\xbd\\xef\\xbf\\xbd@\\xef\\xbf\\xbd$M\\nK'\n",
      "b'\\x00\\x0c\\x81\\x80\\x00\\x01\\x00\\x01\\x00\\x00\\x00\\x00\\x06google\\x03com\\x00\\x00\\x1c\\x00\\x01\\xc0\\x0c\\x00\\x1c\\x00\\x01\\x00\\x00\\x01\\x19\\x00\\x10&\\x07\\xf8\\xb0@\\x05\\x08\\x07\\x00\\x00\\x00\\x00\\x00\\x00 \\x0e'\n",
      "b'\\x00\\x0c\\x01\\x00\\x00\\x01\\x00\\x00\\x00\\x00\\x00\\x00\\x06google\\x03com\\x00\\x00\\x1c\\x00\\x01\\xef\\xbf\\xbd\\xef\\xbf\\xbdX\\xef\\xbf\\xbd\\xef\\xbf\\xbd\\t\\xef\\xbf\\xbd\\xf3\\xbc\\x89\\xb7\\xef\\xbf\\xbd9ux\\xef\\xbf\\xbd2\\xef\\xbf\\xbdL\\x1b\\xef\\xbf\\xbd\\xef\\xbf\\xbd\\x16\\xd8\\x8e\\xef\\xbf\\xbd\\xef\\xbf\\xbd\\\\\\x01H4\\xef\\xbf\\xbd#\\xef\\xbf\\xbd\\xef\\xbf\\xbd\\xef\\xbf\\xbd\\xef\\xbf\\xbd\\x08'\n",
      "b'\\x00\\x0c\\x81\\x80\\x00\\x01\\x00\\x01\\x00\\x00\\x00\\x00\\x06google\\x03com\\x00\\x00\\x1c\\x00\\x01\\xc0\\x0c\\x00\\x1c\\x00\\x01\\x00\\x00\\x01\\x18\\x00\\x10&\\x07\\xf8\\xb0@\\x05\\x08\\x07\\x00\\x00\\x00\\x00\\x00\\x00 \\x0e'\n",
      "b'\\x00\\x0c\\x01\\x00\\x00\\x01\\x00\\x00\\x00\\x00\\x00\\x00\\x06google\\x03com\\x00\\x00\\x1c\\x00\\x01t\\x03\\n9J\\xef\\xbf\\xbd\\xc4\\x89\\xef\\xbf\\xbd\\t\\xef\\xbf\\xbd\\xef\\xbf\\xbdw\\xef\\xbf\\xbd\\xef\\xbf\\xbdE\\xef\\xbf\\xbdb\\xef\\xbf\\xbd-\\xef\\xbf\\xbdN\\xef\\xbf\\xbdf\\xef\\xbf\\xbd]2\\x10\\xef\\xbf\\xbdD\\xef\\xbf\\xbdX\\n\\xef\\xbf\\xbd\\xef\\xbf\\xbd\\xef\\xbf\\xbd\\xef\\xbf\\xbdy'\n",
      "b'\\x00\\x0c\\x81\\x80\\x00\\x01\\x00\\x01\\x00\\x00\\x00\\x00\\x06google\\x03com\\x00\\x00\\x1c\\x00\\x01\\xc0\\x0c\\x00\\x1c\\x00\\x01\\x00\\x00\\x01\\x17\\x00\\x10&\\x07\\xf8\\xb0@\\x05\\x08\\x07\\x00\\x00\\x00\\x00\\x00\\x00 \\x0e'\n",
      "b'\\x00\\x0c\\x01\\x00\\x00\\x01\\x00\\x00\\x00\\x00\\x00\\x00\\x06google\\x03com\\x00\\x00\\x1c\\x00\\x01\\xef\\xbf\\xbd\\xef\\xbf\\xbd\\xef\\xbf\\xbd\\xef\\xbf\\xbd\\t\\xef\\xbf\\xbd\\xef\\xbf\\xbd\"\\xef\\xbf\\xbdR\\xef\\xbf\\xbdk\\xef\\xbf\\xbdJt\\x06QJ\\xef\\xbf\\xbd2\\xef\\xbf\\xbd7\\xef\\xbf\\xbd\\xef\\xbf\\xbd\\xef\\xbf\\xbd$h\\xef\\xbf\\xbd\\xef\\xbf\\xbd\\x136&\\xef\\xbf\\xbd\\xef\\xbf\\xbdrs'\n",
      "b'\\x00\\x0c\\x81\\x80\\x00\\x01\\x00\\x01\\x00\\x00\\x00\\x00\\x06google\\x03com\\x00\\x00\\x1c\\x00\\x01\\xc0\\x0c\\x00\\x1c\\x00\\x01\\x00\\x00\\x01\\x16\\x00\\x10&\\x07\\xf8\\xb0@\\x05\\x08\\x07\\x00\\x00\\x00\\x00\\x00\\x00 \\x0e'\n",
      "b'\\x00\\x0c\\x01\\x00\\x00\\x01\\x00\\x00\\x00\\x00\\x00\\x00\\x06google\\x03com\\x00\\x00\\x1c\\x00\\x01e5l|\\xef\\xbf\\xbd\\xef\\xbf\\xbd-\\xef\\xbf\\xbd\\xef\\xbf\\xbd2\\xef\\xbf\\xbd\\xef\\xbf\\xbd\\xef\\xbf\\xbd\\xef\\xbf\\xbd\\th\\x14f\\xef\\xbf\\xbdT\\xef\\xbf\\xbd\\xd5\\x81\\xef\\xbf\\xbd\\xef\\xbf\\xbd\\x01\\xef\\xbf\\xbdY\\xef\\xbf\\xbd\\xdf\\x99\\xef\\xbf\\xbd\\xef\\xbf\\xbds\\xef\\xbf\\xbd@\\xef\\xbf'\n",
      "b'\\x00\\x0c\\x81\\x80\\x00\\x01\\x00\\x01\\x00\\x00\\x00\\x00\\x06google\\x03com\\x00\\x00\\x1c\\x00\\x01\\xc0\\x0c\\x00\\x1c\\x00\\x01\\x00\\x00\\x01\\x15\\x00\\x10&\\x07\\xf8\\xb0@\\x05\\x08\\x07\\x00\\x00\\x00\\x00\\x00\\x00 \\x0e'\n",
      "b'\\x00\\x0c\\x01\\x00\\x00\\x01\\x00\\x00\\x00\\x00\\x00\\x00\\x06google\\x03com\\x00\\x00\\x1c\\x00\\x01\\x7f0\\xef\\xbf\\xbd6r\\xef\\xbf\\xbd\\x16\\xef\\xbf\\xbd\\x1eaB\\xef\\xbf\\xbd\\xef\\xbf\\xbd0LOb1\\xef\\xbf\\xbd\\xef\\xbf\\xbd\\xef\\xbf\\xbdE\\xef\\xbf\\xbd\\xef\\xbf\\xbdv\\xef\\xbf\\xbd\\xef\\xbf\\xbd\\x1cN\\xef\\xbf\\xbdzF\\x1d6\\x05\\xef\\xbf\\xbd\\xef\\xbf\\xbd\\x16\\xef\\xbf\\xbd\\xef'\n",
      "b'\\x00\\x0c\\x81\\x80\\x00\\x01\\x00\\x01\\x00\\x00\\x00\\x00\\x06google\\x03com\\x00\\x00\\x1c\\x00\\x01\\xc0\\x0c\\x00\\x1c\\x00\\x01\\x00\\x00\\x01\\x14\\x00\\x10&\\x07\\xf8\\xb0@\\x05\\x08\\x07\\x00\\x00\\x00\\x00\\x00\\x00 \\x0e'\n",
      "b'\\x00\\x0c\\x01\\x00\\x00\\x01\\x00\\x00\\x00\\x00\\x00\\x00\\x06google\\x03com\\x00\\x00\\x1c\\x00\\x01L\\x0c>\\xef\\xbf\\xbd7++\\xef\\xbf\\xbdr}\\xef\\xbf\\xbd\\xef\\xbf\\xbdX\\x7f\\xef\\xbf\\xbd\\xef\\xbf\\xbd\\xef\\xbf\\xbd\\xef\\xbf\\xbd\\x08\\xef\\xbf\\xbd$q\\xef\\xbf\\xbd\\xef\\xbf\\xbd\\x07k\\xef\\xbf\\xbd?i\\xef\\xbf\\xbd\\xef\\xbf\\xbd\\xef\\xbf\\xbdg>9\\xef\\xbf\\xbd\\xef\\xbf\\xbd='\n",
      "b'\\x00\\x0c\\x81\\x80\\x00\\x01\\x00\\x01\\x00\\x00\\x00\\x00\\x06google\\x03com\\x00\\x00\\x1c\\x00\\x01\\xc0\\x0c\\x00\\x1c\\x00\\x01\\x00\\x00\\x01\\x13\\x00\\x10&\\x07\\xf8\\xb0@\\x05\\x08\\x07\\x00\\x00\\x00\\x00\\x00\\x00 \\x0e'\n",
      "b'\\x00\\x0c\\x01\\x00\\x00\\x01\\x00\\x00\\x00\\x00\\x00\\x00\\x06google\\x03com\\x00\\x00\\x1c\\x00\\x01P$\\x08\\x05+\\xef\\xbf\\xbd\\x0b2\\x13\\xef\\xbf\\xbdM<?\\xef\\xbf\\xbd\\xef\\xbf\\xbd\\xef\\xbf\\xbdt\\xef\\xbf\\xbdDq\\xef\\xbf\\xbd\\xef\\xbf\\xbd\\xef\\xbf\\xbdsE\\xef\\xbf\\xbd\\xef\\xbf\\xbd\\xef\\xbf\\xbd\\xef\\xbf\\xbd\\x0e\\xef\\xbf\\xbd\\x05E\\xef\\xbf\\xbd\\xef\\xbf\\xbd\\xef\\xbf\\xbd\\xef\\xbf'\n",
      "b'\\x00\\x0c\\x81\\x80\\x00\\x01\\x00\\x01\\x00\\x00\\x00\\x00\\x06google\\x03com\\x00\\x00\\x1c\\x00\\x01\\xc0\\x0c\\x00\\x1c\\x00\\x01\\x00\\x00\\x01\\x12\\x00\\x10&\\x07\\xf8\\xb0@\\x05\\x08\\x07\\x00\\x00\\x00\\x00\\x00\\x00 \\x0e'\n",
      "b'\\x00\\x0c\\x01\\x00\\x00\\x01\\x00\\x00\\x00\\x00\\x00\\x00\\x06google\\x03com\\x00\\x00\\x1c\\x00\\x01r\\xcc\\x90 ~\\x16\\xef\\xbf\\xbd\\x00\\xef\\xbf\\xbd\\xef\\xbf\\xbd\\x7f\\xef\\xbf\\xbd\\x02\\xef\\xbf\\xbdv\\xef\\xbf\\xbd\\x0ex+f\\xef\\xbf\\xbd\\xef\\xbf\\xbd\\xef\\xbf\\xbd\\xef\\xbf\\xbd\\xef\\xbf\\xbd\\xcf\\x95\\x08^\\x144WH\\xef\\xbf\\xbdY\\xef\\xbf\\xbdv\\xef\\xbf\\xbd\\xef\\xbf\\xbdzc\\x04'\n",
      "b'\\x00\\x0c\\x81\\x80\\x00\\x01\\x00\\x01\\x00\\x00\\x00\\x00\\x06google\\x03com\\x00\\x00\\x1c\\x00\\x01\\xc0\\x0c\\x00\\x1c\\x00\\x01\\x00\\x00\\x01\\x11\\x00\\x10&\\x07\\xf8\\xb0@\\x05\\x08\\x07\\x00\\x00\\x00\\x00\\x00\\x00 \\x0e'\n",
      "b'\\x00\\x0c\\x01\\x00\\x00\\x01\\x00\\x00\\x00\\x00\\x00\\x00\\x06google\\x03com\\x00\\x00\\x1c\\x00\\x01\\xef\\xbf\\xbdK\\xef\\xbf\\xbde\\xef\\xbf\\xbd4\\xef\\xbf\\xbdP$M\\x11q\\xef\\xbf\\xbd\\xef\\xbf\\xbde\\xef\\xbf\\xbd\\xef\\xbf\\xbd\\x08\\xef\\xbf\\xbdV\\xef\\xbf\\xbdq\\xef\\xbf\\xbd\\xef\\xbf\\xbd\\xef\\xbf\\xbd\\n\\xef\\xbf\\xbd7\\xef\\xbf\\xbd|/\\xef\\xbf\\xbd7\\xef\\xbf\\xbd\\xef\\xbf\\xbdR'\n",
      "b'\\x00\\x0c\\x81\\x80\\x00\\x01\\x00\\x01\\x00\\x00\\x00\\x00\\x06google\\x03com\\x00\\x00\\x1c\\x00\\x01\\xc0\\x0c\\x00\\x1c\\x00\\x01\\x00\\x00\\x01\\x10\\x00\\x10&\\x07\\xf8\\xb0@\\x05\\x08\\x07\\x00\\x00\\x00\\x00\\x00\\x00 \\x0e'\n",
      "b'\\x00\\x0c\\x01\\x00\\x00\\x01\\x00\\x00\\x00\\x00\\x00\\x00\\x06google\\x03com\\x00\\x00\\x1c\\x00\\x01\\xef\\xbf\\xbdXH\\x04j\\x17\\x00\\xef\\xbf\\xbdU55\\x1b56\\xef\\xbf\\xbd\\x03\\n}\\xef\\xbf\\xbd\\xef\\xbf\\xbd\\n\\xc4\\xb9=\\x14\\xde\\x83\\x00\\xef\\xbf\\xbd\\x1f\\x08^!\\x12o\\xef\\xbf\\xbd\\xef\\xbf\\xbdZ*\\xef\\xbf\\xbd\\xef\\xbf\\xbd\\xef\\xbf\\xbd\\xef\\xbf\\xbd]\\xef\\xbf\\xbd\\xef'\n",
      "b'\\x00\\x0c\\x81\\x80\\x00\\x01\\x00\\x01\\x00\\x00\\x00\\x00\\x06google\\x03com\\x00\\x00\\x1c\\x00\\x01\\xc0\\x0c\\x00\\x1c\\x00\\x01\\x00\\x00\\x01\\x0f\\x00\\x10&\\x07\\xf8\\xb0@\\x05\\x08\\x07\\x00\\x00\\x00\\x00\\x00\\x00 \\x0e'\n",
      "b'\\x00\\x0c\\x01\\x00\\x00\\x01\\x00\\x00\\x00\\x00\\x00\\x00\\x06google\\x03com\\x00\\x00\\x1c\\x00\\x01w\\xef\\xbf\\xbd\\x04\\x10\\xef\\xbf\\xbd[y\\xef\\xbf\\xbd\\xef\\xbf\\xbd4\\xef\\xbf\\xbd\\xef\\xbf\\xbd\\xef\\xbf\\xbd\\x07\\xef\\xbf\\xbd\\xed\\x8c\\xbd\\xef\\xbf\\xbd\\xef\\xbf\\xbd\\xef\\xbf\\xbdQ9c\\xef\\xbf\\xbd\\xef\\xbf\\xbd\\xef\\xbf\\xbd\\xef\\xbf\\xbd\\xef\\xbf\\xbd\\x15\\xef\\xbf\\xbd\\xef\\xbf\\xbd\\xef\\xbf\\xbd\\xef'\n",
      "b'\\x00\\x0c\\x81\\x80\\x00\\x01\\x00\\x01\\x00\\x00\\x00\\x00\\x06google\\x03com\\x00\\x00\\x1c\\x00\\x01\\xc0\\x0c\\x00\\x1c\\x00\\x01\\x00\\x00\\x01\\x0e\\x00\\x10&\\x07\\xf8\\xb0@\\x05\\x08\\x07\\x00\\x00\\x00\\x00\\x00\\x00 \\x0e'\n"
     ]
    }
   ],
   "source": [
    "for item in payloads:\n",
    "    print(item[:100])"
   ]
  },
  {
   "cell_type": "markdown",
   "metadata": {},
   "source": [
    "Parece como que estuviera haciendo requests a google.com"
   ]
  },
  {
   "cell_type": "markdown",
   "metadata": {
    "id": "_L1slsotBfbp"
   },
   "source": [
    "## Parte 2\n",
    "### Preprocesamiento"
   ]
  },
  {
   "cell_type": "code",
   "execution_count": 24,
   "metadata": {
    "colab": {
     "base_uri": "https://localhost:8080/",
     "height": 488
    },
    "id": "lEnM-BdmEh-c",
    "outputId": "85f91218-335c-4692-9e15-72a1bf41605f"
   },
   "outputs": [
    {
     "data": {
      "text/html": [
       "<div>\n",
       "<style scoped>\n",
       "    .dataframe tbody tr th:only-of-type {\n",
       "        vertical-align: middle;\n",
       "    }\n",
       "\n",
       "    .dataframe tbody tr th {\n",
       "        vertical-align: top;\n",
       "    }\n",
       "\n",
       "    .dataframe thead th {\n",
       "        text-align: right;\n",
       "    }\n",
       "</style>\n",
       "<table border=\"1\" class=\"dataframe\">\n",
       "  <thead>\n",
       "    <tr style=\"text-align: right;\">\n",
       "      <th></th>\n",
       "      <th>duration</th>\n",
       "      <th>protocol_type</th>\n",
       "      <th>service</th>\n",
       "      <th>flag</th>\n",
       "      <th>src_bytes</th>\n",
       "      <th>dst_bytes</th>\n",
       "      <th>land</th>\n",
       "      <th>wrong_fragment</th>\n",
       "      <th>urgent</th>\n",
       "      <th>hot</th>\n",
       "      <th>...</th>\n",
       "      <th>dst_host_srv_count</th>\n",
       "      <th>dst_host_same_srv_rate</th>\n",
       "      <th>dst_host_diff_srv_rate</th>\n",
       "      <th>dst_host_same_src_port_rate</th>\n",
       "      <th>dst_host_srv_diff_host_rate</th>\n",
       "      <th>dst_host_serror_rate</th>\n",
       "      <th>dst_host_srv_serror_rate</th>\n",
       "      <th>dst_host_rerror_rate</th>\n",
       "      <th>dst_host_srv_rerror_rate</th>\n",
       "      <th>class</th>\n",
       "    </tr>\n",
       "  </thead>\n",
       "  <tbody>\n",
       "    <tr>\n",
       "      <th>0</th>\n",
       "      <td>0</td>\n",
       "      <td>tcp</td>\n",
       "      <td>ftp_data</td>\n",
       "      <td>SF</td>\n",
       "      <td>491</td>\n",
       "      <td>0</td>\n",
       "      <td>0</td>\n",
       "      <td>0</td>\n",
       "      <td>0</td>\n",
       "      <td>0</td>\n",
       "      <td>...</td>\n",
       "      <td>25</td>\n",
       "      <td>0.17</td>\n",
       "      <td>0.03</td>\n",
       "      <td>0.17</td>\n",
       "      <td>0.00</td>\n",
       "      <td>0.00</td>\n",
       "      <td>0.00</td>\n",
       "      <td>0.05</td>\n",
       "      <td>0.00</td>\n",
       "      <td>normal</td>\n",
       "    </tr>\n",
       "    <tr>\n",
       "      <th>1</th>\n",
       "      <td>0</td>\n",
       "      <td>udp</td>\n",
       "      <td>other</td>\n",
       "      <td>SF</td>\n",
       "      <td>146</td>\n",
       "      <td>0</td>\n",
       "      <td>0</td>\n",
       "      <td>0</td>\n",
       "      <td>0</td>\n",
       "      <td>0</td>\n",
       "      <td>...</td>\n",
       "      <td>1</td>\n",
       "      <td>0.00</td>\n",
       "      <td>0.60</td>\n",
       "      <td>0.88</td>\n",
       "      <td>0.00</td>\n",
       "      <td>0.00</td>\n",
       "      <td>0.00</td>\n",
       "      <td>0.00</td>\n",
       "      <td>0.00</td>\n",
       "      <td>normal</td>\n",
       "    </tr>\n",
       "    <tr>\n",
       "      <th>2</th>\n",
       "      <td>0</td>\n",
       "      <td>tcp</td>\n",
       "      <td>private</td>\n",
       "      <td>S0</td>\n",
       "      <td>0</td>\n",
       "      <td>0</td>\n",
       "      <td>0</td>\n",
       "      <td>0</td>\n",
       "      <td>0</td>\n",
       "      <td>0</td>\n",
       "      <td>...</td>\n",
       "      <td>26</td>\n",
       "      <td>0.10</td>\n",
       "      <td>0.05</td>\n",
       "      <td>0.00</td>\n",
       "      <td>0.00</td>\n",
       "      <td>1.00</td>\n",
       "      <td>1.00</td>\n",
       "      <td>0.00</td>\n",
       "      <td>0.00</td>\n",
       "      <td>anomaly</td>\n",
       "    </tr>\n",
       "    <tr>\n",
       "      <th>3</th>\n",
       "      <td>0</td>\n",
       "      <td>tcp</td>\n",
       "      <td>http</td>\n",
       "      <td>SF</td>\n",
       "      <td>232</td>\n",
       "      <td>8153</td>\n",
       "      <td>0</td>\n",
       "      <td>0</td>\n",
       "      <td>0</td>\n",
       "      <td>0</td>\n",
       "      <td>...</td>\n",
       "      <td>255</td>\n",
       "      <td>1.00</td>\n",
       "      <td>0.00</td>\n",
       "      <td>0.03</td>\n",
       "      <td>0.04</td>\n",
       "      <td>0.03</td>\n",
       "      <td>0.01</td>\n",
       "      <td>0.00</td>\n",
       "      <td>0.01</td>\n",
       "      <td>normal</td>\n",
       "    </tr>\n",
       "    <tr>\n",
       "      <th>4</th>\n",
       "      <td>0</td>\n",
       "      <td>tcp</td>\n",
       "      <td>http</td>\n",
       "      <td>SF</td>\n",
       "      <td>199</td>\n",
       "      <td>420</td>\n",
       "      <td>0</td>\n",
       "      <td>0</td>\n",
       "      <td>0</td>\n",
       "      <td>0</td>\n",
       "      <td>...</td>\n",
       "      <td>255</td>\n",
       "      <td>1.00</td>\n",
       "      <td>0.00</td>\n",
       "      <td>0.00</td>\n",
       "      <td>0.00</td>\n",
       "      <td>0.00</td>\n",
       "      <td>0.00</td>\n",
       "      <td>0.00</td>\n",
       "      <td>0.00</td>\n",
       "      <td>normal</td>\n",
       "    </tr>\n",
       "  </tbody>\n",
       "</table>\n",
       "<p>5 rows × 42 columns</p>\n",
       "</div>"
      ],
      "text/plain": [
       "   duration protocol_type   service flag  src_bytes  dst_bytes  land   \n",
       "0         0           tcp  ftp_data   SF        491          0     0  \\\n",
       "1         0           udp     other   SF        146          0     0   \n",
       "2         0           tcp   private   S0          0          0     0   \n",
       "3         0           tcp      http   SF        232       8153     0   \n",
       "4         0           tcp      http   SF        199        420     0   \n",
       "\n",
       "   wrong_fragment  urgent  hot  ...  dst_host_srv_count   \n",
       "0               0       0    0  ...                  25  \\\n",
       "1               0       0    0  ...                   1   \n",
       "2               0       0    0  ...                  26   \n",
       "3               0       0    0  ...                 255   \n",
       "4               0       0    0  ...                 255   \n",
       "\n",
       "   dst_host_same_srv_rate  dst_host_diff_srv_rate   \n",
       "0                    0.17                    0.03  \\\n",
       "1                    0.00                    0.60   \n",
       "2                    0.10                    0.05   \n",
       "3                    1.00                    0.00   \n",
       "4                    1.00                    0.00   \n",
       "\n",
       "   dst_host_same_src_port_rate  dst_host_srv_diff_host_rate   \n",
       "0                         0.17                         0.00  \\\n",
       "1                         0.88                         0.00   \n",
       "2                         0.00                         0.00   \n",
       "3                         0.03                         0.04   \n",
       "4                         0.00                         0.00   \n",
       "\n",
       "   dst_host_serror_rate  dst_host_srv_serror_rate  dst_host_rerror_rate   \n",
       "0                  0.00                      0.00                  0.05  \\\n",
       "1                  0.00                      0.00                  0.00   \n",
       "2                  1.00                      1.00                  0.00   \n",
       "3                  0.03                      0.01                  0.00   \n",
       "4                  0.00                      0.00                  0.00   \n",
       "\n",
       "   dst_host_srv_rerror_rate    class  \n",
       "0                      0.00   normal  \n",
       "1                      0.00   normal  \n",
       "2                      0.00  anomaly  \n",
       "3                      0.01   normal  \n",
       "4                      0.00   normal  \n",
       "\n",
       "[5 rows x 42 columns]"
      ]
     },
     "execution_count": 24,
     "metadata": {},
     "output_type": "execute_result"
    }
   ],
   "source": [
    "df = pd.read_csv(\"Train_data.csv\")\n",
    "df.head()"
   ]
  },
  {
   "cell_type": "code",
   "execution_count": 25,
   "metadata": {},
   "outputs": [
    {
     "data": {
      "text/plain": [
       "<Axes: xlabel='class'>"
      ]
     },
     "execution_count": 25,
     "metadata": {},
     "output_type": "execute_result"
    },
    {
     "data": {
      "image/png": "[encoded data removed]",
      "text/plain": [
       "<Figure size 640x480 with 1 Axes>"
      ]
     },
     "metadata": {},
     "output_type": "display_data"
    }
   ],
   "source": [
    "df[\"class\"].value_counts().plot.bar()"
   ]
  },
  {
   "cell_type": "markdown",
   "metadata": {},
   "source": [
    "Si esta balanceada la data"
   ]
  },
  {
   "cell_type": "code",
   "execution_count": 26,
   "metadata": {
    "colab": {
     "base_uri": "https://localhost:8080/"
    },
    "id": "cHoKAXdQLceW",
    "outputId": "8ac7afdd-fd50-4a31-f7af-e178416f6557"
   },
   "outputs": [
    {
     "name": "stdout",
     "output_type": "stream",
     "text": [
      "(25192, 41) (25192,)\n"
     ]
    }
   ],
   "source": [
    "y = df[\"class\"]\n",
    "X = df.copy()\n",
    "X.pop(\"class\")\n",
    "print(X.shape, y.shape)"
   ]
  },
  {
   "cell_type": "markdown",
   "metadata": {},
   "source": [
    "Las columnas protocol_type, service y flag son categóricas pero están en texto, por lo que se necesita cambiarlas para que usen números como categorías"
   ]
  },
  {
   "cell_type": "code",
   "execution_count": 27,
   "metadata": {
    "colab": {
     "base_uri": "https://localhost:8080/",
     "height": 300
    },
    "id": "FkAKI5tuQwQd",
    "outputId": "c1d8d68e-624f-4520-c490-35893f11c2ae"
   },
   "outputs": [
    {
     "data": {
      "text/html": [
       "<div>\n",
       "<style scoped>\n",
       "    .dataframe tbody tr th:only-of-type {\n",
       "        vertical-align: middle;\n",
       "    }\n",
       "\n",
       "    .dataframe tbody tr th {\n",
       "        vertical-align: top;\n",
       "    }\n",
       "\n",
       "    .dataframe thead th {\n",
       "        text-align: right;\n",
       "    }\n",
       "</style>\n",
       "<table border=\"1\" class=\"dataframe\">\n",
       "  <thead>\n",
       "    <tr style=\"text-align: right;\">\n",
       "      <th></th>\n",
       "      <th>duration</th>\n",
       "      <th>protocol_type</th>\n",
       "      <th>service</th>\n",
       "      <th>flag</th>\n",
       "      <th>src_bytes</th>\n",
       "      <th>dst_bytes</th>\n",
       "      <th>land</th>\n",
       "      <th>wrong_fragment</th>\n",
       "      <th>urgent</th>\n",
       "      <th>hot</th>\n",
       "      <th>...</th>\n",
       "      <th>dst_host_count</th>\n",
       "      <th>dst_host_srv_count</th>\n",
       "      <th>dst_host_same_srv_rate</th>\n",
       "      <th>dst_host_diff_srv_rate</th>\n",
       "      <th>dst_host_same_src_port_rate</th>\n",
       "      <th>dst_host_srv_diff_host_rate</th>\n",
       "      <th>dst_host_serror_rate</th>\n",
       "      <th>dst_host_srv_serror_rate</th>\n",
       "      <th>dst_host_rerror_rate</th>\n",
       "      <th>dst_host_srv_rerror_rate</th>\n",
       "    </tr>\n",
       "  </thead>\n",
       "  <tbody>\n",
       "    <tr>\n",
       "      <th>0</th>\n",
       "      <td>0</td>\n",
       "      <td>1</td>\n",
       "      <td>1</td>\n",
       "      <td>1</td>\n",
       "      <td>491</td>\n",
       "      <td>0</td>\n",
       "      <td>0</td>\n",
       "      <td>0</td>\n",
       "      <td>0</td>\n",
       "      <td>0</td>\n",
       "      <td>...</td>\n",
       "      <td>150</td>\n",
       "      <td>25</td>\n",
       "      <td>0.17</td>\n",
       "      <td>0.03</td>\n",
       "      <td>0.17</td>\n",
       "      <td>0.00</td>\n",
       "      <td>0.00</td>\n",
       "      <td>0.00</td>\n",
       "      <td>0.05</td>\n",
       "      <td>0.00</td>\n",
       "    </tr>\n",
       "    <tr>\n",
       "      <th>1</th>\n",
       "      <td>0</td>\n",
       "      <td>2</td>\n",
       "      <td>2</td>\n",
       "      <td>1</td>\n",
       "      <td>146</td>\n",
       "      <td>0</td>\n",
       "      <td>0</td>\n",
       "      <td>0</td>\n",
       "      <td>0</td>\n",
       "      <td>0</td>\n",
       "      <td>...</td>\n",
       "      <td>255</td>\n",
       "      <td>1</td>\n",
       "      <td>0.00</td>\n",
       "      <td>0.60</td>\n",
       "      <td>0.88</td>\n",
       "      <td>0.00</td>\n",
       "      <td>0.00</td>\n",
       "      <td>0.00</td>\n",
       "      <td>0.00</td>\n",
       "      <td>0.00</td>\n",
       "    </tr>\n",
       "    <tr>\n",
       "      <th>2</th>\n",
       "      <td>0</td>\n",
       "      <td>1</td>\n",
       "      <td>3</td>\n",
       "      <td>2</td>\n",
       "      <td>0</td>\n",
       "      <td>0</td>\n",
       "      <td>0</td>\n",
       "      <td>0</td>\n",
       "      <td>0</td>\n",
       "      <td>0</td>\n",
       "      <td>...</td>\n",
       "      <td>255</td>\n",
       "      <td>26</td>\n",
       "      <td>0.10</td>\n",
       "      <td>0.05</td>\n",
       "      <td>0.00</td>\n",
       "      <td>0.00</td>\n",
       "      <td>1.00</td>\n",
       "      <td>1.00</td>\n",
       "      <td>0.00</td>\n",
       "      <td>0.00</td>\n",
       "    </tr>\n",
       "    <tr>\n",
       "      <th>3</th>\n",
       "      <td>0</td>\n",
       "      <td>1</td>\n",
       "      <td>4</td>\n",
       "      <td>1</td>\n",
       "      <td>232</td>\n",
       "      <td>8153</td>\n",
       "      <td>0</td>\n",
       "      <td>0</td>\n",
       "      <td>0</td>\n",
       "      <td>0</td>\n",
       "      <td>...</td>\n",
       "      <td>30</td>\n",
       "      <td>255</td>\n",
       "      <td>1.00</td>\n",
       "      <td>0.00</td>\n",
       "      <td>0.03</td>\n",
       "      <td>0.04</td>\n",
       "      <td>0.03</td>\n",
       "      <td>0.01</td>\n",
       "      <td>0.00</td>\n",
       "      <td>0.01</td>\n",
       "    </tr>\n",
       "    <tr>\n",
       "      <th>4</th>\n",
       "      <td>0</td>\n",
       "      <td>1</td>\n",
       "      <td>4</td>\n",
       "      <td>1</td>\n",
       "      <td>199</td>\n",
       "      <td>420</td>\n",
       "      <td>0</td>\n",
       "      <td>0</td>\n",
       "      <td>0</td>\n",
       "      <td>0</td>\n",
       "      <td>...</td>\n",
       "      <td>255</td>\n",
       "      <td>255</td>\n",
       "      <td>1.00</td>\n",
       "      <td>0.00</td>\n",
       "      <td>0.00</td>\n",
       "      <td>0.00</td>\n",
       "      <td>0.00</td>\n",
       "      <td>0.00</td>\n",
       "      <td>0.00</td>\n",
       "      <td>0.00</td>\n",
       "    </tr>\n",
       "  </tbody>\n",
       "</table>\n",
       "<p>5 rows × 41 columns</p>\n",
       "</div>"
      ],
      "text/plain": [
       "   duration  protocol_type  service  flag  src_bytes  dst_bytes  land   \n",
       "0         0              1        1     1        491          0     0  \\\n",
       "1         0              2        2     1        146          0     0   \n",
       "2         0              1        3     2          0          0     0   \n",
       "3         0              1        4     1        232       8153     0   \n",
       "4         0              1        4     1        199        420     0   \n",
       "\n",
       "   wrong_fragment  urgent  hot  ...  dst_host_count  dst_host_srv_count   \n",
       "0               0       0    0  ...             150                  25  \\\n",
       "1               0       0    0  ...             255                   1   \n",
       "2               0       0    0  ...             255                  26   \n",
       "3               0       0    0  ...              30                 255   \n",
       "4               0       0    0  ...             255                 255   \n",
       "\n",
       "   dst_host_same_srv_rate  dst_host_diff_srv_rate   \n",
       "0                    0.17                    0.03  \\\n",
       "1                    0.00                    0.60   \n",
       "2                    0.10                    0.05   \n",
       "3                    1.00                    0.00   \n",
       "4                    1.00                    0.00   \n",
       "\n",
       "   dst_host_same_src_port_rate  dst_host_srv_diff_host_rate   \n",
       "0                         0.17                         0.00  \\\n",
       "1                         0.88                         0.00   \n",
       "2                         0.00                         0.00   \n",
       "3                         0.03                         0.04   \n",
       "4                         0.00                         0.00   \n",
       "\n",
       "   dst_host_serror_rate  dst_host_srv_serror_rate  dst_host_rerror_rate   \n",
       "0                  0.00                      0.00                  0.05  \\\n",
       "1                  0.00                      0.00                  0.00   \n",
       "2                  1.00                      1.00                  0.00   \n",
       "3                  0.03                      0.01                  0.00   \n",
       "4                  0.00                      0.00                  0.00   \n",
       "\n",
       "   dst_host_srv_rerror_rate  \n",
       "0                      0.00  \n",
       "1                      0.00  \n",
       "2                      0.00  \n",
       "3                      0.01  \n",
       "4                      0.00  \n",
       "\n",
       "[5 rows x 41 columns]"
      ]
     },
     "execution_count": 27,
     "metadata": {},
     "output_type": "execute_result"
    }
   ],
   "source": [
    "cols = [\"protocol_type\", \"service\", \"flag\"]\n",
    "X[cols] = X[cols].apply(lambda x: pd.factorize(x)[0] + 1)\n",
    "X.head()"
   ]
  },
  {
   "cell_type": "code",
   "execution_count": 28,
   "metadata": {},
   "outputs": [],
   "source": [
    "X_train, X_test, y_train, y_test = train_test_split(X, y, test_size = 0.3, random_state = 123)"
   ]
  },
  {
   "cell_type": "markdown",
   "metadata": {},
   "source": [
    "Se necesita escalar correctamente los datos para que naive bayes y PCA puedan ejecutarse correctamente"
   ]
  },
  {
   "cell_type": "code",
   "execution_count": 29,
   "metadata": {},
   "outputs": [],
   "source": [
    "sc = StandardScaler()\n",
    "\n",
    "X_train = sc.fit_transform(X_train)\n",
    "X_test = sc.fit_transform(X_test)"
   ]
  },
  {
   "cell_type": "markdown",
   "metadata": {},
   "source": [
    "### Modelos\n",
    "#### Naive Bayes sin reducción de dimensionalidad"
   ]
  },
  {
   "cell_type": "code",
   "execution_count": 30,
   "metadata": {},
   "outputs": [
    {
     "data": {
      "text/html": [
       "<style>#sk-container-id-1 {color: black;background-color: white;}#sk-container-id-1 pre{padding: 0;}#sk-container-id-1 div.sk-toggleable {background-color: white;}#sk-container-id-1 label.sk-toggleable__label {cursor: pointer;display: block;width: 100%;margin-bottom: 0;padding: 0.3em;box-sizing: border-box;text-align: center;}#sk-container-id-1 label.sk-toggleable__label-arrow:before {content: \"▸\";float: left;margin-right: 0.25em;color: #696969;}#sk-container-id-1 label.sk-toggleable__label-arrow:hover:before {color: black;}#sk-container-id-1 div.sk-estimator:hover label.sk-toggleable__label-arrow:before {color: black;}#sk-container-id-1 div.sk-toggleable__content {max-height: 0;max-width: 0;overflow: hidden;text-align: left;background-color: #f0f8ff;}#sk-container-id-1 div.sk-toggleable__content pre {margin: 0.2em;color: black;border-radius: 0.25em;background-color: #f0f8ff;}#sk-container-id-1 input.sk-toggleable__control:checked~div.sk-toggleable__content {max-height: 200px;max-width: 100%;overflow: auto;}#sk-container-id-1 input.sk-toggleable__control:checked~label.sk-toggleable__label-arrow:before {content: \"▾\";}#sk-container-id-1 div.sk-estimator input.sk-toggleable__control:checked~label.sk-toggleable__label {background-color: #d4ebff;}#sk-container-id-1 div.sk-label input.sk-toggleable__control:checked~label.sk-toggleable__label {background-color: #d4ebff;}#sk-container-id-1 input.sk-hidden--visually {border: 0;clip: rect(1px 1px 1px 1px);clip: rect(1px, 1px, 1px, 1px);height: 1px;margin: -1px;overflow: hidden;padding: 0;position: absolute;width: 1px;}#sk-container-id-1 div.sk-estimator {font-family: monospace;background-color: #f0f8ff;border: 1px dotted black;border-radius: 0.25em;box-sizing: border-box;margin-bottom: 0.5em;}#sk-container-id-1 div.sk-estimator:hover {background-color: #d4ebff;}#sk-container-id-1 div.sk-parallel-item::after {content: \"\";width: 100%;border-bottom: 1px solid gray;flex-grow: 1;}#sk-container-id-1 div.sk-label:hover label.sk-toggleable__label {background-color: #d4ebff;}#sk-container-id-1 div.sk-serial::before {content: \"\";position: absolute;border-left: 1px solid gray;box-sizing: border-box;top: 0;bottom: 0;left: 50%;z-index: 0;}#sk-container-id-1 div.sk-serial {display: flex;flex-direction: column;align-items: center;background-color: white;padding-right: 0.2em;padding-left: 0.2em;position: relative;}#sk-container-id-1 div.sk-item {position: relative;z-index: 1;}#sk-container-id-1 div.sk-parallel {display: flex;align-items: stretch;justify-content: center;background-color: white;position: relative;}#sk-container-id-1 div.sk-item::before, #sk-container-id-1 div.sk-parallel-item::before {content: \"\";position: absolute;border-left: 1px solid gray;box-sizing: border-box;top: 0;bottom: 0;left: 50%;z-index: -1;}#sk-container-id-1 div.sk-parallel-item {display: flex;flex-direction: column;z-index: 1;position: relative;background-color: white;}#sk-container-id-1 div.sk-parallel-item:first-child::after {align-self: flex-end;width: 50%;}#sk-container-id-1 div.sk-parallel-item:last-child::after {align-self: flex-start;width: 50%;}#sk-container-id-1 div.sk-parallel-item:only-child::after {width: 0;}#sk-container-id-1 div.sk-dashed-wrapped {border: 1px dashed gray;margin: 0 0.4em 0.5em 0.4em;box-sizing: border-box;padding-bottom: 0.4em;background-color: white;}#sk-container-id-1 div.sk-label label {font-family: monospace;font-weight: bold;display: inline-block;line-height: 1.2em;}#sk-container-id-1 div.sk-label-container {text-align: center;}#sk-container-id-1 div.sk-container {/* jupyter's `normalize.less` sets `[hidden] { display: none; }` but bootstrap.min.css set `[hidden] { display: none !important; }` so we also need the `!important` here to be able to override the default hidden behavior on the sphinx rendered scikit-learn.org. See: https://github.com/scikit-learn/scikit-learn/issues/21755 */display: inline-block !important;position: relative;}#sk-container-id-1 div.sk-text-repr-fallback {display: none;}</style><div id=\"sk-container-id-1\" class=\"sk-top-container\"><div class=\"sk-text-repr-fallback\"><pre>GaussianNB()</pre><b>In a Jupyter environment, please rerun this cell to show the HTML representation or trust the notebook. <br />On GitHub, the HTML representation is unable to render, please try loading this page with nbviewer.org.</b></div><div class=\"sk-container\" hidden><div class=\"sk-item\"><div class=\"sk-estimator sk-toggleable\"><input class=\"sk-toggleable__control sk-hidden--visually\" id=\"sk-estimator-id-1\" type=\"checkbox\" checked><label for=\"sk-estimator-id-1\" class=\"sk-toggleable__label sk-toggleable__label-arrow\">GaussianNB</label><div class=\"sk-toggleable__content\"><pre>GaussianNB()</pre></div></div></div></div></div>"
      ],
      "text/plain": [
       "GaussianNB()"
      ]
     },
     "execution_count": 30,
     "metadata": {},
     "output_type": "execute_result"
    }
   ],
   "source": [
    "model1 = GaussianNB()\n",
    "model1.fit(X_train, y_train)"
   ]
  },
  {
   "cell_type": "code",
   "execution_count": 31,
   "metadata": {},
   "outputs": [
    {
     "data": {
      "text/plain": [
       "array(['normal', 'normal', 'normal', ..., 'normal', 'normal', 'normal'],\n",
       "      dtype='<U7')"
      ]
     },
     "execution_count": 31,
     "metadata": {},
     "output_type": "execute_result"
    }
   ],
   "source": [
    "y_pred1 = model1.predict(X_test)\n",
    "y_pred1"
   ]
  },
  {
   "cell_type": "code",
   "execution_count": 32,
   "metadata": {},
   "outputs": [
    {
     "data": {
      "text/plain": [
       "<sklearn.metrics._plot.confusion_matrix.ConfusionMatrixDisplay at 0x7fd970117990>"
      ]
     },
     "execution_count": 32,
     "metadata": {},
     "output_type": "execute_result"
    },
    {
     "data": {
      "image/png": "[encoded data removed]",
      "text/plain": [
       "<Figure size 640x480 with 2 Axes>"
      ]
     },
     "metadata": {},
     "output_type": "display_data"
    }
   ],
   "source": [
    "cm = confusion_matrix(y_test, y_pred1, labels=model1.classes_)\n",
    "disp = ConfusionMatrixDisplay(confusion_matrix=cm, display_labels=model1.classes_)\n",
    "disp.plot()"
   ]
  },
  {
   "cell_type": "code",
   "execution_count": 33,
   "metadata": {},
   "outputs": [
    {
     "name": "stdout",
     "output_type": "stream",
     "text": [
      "              precision    recall  f1-score   support\n",
      "\n",
      "     anomaly       1.00      0.02      0.03      3536\n",
      "      normal       0.54      1.00      0.70      4022\n",
      "\n",
      "    accuracy                           0.54      7558\n",
      "   macro avg       0.77      0.51      0.37      7558\n",
      "weighted avg       0.75      0.54      0.39      7558\n",
      "\n"
     ]
    }
   ],
   "source": [
    "print(classification_report(y_test, y_pred1))"
   ]
  },
  {
   "cell_type": "markdown",
   "metadata": {},
   "source": [
    "Como se puede observar tanto en la matriz de confusión como en los resultados estadísticos el modelo tiene una muy mala accuracy con un 54%. La matriz de confusión nos muestra un poco más a detalle qué es lo que está pasando y parece estar prediciendo todos los datos como normales y muy pocos como anomalías."
   ]
  },
  {
   "cell_type": "markdown",
   "metadata": {},
   "source": [
    "#### Naive Bayes con PCA"
   ]
  },
  {
   "cell_type": "code",
   "execution_count": 34,
   "metadata": {
    "id": "cveYttDxK-zm"
   },
   "outputs": [],
   "source": [
    "#Hyperparameters\n",
    "n_components = 25\n",
    "whiten = False\n",
    "random_state = 123\n",
    "\n",
    "pca = PCA(n_components = n_components, whiten=whiten, random_state=random_state)"
   ]
  },
  {
   "cell_type": "code",
   "execution_count": 35,
   "metadata": {
    "id": "_s_iZ7_WMKg-"
   },
   "outputs": [],
   "source": [
    "X_train_pca = pca.fit_transform(X_train)\n",
    "X_test_pca = pca.transform(X_test)\n",
    "\n",
    "explained_variance = pca.explained_variance_ratio_"
   ]
  },
  {
   "cell_type": "code",
   "execution_count": 36,
   "metadata": {
    "colab": {
     "base_uri": "https://localhost:8080/"
    },
    "id": "yD_phK5mRZVp",
    "outputId": "65d55c92-61d3-4df2-b09d-873eab5d06e7"
   },
   "outputs": [
    {
     "name": "stdout",
     "output_type": "stream",
     "text": [
      "Varianza de los 25 componentes: 0.9686\n"
     ]
    }
   ],
   "source": [
    "print(\"Varianza de los %i componentes: %.4f\"%(n_components, sum(pca.explained_variance_ratio_)))"
   ]
  },
  {
   "cell_type": "code",
   "execution_count": 37,
   "metadata": {},
   "outputs": [
    {
     "data": {
      "text/html": [
       "<style>#sk-container-id-2 {color: black;background-color: white;}#sk-container-id-2 pre{padding: 0;}#sk-container-id-2 div.sk-toggleable {background-color: white;}#sk-container-id-2 label.sk-toggleable__label {cursor: pointer;display: block;width: 100%;margin-bottom: 0;padding: 0.3em;box-sizing: border-box;text-align: center;}#sk-container-id-2 label.sk-toggleable__label-arrow:before {content: \"▸\";float: left;margin-right: 0.25em;color: #696969;}#sk-container-id-2 label.sk-toggleable__label-arrow:hover:before {color: black;}#sk-container-id-2 div.sk-estimator:hover label.sk-toggleable__label-arrow:before {color: black;}#sk-container-id-2 div.sk-toggleable__content {max-height: 0;max-width: 0;overflow: hidden;text-align: left;background-color: #f0f8ff;}#sk-container-id-2 div.sk-toggleable__content pre {margin: 0.2em;color: black;border-radius: 0.25em;background-color: #f0f8ff;}#sk-container-id-2 input.sk-toggleable__control:checked~div.sk-toggleable__content {max-height: 200px;max-width: 100%;overflow: auto;}#sk-container-id-2 input.sk-toggleable__control:checked~label.sk-toggleable__label-arrow:before {content: \"▾\";}#sk-container-id-2 div.sk-estimator input.sk-toggleable__control:checked~label.sk-toggleable__label {background-color: #d4ebff;}#sk-container-id-2 div.sk-label input.sk-toggleable__control:checked~label.sk-toggleable__label {background-color: #d4ebff;}#sk-container-id-2 input.sk-hidden--visually {border: 0;clip: rect(1px 1px 1px 1px);clip: rect(1px, 1px, 1px, 1px);height: 1px;margin: -1px;overflow: hidden;padding: 0;position: absolute;width: 1px;}#sk-container-id-2 div.sk-estimator {font-family: monospace;background-color: #f0f8ff;border: 1px dotted black;border-radius: 0.25em;box-sizing: border-box;margin-bottom: 0.5em;}#sk-container-id-2 div.sk-estimator:hover {background-color: #d4ebff;}#sk-container-id-2 div.sk-parallel-item::after {content: \"\";width: 100%;border-bottom: 1px solid gray;flex-grow: 1;}#sk-container-id-2 div.sk-label:hover label.sk-toggleable__label {background-color: #d4ebff;}#sk-container-id-2 div.sk-serial::before {content: \"\";position: absolute;border-left: 1px solid gray;box-sizing: border-box;top: 0;bottom: 0;left: 50%;z-index: 0;}#sk-container-id-2 div.sk-serial {display: flex;flex-direction: column;align-items: center;background-color: white;padding-right: 0.2em;padding-left: 0.2em;position: relative;}#sk-container-id-2 div.sk-item {position: relative;z-index: 1;}#sk-container-id-2 div.sk-parallel {display: flex;align-items: stretch;justify-content: center;background-color: white;position: relative;}#sk-container-id-2 div.sk-item::before, #sk-container-id-2 div.sk-parallel-item::before {content: \"\";position: absolute;border-left: 1px solid gray;box-sizing: border-box;top: 0;bottom: 0;left: 50%;z-index: -1;}#sk-container-id-2 div.sk-parallel-item {display: flex;flex-direction: column;z-index: 1;position: relative;background-color: white;}#sk-container-id-2 div.sk-parallel-item:first-child::after {align-self: flex-end;width: 50%;}#sk-container-id-2 div.sk-parallel-item:last-child::after {align-self: flex-start;width: 50%;}#sk-container-id-2 div.sk-parallel-item:only-child::after {width: 0;}#sk-container-id-2 div.sk-dashed-wrapped {border: 1px dashed gray;margin: 0 0.4em 0.5em 0.4em;box-sizing: border-box;padding-bottom: 0.4em;background-color: white;}#sk-container-id-2 div.sk-label label {font-family: monospace;font-weight: bold;display: inline-block;line-height: 1.2em;}#sk-container-id-2 div.sk-label-container {text-align: center;}#sk-container-id-2 div.sk-container {/* jupyter's `normalize.less` sets `[hidden] { display: none; }` but bootstrap.min.css set `[hidden] { display: none !important; }` so we also need the `!important` here to be able to override the default hidden behavior on the sphinx rendered scikit-learn.org. See: https://github.com/scikit-learn/scikit-learn/issues/21755 */display: inline-block !important;position: relative;}#sk-container-id-2 div.sk-text-repr-fallback {display: none;}</style><div id=\"sk-container-id-2\" class=\"sk-top-container\"><div class=\"sk-text-repr-fallback\"><pre>GaussianNB()</pre><b>In a Jupyter environment, please rerun this cell to show the HTML representation or trust the notebook. <br />On GitHub, the HTML representation is unable to render, please try loading this page with nbviewer.org.</b></div><div class=\"sk-container\" hidden><div class=\"sk-item\"><div class=\"sk-estimator sk-toggleable\"><input class=\"sk-toggleable__control sk-hidden--visually\" id=\"sk-estimator-id-2\" type=\"checkbox\" checked><label for=\"sk-estimator-id-2\" class=\"sk-toggleable__label sk-toggleable__label-arrow\">GaussianNB</label><div class=\"sk-toggleable__content\"><pre>GaussianNB()</pre></div></div></div></div></div>"
      ],
      "text/plain": [
       "GaussianNB()"
      ]
     },
     "execution_count": 37,
     "metadata": {},
     "output_type": "execute_result"
    }
   ],
   "source": [
    "model2 = GaussianNB()\n",
    "model2.fit(X_train_pca, y_train)"
   ]
  },
  {
   "cell_type": "code",
   "execution_count": 38,
   "metadata": {},
   "outputs": [
    {
     "data": {
      "text/plain": [
       "array(['anomaly', 'normal', 'anomaly', ..., 'anomaly', 'anomaly',\n",
       "       'anomaly'], dtype='<U7')"
      ]
     },
     "execution_count": 38,
     "metadata": {},
     "output_type": "execute_result"
    }
   ],
   "source": [
    "y_pred2 = model2.predict(X_test_pca)\n",
    "y_pred2"
   ]
  },
  {
   "cell_type": "code",
   "execution_count": 39,
   "metadata": {},
   "outputs": [
    {
     "data": {
      "text/plain": [
       "<sklearn.metrics._plot.confusion_matrix.ConfusionMatrixDisplay at 0x7fd9700bc0d0>"
      ]
     },
     "execution_count": 39,
     "metadata": {},
     "output_type": "execute_result"
    },
    {
     "data": {
      "image/png": "[encoded data removed]",
      "text/plain": [
       "<Figure size 640x480 with 2 Axes>"
      ]
     },
     "metadata": {},
     "output_type": "display_data"
    }
   ],
   "source": [
    "cm = confusion_matrix(y_test, y_pred2, labels=model2.classes_)\n",
    "disp = ConfusionMatrixDisplay(confusion_matrix=cm, display_labels=model2.classes_)\n",
    "disp.plot()"
   ]
  },
  {
   "cell_type": "markdown",
   "metadata": {},
   "source": [
    "Al observar este resultado podemos notar que la reducción de dimensionalidad sí obtuvo una mejora incluso usando el mismo clasificador (naive bayes), podemos observar que la mayoría de los datos acierta con el resultado, solo tiene unos problemas cuando clasifica 955 datos que eran normales como anomalías y 143 que eran anomalías como normales."
   ]
  },
  {
   "cell_type": "code",
   "execution_count": 40,
   "metadata": {},
   "outputs": [
    {
     "name": "stdout",
     "output_type": "stream",
     "text": [
      "              precision    recall  f1-score   support\n",
      "\n",
      "     anomaly       0.78      0.96      0.86      3536\n",
      "      normal       0.96      0.76      0.85      4022\n",
      "\n",
      "    accuracy                           0.85      7558\n",
      "   macro avg       0.87      0.86      0.85      7558\n",
      "weighted avg       0.87      0.85      0.85      7558\n",
      "\n"
     ]
    }
   ],
   "source": [
    "print(classification_report(y_test, y_pred2))"
   ]
  },
  {
   "cell_type": "markdown",
   "metadata": {},
   "source": [
    "Complementando la matriz de confusión con el reporte de estadísticas podemos observar buenos valores de f1-score y de accuracy (85%). Algo que es importante notar es que en la precisión la variable normal tiene un dato más alto que el de anomalía, esto es porque de los datos que clasifica como normal tuvo la mayoría correctos mientras en los que clasificó como anomalía tuvo un mayor porcentaje de desaciertos. Por otro lado el dato de recall nos indica que entre los datos que realmente eran anomalías tuvo casi todos correctos mientras que los que en realidad eran normales tuvo unos que clasificó erroneamente como anomalías."
   ]
  }
 ],
 "metadata": {
  "colab": {
   "provenance": []
  },
  "kernelspec": {
   "display_name": "sds_kernel",
   "language": "python",
   "name": "sds_kernel"
  },
  "language_info": {
   "codemirror_mode": {
    "name": "ipython",
    "version": 3
   },
   "file_extension": ".py",
   "mimetype": "text/x-python",
   "name": "python",
   "nbconvert_exporter": "python",
   "pygments_lexer": "ipython3",
   "version": "3.11.2"
  }
 },
 "nbformat": 4,
 "nbformat_minor": 1
}
